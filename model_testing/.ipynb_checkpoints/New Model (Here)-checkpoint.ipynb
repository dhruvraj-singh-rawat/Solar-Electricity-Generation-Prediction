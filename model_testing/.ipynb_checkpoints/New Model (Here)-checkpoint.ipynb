{
 "cells": [
  {
   "cell_type": "code",
   "execution_count": 28,
   "metadata": {},
   "outputs": [],
   "source": [
    "import numpy as np\n",
    "import pandas as pd"
   ]
  },
  {
   "cell_type": "markdown",
   "metadata": {},
   "source": [
    "### Feature Evaluation"
   ]
  },
  {
   "cell_type": "code",
   "execution_count": 29,
   "metadata": {},
   "outputs": [],
   "source": [
    "data = pd.read_csv('../Data/solar_original.csv')"
   ]
  },
  {
   "cell_type": "code",
   "execution_count": 30,
   "metadata": {},
   "outputs": [
    {
     "data": {
      "text/html": [
       "<div>\n",
       "<style scoped>\n",
       "    .dataframe tbody tr th:only-of-type {\n",
       "        vertical-align: middle;\n",
       "    }\n",
       "\n",
       "    .dataframe tbody tr th {\n",
       "        vertical-align: top;\n",
       "    }\n",
       "\n",
       "    .dataframe thead th {\n",
       "        text-align: right;\n",
       "    }\n",
       "</style>\n",
       "<table border=\"1\" class=\"dataframe\">\n",
       "  <thead>\n",
       "    <tr style=\"text-align: right;\">\n",
       "      <th></th>\n",
       "      <th>Date</th>\n",
       "      <th>Time</th>\n",
       "      <th>solar_output</th>\n",
       "      <th>temperature</th>\n",
       "      <th>humidity</th>\n",
       "      <th>wind_speed</th>\n",
       "      <th>visibility</th>\n",
       "      <th>serial</th>\n",
       "    </tr>\n",
       "  </thead>\n",
       "  <tbody>\n",
       "    <tr>\n",
       "      <th>4495</th>\n",
       "      <td>30-03-17</td>\n",
       "      <td>16:00</td>\n",
       "      <td>13.87895</td>\n",
       "      <td>40.0</td>\n",
       "      <td>6.0</td>\n",
       "      <td>13.00</td>\n",
       "      <td>6.0</td>\n",
       "      <td>21</td>\n",
       "    </tr>\n",
       "    <tr>\n",
       "      <th>4496</th>\n",
       "      <td>30-03-17</td>\n",
       "      <td>16:30</td>\n",
       "      <td>11.04429</td>\n",
       "      <td>40.0</td>\n",
       "      <td>6.0</td>\n",
       "      <td>11.79</td>\n",
       "      <td>6.0</td>\n",
       "      <td>22</td>\n",
       "    </tr>\n",
       "    <tr>\n",
       "      <th>4497</th>\n",
       "      <td>30-03-17</td>\n",
       "      <td>17:00</td>\n",
       "      <td>7.60269</td>\n",
       "      <td>40.0</td>\n",
       "      <td>6.0</td>\n",
       "      <td>11.10</td>\n",
       "      <td>6.0</td>\n",
       "      <td>23</td>\n",
       "    </tr>\n",
       "    <tr>\n",
       "      <th>4498</th>\n",
       "      <td>30-03-17</td>\n",
       "      <td>17:30</td>\n",
       "      <td>4.16130</td>\n",
       "      <td>39.0</td>\n",
       "      <td>4.0</td>\n",
       "      <td>11.10</td>\n",
       "      <td>4.0</td>\n",
       "      <td>24</td>\n",
       "    </tr>\n",
       "    <tr>\n",
       "      <th>4499</th>\n",
       "      <td>30-03-17</td>\n",
       "      <td>18:00</td>\n",
       "      <td>1.59809</td>\n",
       "      <td>39.0</td>\n",
       "      <td>6.0</td>\n",
       "      <td>9.30</td>\n",
       "      <td>6.0</td>\n",
       "      <td>25</td>\n",
       "    </tr>\n",
       "  </tbody>\n",
       "</table>\n",
       "</div>"
      ],
      "text/plain": [
       "          Date   Time  solar_output  temperature  humidity  wind_speed  \\\n",
       "4495  30-03-17  16:00      13.87895         40.0       6.0       13.00   \n",
       "4496  30-03-17  16:30      11.04429         40.0       6.0       11.79   \n",
       "4497  30-03-17  17:00       7.60269         40.0       6.0       11.10   \n",
       "4498  30-03-17  17:30       4.16130         39.0       4.0       11.10   \n",
       "4499  30-03-17  18:00       1.59809         39.0       6.0        9.30   \n",
       "\n",
       "      visibility  serial  \n",
       "4495         6.0      21  \n",
       "4496         6.0      22  \n",
       "4497         6.0      23  \n",
       "4498         4.0      24  \n",
       "4499         6.0      25  "
      ]
     },
     "execution_count": 30,
     "metadata": {},
     "output_type": "execute_result"
    }
   ],
   "source": [
    "data.tail()\n"
   ]
  },
  {
   "cell_type": "code",
   "execution_count": 31,
   "metadata": {},
   "outputs": [
    {
     "data": {
      "text/plain": [
       "Date             object\n",
       "Time             object\n",
       "solar_output    float64\n",
       "temperature     float64\n",
       "humidity        float64\n",
       "wind_speed      float64\n",
       "visibility      float64\n",
       "serial            int64\n",
       "dtype: object"
      ]
     },
     "execution_count": 31,
     "metadata": {},
     "output_type": "execute_result"
    }
   ],
   "source": [
    "data.dtypes"
   ]
  },
  {
   "cell_type": "code",
   "execution_count": 32,
   "metadata": {},
   "outputs": [],
   "source": [
    "data['TimeStamp']=pd.to_datetime(data.Date+' '+data.Time,infer_datetime_format=True)"
   ]
  },
  {
   "cell_type": "code",
   "execution_count": 33,
   "metadata": {},
   "outputs": [],
   "source": [
    "#data['month']=data.Date.str.slice(-5,-3).astype(int).head() #String Slicing\n",
    "#data['month']=pd.to_datetime(data.Date,dayfirst=True).dt.month\n",
    "#data['Day']=pd.to_datetime(data.Date,dayfirst=True).dt.day\n",
    "data['DayOfYear']=pd.to_datetime(data.Date,dayfirst=True).dt.dayofyear"
   ]
  },
  {
   "cell_type": "code",
   "execution_count": 34,
   "metadata": {},
   "outputs": [
    {
     "data": {
      "text/html": [
       "<div>\n",
       "<style scoped>\n",
       "    .dataframe tbody tr th:only-of-type {\n",
       "        vertical-align: middle;\n",
       "    }\n",
       "\n",
       "    .dataframe tbody tr th {\n",
       "        vertical-align: top;\n",
       "    }\n",
       "\n",
       "    .dataframe thead th {\n",
       "        text-align: right;\n",
       "    }\n",
       "</style>\n",
       "<table border=\"1\" class=\"dataframe\">\n",
       "  <thead>\n",
       "    <tr style=\"text-align: right;\">\n",
       "      <th></th>\n",
       "      <th>Date</th>\n",
       "      <th>Time</th>\n",
       "      <th>solar_output</th>\n",
       "      <th>temperature</th>\n",
       "      <th>humidity</th>\n",
       "      <th>wind_speed</th>\n",
       "      <th>visibility</th>\n",
       "      <th>serial</th>\n",
       "      <th>TimeStamp</th>\n",
       "      <th>DayOfYear</th>\n",
       "    </tr>\n",
       "  </thead>\n",
       "  <tbody>\n",
       "    <tr>\n",
       "      <th>0</th>\n",
       "      <td>01-10-16</td>\n",
       "      <td>6:00</td>\n",
       "      <td>0.00000</td>\n",
       "      <td>27.0</td>\n",
       "      <td>74.0</td>\n",
       "      <td>0.0</td>\n",
       "      <td>4.0</td>\n",
       "      <td>1</td>\n",
       "      <td>2016-01-10 06:00:00</td>\n",
       "      <td>275</td>\n",
       "    </tr>\n",
       "    <tr>\n",
       "      <th>1</th>\n",
       "      <td>01-10-16</td>\n",
       "      <td>6:30</td>\n",
       "      <td>0.14216</td>\n",
       "      <td>27.0</td>\n",
       "      <td>74.0</td>\n",
       "      <td>1.9</td>\n",
       "      <td>4.0</td>\n",
       "      <td>2</td>\n",
       "      <td>2016-01-10 06:30:00</td>\n",
       "      <td>275</td>\n",
       "    </tr>\n",
       "    <tr>\n",
       "      <th>2</th>\n",
       "      <td>01-10-16</td>\n",
       "      <td>7:00</td>\n",
       "      <td>1.34680</td>\n",
       "      <td>27.0</td>\n",
       "      <td>74.0</td>\n",
       "      <td>0.0</td>\n",
       "      <td>4.0</td>\n",
       "      <td>3</td>\n",
       "      <td>2016-01-10 07:00:00</td>\n",
       "      <td>275</td>\n",
       "    </tr>\n",
       "    <tr>\n",
       "      <th>3</th>\n",
       "      <td>01-10-16</td>\n",
       "      <td>7:30</td>\n",
       "      <td>3.37716</td>\n",
       "      <td>28.0</td>\n",
       "      <td>70.0</td>\n",
       "      <td>7.4</td>\n",
       "      <td>4.0</td>\n",
       "      <td>4</td>\n",
       "      <td>2016-01-10 07:30:00</td>\n",
       "      <td>275</td>\n",
       "    </tr>\n",
       "    <tr>\n",
       "      <th>4</th>\n",
       "      <td>01-10-16</td>\n",
       "      <td>8:00</td>\n",
       "      <td>5.67044</td>\n",
       "      <td>28.0</td>\n",
       "      <td>70.0</td>\n",
       "      <td>9.3</td>\n",
       "      <td>4.0</td>\n",
       "      <td>5</td>\n",
       "      <td>2016-01-10 08:00:00</td>\n",
       "      <td>275</td>\n",
       "    </tr>\n",
       "  </tbody>\n",
       "</table>\n",
       "</div>"
      ],
      "text/plain": [
       "       Date  Time  solar_output  temperature  humidity  wind_speed  \\\n",
       "0  01-10-16  6:00       0.00000         27.0      74.0         0.0   \n",
       "1  01-10-16  6:30       0.14216         27.0      74.0         1.9   \n",
       "2  01-10-16  7:00       1.34680         27.0      74.0         0.0   \n",
       "3  01-10-16  7:30       3.37716         28.0      70.0         7.4   \n",
       "4  01-10-16  8:00       5.67044         28.0      70.0         9.3   \n",
       "\n",
       "   visibility  serial           TimeStamp  DayOfYear  \n",
       "0         4.0       1 2016-01-10 06:00:00        275  \n",
       "1         4.0       2 2016-01-10 06:30:00        275  \n",
       "2         4.0       3 2016-01-10 07:00:00        275  \n",
       "3         4.0       4 2016-01-10 07:30:00        275  \n",
       "4         4.0       5 2016-01-10 08:00:00        275  "
      ]
     },
     "execution_count": 34,
     "metadata": {},
     "output_type": "execute_result"
    }
   ],
   "source": [
    "data.head()\n",
    "#data.to_csv('data_seperated.csv',ind)"
   ]
  },
  {
   "cell_type": "code",
   "execution_count": 35,
   "metadata": {},
   "outputs": [],
   "source": [
    "data=data.drop(['Date','Time','TimeStamp'],axis=1)\n",
    "X = data.iloc[:,1:]\n",
    "Y=data['solar_output']"
   ]
  },
  {
   "cell_type": "code",
   "execution_count": 36,
   "metadata": {},
   "outputs": [],
   "source": [
    "data.rename(columns={'serial':'TimeOfDay'}, inplace=True)"
   ]
  },
  {
   "cell_type": "code",
   "execution_count": 37,
   "metadata": {},
   "outputs": [
    {
     "data": {
      "text/plain": [
       "<matplotlib.image.AxesImage at 0x28a58972588>"
      ]
     },
     "execution_count": 37,
     "metadata": {},
     "output_type": "execute_result"
    },
    {
     "data": {
      "image/png": "[encoded data removed]",
      "text/plain": [
       "<Figure size 288x288 with 1 Axes>"
      ]
     },
     "metadata": {},
     "output_type": "display_data"
    }
   ],
   "source": [
    "%matplotlib inline\n",
    "import matplotlib.pyplot as plt\n",
    "\n",
    "plt.matshow(data.corr())"
   ]
  },
  {
   "cell_type": "code",
   "execution_count": 38,
   "metadata": {},
   "outputs": [
    {
     "data": {
      "image/png": "[encoded data removed]",
      "text/plain": [
       "<Figure size 432x288 with 2 Axes>"
      ]
     },
     "metadata": {},
     "output_type": "display_data"
    }
   ],
   "source": [
    "import seaborn as sns\n",
    "corr = data.corr()\n",
    "sns.heatmap(corr, \n",
    "            xticklabels=corr.columns.values,\n",
    "            yticklabels=corr.columns.values)\n",
    "plt.savefig('hello.png')"
   ]
  },
  {
   "cell_type": "code",
   "execution_count": 39,
   "metadata": {},
   "outputs": [],
   "source": [
    "shift_hrs = 1\n",
    "shift_steps = shift_hrs*2\n",
    "\n",
    "\n",
    "\n",
    "Y=data['solar_output'].shift(-shift_steps)\n",
    "X=data.drop(['solar_output'],axis=1)\n",
    "\n",
    "x_data = X.values[0:-shift_steps]\n",
    "y_data = Y.values[0:-shift_steps]"
   ]
  },
  {
   "cell_type": "code",
   "execution_count": 10,
   "metadata": {},
   "outputs": [
    {
     "data": {
      "text/plain": [
       "(4498,)"
      ]
     },
     "execution_count": 10,
     "metadata": {},
     "output_type": "execute_result"
    }
   ],
   "source": [
    "#X=X.values\n",
    "y_data.shape"
   ]
  },
  {
   "cell_type": "code",
   "execution_count": 10,
   "metadata": {},
   "outputs": [],
   "source": [
    "## Feature Selection \n",
    "\n",
    "from sklearn.feature_selection import RFE\n",
    "from sklearn.ensemble import RandomForestRegressor\n",
    "rf = RandomForestRegressor()\n",
    "\n",
    "#X, y = make_friedman1(n_samples=50, n_features=10, random_state=0)\n",
    "#estimator = SVR(kernel=\"linear\")\n",
    "selector = RFE(rf, step=1)\n",
    "selector = selector.fit(X, Y)\n",
    "\n"
   ]
  },
  {
   "cell_type": "code",
   "execution_count": 11,
   "metadata": {},
   "outputs": [
    {
     "data": {
      "text/plain": [
       "array([2, 1, 3, 4, 1, 1])"
      ]
     },
     "execution_count": 11,
     "metadata": {},
     "output_type": "execute_result"
    }
   ],
   "source": [
    "selector.ranking_"
   ]
  },
  {
   "cell_type": "code",
   "execution_count": 12,
   "metadata": {},
   "outputs": [
    {
     "data": {
      "text/html": [
       "<div>\n",
       "<style scoped>\n",
       "    .dataframe tbody tr th:only-of-type {\n",
       "        vertical-align: middle;\n",
       "    }\n",
       "\n",
       "    .dataframe tbody tr th {\n",
       "        vertical-align: top;\n",
       "    }\n",
       "\n",
       "    .dataframe thead th {\n",
       "        text-align: right;\n",
       "    }\n",
       "</style>\n",
       "<table border=\"1\" class=\"dataframe\">\n",
       "  <thead>\n",
       "    <tr style=\"text-align: right;\">\n",
       "      <th></th>\n",
       "      <th>temperature</th>\n",
       "      <th>humidity</th>\n",
       "      <th>wind_speed</th>\n",
       "      <th>visibility</th>\n",
       "      <th>serial</th>\n",
       "      <th>DayOfYear</th>\n",
       "    </tr>\n",
       "  </thead>\n",
       "  <tbody>\n",
       "    <tr>\n",
       "      <th>0</th>\n",
       "      <td>27.0</td>\n",
       "      <td>74.0</td>\n",
       "      <td>0.0</td>\n",
       "      <td>4.0</td>\n",
       "      <td>1</td>\n",
       "      <td>275</td>\n",
       "    </tr>\n",
       "    <tr>\n",
       "      <th>1</th>\n",
       "      <td>27.0</td>\n",
       "      <td>74.0</td>\n",
       "      <td>1.9</td>\n",
       "      <td>4.0</td>\n",
       "      <td>2</td>\n",
       "      <td>275</td>\n",
       "    </tr>\n",
       "    <tr>\n",
       "      <th>2</th>\n",
       "      <td>27.0</td>\n",
       "      <td>74.0</td>\n",
       "      <td>0.0</td>\n",
       "      <td>4.0</td>\n",
       "      <td>3</td>\n",
       "      <td>275</td>\n",
       "    </tr>\n",
       "    <tr>\n",
       "      <th>3</th>\n",
       "      <td>28.0</td>\n",
       "      <td>70.0</td>\n",
       "      <td>7.4</td>\n",
       "      <td>4.0</td>\n",
       "      <td>4</td>\n",
       "      <td>275</td>\n",
       "    </tr>\n",
       "    <tr>\n",
       "      <th>4</th>\n",
       "      <td>28.0</td>\n",
       "      <td>70.0</td>\n",
       "      <td>9.3</td>\n",
       "      <td>4.0</td>\n",
       "      <td>5</td>\n",
       "      <td>275</td>\n",
       "    </tr>\n",
       "  </tbody>\n",
       "</table>\n",
       "</div>"
      ],
      "text/plain": [
       "   temperature  humidity  wind_speed  visibility  serial  DayOfYear\n",
       "0         27.0      74.0         0.0         4.0       1        275\n",
       "1         27.0      74.0         1.9         4.0       2        275\n",
       "2         27.0      74.0         0.0         4.0       3        275\n",
       "3         28.0      70.0         7.4         4.0       4        275\n",
       "4         28.0      70.0         9.3         4.0       5        275"
      ]
     },
     "execution_count": 12,
     "metadata": {},
     "output_type": "execute_result"
    }
   ],
   "source": [
    "X.head()"
   ]
  },
  {
   "cell_type": "markdown",
   "metadata": {},
   "source": [
    "## Keras Model"
   ]
  },
  {
   "cell_type": "code",
   "execution_count": 40,
   "metadata": {},
   "outputs": [
    {
     "name": "stdout",
     "output_type": "stream",
     "text": [
      "1.9.0\n"
     ]
    }
   ],
   "source": [
    "import tensorflow as tf\n",
    "from tensorflow import keras\n",
    "from sklearn.metrics import r2_score\n",
    "\n",
    "print(tf.__version__)"
   ]
  },
  {
   "cell_type": "code",
   "execution_count": 41,
   "metadata": {},
   "outputs": [],
   "source": [
    "from sklearn.preprocessing import MinMaxScaler\n",
    "\n",
    "x_scaler = MinMaxScaler()\n",
    "x_data_scaled=x_scaler.fit_transform(x_data)\n",
    "#Y=(Y-mean)/std"
   ]
  },
  {
   "cell_type": "code",
   "execution_count": 42,
   "metadata": {},
   "outputs": [
    {
     "data": {
      "text/plain": [
       "array([[0.63888889, 0.72916667, 0.0823922 , 0.48192771, 0.        ,\n",
       "        0.75068493],\n",
       "       [0.63888889, 0.72916667, 0.13116016, 0.48192771, 0.04166667,\n",
       "        0.75068493],\n",
       "       [0.63888889, 0.72916667, 0.0823922 , 0.48192771, 0.08333333,\n",
       "        0.75068493],\n",
       "       ...,\n",
       "       [1.        , 0.02083333, 0.41606776, 0.72289157, 0.83333333,\n",
       "        0.24109589],\n",
       "       [1.        , 0.02083333, 0.38501027, 0.72289157, 0.875     ,\n",
       "        0.24109589],\n",
       "       [1.        , 0.02083333, 0.36729979, 0.72289157, 0.91666667,\n",
       "        0.24109589]])"
      ]
     },
     "execution_count": 42,
     "metadata": {},
     "output_type": "execute_result"
    }
   ],
   "source": [
    "x_data_scaled"
   ]
  },
  {
   "cell_type": "code",
   "execution_count": 43,
   "metadata": {},
   "outputs": [],
   "source": [
    "from sklearn.model_selection import train_test_split\n",
    "\n",
    "X_train, X_test, y_train, y_test = train_test_split(x_data_scaled, y_data, test_size=0.3,random_state=42)"
   ]
  },
  {
   "cell_type": "code",
   "execution_count": 44,
   "metadata": {},
   "outputs": [
    {
     "data": {
      "text/plain": [
       "6"
      ]
     },
     "execution_count": 44,
     "metadata": {},
     "output_type": "execute_result"
    }
   ],
   "source": [
    "X.shape[1]"
   ]
  },
  {
   "cell_type": "code",
   "execution_count": 60,
   "metadata": {},
   "outputs": [
    {
     "name": "stdout",
     "output_type": "stream",
     "text": [
      "_________________________________________________________________\n",
      "Layer (type)                 Output Shape              Param #   \n",
      "=================================================================\n",
      "dense_18 (Dense)             (None, 128)               896       \n",
      "_________________________________________________________________\n",
      "dense_19 (Dense)             (None, 128)               16512     \n",
      "_________________________________________________________________\n",
      "dense_20 (Dense)             (None, 128)               16512     \n",
      "_________________________________________________________________\n",
      "dense_21 (Dense)             (None, 128)               16512     \n",
      "_________________________________________________________________\n",
      "dense_22 (Dense)             (None, 128)               16512     \n",
      "_________________________________________________________________\n",
      "dense_23 (Dense)             (None, 1)                 129       \n",
      "=================================================================\n",
      "Total params: 67,073\n",
      "Trainable params: 67,073\n",
      "Non-trainable params: 0\n",
      "_________________________________________________________________\n"
     ]
    }
   ],
   "source": [
    "def build_model():\n",
    "  model = keras.Sequential([\n",
    "    keras.layers.Dense(128, activation=tf.nn.relu,\n",
    "                       input_shape=(X.shape[1],)),\n",
    "    keras.layers.Dense(128, activation=tf.nn.relu),\n",
    "    \n",
    "    \n",
    "    keras.layers.Dense(128, activation=tf.nn.relu),\n",
    "    keras.layers.Dense(128, activation=tf.nn.relu),\n",
    "    keras.layers.Dense(128, activation=tf.nn.relu),\n",
    "    keras.layers.Dense(1)\n",
    "  ])\n",
    "\n",
    "  optimizer = tf.train.RMSPropOptimizer(0.001)\n",
    "\n",
    "  model.compile(loss='mse',\n",
    "                optimizer=optimizer,\n",
    "                metrics=['mae'])\n",
    "  return model\n",
    "\n",
    "model = build_model()\n",
    "model.summary()"
   ]
  },
  {
   "cell_type": "code",
   "execution_count": 71,
   "metadata": {},
   "outputs": [
    {
     "name": "stdout",
     "output_type": "stream",
     "text": [
      "Train on 2518 samples, validate on 630 samples\n",
      "Epoch 1/500\n",
      "2518/2518 [==============================] - 1s 245us/step - loss: 6.4899 - acc: 0.1112 - val_loss: 8.4921 - val_acc: 0.1032\n",
      "Epoch 2/500\n",
      "2518/2518 [==============================] - 0s 101us/step - loss: 6.5557 - acc: 0.1112 - val_loss: 9.2399 - val_acc: 0.0968\n",
      "Epoch 3/500\n",
      "2518/2518 [==============================] - 0s 96us/step - loss: 6.5827 - acc: 0.1112 - val_loss: 9.1915 - val_acc: 0.1032\n",
      "Epoch 4/500\n",
      "2518/2518 [==============================] - 0s 97us/step - loss: 6.7212 - acc: 0.1108 - val_loss: 8.6348 - val_acc: 0.1016\n",
      "Epoch 5/500\n",
      "2518/2518 [==============================] - 0s 98us/step - loss: 6.5372 - acc: 0.1108 - val_loss: 12.5620 - val_acc: 0.1016\n",
      "Epoch 6/500\n",
      "2518/2518 [==============================] - 0s 98us/step - loss: 6.6339 - acc: 0.1100 - val_loss: 10.2825 - val_acc: 0.1032\n",
      "Epoch 7/500\n",
      "2518/2518 [==============================] - 0s 98us/step - loss: 6.3204 - acc: 0.1116 - val_loss: 9.4757 - val_acc: 0.1016\n",
      "Epoch 8/500\n",
      "2518/2518 [==============================] - 0s 100us/step - loss: 6.5291 - acc: 0.1112 - val_loss: 8.9178 - val_acc: 0.1032\n",
      "Epoch 9/500\n",
      "2518/2518 [==============================] - 0s 98us/step - loss: 6.3799 - acc: 0.1112 - val_loss: 9.8058 - val_acc: 0.1032\n",
      "Epoch 10/500\n",
      "2518/2518 [==============================] - 0s 92us/step - loss: 6.2717 - acc: 0.1108 - val_loss: 9.2281 - val_acc: 0.1032\n",
      "Epoch 11/500\n",
      "2518/2518 [==============================] - 0s 96us/step - loss: 6.3612 - acc: 0.1108 - val_loss: 8.7608 - val_acc: 0.1032\n",
      "Epoch 12/500\n",
      "2518/2518 [==============================] - 0s 96us/step - loss: 6.3222 - acc: 0.1108 - val_loss: 7.9963 - val_acc: 0.1032\n",
      "Epoch 13/500\n",
      "2518/2518 [==============================] - 0s 92us/step - loss: 6.4199 - acc: 0.1100 - val_loss: 10.3629 - val_acc: 0.1032\n",
      "Epoch 14/500\n",
      "2518/2518 [==============================] - 0s 96us/step - loss: 6.2522 - acc: 0.1096 - val_loss: 8.5785 - val_acc: 0.1000\n",
      "Epoch 15/500\n",
      "2518/2518 [==============================] - 0s 98us/step - loss: 6.1717 - acc: 0.1112 - val_loss: 12.5711 - val_acc: 0.1048\n",
      "Epoch 16/500\n",
      "2518/2518 [==============================] - 0s 94us/step - loss: 6.0371 - acc: 0.1096 - val_loss: 8.7220 - val_acc: 0.1032\n",
      "Epoch 17/500\n",
      "2518/2518 [==============================] - 0s 97us/step - loss: 6.0537 - acc: 0.1120 - val_loss: 10.0915 - val_acc: 0.1032\n",
      "Epoch 18/500\n",
      "2518/2518 [==============================] - 0s 95us/step - loss: 6.2066 - acc: 0.1116 - val_loss: 8.6543 - val_acc: 0.1016\n",
      "Epoch 19/500\n",
      "2518/2518 [==============================] - 0s 98us/step - loss: 6.1453 - acc: 0.1116 - val_loss: 8.0106 - val_acc: 0.1032\n",
      "Epoch 20/500\n",
      "2518/2518 [==============================] - 0s 87us/step - loss: 6.0277 - acc: 0.1116 - val_loss: 10.1778 - val_acc: 0.1032\n",
      "Epoch 21/500\n",
      "2518/2518 [==============================] - 0s 99us/step - loss: 6.0494 - acc: 0.1124 - val_loss: 8.3791 - val_acc: 0.1032\n",
      "Epoch 22/500\n",
      "2518/2518 [==============================] - 0s 91us/step - loss: 6.0075 - acc: 0.1116 - val_loss: 10.4490 - val_acc: 0.0889\n",
      "Epoch 23/500\n",
      "2518/2518 [==============================] - 0s 90us/step - loss: 6.0372 - acc: 0.1120 - val_loss: 9.3724 - val_acc: 0.1016\n",
      "Epoch 24/500\n",
      "2518/2518 [==============================] - 0s 96us/step - loss: 6.0021 - acc: 0.1112 - val_loss: 9.5229 - val_acc: 0.1048\n",
      "Epoch 25/500\n",
      "2518/2518 [==============================] - 0s 96us/step - loss: 5.9511 - acc: 0.1116 - val_loss: 8.0696 - val_acc: 0.1032\n",
      "Epoch 26/500\n",
      "2518/2518 [==============================] - 0s 88us/step - loss: 5.8127 - acc: 0.1128 - val_loss: 7.5616 - val_acc: 0.1032\n",
      "Epoch 27/500\n",
      "2518/2518 [==============================] - 0s 100us/step - loss: 5.8721 - acc: 0.1116 - val_loss: 12.4221 - val_acc: 0.1032\n",
      "Epoch 28/500\n",
      "2518/2518 [==============================] - 0s 96us/step - loss: 5.8024 - acc: 0.1124 - val_loss: 8.8183 - val_acc: 0.1032\n",
      "Epoch 29/500\n",
      "2518/2518 [==============================] - 0s 101us/step - loss: 5.8655 - acc: 0.1120 - val_loss: 8.7770 - val_acc: 0.1016\n",
      "Epoch 30/500\n",
      "2518/2518 [==============================] - 0s 103us/step - loss: 5.7891 - acc: 0.1112 - val_loss: 8.4078 - val_acc: 0.1032\n",
      "Epoch 31/500\n",
      "2518/2518 [==============================] - 0s 96us/step - loss: 5.7040 - acc: 0.1120 - val_loss: 8.9109 - val_acc: 0.0905\n",
      "Epoch 32/500\n",
      "2518/2518 [==============================] - 0s 106us/step - loss: 5.5680 - acc: 0.1112 - val_loss: 9.5789 - val_acc: 0.0937\n",
      "Epoch 33/500\n",
      "2518/2518 [==============================] - 0s 95us/step - loss: 5.4886 - acc: 0.1108 - val_loss: 9.4907 - val_acc: 0.1032\n",
      "Epoch 34/500\n",
      "2518/2518 [==============================] - 0s 93us/step - loss: 5.6040 - acc: 0.1108 - val_loss: 8.3472 - val_acc: 0.1032\n",
      "Epoch 35/500\n",
      "2518/2518 [==============================] - 0s 97us/step - loss: 5.3836 - acc: 0.1112 - val_loss: 8.3451 - val_acc: 0.1032\n",
      "Epoch 36/500\n",
      "2518/2518 [==============================] - 0s 111us/step - loss: 5.5567 - acc: 0.1136 - val_loss: 8.7422 - val_acc: 0.1032\n",
      "Epoch 37/500\n",
      "2518/2518 [==============================] - 0s 97us/step - loss: 5.5756 - acc: 0.1124 - val_loss: 8.8801 - val_acc: 0.1032\n",
      "Epoch 38/500\n",
      "2518/2518 [==============================] - 0s 93us/step - loss: 5.4891 - acc: 0.1100 - val_loss: 9.1119 - val_acc: 0.1016\n",
      "Epoch 39/500\n",
      "2518/2518 [==============================] - 0s 88us/step - loss: 5.5601 - acc: 0.1116 - val_loss: 7.6480 - val_acc: 0.1032\n",
      "Epoch 40/500\n",
      "2518/2518 [==============================] - 0s 101us/step - loss: 5.5831 - acc: 0.1120 - val_loss: 7.8945 - val_acc: 0.1032\n",
      "Epoch 41/500\n",
      "2518/2518 [==============================] - 0s 94us/step - loss: 5.2445 - acc: 0.1120 - val_loss: 10.2497 - val_acc: 0.1032\n",
      "Epoch 42/500\n",
      "2518/2518 [==============================] - 0s 100us/step - loss: 5.4342 - acc: 0.1124 - val_loss: 8.0496 - val_acc: 0.1032\n",
      "Epoch 43/500\n",
      "2518/2518 [==============================] - 0s 95us/step - loss: 5.4224 - acc: 0.1128 - val_loss: 8.6919 - val_acc: 0.1032\n",
      "Epoch 44/500\n",
      "2518/2518 [==============================] - 0s 98us/step - loss: 5.3294 - acc: 0.1104 - val_loss: 8.0747 - val_acc: 0.1032\n",
      "Epoch 45/500\n",
      "2518/2518 [==============================] - 0s 95us/step - loss: 5.1022 - acc: 0.1116 - val_loss: 7.9517 - val_acc: 0.0984\n",
      "Epoch 46/500\n",
      "2518/2518 [==============================] - 0s 89us/step - loss: 5.0981 - acc: 0.1112 - val_loss: 8.4445 - val_acc: 0.1032\n",
      "Epoch 47/500\n",
      "2518/2518 [==============================] - 0s 104us/step - loss: 5.1232 - acc: 0.1120 - val_loss: 8.0054 - val_acc: 0.1032\n",
      "Epoch 48/500\n",
      "2518/2518 [==============================] - 0s 106us/step - loss: 5.1877 - acc: 0.1120 - val_loss: 7.7895 - val_acc: 0.1032\n",
      "Epoch 49/500\n",
      "2518/2518 [==============================] - 0s 98us/step - loss: 5.2656 - acc: 0.1120 - val_loss: 10.0854 - val_acc: 0.1032\n",
      "Epoch 50/500\n",
      "2518/2518 [==============================] - 0s 107us/step - loss: 5.1244 - acc: 0.1112 - val_loss: 7.9212 - val_acc: 0.1032\n",
      "Epoch 51/500\n",
      "2518/2518 [==============================] - 0s 98us/step - loss: 5.0394 - acc: 0.1116 - val_loss: 7.8054 - val_acc: 0.1032\n",
      "Epoch 52/500\n",
      "2518/2518 [==============================] - 0s 101us/step - loss: 5.2452 - acc: 0.1112 - val_loss: 9.5660 - val_acc: 0.1032\n",
      "Epoch 53/500\n",
      "2518/2518 [==============================] - 0s 94us/step - loss: 4.7462 - acc: 0.1128 - val_loss: 8.2555 - val_acc: 0.1032\n",
      "Epoch 54/500\n",
      "2518/2518 [==============================] - 0s 89us/step - loss: 4.9964 - acc: 0.1124 - val_loss: 8.8256 - val_acc: 0.0905\n",
      "Epoch 55/500\n",
      "2518/2518 [==============================] - 0s 86us/step - loss: 5.1505 - acc: 0.1104 - val_loss: 10.2892 - val_acc: 0.1032\n",
      "Epoch 56/500\n",
      "2518/2518 [==============================] - 0s 92us/step - loss: 4.8949 - acc: 0.1124 - val_loss: 8.1043 - val_acc: 0.0984\n",
      "Epoch 57/500\n",
      "2518/2518 [==============================] - 0s 107us/step - loss: 5.0168 - acc: 0.1112 - val_loss: 10.0866 - val_acc: 0.1032\n",
      "Epoch 58/500\n",
      "2518/2518 [==============================] - 0s 93us/step - loss: 4.9649 - acc: 0.1128 - val_loss: 7.1427 - val_acc: 0.1016\n",
      "Epoch 59/500\n",
      "2518/2518 [==============================] - 0s 101us/step - loss: 4.9363 - acc: 0.1124 - val_loss: 8.5759 - val_acc: 0.1000\n",
      "Epoch 60/500\n"
     ]
    },
    {
     "name": "stdout",
     "output_type": "stream",
     "text": [
      "2518/2518 [==============================] - 0s 98us/step - loss: 4.6548 - acc: 0.1128 - val_loss: 7.5399 - val_acc: 0.1032\n",
      "Epoch 61/500\n",
      "2518/2518 [==============================] - 0s 98us/step - loss: 4.8255 - acc: 0.1120 - val_loss: 7.5531 - val_acc: 0.1032\n",
      "Epoch 62/500\n",
      "2518/2518 [==============================] - 0s 99us/step - loss: 4.6589 - acc: 0.1124 - val_loss: 7.2718 - val_acc: 0.0937\n",
      "Epoch 63/500\n",
      "2518/2518 [==============================] - 0s 100us/step - loss: 4.6171 - acc: 0.1108 - val_loss: 7.9080 - val_acc: 0.1032\n",
      "Epoch 64/500\n",
      "2518/2518 [==============================] - 0s 93us/step - loss: 4.8161 - acc: 0.1120 - val_loss: 7.5452 - val_acc: 0.1032\n",
      "Epoch 65/500\n",
      "2518/2518 [==============================] - 0s 96us/step - loss: 4.5565 - acc: 0.1124 - val_loss: 7.6517 - val_acc: 0.1032\n",
      "Epoch 66/500\n",
      "2518/2518 [==============================] - 0s 89us/step - loss: 4.4404 - acc: 0.1128 - val_loss: 7.5565 - val_acc: 0.1032\n",
      "Epoch 67/500\n",
      "2518/2518 [==============================] - 0s 102us/step - loss: 4.6475 - acc: 0.1128 - val_loss: 7.7908 - val_acc: 0.1032\n",
      "Epoch 68/500\n",
      "2518/2518 [==============================] - 0s 97us/step - loss: 4.4574 - acc: 0.1128 - val_loss: 7.8446 - val_acc: 0.1032\n",
      "Epoch 69/500\n",
      "2518/2518 [==============================] - 0s 93us/step - loss: 4.6785 - acc: 0.1124 - val_loss: 11.9877 - val_acc: 0.1063\n",
      "Epoch 70/500\n",
      "2518/2518 [==============================] - 0s 90us/step - loss: 4.6381 - acc: 0.1120 - val_loss: 8.1381 - val_acc: 0.1032\n",
      "Epoch 71/500\n",
      "2518/2518 [==============================] - 0s 88us/step - loss: 4.4909 - acc: 0.1136 - val_loss: 7.4275 - val_acc: 0.1032\n",
      "Epoch 72/500\n",
      "2518/2518 [==============================] - 0s 90us/step - loss: 4.3882 - acc: 0.1120 - val_loss: 7.2913 - val_acc: 0.1048\n",
      "Epoch 73/500\n",
      "2518/2518 [==============================] - 0s 90us/step - loss: 4.4259 - acc: 0.1124 - val_loss: 8.2736 - val_acc: 0.1032\n",
      "Epoch 74/500\n",
      "2518/2518 [==============================] - 0s 87us/step - loss: 4.2465 - acc: 0.1132 - val_loss: 8.4443 - val_acc: 0.0984\n",
      "Epoch 75/500\n",
      "2518/2518 [==============================] - 0s 87us/step - loss: 4.3862 - acc: 0.1128 - val_loss: 7.0592 - val_acc: 0.1063\n",
      "Epoch 76/500\n",
      "2518/2518 [==============================] - 0s 92us/step - loss: 4.1174 - acc: 0.1148 - val_loss: 7.9694 - val_acc: 0.1032\n",
      "Epoch 77/500\n",
      "2518/2518 [==============================] - 0s 95us/step - loss: 4.4151 - acc: 0.1128 - val_loss: 7.4513 - val_acc: 0.1032\n",
      "Epoch 78/500\n",
      "2518/2518 [==============================] - 0s 98us/step - loss: 4.2864 - acc: 0.1128 - val_loss: 6.8259 - val_acc: 0.1032\n",
      "Epoch 79/500\n",
      "2518/2518 [==============================] - 0s 94us/step - loss: 4.0377 - acc: 0.1128 - val_loss: 8.5009 - val_acc: 0.1000\n",
      "Epoch 80/500\n",
      "2518/2518 [==============================] - 0s 93us/step - loss: 4.1954 - acc: 0.1120 - val_loss: 7.4076 - val_acc: 0.1048\n",
      "Epoch 81/500\n",
      "2518/2518 [==============================] - 0s 96us/step - loss: 4.0725 - acc: 0.1124 - val_loss: 7.1948 - val_acc: 0.1032\n",
      "Epoch 82/500\n",
      "2518/2518 [==============================] - 0s 101us/step - loss: 4.2108 - acc: 0.1136 - val_loss: 7.8491 - val_acc: 0.1032\n",
      "Epoch 83/500\n",
      "2518/2518 [==============================] - 0s 101us/step - loss: 4.0815 - acc: 0.1128 - val_loss: 7.1049 - val_acc: 0.1032\n",
      "Epoch 84/500\n",
      "2518/2518 [==============================] - 0s 94us/step - loss: 4.1020 - acc: 0.1120 - val_loss: 7.4087 - val_acc: 0.1032\n",
      "Epoch 85/500\n",
      "2518/2518 [==============================] - 0s 105us/step - loss: 4.1791 - acc: 0.1120 - val_loss: 7.8261 - val_acc: 0.1048\n",
      "Epoch 86/500\n",
      "2518/2518 [==============================] - 0s 92us/step - loss: 4.1618 - acc: 0.1136 - val_loss: 7.6332 - val_acc: 0.1000\n",
      "Epoch 87/500\n",
      "2518/2518 [==============================] - 0s 106us/step - loss: 4.2028 - acc: 0.1132 - val_loss: 6.8140 - val_acc: 0.1048\n",
      "Epoch 88/500\n",
      "2518/2518 [==============================] - 0s 101us/step - loss: 4.0306 - acc: 0.1132 - val_loss: 8.2757 - val_acc: 0.1032\n",
      "Epoch 89/500\n",
      "2518/2518 [==============================] - 0s 104us/step - loss: 3.8840 - acc: 0.1132 - val_loss: 7.9750 - val_acc: 0.1032\n",
      "Epoch 90/500\n",
      "2518/2518 [==============================] - 0s 95us/step - loss: 3.8591 - acc: 0.1116 - val_loss: 7.9431 - val_acc: 0.1048\n",
      "Epoch 91/500\n",
      "2518/2518 [==============================] - 0s 102us/step - loss: 4.0098 - acc: 0.1124 - val_loss: 8.6318 - val_acc: 0.1032\n",
      "Epoch 92/500\n",
      "2518/2518 [==============================] - 0s 98us/step - loss: 4.0145 - acc: 0.1132 - val_loss: 8.1966 - val_acc: 0.1032\n",
      "Epoch 93/500\n",
      "2518/2518 [==============================] - 0s 102us/step - loss: 3.9090 - acc: 0.1124 - val_loss: 8.2569 - val_acc: 0.1032\n",
      "Epoch 94/500\n",
      "2518/2518 [==============================] - 0s 100us/step - loss: 3.9352 - acc: 0.1132 - val_loss: 8.0244 - val_acc: 0.1032\n",
      "Epoch 95/500\n",
      "2518/2518 [==============================] - 0s 92us/step - loss: 3.8598 - acc: 0.1124 - val_loss: 8.3076 - val_acc: 0.1032\n",
      "Epoch 96/500\n",
      "2518/2518 [==============================] - 0s 106us/step - loss: 3.8838 - acc: 0.1136 - val_loss: 7.8112 - val_acc: 0.1063\n",
      "Epoch 97/500\n",
      "2518/2518 [==============================] - 0s 98us/step - loss: 3.9304 - acc: 0.1120 - val_loss: 9.0910 - val_acc: 0.1032\n",
      "Epoch 98/500\n",
      "2518/2518 [==============================] - 0s 96us/step - loss: 3.7421 - acc: 0.1136 - val_loss: 8.3462 - val_acc: 0.1032\n",
      "Epoch 99/500\n",
      "2518/2518 [==============================] - 0s 103us/step - loss: 3.8372 - acc: 0.1132 - val_loss: 7.4562 - val_acc: 0.1032\n",
      "Epoch 100/500\n",
      "2518/2518 [==============================] - 0s 94us/step - loss: 3.8870 - acc: 0.1140 - val_loss: 10.3831 - val_acc: 0.1032\n",
      "Epoch 101/500\n",
      "2518/2518 [==============================] - 0s 102us/step - loss: 3.6703 - acc: 0.1128 - val_loss: 9.0117 - val_acc: 0.1032\n",
      "Epoch 102/500\n",
      "2518/2518 [==============================] - 0s 97us/step - loss: 3.8153 - acc: 0.1140 - val_loss: 9.0180 - val_acc: 0.1032\n",
      "Epoch 103/500\n",
      "2518/2518 [==============================] - 0s 96us/step - loss: 3.7571 - acc: 0.1128 - val_loss: 7.1476 - val_acc: 0.1032\n",
      "Epoch 104/500\n",
      "2518/2518 [==============================] - 0s 99us/step - loss: 3.7529 - acc: 0.1136 - val_loss: 7.3657 - val_acc: 0.1063\n",
      "Epoch 105/500\n",
      "2518/2518 [==============================] - 0s 97us/step - loss: 3.5602 - acc: 0.1136 - val_loss: 7.4305 - val_acc: 0.1032\n",
      "Epoch 106/500\n",
      "2518/2518 [==============================] - 0s 88us/step - loss: 3.6792 - acc: 0.1136 - val_loss: 7.4068 - val_acc: 0.1063\n",
      "Epoch 107/500\n",
      "2518/2518 [==============================] - 0s 93us/step - loss: 3.6049 - acc: 0.1124 - val_loss: 7.1377 - val_acc: 0.1032\n",
      "Epoch 108/500\n",
      "2518/2518 [==============================] - 0s 93us/step - loss: 3.6300 - acc: 0.1132 - val_loss: 7.6741 - val_acc: 0.1048\n",
      "Epoch 109/500\n",
      "2518/2518 [==============================] - 0s 103us/step - loss: 3.5205 - acc: 0.1128 - val_loss: 7.3650 - val_acc: 0.1048\n",
      "Epoch 110/500\n",
      "2518/2518 [==============================] - 0s 93us/step - loss: 3.3261 - acc: 0.1144 - val_loss: 7.8885 - val_acc: 0.1032\n",
      "Epoch 111/500\n",
      "2518/2518 [==============================] - 0s 100us/step - loss: 3.5862 - acc: 0.1128 - val_loss: 8.5794 - val_acc: 0.1032\n",
      "Epoch 112/500\n",
      "2518/2518 [==============================] - 0s 95us/step - loss: 3.4252 - acc: 0.1132 - val_loss: 7.1147 - val_acc: 0.1032\n",
      "Epoch 113/500\n",
      "2518/2518 [==============================] - 0s 99us/step - loss: 3.3014 - acc: 0.1144 - val_loss: 8.0915 - val_acc: 0.1032\n",
      "Epoch 114/500\n",
      "2518/2518 [==============================] - 0s 102us/step - loss: 3.5389 - acc: 0.1128 - val_loss: 7.7291 - val_acc: 0.1032\n",
      "Epoch 115/500\n",
      "2518/2518 [==============================] - 0s 102us/step - loss: 3.5277 - acc: 0.1136 - val_loss: 7.3425 - val_acc: 0.1048\n",
      "Epoch 116/500\n",
      "2518/2518 [==============================] - 0s 102us/step - loss: 3.3969 - acc: 0.1140 - val_loss: 11.6637 - val_acc: 0.1032\n",
      "Epoch 117/500\n",
      "2518/2518 [==============================] - 0s 99us/step - loss: 3.5362 - acc: 0.1136 - val_loss: 8.0803 - val_acc: 0.1032\n",
      "Epoch 118/500\n",
      "2518/2518 [==============================] - 0s 99us/step - loss: 3.3815 - acc: 0.1132 - val_loss: 7.6087 - val_acc: 0.1000\n",
      "Epoch 119/500\n"
     ]
    },
    {
     "name": "stdout",
     "output_type": "stream",
     "text": [
      "2518/2518 [==============================] - ETA: 0s - loss: 3.2913 - acc: 0.109 - 0s 86us/step - loss: 3.5432 - acc: 0.1136 - val_loss: 7.2872 - val_acc: 0.1032\n",
      "Epoch 120/500\n",
      "2518/2518 [==============================] - 0s 87us/step - loss: 3.4781 - acc: 0.1132 - val_loss: 7.8958 - val_acc: 0.1000\n",
      "Epoch 121/500\n",
      "2518/2518 [==============================] - 0s 97us/step - loss: 3.4184 - acc: 0.1132 - val_loss: 8.2079 - val_acc: 0.1016\n",
      "Epoch 122/500\n",
      "2518/2518 [==============================] - 0s 87us/step - loss: 3.3991 - acc: 0.1128 - val_loss: 7.3623 - val_acc: 0.1063\n",
      "Epoch 123/500\n",
      "2518/2518 [==============================] - 0s 97us/step - loss: 3.1798 - acc: 0.1136 - val_loss: 7.6447 - val_acc: 0.1063\n",
      "Epoch 124/500\n",
      "2518/2518 [==============================] - 0s 88us/step - loss: 3.3398 - acc: 0.1136 - val_loss: 7.0579 - val_acc: 0.1048\n",
      "Epoch 125/500\n",
      "2518/2518 [==============================] - 0s 106us/step - loss: 3.2670 - acc: 0.1132 - val_loss: 7.2265 - val_acc: 0.1048\n",
      "Epoch 126/500\n",
      "2518/2518 [==============================] - 0s 102us/step - loss: 3.3416 - acc: 0.1124 - val_loss: 7.9660 - val_acc: 0.1000\n",
      "Epoch 127/500\n",
      "2518/2518 [==============================] - 0s 97us/step - loss: 3.2570 - acc: 0.1128 - val_loss: 8.3552 - val_acc: 0.1063\n",
      "Epoch 128/500\n",
      "2518/2518 [==============================] - 0s 107us/step - loss: 3.3266 - acc: 0.1140 - val_loss: 7.8295 - val_acc: 0.1048\n",
      "Epoch 129/500\n",
      "2518/2518 [==============================] - 0s 98us/step - loss: 3.2768 - acc: 0.1144 - val_loss: 9.0099 - val_acc: 0.1048\n",
      "Epoch 130/500\n",
      "2518/2518 [==============================] - 0s 97us/step - loss: 3.0285 - acc: 0.1136 - val_loss: 7.6847 - val_acc: 0.1032\n",
      "Epoch 131/500\n",
      "2518/2518 [==============================] - 0s 94us/step - loss: 3.2732 - acc: 0.1148 - val_loss: 8.6715 - val_acc: 0.1048\n",
      "Epoch 132/500\n",
      "2518/2518 [==============================] - 0s 99us/step - loss: 3.2889 - acc: 0.1140 - val_loss: 7.7092 - val_acc: 0.1032\n",
      "Epoch 133/500\n",
      "2518/2518 [==============================] - 0s 89us/step - loss: 3.1878 - acc: 0.1140 - val_loss: 7.2179 - val_acc: 0.1063\n",
      "Epoch 134/500\n",
      "2518/2518 [==============================] - 0s 90us/step - loss: 3.0252 - acc: 0.1136 - val_loss: 8.0948 - val_acc: 0.1048\n",
      "Epoch 135/500\n",
      "2518/2518 [==============================] - 0s 92us/step - loss: 3.1335 - acc: 0.1144 - val_loss: 7.3214 - val_acc: 0.1063\n",
      "Epoch 136/500\n",
      "2518/2518 [==============================] - 0s 93us/step - loss: 2.9455 - acc: 0.1136 - val_loss: 8.3483 - val_acc: 0.1016\n",
      "Epoch 137/500\n",
      "2518/2518 [==============================] - 0s 99us/step - loss: 3.1203 - acc: 0.1136 - val_loss: 7.6806 - val_acc: 0.1048\n",
      "Epoch 138/500\n",
      "2518/2518 [==============================] - 0s 105us/step - loss: 3.0869 - acc: 0.1148 - val_loss: 8.6485 - val_acc: 0.0937\n",
      "Epoch 139/500\n",
      "2518/2518 [==============================] - 0s 91us/step - loss: 3.1320 - acc: 0.1148 - val_loss: 7.1636 - val_acc: 0.1048\n",
      "Epoch 140/500\n",
      "2518/2518 [==============================] - 0s 97us/step - loss: 3.1073 - acc: 0.1128 - val_loss: 8.1958 - val_acc: 0.0921\n",
      "Epoch 141/500\n",
      "2518/2518 [==============================] - 0s 96us/step - loss: 3.1095 - acc: 0.1152 - val_loss: 8.1493 - val_acc: 0.1063\n",
      "Epoch 142/500\n",
      "2518/2518 [==============================] - 0s 100us/step - loss: 2.8559 - acc: 0.1136 - val_loss: 7.3449 - val_acc: 0.1048\n",
      "Epoch 143/500\n",
      "2518/2518 [==============================] - 0s 93us/step - loss: 3.0861 - acc: 0.1148 - val_loss: 9.4365 - val_acc: 0.1063\n",
      "Epoch 144/500\n",
      "2518/2518 [==============================] - 0s 94us/step - loss: 3.1823 - acc: 0.1144 - val_loss: 8.3858 - val_acc: 0.1048\n",
      "Epoch 145/500\n",
      "2518/2518 [==============================] - 0s 97us/step - loss: 2.9278 - acc: 0.1160 - val_loss: 10.0611 - val_acc: 0.1048\n",
      "Epoch 146/500\n",
      "2518/2518 [==============================] - 0s 101us/step - loss: 3.0960 - acc: 0.1140 - val_loss: 7.7642 - val_acc: 0.1048\n",
      "Epoch 147/500\n",
      "2518/2518 [==============================] - 0s 99us/step - loss: 2.9523 - acc: 0.1144 - val_loss: 8.7986 - val_acc: 0.1032\n",
      "Epoch 148/500\n",
      "2518/2518 [==============================] - 0s 87us/step - loss: 2.9347 - acc: 0.1144 - val_loss: 7.8056 - val_acc: 0.1079\n",
      "Epoch 149/500\n",
      "2518/2518 [==============================] - 0s 102us/step - loss: 3.0402 - acc: 0.1132 - val_loss: 8.0451 - val_acc: 0.1063\n",
      "Epoch 150/500\n",
      "2518/2518 [==============================] - 0s 88us/step - loss: 3.0400 - acc: 0.1148 - val_loss: 7.2528 - val_acc: 0.1063\n",
      "Epoch 151/500\n",
      "2518/2518 [==============================] - 0s 99us/step - loss: 2.8545 - acc: 0.1144 - val_loss: 9.9949 - val_acc: 0.1048\n",
      "Epoch 152/500\n",
      "2518/2518 [==============================] - 0s 93us/step - loss: 2.9672 - acc: 0.1156 - val_loss: 7.8422 - val_acc: 0.1063\n",
      "Epoch 153/500\n",
      "2518/2518 [==============================] - 0s 100us/step - loss: 2.7952 - acc: 0.1148 - val_loss: 7.1621 - val_acc: 0.1032\n",
      "Epoch 154/500\n",
      "2518/2518 [==============================] - 0s 97us/step - loss: 2.9011 - acc: 0.1140 - val_loss: 8.4716 - val_acc: 0.1032\n",
      "Epoch 155/500\n",
      "2518/2518 [==============================] - 0s 104us/step - loss: 3.0464 - acc: 0.1152 - val_loss: 7.9367 - val_acc: 0.1048\n",
      "Epoch 156/500\n",
      "2518/2518 [==============================] - 0s 88us/step - loss: 2.8538 - acc: 0.1152 - val_loss: 7.5424 - val_acc: 0.1063\n",
      "Epoch 157/500\n",
      "2518/2518 [==============================] - 0s 104us/step - loss: 2.7338 - acc: 0.1152 - val_loss: 8.5150 - val_acc: 0.1032\n",
      "Epoch 158/500\n",
      "2518/2518 [==============================] - 0s 97us/step - loss: 2.7664 - acc: 0.1156 - val_loss: 7.6214 - val_acc: 0.1048\n",
      "Epoch 159/500\n",
      "2518/2518 [==============================] - 0s 96us/step - loss: 2.8798 - acc: 0.1144 - val_loss: 9.1565 - val_acc: 0.1063\n",
      "Epoch 160/500\n",
      "2518/2518 [==============================] - 0s 100us/step - loss: 2.8474 - acc: 0.1148 - val_loss: 7.6929 - val_acc: 0.1063\n",
      "Epoch 161/500\n",
      "2518/2518 [==============================] - 0s 95us/step - loss: 2.7256 - acc: 0.1168 - val_loss: 8.5983 - val_acc: 0.1032\n",
      "Epoch 162/500\n",
      "2518/2518 [==============================] - 0s 99us/step - loss: 2.6346 - acc: 0.1136 - val_loss: 9.1409 - val_acc: 0.1079\n",
      "Epoch 163/500\n",
      "2518/2518 [==============================] - 0s 99us/step - loss: 2.6928 - acc: 0.1148 - val_loss: 8.2954 - val_acc: 0.1048\n",
      "Epoch 164/500\n",
      "2518/2518 [==============================] - 0s 88us/step - loss: 2.8243 - acc: 0.1156 - val_loss: 8.2568 - val_acc: 0.1032\n",
      "Epoch 165/500\n",
      "2518/2518 [==============================] - 0s 98us/step - loss: 2.5577 - acc: 0.1140 - val_loss: 8.8918 - val_acc: 0.1063\n",
      "Epoch 166/500\n",
      "2518/2518 [==============================] - 0s 99us/step - loss: 2.6508 - acc: 0.1160 - val_loss: 7.8751 - val_acc: 0.1063\n",
      "Epoch 167/500\n",
      "2518/2518 [==============================] - 0s 100us/step - loss: 2.6941 - acc: 0.1140 - val_loss: 8.6370 - val_acc: 0.1048\n",
      "Epoch 168/500\n",
      "2518/2518 [==============================] - 0s 94us/step - loss: 2.6834 - acc: 0.1144 - val_loss: 8.2213 - val_acc: 0.1063\n",
      "Epoch 169/500\n",
      "2518/2518 [==============================] - 0s 99us/step - loss: 2.8505 - acc: 0.1152 - val_loss: 7.8160 - val_acc: 0.1079\n",
      "Epoch 170/500\n",
      "2518/2518 [==============================] - 0s 100us/step - loss: 2.7333 - acc: 0.1152 - val_loss: 8.2567 - val_acc: 0.1032\n",
      "Epoch 171/500\n",
      "2518/2518 [==============================] - 0s 99us/step - loss: 2.4812 - acc: 0.1144 - val_loss: 9.2827 - val_acc: 0.1032\n",
      "Epoch 172/500\n",
      "2518/2518 [==============================] - 0s 88us/step - loss: 2.6856 - acc: 0.1140 - val_loss: 7.7770 - val_acc: 0.1063\n",
      "Epoch 173/500\n",
      "2518/2518 [==============================] - 0s 100us/step - loss: 2.6710 - acc: 0.1140 - val_loss: 8.6305 - val_acc: 0.1048\n",
      "Epoch 174/500\n",
      "2518/2518 [==============================] - 0s 94us/step - loss: 2.6535 - acc: 0.1148 - val_loss: 7.5106 - val_acc: 0.1079\n",
      "Epoch 175/500\n",
      "2518/2518 [==============================] - 0s 100us/step - loss: 2.5538 - acc: 0.1152 - val_loss: 8.8313 - val_acc: 0.1048\n",
      "Epoch 176/500\n",
      "2518/2518 [==============================] - 0s 93us/step - loss: 2.6232 - acc: 0.1148 - val_loss: 8.0876 - val_acc: 0.1048\n",
      "Epoch 177/500\n",
      "2518/2518 [==============================] - 0s 101us/step - loss: 2.4582 - acc: 0.1152 - val_loss: 7.8492 - val_acc: 0.1063\n",
      "Epoch 178/500\n"
     ]
    },
    {
     "name": "stdout",
     "output_type": "stream",
     "text": [
      "2518/2518 [==============================] - 0s 91us/step - loss: 2.5469 - acc: 0.1156 - val_loss: 7.7719 - val_acc: 0.1048\n",
      "Epoch 179/500\n",
      "2518/2518 [==============================] - 0s 93us/step - loss: 2.6247 - acc: 0.1152 - val_loss: 12.4651 - val_acc: 0.1063\n",
      "Epoch 180/500\n",
      "2518/2518 [==============================] - 0s 87us/step - loss: 2.8208 - acc: 0.1160 - val_loss: 10.1805 - val_acc: 0.1016\n",
      "Epoch 181/500\n",
      "2518/2518 [==============================] - 0s 94us/step - loss: 2.5716 - acc: 0.1164 - val_loss: 7.4478 - val_acc: 0.1079\n",
      "Epoch 182/500\n",
      "2518/2518 [==============================] - 0s 84us/step - loss: 2.4824 - acc: 0.1156 - val_loss: 7.8376 - val_acc: 0.1048\n",
      "Epoch 183/500\n",
      "2518/2518 [==============================] - 0s 92us/step - loss: 2.4086 - acc: 0.1140 - val_loss: 7.9858 - val_acc: 0.1079\n",
      "Epoch 184/500\n",
      "2518/2518 [==============================] - 0s 93us/step - loss: 2.5032 - acc: 0.1148 - val_loss: 8.3007 - val_acc: 0.1079\n",
      "Epoch 185/500\n",
      "2518/2518 [==============================] - 0s 95us/step - loss: 2.3798 - acc: 0.1160 - val_loss: 8.5056 - val_acc: 0.1079\n",
      "Epoch 186/500\n",
      "2518/2518 [==============================] - 0s 88us/step - loss: 2.4351 - acc: 0.1144 - val_loss: 7.9235 - val_acc: 0.1079\n",
      "Epoch 187/500\n",
      "2518/2518 [==============================] - 0s 90us/step - loss: 2.7626 - acc: 0.1152 - val_loss: 9.9622 - val_acc: 0.1048\n",
      "Epoch 188/500\n",
      "2518/2518 [==============================] - 0s 94us/step - loss: 2.6191 - acc: 0.1140 - val_loss: 8.0999 - val_acc: 0.1079\n",
      "Epoch 189/500\n",
      "2518/2518 [==============================] - 0s 95us/step - loss: 2.6354 - acc: 0.1172 - val_loss: 7.6986 - val_acc: 0.1063\n",
      "Epoch 190/500\n",
      "2518/2518 [==============================] - 0s 94us/step - loss: 2.5938 - acc: 0.1144 - val_loss: 8.1602 - val_acc: 0.1032\n",
      "Epoch 191/500\n",
      "2518/2518 [==============================] - 0s 95us/step - loss: 2.5995 - acc: 0.1152 - val_loss: 7.8462 - val_acc: 0.1063\n",
      "Epoch 192/500\n",
      "2518/2518 [==============================] - 0s 98us/step - loss: 2.4445 - acc: 0.1156 - val_loss: 8.5148 - val_acc: 0.1048\n",
      "Epoch 193/500\n",
      "2518/2518 [==============================] - 0s 87us/step - loss: 2.3721 - acc: 0.1168 - val_loss: 10.1891 - val_acc: 0.1079\n",
      "Epoch 194/500\n",
      "2518/2518 [==============================] - 0s 98us/step - loss: 2.3086 - acc: 0.1172 - val_loss: 9.1813 - val_acc: 0.1048\n",
      "Epoch 195/500\n",
      "2518/2518 [==============================] - 0s 89us/step - loss: 2.4367 - acc: 0.1144 - val_loss: 8.1894 - val_acc: 0.1079\n",
      "Epoch 196/500\n",
      "2518/2518 [==============================] - 0s 100us/step - loss: 2.4341 - acc: 0.1164 - val_loss: 8.7970 - val_acc: 0.1048\n",
      "Epoch 197/500\n",
      "2518/2518 [==============================] - 0s 96us/step - loss: 2.4180 - acc: 0.1164 - val_loss: 7.7736 - val_acc: 0.1079\n",
      "Epoch 198/500\n",
      "2518/2518 [==============================] - 0s 94us/step - loss: 2.4854 - acc: 0.1152 - val_loss: 8.2792 - val_acc: 0.1063\n",
      "Epoch 199/500\n",
      "2518/2518 [==============================] - 0s 89us/step - loss: 2.3762 - acc: 0.1156 - val_loss: 7.8683 - val_acc: 0.1032\n",
      "Epoch 200/500\n",
      "2518/2518 [==============================] - 0s 90us/step - loss: 2.5607 - acc: 0.1156 - val_loss: 8.0942 - val_acc: 0.1079\n",
      "Epoch 201/500\n",
      "2518/2518 [==============================] - 0s 92us/step - loss: 2.3108 - acc: 0.1152 - val_loss: 8.9608 - val_acc: 0.1032\n",
      "Epoch 202/500\n",
      "2518/2518 [==============================] - 0s 93us/step - loss: 2.3258 - acc: 0.1148 - val_loss: 9.3723 - val_acc: 0.1048\n",
      "Epoch 203/500\n",
      "2518/2518 [==============================] - 0s 99us/step - loss: 2.6416 - acc: 0.1164 - val_loss: 7.9047 - val_acc: 0.1016\n",
      "Epoch 204/500\n",
      "2518/2518 [==============================] - 0s 99us/step - loss: 2.4042 - acc: 0.1148 - val_loss: 8.3761 - val_acc: 0.1095\n",
      "Epoch 205/500\n",
      "2518/2518 [==============================] - 0s 96us/step - loss: 2.6413 - acc: 0.1164 - val_loss: 7.5147 - val_acc: 0.1079\n",
      "Epoch 206/500\n",
      "2518/2518 [==============================] - 0s 100us/step - loss: 2.3046 - acc: 0.1180 - val_loss: 9.1312 - val_acc: 0.1063\n",
      "Epoch 207/500\n",
      "2518/2518 [==============================] - 0s 99us/step - loss: 2.0680 - acc: 0.1144 - val_loss: 9.2306 - val_acc: 0.1063\n",
      "Epoch 208/500\n",
      "2518/2518 [==============================] - 0s 100us/step - loss: 2.4376 - acc: 0.1164 - val_loss: 8.1492 - val_acc: 0.1063\n",
      "Epoch 209/500\n",
      "2518/2518 [==============================] - 0s 101us/step - loss: 2.1132 - acc: 0.1164 - val_loss: 8.0590 - val_acc: 0.1048\n",
      "Epoch 210/500\n",
      "2518/2518 [==============================] - 0s 88us/step - loss: 2.1184 - acc: 0.1160 - val_loss: 8.3119 - val_acc: 0.1032\n",
      "Epoch 211/500\n",
      "2518/2518 [==============================] - 0s 95us/step - loss: 2.2892 - acc: 0.1176 - val_loss: 8.0502 - val_acc: 0.1063\n",
      "Epoch 212/500\n",
      "2518/2518 [==============================] - 0s 103us/step - loss: 2.2633 - acc: 0.1164 - val_loss: 7.9130 - val_acc: 0.1063\n",
      "Epoch 213/500\n",
      "2518/2518 [==============================] - 0s 92us/step - loss: 2.3427 - acc: 0.1156 - val_loss: 8.0759 - val_acc: 0.1063\n",
      "Epoch 214/500\n",
      "2518/2518 [==============================] - 0s 90us/step - loss: 2.1500 - acc: 0.1156 - val_loss: 7.4503 - val_acc: 0.1032\n",
      "Epoch 215/500\n",
      "2518/2518 [==============================] - 0s 91us/step - loss: 2.1967 - acc: 0.1168 - val_loss: 9.7477 - val_acc: 0.1079\n",
      "Epoch 216/500\n",
      "2518/2518 [==============================] - 0s 95us/step - loss: 2.1692 - acc: 0.1164 - val_loss: 9.2988 - val_acc: 0.1079\n",
      "Epoch 217/500\n",
      "2518/2518 [==============================] - 0s 99us/step - loss: 2.2138 - acc: 0.1148 - val_loss: 7.5148 - val_acc: 0.1063\n",
      "Epoch 218/500\n",
      "2518/2518 [==============================] - 0s 99us/step - loss: 2.0889 - acc: 0.1156 - val_loss: 7.8160 - val_acc: 0.1048\n",
      "Epoch 219/500\n",
      "2518/2518 [==============================] - 0s 102us/step - loss: 2.1052 - acc: 0.1156 - val_loss: 7.8948 - val_acc: 0.1063\n",
      "Epoch 220/500\n",
      "2518/2518 [==============================] - 0s 100us/step - loss: 2.2281 - acc: 0.1152 - val_loss: 9.8071 - val_acc: 0.1048\n",
      "Epoch 221/500\n",
      "2518/2518 [==============================] - 0s 99us/step - loss: 2.0624 - acc: 0.1164 - val_loss: 8.5223 - val_acc: 0.1063\n",
      "Epoch 222/500\n",
      "2518/2518 [==============================] - 0s 95us/step - loss: 2.2120 - acc: 0.1160 - val_loss: 9.5337 - val_acc: 0.1048\n",
      "Epoch 223/500\n",
      "2518/2518 [==============================] - 0s 94us/step - loss: 2.1919 - acc: 0.1160 - val_loss: 7.6127 - val_acc: 0.1063\n",
      "Epoch 224/500\n",
      "2518/2518 [==============================] - 0s 94us/step - loss: 2.2603 - acc: 0.1156 - val_loss: 8.3342 - val_acc: 0.1063\n",
      "Epoch 225/500\n",
      "2518/2518 [==============================] - 0s 99us/step - loss: 2.0513 - acc: 0.1156 - val_loss: 10.8404 - val_acc: 0.1063\n",
      "Epoch 226/500\n",
      "2518/2518 [==============================] - 0s 96us/step - loss: 2.0317 - acc: 0.1152 - val_loss: 8.1420 - val_acc: 0.1032\n",
      "Epoch 227/500\n",
      "2518/2518 [==============================] - 0s 100us/step - loss: 2.1697 - acc: 0.1168 - val_loss: 7.7013 - val_acc: 0.1016\n",
      "Epoch 228/500\n",
      "2518/2518 [==============================] - 0s 97us/step - loss: 2.0862 - acc: 0.1160 - val_loss: 8.3014 - val_acc: 0.1063\n",
      "Epoch 229/500\n",
      "2518/2518 [==============================] - 0s 100us/step - loss: 2.0885 - acc: 0.1180 - val_loss: 7.7928 - val_acc: 0.1032\n",
      "Epoch 230/500\n",
      "2518/2518 [==============================] - 0s 94us/step - loss: 2.1010 - acc: 0.1156 - val_loss: 8.1600 - val_acc: 0.1063\n",
      "Epoch 231/500\n",
      "2518/2518 [==============================] - 0s 94us/step - loss: 2.2137 - acc: 0.1164 - val_loss: 9.7766 - val_acc: 0.1063\n",
      "Epoch 232/500\n",
      "2518/2518 [==============================] - 0s 104us/step - loss: 2.2335 - acc: 0.1156 - val_loss: 12.1194 - val_acc: 0.1016\n",
      "Epoch 233/500\n",
      "2518/2518 [==============================] - 0s 98us/step - loss: 2.0218 - acc: 0.1164 - val_loss: 10.2767 - val_acc: 0.1095\n",
      "Epoch 234/500\n",
      "2518/2518 [==============================] - 0s 98us/step - loss: 2.1114 - acc: 0.1160 - val_loss: 7.8158 - val_acc: 0.1048\n",
      "Epoch 235/500\n",
      "2518/2518 [==============================] - 0s 91us/step - loss: 1.9244 - acc: 0.1164 - val_loss: 9.7817 - val_acc: 0.1048\n",
      "Epoch 236/500\n",
      "2518/2518 [==============================] - 0s 99us/step - loss: 2.1718 - acc: 0.1168 - val_loss: 7.8118 - val_acc: 0.1048\n",
      "Epoch 237/500\n"
     ]
    },
    {
     "name": "stdout",
     "output_type": "stream",
     "text": [
      "2518/2518 [==============================] - 0s 95us/step - loss: 2.3568 - acc: 0.1180 - val_loss: 8.0653 - val_acc: 0.1079\n",
      "Epoch 238/500\n",
      "2518/2518 [==============================] - 0s 96us/step - loss: 1.7751 - acc: 0.1156 - val_loss: 9.1393 - val_acc: 0.1063\n",
      "Epoch 239/500\n",
      "2518/2518 [==============================] - 0s 91us/step - loss: 2.0010 - acc: 0.1168 - val_loss: 8.4317 - val_acc: 0.1079\n",
      "Epoch 240/500\n",
      "2518/2518 [==============================] - 0s 84us/step - loss: 1.9299 - acc: 0.1152 - val_loss: 9.7996 - val_acc: 0.1048\n",
      "Epoch 241/500\n",
      "2518/2518 [==============================] - 0s 86us/step - loss: 2.0222 - acc: 0.1180 - val_loss: 8.0415 - val_acc: 0.1079\n",
      "Epoch 242/500\n",
      "2518/2518 [==============================] - 0s 91us/step - loss: 1.9521 - acc: 0.1168 - val_loss: 8.0172 - val_acc: 0.1079\n",
      "Epoch 243/500\n",
      "2518/2518 [==============================] - 0s 93us/step - loss: 1.8987 - acc: 0.1172 - val_loss: 9.8823 - val_acc: 0.1016\n",
      "Epoch 244/500\n",
      "2518/2518 [==============================] - 0s 87us/step - loss: 1.7723 - acc: 0.1160 - val_loss: 8.1588 - val_acc: 0.1063\n",
      "Epoch 245/500\n",
      "2518/2518 [==============================] - 0s 91us/step - loss: 1.9680 - acc: 0.1160 - val_loss: 9.8756 - val_acc: 0.1063\n",
      "Epoch 246/500\n",
      "2518/2518 [==============================] - 0s 87us/step - loss: 1.9320 - acc: 0.1168 - val_loss: 8.5033 - val_acc: 0.1048\n",
      "Epoch 247/500\n",
      "2518/2518 [==============================] - 0s 92us/step - loss: 2.0250 - acc: 0.1172 - val_loss: 8.7836 - val_acc: 0.1079\n",
      "Epoch 248/500\n",
      "2518/2518 [==============================] - 0s 89us/step - loss: 2.1819 - acc: 0.1156 - val_loss: 9.5434 - val_acc: 0.1063\n",
      "Epoch 249/500\n",
      "2518/2518 [==============================] - 0s 88us/step - loss: 1.9464 - acc: 0.1168 - val_loss: 7.8121 - val_acc: 0.1063\n",
      "Epoch 250/500\n",
      "2518/2518 [==============================] - 0s 92us/step - loss: 1.7165 - acc: 0.1168 - val_loss: 7.9865 - val_acc: 0.1079\n",
      "Epoch 251/500\n",
      "2518/2518 [==============================] - 0s 87us/step - loss: 1.9059 - acc: 0.1164 - val_loss: 7.1907 - val_acc: 0.1063\n",
      "Epoch 252/500\n",
      "2518/2518 [==============================] - 0s 93us/step - loss: 1.9075 - acc: 0.1168 - val_loss: 8.7602 - val_acc: 0.1032\n",
      "Epoch 253/500\n",
      "2518/2518 [==============================] - 0s 86us/step - loss: 2.0710 - acc: 0.1168 - val_loss: 7.2270 - val_acc: 0.1048\n",
      "Epoch 254/500\n",
      "2518/2518 [==============================] - 0s 101us/step - loss: 1.9490 - acc: 0.1160 - val_loss: 9.6537 - val_acc: 0.1063\n",
      "Epoch 255/500\n",
      "2518/2518 [==============================] - 0s 94us/step - loss: 1.9618 - acc: 0.1168 - val_loss: 10.4467 - val_acc: 0.1016\n",
      "Epoch 256/500\n",
      "2518/2518 [==============================] - 0s 89us/step - loss: 1.8156 - acc: 0.1152 - val_loss: 8.1652 - val_acc: 0.1048\n",
      "Epoch 257/500\n",
      "2518/2518 [==============================] - 0s 91us/step - loss: 1.9580 - acc: 0.1164 - val_loss: 10.0293 - val_acc: 0.1032\n",
      "Epoch 258/500\n",
      "2518/2518 [==============================] - 0s 90us/step - loss: 1.9405 - acc: 0.1156 - val_loss: 7.8028 - val_acc: 0.1048\n",
      "Epoch 259/500\n",
      "2518/2518 [==============================] - 0s 94us/step - loss: 1.8913 - acc: 0.1152 - val_loss: 12.3845 - val_acc: 0.1063\n",
      "Epoch 260/500\n",
      "2518/2518 [==============================] - 0s 97us/step - loss: 1.7699 - acc: 0.1164 - val_loss: 6.9952 - val_acc: 0.1032\n",
      "Epoch 261/500\n",
      "2518/2518 [==============================] - 0s 95us/step - loss: 2.0736 - acc: 0.1160 - val_loss: 8.9022 - val_acc: 0.1048\n",
      "Epoch 262/500\n",
      "2518/2518 [==============================] - 0s 98us/step - loss: 2.1648 - acc: 0.1160 - val_loss: 8.6018 - val_acc: 0.1063\n",
      "Epoch 263/500\n",
      "2518/2518 [==============================] - 0s 100us/step - loss: 1.8797 - acc: 0.1160 - val_loss: 7.2584 - val_acc: 0.1016\n",
      "Epoch 264/500\n",
      "2518/2518 [==============================] - 0s 89us/step - loss: 2.0221 - acc: 0.1160 - val_loss: 7.9658 - val_acc: 0.1048\n",
      "Epoch 265/500\n",
      "2518/2518 [==============================] - 0s 90us/step - loss: 1.9826 - acc: 0.1156 - val_loss: 8.1394 - val_acc: 0.1032\n",
      "Epoch 266/500\n",
      "2518/2518 [==============================] - 0s 91us/step - loss: 1.6855 - acc: 0.1168 - val_loss: 11.7612 - val_acc: 0.1032\n",
      "Epoch 267/500\n",
      "2518/2518 [==============================] - 0s 94us/step - loss: 1.9276 - acc: 0.1152 - val_loss: 8.3877 - val_acc: 0.1032\n",
      "Epoch 268/500\n",
      "2518/2518 [==============================] - 0s 90us/step - loss: 1.7487 - acc: 0.1172 - val_loss: 10.0474 - val_acc: 0.1032\n",
      "Epoch 269/500\n",
      "2518/2518 [==============================] - 0s 90us/step - loss: 1.8424 - acc: 0.1160 - val_loss: 8.4251 - val_acc: 0.1079\n",
      "Epoch 270/500\n",
      "2518/2518 [==============================] - 0s 93us/step - loss: 1.8663 - acc: 0.1164 - val_loss: 8.4061 - val_acc: 0.1079\n",
      "Epoch 271/500\n",
      "2518/2518 [==============================] - 0s 100us/step - loss: 1.9190 - acc: 0.1164 - val_loss: 8.1121 - val_acc: 0.1048\n",
      "Epoch 272/500\n",
      "2518/2518 [==============================] - 0s 95us/step - loss: 1.9054 - acc: 0.1176 - val_loss: 9.4064 - val_acc: 0.1016\n",
      "Epoch 273/500\n",
      "2518/2518 [==============================] - 0s 96us/step - loss: 1.8463 - acc: 0.1164 - val_loss: 7.6170 - val_acc: 0.1063\n",
      "Epoch 274/500\n",
      "2518/2518 [==============================] - 0s 95us/step - loss: 1.7156 - acc: 0.1176 - val_loss: 10.5863 - val_acc: 0.1063\n",
      "Epoch 275/500\n",
      "2518/2518 [==============================] - 0s 95us/step - loss: 1.6620 - acc: 0.1164 - val_loss: 8.6617 - val_acc: 0.1048\n",
      "Epoch 276/500\n",
      "2518/2518 [==============================] - 0s 98us/step - loss: 1.8359 - acc: 0.1160 - val_loss: 8.0150 - val_acc: 0.1048\n",
      "Epoch 277/500\n",
      "2518/2518 [==============================] - 0s 86us/step - loss: 1.7119 - acc: 0.1172 - val_loss: 7.5099 - val_acc: 0.1016\n",
      "Epoch 278/500\n",
      "2518/2518 [==============================] - 0s 92us/step - loss: 1.7022 - acc: 0.1160 - val_loss: 8.0393 - val_acc: 0.1032\n",
      "Epoch 279/500\n",
      "2518/2518 [==============================] - 0s 101us/step - loss: 1.6912 - acc: 0.1168 - val_loss: 7.7564 - val_acc: 0.1032\n",
      "Epoch 280/500\n",
      "2518/2518 [==============================] - 0s 98us/step - loss: 1.6952 - acc: 0.1160 - val_loss: 8.4353 - val_acc: 0.1032\n",
      "Epoch 281/500\n",
      "2518/2518 [==============================] - 0s 97us/step - loss: 1.8287 - acc: 0.1168 - val_loss: 8.3663 - val_acc: 0.1063\n",
      "Epoch 282/500\n",
      "2518/2518 [==============================] - 0s 98us/step - loss: 1.7304 - acc: 0.1156 - val_loss: 9.2987 - val_acc: 0.1032\n",
      "Epoch 283/500\n",
      "2518/2518 [==============================] - 0s 98us/step - loss: 1.7405 - acc: 0.1168 - val_loss: 8.5400 - val_acc: 0.1063\n",
      "Epoch 284/500\n",
      "2518/2518 [==============================] - 0s 97us/step - loss: 1.6420 - acc: 0.1160 - val_loss: 8.6599 - val_acc: 0.1016\n",
      "Epoch 285/500\n",
      "2518/2518 [==============================] - 0s 96us/step - loss: 1.8393 - acc: 0.1180 - val_loss: 8.7195 - val_acc: 0.1032\n",
      "Epoch 286/500\n",
      "2518/2518 [==============================] - 0s 95us/step - loss: 1.7074 - acc: 0.1187 - val_loss: 7.8220 - val_acc: 0.1063\n",
      "Epoch 287/500\n",
      "2518/2518 [==============================] - 0s 94us/step - loss: 1.6388 - acc: 0.1164 - val_loss: 8.3931 - val_acc: 0.1063\n",
      "Epoch 288/500\n",
      "2518/2518 [==============================] - 0s 99us/step - loss: 1.9439 - acc: 0.1156 - val_loss: 8.7733 - val_acc: 0.1048\n",
      "Epoch 289/500\n",
      "2518/2518 [==============================] - 0s 87us/step - loss: 1.6684 - acc: 0.1180 - val_loss: 7.6593 - val_acc: 0.1016\n",
      "Epoch 290/500\n",
      "2518/2518 [==============================] - 0s 101us/step - loss: 1.6976 - acc: 0.1160 - val_loss: 7.7293 - val_acc: 0.1032\n",
      "Epoch 291/500\n",
      "2518/2518 [==============================] - 0s 97us/step - loss: 1.7975 - acc: 0.1164 - val_loss: 9.0948 - val_acc: 0.1048\n",
      "Epoch 292/500\n",
      "2518/2518 [==============================] - 0s 98us/step - loss: 1.4895 - acc: 0.1168 - val_loss: 8.0779 - val_acc: 0.1063\n",
      "Epoch 293/500\n",
      "2518/2518 [==============================] - 0s 97us/step - loss: 1.6609 - acc: 0.1172 - val_loss: 7.7618 - val_acc: 0.1016\n",
      "Epoch 294/500\n",
      "2518/2518 [==============================] - 0s 90us/step - loss: 1.5622 - acc: 0.1168 - val_loss: 9.6592 - val_acc: 0.1048\n",
      "Epoch 295/500\n",
      "2518/2518 [==============================] - 0s 86us/step - loss: 2.1204 - acc: 0.1156 - val_loss: 7.4895 - val_acc: 0.1079\n",
      "Epoch 296/500\n"
     ]
    },
    {
     "name": "stdout",
     "output_type": "stream",
     "text": [
      "2518/2518 [==============================] - 0s 96us/step - loss: 1.6338 - acc: 0.1168 - val_loss: 8.6417 - val_acc: 0.1048\n",
      "Epoch 297/500\n",
      "2518/2518 [==============================] - 0s 92us/step - loss: 1.8690 - acc: 0.1180 - val_loss: 8.7803 - val_acc: 0.1032\n",
      "Epoch 298/500\n",
      "2518/2518 [==============================] - 0s 92us/step - loss: 1.6877 - acc: 0.1156 - val_loss: 8.6257 - val_acc: 0.1048\n",
      "Epoch 299/500\n",
      "2518/2518 [==============================] - 0s 84us/step - loss: 1.7757 - acc: 0.1160 - val_loss: 7.6038 - val_acc: 0.1079\n",
      "Epoch 300/500\n",
      "2518/2518 [==============================] - 0s 93us/step - loss: 1.6215 - acc: 0.1180 - val_loss: 9.0302 - val_acc: 0.1063\n",
      "Epoch 301/500\n",
      "2518/2518 [==============================] - 0s 92us/step - loss: 1.6705 - acc: 0.1176 - val_loss: 8.5428 - val_acc: 0.1079\n",
      "Epoch 302/500\n",
      "2518/2518 [==============================] - 0s 93us/step - loss: 1.6553 - acc: 0.1152 - val_loss: 7.5908 - val_acc: 0.1079\n",
      "Epoch 303/500\n",
      "2518/2518 [==============================] - 0s 86us/step - loss: 1.7034 - acc: 0.1176 - val_loss: 8.3852 - val_acc: 0.1079\n",
      "Epoch 304/500\n",
      "2518/2518 [==============================] - 0s 93us/step - loss: 1.5832 - acc: 0.1168 - val_loss: 8.5936 - val_acc: 0.1063\n",
      "Epoch 305/500\n",
      "2518/2518 [==============================] - 0s 97us/step - loss: 1.6498 - acc: 0.1164 - val_loss: 7.8904 - val_acc: 0.1079\n",
      "Epoch 306/500\n",
      "2518/2518 [==============================] - 0s 88us/step - loss: 1.5398 - acc: 0.1180 - val_loss: 7.7783 - val_acc: 0.1048\n",
      "Epoch 307/500\n",
      "2518/2518 [==============================] - 0s 96us/step - loss: 1.7547 - acc: 0.1164 - val_loss: 8.6386 - val_acc: 0.1063\n",
      "Epoch 308/500\n",
      "2518/2518 [==============================] - 0s 89us/step - loss: 1.6308 - acc: 0.1176 - val_loss: 9.4094 - val_acc: 0.1048\n",
      "Epoch 309/500\n",
      "2518/2518 [==============================] - 0s 97us/step - loss: 1.6088 - acc: 0.1156 - val_loss: 9.7961 - val_acc: 0.1048\n",
      "Epoch 310/500\n",
      "2518/2518 [==============================] - 0s 88us/step - loss: 1.8117 - acc: 0.1168 - val_loss: 8.4694 - val_acc: 0.1048\n",
      "Epoch 311/500\n",
      "2518/2518 [==============================] - 0s 98us/step - loss: 1.6662 - acc: 0.1156 - val_loss: 9.1781 - val_acc: 0.1063\n",
      "Epoch 312/500\n",
      "2518/2518 [==============================] - 0s 87us/step - loss: 1.4602 - acc: 0.1180 - val_loss: 8.5645 - val_acc: 0.1048\n",
      "Epoch 313/500\n",
      "2518/2518 [==============================] - 0s 97us/step - loss: 1.5430 - acc: 0.1164 - val_loss: 8.7746 - val_acc: 0.1079\n",
      "Epoch 314/500\n",
      "2518/2518 [==============================] - 0s 93us/step - loss: 1.6713 - acc: 0.1164 - val_loss: 9.5512 - val_acc: 0.0905\n",
      "Epoch 315/500\n",
      "2518/2518 [==============================] - 0s 97us/step - loss: 1.6820 - acc: 0.1160 - val_loss: 8.4094 - val_acc: 0.1048\n",
      "Epoch 316/500\n",
      "2518/2518 [==============================] - 0s 94us/step - loss: 1.6980 - acc: 0.1168 - val_loss: 9.2097 - val_acc: 0.1048\n",
      "Epoch 317/500\n",
      "2518/2518 [==============================] - 0s 95us/step - loss: 1.5803 - acc: 0.1164 - val_loss: 9.3190 - val_acc: 0.1016\n",
      "Epoch 318/500\n",
      "2518/2518 [==============================] - 0s 97us/step - loss: 1.5815 - acc: 0.1164 - val_loss: 8.4766 - val_acc: 0.1048\n",
      "Epoch 319/500\n",
      "2518/2518 [==============================] - 0s 90us/step - loss: 1.5768 - acc: 0.1160 - val_loss: 7.7937 - val_acc: 0.1079\n",
      "Epoch 320/500\n",
      "2518/2518 [==============================] - 0s 92us/step - loss: 1.4061 - acc: 0.1164 - val_loss: 8.0917 - val_acc: 0.1079\n",
      "Epoch 321/500\n",
      "2518/2518 [==============================] - 0s 93us/step - loss: 1.6579 - acc: 0.1164 - val_loss: 7.9281 - val_acc: 0.1079\n",
      "Epoch 322/500\n",
      "2518/2518 [==============================] - 0s 98us/step - loss: 1.5959 - acc: 0.1164 - val_loss: 8.2843 - val_acc: 0.1032\n",
      "Epoch 323/500\n",
      "2518/2518 [==============================] - 0s 95us/step - loss: 1.4271 - acc: 0.1148 - val_loss: 9.4792 - val_acc: 0.1048\n",
      "Epoch 324/500\n",
      "2518/2518 [==============================] - 0s 88us/step - loss: 1.4676 - acc: 0.1176 - val_loss: 8.2385 - val_acc: 0.1032\n",
      "Epoch 325/500\n",
      "2518/2518 [==============================] - 0s 92us/step - loss: 1.3899 - acc: 0.1172 - val_loss: 8.9611 - val_acc: 0.1048\n",
      "Epoch 326/500\n",
      "2518/2518 [==============================] - 0s 93us/step - loss: 1.4057 - acc: 0.1164 - val_loss: 10.5747 - val_acc: 0.1063\n",
      "Epoch 327/500\n",
      "2518/2518 [==============================] - 0s 97us/step - loss: 1.4358 - acc: 0.1156 - val_loss: 9.6249 - val_acc: 0.1016\n",
      "Epoch 328/500\n",
      "2518/2518 [==============================] - 0s 97us/step - loss: 1.6735 - acc: 0.1152 - val_loss: 9.2123 - val_acc: 0.1032\n",
      "Epoch 329/500\n",
      "2518/2518 [==============================] - 0s 97us/step - loss: 1.4463 - acc: 0.1183 - val_loss: 8.3339 - val_acc: 0.1032\n",
      "Epoch 330/500\n",
      "2518/2518 [==============================] - 0s 94us/step - loss: 1.5232 - acc: 0.1160 - val_loss: 9.0215 - val_acc: 0.1016\n",
      "Epoch 331/500\n",
      "2518/2518 [==============================] - 0s 97us/step - loss: 1.5200 - acc: 0.1168 - val_loss: 8.9413 - val_acc: 0.1016\n",
      "Epoch 332/500\n",
      "2518/2518 [==============================] - 0s 97us/step - loss: 1.4295 - acc: 0.1168 - val_loss: 8.4524 - val_acc: 0.1048\n",
      "Epoch 333/500\n",
      "2518/2518 [==============================] - 0s 93us/step - loss: 1.5132 - acc: 0.1164 - val_loss: 9.5089 - val_acc: 0.1048\n",
      "Epoch 334/500\n",
      "2518/2518 [==============================] - 0s 94us/step - loss: 1.3446 - acc: 0.1172 - val_loss: 9.2235 - val_acc: 0.1016\n",
      "Epoch 335/500\n",
      "2518/2518 [==============================] - 0s 95us/step - loss: 1.4730 - acc: 0.1172 - val_loss: 8.1178 - val_acc: 0.1048\n",
      "Epoch 336/500\n",
      "2518/2518 [==============================] - 0s 90us/step - loss: 1.3456 - acc: 0.1172 - val_loss: 7.7095 - val_acc: 0.1048\n",
      "Epoch 337/500\n",
      "2518/2518 [==============================] - 0s 95us/step - loss: 1.2599 - acc: 0.1168 - val_loss: 8.6283 - val_acc: 0.1063\n",
      "Epoch 338/500\n",
      "2518/2518 [==============================] - 0s 98us/step - loss: 1.4591 - acc: 0.1148 - val_loss: 7.5950 - val_acc: 0.1079\n",
      "Epoch 339/500\n",
      "2518/2518 [==============================] - 0s 102us/step - loss: 1.3509 - acc: 0.1168 - val_loss: 8.3778 - val_acc: 0.1063\n",
      "Epoch 340/500\n",
      "2518/2518 [==============================] - 0s 95us/step - loss: 1.3341 - acc: 0.1180 - val_loss: 8.0130 - val_acc: 0.1016\n",
      "Epoch 341/500\n",
      "2518/2518 [==============================] - 0s 97us/step - loss: 1.3986 - acc: 0.1172 - val_loss: 8.6753 - val_acc: 0.1063\n",
      "Epoch 342/500\n",
      "2518/2518 [==============================] - 0s 98us/step - loss: 1.6011 - acc: 0.1148 - val_loss: 9.2907 - val_acc: 0.1032\n",
      "Epoch 343/500\n",
      "2518/2518 [==============================] - 0s 99us/step - loss: 1.3153 - acc: 0.1168 - val_loss: 7.6375 - val_acc: 0.1048\n",
      "Epoch 344/500\n",
      "2518/2518 [==============================] - 0s 95us/step - loss: 1.4490 - acc: 0.1172 - val_loss: 9.9910 - val_acc: 0.1048\n",
      "Epoch 345/500\n",
      "2518/2518 [==============================] - 0s 99us/step - loss: 1.5529 - acc: 0.1172 - val_loss: 8.2643 - val_acc: 0.1048\n",
      "Epoch 346/500\n",
      "2518/2518 [==============================] - 0s 96us/step - loss: 1.2153 - acc: 0.1168 - val_loss: 7.8030 - val_acc: 0.1063\n",
      "Epoch 347/500\n",
      "2518/2518 [==============================] - 0s 103us/step - loss: 1.4058 - acc: 0.1164 - val_loss: 8.5121 - val_acc: 0.1063\n",
      "Epoch 348/500\n",
      "2518/2518 [==============================] - 0s 101us/step - loss: 1.4134 - acc: 0.1168 - val_loss: 9.0260 - val_acc: 0.1063\n",
      "Epoch 349/500\n",
      "2518/2518 [==============================] - 0s 92us/step - loss: 1.3572 - acc: 0.1168 - val_loss: 8.3951 - val_acc: 0.1032\n",
      "Epoch 350/500\n",
      "2518/2518 [==============================] - 0s 94us/step - loss: 1.6145 - acc: 0.1168 - val_loss: 8.6873 - val_acc: 0.1032\n",
      "Epoch 351/500\n",
      "2518/2518 [==============================] - 0s 100us/step - loss: 1.0582 - acc: 0.1164 - val_loss: 8.8008 - val_acc: 0.1079\n",
      "Epoch 352/500\n",
      "2518/2518 [==============================] - 0s 98us/step - loss: 1.4451 - acc: 0.1164 - val_loss: 10.0171 - val_acc: 0.1063\n",
      "Epoch 353/500\n",
      "2518/2518 [==============================] - 0s 98us/step - loss: 1.3364 - acc: 0.1168 - val_loss: 8.4915 - val_acc: 0.1079\n",
      "Epoch 354/500\n",
      "2518/2518 [==============================] - 0s 97us/step - loss: 1.2290 - acc: 0.1156 - val_loss: 8.1852 - val_acc: 0.1032\n",
      "Epoch 355/500\n"
     ]
    },
    {
     "name": "stdout",
     "output_type": "stream",
     "text": [
      "2518/2518 [==============================] - 0s 101us/step - loss: 1.3526 - acc: 0.1156 - val_loss: 8.9730 - val_acc: 0.1063\n",
      "Epoch 356/500\n",
      "2518/2518 [==============================] - 0s 90us/step - loss: 1.3688 - acc: 0.1180 - val_loss: 10.1397 - val_acc: 0.1063\n",
      "Epoch 357/500\n",
      "2518/2518 [==============================] - 0s 94us/step - loss: 1.3253 - acc: 0.1160 - val_loss: 8.8516 - val_acc: 0.1063\n",
      "Epoch 358/500\n",
      "2518/2518 [==============================] - 0s 87us/step - loss: 1.4039 - acc: 0.1172 - val_loss: 9.7619 - val_acc: 0.1063\n",
      "Epoch 359/500\n",
      "2518/2518 [==============================] - 0s 107us/step - loss: 1.3974 - acc: 0.1168 - val_loss: 9.7179 - val_acc: 0.1079\n",
      "Epoch 360/500\n",
      "2518/2518 [==============================] - 0s 85us/step - loss: 1.2172 - acc: 0.1168 - val_loss: 8.4985 - val_acc: 0.1063\n",
      "Epoch 361/500\n",
      "2518/2518 [==============================] - 0s 97us/step - loss: 1.0765 - acc: 0.1164 - val_loss: 11.3748 - val_acc: 0.1063\n",
      "Epoch 362/500\n",
      "2518/2518 [==============================] - 0s 98us/step - loss: 1.4205 - acc: 0.1160 - val_loss: 9.3107 - val_acc: 0.1095\n",
      "Epoch 363/500\n",
      "2518/2518 [==============================] - 0s 99us/step - loss: 1.4537 - acc: 0.1176 - val_loss: 9.0516 - val_acc: 0.1079\n",
      "Epoch 364/500\n",
      "2518/2518 [==============================] - 0s 96us/step - loss: 1.4959 - acc: 0.1168 - val_loss: 9.6604 - val_acc: 0.1032\n",
      "Epoch 365/500\n",
      "2518/2518 [==============================] - 0s 95us/step - loss: 1.1587 - acc: 0.1152 - val_loss: 8.1201 - val_acc: 0.1048\n",
      "Epoch 366/500\n",
      "2518/2518 [==============================] - 0s 95us/step - loss: 1.0533 - acc: 0.1168 - val_loss: 10.0670 - val_acc: 0.1032\n",
      "Epoch 367/500\n",
      "2518/2518 [==============================] - 0s 98us/step - loss: 1.6020 - acc: 0.1160 - val_loss: 8.4818 - val_acc: 0.1063\n",
      "Epoch 368/500\n",
      "2518/2518 [==============================] - 0s 87us/step - loss: 1.0878 - acc: 0.1180 - val_loss: 9.1789 - val_acc: 0.1048\n",
      "Epoch 369/500\n",
      "2518/2518 [==============================] - 0s 98us/step - loss: 1.0534 - acc: 0.1172 - val_loss: 8.9881 - val_acc: 0.1063\n",
      "Epoch 370/500\n",
      "2518/2518 [==============================] - 0s 96us/step - loss: 1.2353 - acc: 0.1168 - val_loss: 10.4463 - val_acc: 0.1063\n",
      "Epoch 371/500\n",
      "2518/2518 [==============================] - 0s 97us/step - loss: 1.1339 - acc: 0.1164 - val_loss: 10.2954 - val_acc: 0.1063\n",
      "Epoch 372/500\n",
      "2518/2518 [==============================] - 0s 93us/step - loss: 1.2781 - acc: 0.1164 - val_loss: 8.7457 - val_acc: 0.1032\n",
      "Epoch 373/500\n",
      "2518/2518 [==============================] - 0s 84us/step - loss: 1.0836 - acc: 0.1168 - val_loss: 9.7302 - val_acc: 0.1032\n",
      "Epoch 374/500\n",
      "2518/2518 [==============================] - 0s 93us/step - loss: 1.0952 - acc: 0.1156 - val_loss: 9.7058 - val_acc: 0.1063\n",
      "Epoch 375/500\n",
      "2518/2518 [==============================] - 0s 104us/step - loss: 1.1466 - acc: 0.1160 - val_loss: 11.1277 - val_acc: 0.1079\n",
      "Epoch 376/500\n",
      "2518/2518 [==============================] - 0s 102us/step - loss: 1.1110 - acc: 0.1176 - val_loss: 9.4992 - val_acc: 0.1095\n",
      "Epoch 377/500\n",
      "2518/2518 [==============================] - 0s 95us/step - loss: 1.0036 - acc: 0.1187 - val_loss: 9.3268 - val_acc: 0.1063\n",
      "Epoch 378/500\n",
      "2518/2518 [==============================] - 0s 104us/step - loss: 1.1711 - acc: 0.1183 - val_loss: 9.0034 - val_acc: 0.1063\n",
      "Epoch 379/500\n",
      "2518/2518 [==============================] - 0s 99us/step - loss: 1.1905 - acc: 0.1168 - val_loss: 9.4322 - val_acc: 0.1032\n",
      "Epoch 380/500\n",
      "2518/2518 [==============================] - 0s 97us/step - loss: 1.1137 - acc: 0.1164 - val_loss: 10.1208 - val_acc: 0.1016\n",
      "Epoch 381/500\n",
      "2518/2518 [==============================] - 0s 99us/step - loss: 1.1032 - acc: 0.1180 - val_loss: 8.7569 - val_acc: 0.1063\n",
      "Epoch 382/500\n",
      "2518/2518 [==============================] - 0s 97us/step - loss: 1.1469 - acc: 0.1168 - val_loss: 10.8410 - val_acc: 0.1048\n",
      "Epoch 383/500\n",
      "2518/2518 [==============================] - 0s 101us/step - loss: 0.9388 - acc: 0.1176 - val_loss: 8.7585 - val_acc: 0.1048\n",
      "Epoch 384/500\n",
      "2518/2518 [==============================] - 0s 96us/step - loss: 0.9616 - acc: 0.1176 - val_loss: 10.2628 - val_acc: 0.1032\n",
      "Epoch 385/500\n",
      "2518/2518 [==============================] - 0s 98us/step - loss: 1.2259 - acc: 0.1156 - val_loss: 8.2917 - val_acc: 0.1016\n",
      "Epoch 386/500\n",
      "2518/2518 [==============================] - 0s 100us/step - loss: 1.0396 - acc: 0.1160 - val_loss: 8.7952 - val_acc: 0.1032\n",
      "Epoch 387/500\n",
      "2518/2518 [==============================] - 0s 89us/step - loss: 1.2541 - acc: 0.1168 - val_loss: 8.6909 - val_acc: 0.1032\n",
      "Epoch 388/500\n",
      "2518/2518 [==============================] - 0s 98us/step - loss: 1.0689 - acc: 0.1152 - val_loss: 12.7502 - val_acc: 0.1048\n",
      "Epoch 389/500\n",
      "2518/2518 [==============================] - 0s 96us/step - loss: 1.2028 - acc: 0.1164 - val_loss: 10.1949 - val_acc: 0.1048\n",
      "Epoch 390/500\n",
      "2518/2518 [==============================] - 0s 92us/step - loss: 0.9357 - acc: 0.1187 - val_loss: 9.3147 - val_acc: 0.1063\n",
      "Epoch 391/500\n",
      "2518/2518 [==============================] - 0s 96us/step - loss: 1.0820 - acc: 0.1180 - val_loss: 9.8560 - val_acc: 0.1079\n",
      "Epoch 392/500\n",
      "2518/2518 [==============================] - 0s 99us/step - loss: 1.0358 - acc: 0.1176 - val_loss: 11.4612 - val_acc: 0.1000\n",
      "Epoch 393/500\n",
      "2518/2518 [==============================] - 0s 93us/step - loss: 1.1708 - acc: 0.1180 - val_loss: 9.9861 - val_acc: 0.1063\n",
      "Epoch 394/500\n",
      "2518/2518 [==============================] - 0s 95us/step - loss: 1.1562 - acc: 0.1176 - val_loss: 9.5194 - val_acc: 0.1032\n",
      "Epoch 395/500\n",
      "2518/2518 [==============================] - 0s 97us/step - loss: 1.0452 - acc: 0.1160 - val_loss: 9.5034 - val_acc: 0.1063\n",
      "Epoch 396/500\n",
      "2518/2518 [==============================] - 0s 95us/step - loss: 1.2325 - acc: 0.1176 - val_loss: 9.7320 - val_acc: 0.1048\n",
      "Epoch 397/500\n",
      "2518/2518 [==============================] - 0s 100us/step - loss: 1.1193 - acc: 0.1168 - val_loss: 9.6299 - val_acc: 0.1032\n",
      "Epoch 398/500\n",
      "2518/2518 [==============================] - 0s 98us/step - loss: 1.0254 - acc: 0.1172 - val_loss: 8.6986 - val_acc: 0.1079\n",
      "Epoch 399/500\n",
      "2518/2518 [==============================] - 0s 101us/step - loss: 1.0380 - acc: 0.1172 - val_loss: 9.4308 - val_acc: 0.1048\n",
      "Epoch 400/500\n",
      "2518/2518 [==============================] - 0s 99us/step - loss: 0.8530 - acc: 0.1168 - val_loss: 9.9325 - val_acc: 0.1032\n",
      "Epoch 401/500\n",
      "2518/2518 [==============================] - 0s 97us/step - loss: 0.9283 - acc: 0.1160 - val_loss: 9.2009 - val_acc: 0.1032\n",
      "Epoch 402/500\n",
      "2518/2518 [==============================] - 0s 101us/step - loss: 1.1721 - acc: 0.1156 - val_loss: 9.1616 - val_acc: 0.1048\n",
      "Epoch 403/500\n",
      "2518/2518 [==============================] - 0s 100us/step - loss: 1.0097 - acc: 0.1172 - val_loss: 10.0338 - val_acc: 0.1000\n",
      "Epoch 404/500\n",
      "2518/2518 [==============================] - ETA: 0s - loss: 1.1409 - acc: 0.111 - 0s 89us/step - loss: 1.0168 - acc: 0.1172 - val_loss: 9.5759 - val_acc: 0.1095\n",
      "Epoch 405/500\n",
      "2518/2518 [==============================] - 0s 99us/step - loss: 1.2320 - acc: 0.1152 - val_loss: 9.1814 - val_acc: 0.1048\n",
      "Epoch 406/500\n",
      "2518/2518 [==============================] - 0s 95us/step - loss: 0.8597 - acc: 0.1172 - val_loss: 9.7682 - val_acc: 0.1063\n",
      "Epoch 407/500\n",
      "2518/2518 [==============================] - 0s 97us/step - loss: 1.2204 - acc: 0.1168 - val_loss: 8.6398 - val_acc: 0.1048\n",
      "Epoch 408/500\n",
      "2518/2518 [==============================] - 0s 100us/step - loss: 1.0983 - acc: 0.1168 - val_loss: 8.5418 - val_acc: 0.1048\n",
      "Epoch 409/500\n",
      "2518/2518 [==============================] - 0s 98us/step - loss: 0.9673 - acc: 0.1168 - val_loss: 9.1616 - val_acc: 0.1048\n",
      "Epoch 410/500\n",
      "2518/2518 [==============================] - 0s 96us/step - loss: 1.1213 - acc: 0.1168 - val_loss: 10.1620 - val_acc: 0.1032\n",
      "Epoch 411/500\n",
      "2518/2518 [==============================] - 0s 92us/step - loss: 0.9906 - acc: 0.1195 - val_loss: 9.1064 - val_acc: 0.1048\n",
      "Epoch 412/500\n",
      "2518/2518 [==============================] - 0s 99us/step - loss: 0.9884 - acc: 0.1160 - val_loss: 8.8201 - val_acc: 0.1048\n",
      "Epoch 413/500\n",
      "2518/2518 [==============================] - 0s 98us/step - loss: 0.9244 - acc: 0.1160 - val_loss: 7.8256 - val_acc: 0.1063\n",
      "Epoch 414/500\n"
     ]
    },
    {
     "name": "stdout",
     "output_type": "stream",
     "text": [
      "2518/2518 [==============================] - 0s 98us/step - loss: 1.1447 - acc: 0.1176 - val_loss: 8.2903 - val_acc: 0.1063\n",
      "Epoch 415/500\n",
      "2518/2518 [==============================] - 0s 88us/step - loss: 0.9514 - acc: 0.1176 - val_loss: 9.2167 - val_acc: 0.1063\n",
      "Epoch 416/500\n",
      "2518/2518 [==============================] - 0s 85us/step - loss: 0.8148 - acc: 0.1152 - val_loss: 9.3162 - val_acc: 0.1048\n",
      "Epoch 417/500\n",
      "2518/2518 [==============================] - 0s 93us/step - loss: 0.9571 - acc: 0.1180 - val_loss: 9.2204 - val_acc: 0.1063\n",
      "Epoch 418/500\n",
      "2518/2518 [==============================] - 0s 87us/step - loss: 0.7828 - acc: 0.1187 - val_loss: 10.9391 - val_acc: 0.1079\n",
      "Epoch 419/500\n",
      "2518/2518 [==============================] - 0s 91us/step - loss: 0.9373 - acc: 0.1180 - val_loss: 8.7467 - val_acc: 0.1032\n",
      "Epoch 420/500\n",
      "2518/2518 [==============================] - 0s 92us/step - loss: 0.8442 - acc: 0.1191 - val_loss: 8.9379 - val_acc: 0.1048\n",
      "Epoch 421/500\n",
      "2518/2518 [==============================] - 0s 92us/step - loss: 1.0647 - acc: 0.1172 - val_loss: 9.3755 - val_acc: 0.1063\n",
      "Epoch 422/500\n",
      "2518/2518 [==============================] - 0s 93us/step - loss: 0.8826 - acc: 0.1176 - val_loss: 8.8743 - val_acc: 0.1063\n",
      "Epoch 423/500\n",
      "2518/2518 [==============================] - 0s 97us/step - loss: 0.9428 - acc: 0.1183 - val_loss: 8.8683 - val_acc: 0.1048\n",
      "Epoch 424/500\n",
      "2518/2518 [==============================] - 0s 95us/step - loss: 1.0882 - acc: 0.1176 - val_loss: 7.6732 - val_acc: 0.1079\n",
      "Epoch 425/500\n",
      "2518/2518 [==============================] - 0s 91us/step - loss: 0.9666 - acc: 0.1156 - val_loss: 8.0853 - val_acc: 0.1048\n",
      "Epoch 426/500\n",
      "2518/2518 [==============================] - 0s 94us/step - loss: 0.9476 - acc: 0.1183 - val_loss: 10.8639 - val_acc: 0.1063\n",
      "Epoch 427/500\n",
      "2518/2518 [==============================] - 0s 93us/step - loss: 0.9902 - acc: 0.1168 - val_loss: 8.5291 - val_acc: 0.1063\n",
      "Epoch 428/500\n",
      "2518/2518 [==============================] - 0s 100us/step - loss: 1.0504 - acc: 0.1180 - val_loss: 8.0924 - val_acc: 0.1063\n",
      "Epoch 429/500\n",
      "2518/2518 [==============================] - 0s 92us/step - loss: 0.7630 - acc: 0.1183 - val_loss: 8.4543 - val_acc: 0.1063\n",
      "Epoch 430/500\n",
      "2518/2518 [==============================] - 0s 88us/step - loss: 0.9272 - acc: 0.1180 - val_loss: 9.9100 - val_acc: 0.1063\n",
      "Epoch 431/500\n",
      "2518/2518 [==============================] - 0s 93us/step - loss: 0.9000 - acc: 0.1172 - val_loss: 7.6416 - val_acc: 0.1063\n",
      "Epoch 432/500\n",
      "2518/2518 [==============================] - 0s 92us/step - loss: 0.9569 - acc: 0.1164 - val_loss: 10.5973 - val_acc: 0.1079\n",
      "Epoch 433/500\n",
      "2518/2518 [==============================] - 0s 91us/step - loss: 1.2103 - acc: 0.1160 - val_loss: 8.6328 - val_acc: 0.1048\n",
      "Epoch 434/500\n",
      "2518/2518 [==============================] - 0s 95us/step - loss: 0.9092 - acc: 0.1176 - val_loss: 9.5536 - val_acc: 0.1063\n",
      "Epoch 435/500\n",
      "2518/2518 [==============================] - 0s 97us/step - loss: 0.7888 - acc: 0.1183 - val_loss: 9.3150 - val_acc: 0.1063\n",
      "Epoch 436/500\n",
      "2518/2518 [==============================] - 0s 95us/step - loss: 1.1092 - acc: 0.1164 - val_loss: 9.5214 - val_acc: 0.1079\n",
      "Epoch 437/500\n",
      "2518/2518 [==============================] - 0s 96us/step - loss: 1.1269 - acc: 0.1176 - val_loss: 9.5733 - val_acc: 0.1063\n",
      "Epoch 438/500\n",
      "2518/2518 [==============================] - 0s 96us/step - loss: 0.7178 - acc: 0.1180 - val_loss: 9.7222 - val_acc: 0.1079\n",
      "Epoch 439/500\n",
      "2518/2518 [==============================] - 0s 97us/step - loss: 0.8310 - acc: 0.1164 - val_loss: 11.3329 - val_acc: 0.1032\n",
      "Epoch 440/500\n",
      "2518/2518 [==============================] - 0s 99us/step - loss: 1.1069 - acc: 0.1164 - val_loss: 10.8425 - val_acc: 0.1032\n",
      "Epoch 441/500\n",
      "2518/2518 [==============================] - 0s 104us/step - loss: 0.7936 - acc: 0.1176 - val_loss: 8.7991 - val_acc: 0.1048\n",
      "Epoch 442/500\n",
      "2518/2518 [==============================] - 0s 95us/step - loss: 0.9852 - acc: 0.1176 - val_loss: 9.5066 - val_acc: 0.1063\n",
      "Epoch 443/500\n",
      "2518/2518 [==============================] - 0s 100us/step - loss: 1.1224 - acc: 0.1172 - val_loss: 7.9144 - val_acc: 0.1063\n",
      "Epoch 444/500\n",
      "2518/2518 [==============================] - 0s 100us/step - loss: 0.9753 - acc: 0.1180 - val_loss: 9.3696 - val_acc: 0.1063\n",
      "Epoch 445/500\n",
      "2518/2518 [==============================] - 0s 100us/step - loss: 1.0009 - acc: 0.1176 - val_loss: 9.2452 - val_acc: 0.1063\n",
      "Epoch 446/500\n",
      "2518/2518 [==============================] - 0s 87us/step - loss: 0.9582 - acc: 0.1168 - val_loss: 9.5059 - val_acc: 0.1063\n",
      "Epoch 447/500\n",
      "2518/2518 [==============================] - 0s 102us/step - loss: 0.7380 - acc: 0.1183 - val_loss: 8.9567 - val_acc: 0.1063\n",
      "Epoch 448/500\n",
      "2518/2518 [==============================] - 0s 98us/step - loss: 0.7848 - acc: 0.1168 - val_loss: 10.8377 - val_acc: 0.1032\n",
      "Epoch 449/500\n",
      "2518/2518 [==============================] - 0s 101us/step - loss: 1.1070 - acc: 0.1180 - val_loss: 9.7539 - val_acc: 0.1079\n",
      "Epoch 450/500\n",
      "2518/2518 [==============================] - 0s 94us/step - loss: 0.8362 - acc: 0.1183 - val_loss: 9.2228 - val_acc: 0.1032\n",
      "Epoch 451/500\n",
      "2518/2518 [==============================] - 0s 94us/step - loss: 0.8825 - acc: 0.1187 - val_loss: 9.5379 - val_acc: 0.1079\n",
      "Epoch 452/500\n",
      "2518/2518 [==============================] - 0s 98us/step - loss: 0.9539 - acc: 0.1168 - val_loss: 7.7592 - val_acc: 0.1079\n",
      "Epoch 453/500\n",
      "2518/2518 [==============================] - 0s 97us/step - loss: 0.9134 - acc: 0.1191 - val_loss: 8.6425 - val_acc: 0.1079\n",
      "Epoch 454/500\n",
      "2518/2518 [==============================] - 0s 100us/step - loss: 0.9659 - acc: 0.1172 - val_loss: 8.7071 - val_acc: 0.1048\n",
      "Epoch 455/500\n",
      "2518/2518 [==============================] - 0s 97us/step - loss: 0.8367 - acc: 0.1160 - val_loss: 9.6249 - val_acc: 0.1063\n",
      "Epoch 456/500\n",
      "2518/2518 [==============================] - 0s 99us/step - loss: 0.8779 - acc: 0.1187 - val_loss: 10.5915 - val_acc: 0.1063\n",
      "Epoch 457/500\n",
      "2518/2518 [==============================] - 0s 88us/step - loss: 0.8488 - acc: 0.1168 - val_loss: 8.6839 - val_acc: 0.1063\n",
      "Epoch 458/500\n",
      "2518/2518 [==============================] - 0s 100us/step - loss: 0.9650 - acc: 0.1160 - val_loss: 8.4687 - val_acc: 0.1048\n",
      "Epoch 459/500\n",
      "2518/2518 [==============================] - 0s 95us/step - loss: 0.7776 - acc: 0.1172 - val_loss: 9.1877 - val_acc: 0.1063\n",
      "Epoch 460/500\n",
      "2518/2518 [==============================] - 0s 100us/step - loss: 0.8095 - acc: 0.1172 - val_loss: 9.6400 - val_acc: 0.1063\n",
      "Epoch 461/500\n",
      "2518/2518 [==============================] - 0s 99us/step - loss: 1.0182 - acc: 0.1176 - val_loss: 10.6304 - val_acc: 0.1048\n",
      "Epoch 462/500\n",
      "2518/2518 [==============================] - 0s 101us/step - loss: 0.8562 - acc: 0.1187 - val_loss: 9.0063 - val_acc: 0.1032\n",
      "Epoch 463/500\n",
      "2518/2518 [==============================] - 0s 97us/step - loss: 1.0245 - acc: 0.1172 - val_loss: 9.0343 - val_acc: 0.1032\n",
      "Epoch 464/500\n",
      "2518/2518 [==============================] - 0s 103us/step - loss: 0.7903 - acc: 0.1176 - val_loss: 10.6022 - val_acc: 0.1063\n",
      "Epoch 465/500\n",
      "2518/2518 [==============================] - 0s 95us/step - loss: 0.7009 - acc: 0.1183 - val_loss: 9.8555 - val_acc: 0.1063\n",
      "Epoch 466/500\n",
      "2518/2518 [==============================] - 0s 100us/step - loss: 0.6953 - acc: 0.1180 - val_loss: 8.0495 - val_acc: 0.1063\n",
      "Epoch 467/500\n",
      "2518/2518 [==============================] - 0s 97us/step - loss: 0.9478 - acc: 0.1176 - val_loss: 9.4907 - val_acc: 0.1063\n",
      "Epoch 468/500\n",
      "2518/2518 [==============================] - 0s 99us/step - loss: 0.6157 - acc: 0.1183 - val_loss: 9.0831 - val_acc: 0.1063\n",
      "Epoch 469/500\n",
      "2518/2518 [==============================] - 0s 93us/step - loss: 0.8740 - acc: 0.1172 - val_loss: 11.6771 - val_acc: 0.1048\n",
      "Epoch 470/500\n",
      "2518/2518 [==============================] - 0s 95us/step - loss: 0.8050 - acc: 0.1187 - val_loss: 9.8500 - val_acc: 0.1063\n",
      "Epoch 471/500\n",
      "2518/2518 [==============================] - 0s 103us/step - loss: 0.9969 - acc: 0.1172 - val_loss: 8.8322 - val_acc: 0.1079\n",
      "Epoch 472/500\n",
      "2518/2518 [==============================] - 0s 95us/step - loss: 0.7828 - acc: 0.1187 - val_loss: 9.0537 - val_acc: 0.1063\n",
      "Epoch 473/500\n"
     ]
    },
    {
     "name": "stdout",
     "output_type": "stream",
     "text": [
      "2518/2518 [==============================] - 0s 99us/step - loss: 0.9598 - acc: 0.1172 - val_loss: 8.9631 - val_acc: 0.1063\n",
      "Epoch 474/500\n",
      "2518/2518 [==============================] - 0s 105us/step - loss: 0.7641 - acc: 0.1176 - val_loss: 8.6088 - val_acc: 0.1048\n",
      "Epoch 475/500\n",
      "2518/2518 [==============================] - 0s 89us/step - loss: 0.8973 - acc: 0.1180 - val_loss: 9.7442 - val_acc: 0.1048\n",
      "Epoch 476/500\n",
      "2518/2518 [==============================] - 0s 93us/step - loss: 0.7529 - acc: 0.1180 - val_loss: 10.5431 - val_acc: 0.1063\n",
      "Epoch 477/500\n",
      "2518/2518 [==============================] - 0s 96us/step - loss: 0.9684 - acc: 0.1187 - val_loss: 8.6550 - val_acc: 0.1032\n",
      "Epoch 478/500\n",
      "2518/2518 [==============================] - 0s 98us/step - loss: 0.6770 - acc: 0.1183 - val_loss: 10.1521 - val_acc: 0.1063\n",
      "Epoch 479/500\n",
      "2518/2518 [==============================] - 0s 93us/step - loss: 0.7725 - acc: 0.1176 - val_loss: 9.7032 - val_acc: 0.1079\n",
      "Epoch 480/500\n",
      "2518/2518 [==============================] - 0s 97us/step - loss: 0.8021 - acc: 0.1187 - val_loss: 9.8304 - val_acc: 0.1048\n",
      "Epoch 481/500\n",
      "2518/2518 [==============================] - 0s 99us/step - loss: 0.7890 - acc: 0.1176 - val_loss: 8.4076 - val_acc: 0.1048\n",
      "Epoch 482/500\n",
      "2518/2518 [==============================] - 0s 98us/step - loss: 1.0170 - acc: 0.1172 - val_loss: 9.5532 - val_acc: 0.1048\n",
      "Epoch 483/500\n",
      "2518/2518 [==============================] - 0s 104us/step - loss: 0.6452 - acc: 0.1160 - val_loss: 9.3291 - val_acc: 0.1063\n",
      "Epoch 484/500\n",
      "2518/2518 [==============================] - 0s 91us/step - loss: 0.7782 - acc: 0.1180 - val_loss: 9.2659 - val_acc: 0.1079\n",
      "Epoch 485/500\n",
      "2518/2518 [==============================] - 0s 96us/step - loss: 0.6967 - acc: 0.1180 - val_loss: 9.7658 - val_acc: 0.1063\n",
      "Epoch 486/500\n",
      "2518/2518 [==============================] - 0s 103us/step - loss: 0.9250 - acc: 0.1180 - val_loss: 9.4945 - val_acc: 0.1032\n",
      "Epoch 487/500\n",
      "2518/2518 [==============================] - 0s 91us/step - loss: 0.6421 - acc: 0.1180 - val_loss: 10.0017 - val_acc: 0.1063\n",
      "Epoch 488/500\n",
      "2518/2518 [==============================] - 0s 93us/step - loss: 0.6804 - acc: 0.1183 - val_loss: 10.7446 - val_acc: 0.1048\n",
      "Epoch 489/500\n",
      "2518/2518 [==============================] - 0s 96us/step - loss: 0.7696 - acc: 0.1176 - val_loss: 9.2847 - val_acc: 0.1032\n",
      "Epoch 490/500\n",
      "2518/2518 [==============================] - 0s 95us/step - loss: 0.7181 - acc: 0.1172 - val_loss: 8.2421 - val_acc: 0.1063\n",
      "Epoch 491/500\n",
      "2518/2518 [==============================] - 0s 99us/step - loss: 0.8711 - acc: 0.1168 - val_loss: 8.7587 - val_acc: 0.1063\n",
      "Epoch 492/500\n",
      "2518/2518 [==============================] - 0s 99us/step - loss: 0.7226 - acc: 0.1156 - val_loss: 10.6393 - val_acc: 0.1048\n",
      "Epoch 493/500\n",
      "2518/2518 [==============================] - 0s 102us/step - loss: 0.8644 - acc: 0.1180 - val_loss: 10.1054 - val_acc: 0.1063\n",
      "Epoch 494/500\n",
      "2518/2518 [==============================] - 0s 100us/step - loss: 0.8781 - acc: 0.1180 - val_loss: 9.5904 - val_acc: 0.1063\n",
      "Epoch 495/500\n",
      "2518/2518 [==============================] - 0s 102us/step - loss: 0.7378 - acc: 0.1187 - val_loss: 8.2582 - val_acc: 0.1079\n",
      "Epoch 496/500\n",
      "2518/2518 [==============================] - 0s 95us/step - loss: 0.8144 - acc: 0.1164 - val_loss: 9.3174 - val_acc: 0.1063\n",
      "Epoch 497/500\n",
      "2518/2518 [==============================] - 0s 105us/step - loss: 0.7550 - acc: 0.1164 - val_loss: 12.0676 - val_acc: 0.1063\n",
      "Epoch 498/500\n",
      "2518/2518 [==============================] - 0s 99us/step - loss: 0.6602 - acc: 0.1183 - val_loss: 10.5279 - val_acc: 0.1048\n",
      "Epoch 499/500\n",
      "2518/2518 [==============================] - 0s 89us/step - loss: 0.7497 - acc: 0.1164 - val_loss: 9.9379 - val_acc: 0.1079\n",
      "Epoch 500/500\n",
      "2518/2518 [==============================] - 0s 100us/step - loss: 0.8992 - acc: 0.1168 - val_loss: 9.7043 - val_acc: 0.1016\n"
     ]
    }
   ],
   "source": [
    "# Display training progress by printing a single dot for each completed epoch\n",
    "class PrintDot(keras.callbacks.Callback):\n",
    "  def on_epoch_end(self, epoch, logs):\n",
    "    if epoch % 100 == 0: print('')\n",
    "    print('.', end='')\n",
    "\n",
    "EPOCHS = 500\n",
    "early_stop = keras.callbacks.EarlyStopping(monitor='val_loss', patience=20)\n",
    "# Store training stats\n",
    "#history = model.fit(X_train, y_train, epochs=EPOCHS,                    validation_split=0.2, verbose=1,                    callbacks=[early_stop]                    )\n",
    "history = model.fit(X_train, y_train, \n",
    "                        epochs=EPOCHS,                \n",
    "                        validation_split=0.2, verbose=1       )"
   ]
  },
  {
   "cell_type": "code",
   "execution_count": 62,
   "metadata": {},
   "outputs": [],
   "source": [
    "%matplotlib inline\n",
    "import matplotlib.pyplot as plt\n",
    "\n",
    "\n",
    "def plot_history(history):\n",
    "  plt.figure()\n",
    "  plt.xlabel('Epoch')\n",
    "  plt.ylabel('Mean Abs Error ')\n",
    "  plt.plot(history.epoch, np.array(history.history['mean_absolute_error']),\n",
    "           label='Train Loss')\n",
    "  plt.plot(history.epoch, np.array(history.history['val_mean_absolute_error']),\n",
    "           label = 'Val loss')\n",
    "  plt.legend()\n",
    "  plt.ylim([0, 10])\n",
    "\n",
    "#plot_history(history)"
   ]
  },
  {
   "cell_type": "code",
   "execution_count": 72,
   "metadata": {},
   "outputs": [
    {
     "data": {
      "text/plain": [
       "[8.826033039799443, 0.09555555555555556]"
      ]
     },
     "execution_count": 72,
     "metadata": {},
     "output_type": "execute_result"
    }
   ],
   "source": [
    "model.evaluate(X_test, y_test, verbose=0)"
   ]
  },
  {
   "cell_type": "code",
   "execution_count": 83,
   "metadata": {},
   "outputs": [
    {
     "data": {
      "text/plain": [
       "array([12.43904,  0.53756,  0.     , 23.01359, 14.95285, 20.03666,\n",
       "        1.92956,  0.     , 23.2391 , 19.37443,  0.86473, 19.71981,\n",
       "       22.14493,  5.14496, 19.83196, 11.68536,  3.74549,  5.01165,\n",
       "       21.88536, 14.24529, 24.78625,  4.00666, 21.84183, 14.25459,\n",
       "       12.91725, 12.08076, 13.18412, 14.10838,  2.76624, 23.11559,\n",
       "        1.0778 ,  9.07721, 21.06963,  6.52759,  1.11933,  0.51372,\n",
       "        4.66541,  0.     ,  4.16056,  0.     ,  7.90326, 23.39682,\n",
       "       12.36187,  1.27219,  0.     , 11.04429,  5.90135, 23.89068,\n",
       "       21.30902])"
      ]
     },
     "execution_count": 83,
     "metadata": {},
     "output_type": "execute_result"
    }
   ],
   "source": [
    "y_test[1:50]"
   ]
  },
  {
   "cell_type": "code",
   "execution_count": null,
   "metadata": {},
   "outputs": [],
   "source": [
    "model.predict(x)"
   ]
  },
  {
   "cell_type": "code",
   "execution_count": 81,
   "metadata": {},
   "outputs": [
    {
     "data": {
      "text/plain": [
       "-6.430144152785048"
      ]
     },
     "execution_count": 81,
     "metadata": {},
     "output_type": "execute_result"
    }
   ],
   "source": [
    "\n",
    "np.sum(np.subtract(model.predict(X_test),y_test))/np.sum(y_test)"
   ]
  },
  {
   "cell_type": "code",
   "execution_count": 88,
   "metadata": {},
   "outputs": [
    {
     "name": "stdout",
     "output_type": "stream",
     "text": [
      "Testing set Mean Abs Error: $   0.10\n"
     ]
    }
   ],
   "source": [
    "from sklearn.metrics import accuracy_score\n",
    "\n",
    "[loss, mae] = model.evaluate(X_test, y_test, verbose=0)\n",
    "\n",
    "print(\"Testing set Mean Abs Error: ${:7.2f}\".format(mae)) #1.47\n",
    "\n",
    "\n"
   ]
  },
  {
   "cell_type": "code",
   "execution_count": 87,
   "metadata": {},
   "outputs": [
    {
     "data": {
      "image/png": "[encoded data removed]",
      "text/plain": [
       "<Figure size 432x288 with 1 Axes>"
      ]
     },
     "metadata": {},
     "output_type": "display_data"
    }
   ],
   "source": [
    "test_predictions = model.predict(X_test).flatten()\n",
    "\n",
    "plt.scatter(y_test[400:600],test_predictions[400:600])\n",
    "plt.xlabel('True Values')\n",
    "plt.ylabel('Predictions')\n",
    "plt.axis('equal')\n",
    "plt.xlim(plt.xlim())\n",
    "plt.ylim(plt.ylim())\n",
    "_ = plt.plot([-100, 100], [-100, 100])"
   ]
  },
  {
   "cell_type": "code",
   "execution_count": 19,
   "metadata": {},
   "outputs": [
    {
     "data": {
      "text/plain": [
       "500"
      ]
     },
     "execution_count": 19,
     "metadata": {},
     "output_type": "execute_result"
    }
   ],
   "source": [
    "len(history.history['val_mean_absolute_error'])"
   ]
  },
  {
   "cell_type": "code",
   "execution_count": null,
   "metadata": {},
   "outputs": [],
   "source": [
    "test=pd.read_csv('../data/test.csv')\n",
    "test['month']=pd.to_datetime(test.Date,dayfirst=True).dt.month\n",
    "#test['Day']=pd.to_datetime(test.Date,dayfirst=True).dt.day\n",
    "test=test.drop(['Date','Time'],axis=1)\n",
    "test1=test['solar_output']\n",
    "test=test.drop('solar_output',axis=1)\n",
    "test.head()\n"
   ]
  },
  {
   "cell_type": "code",
   "execution_count": 87,
   "metadata": {},
   "outputs": [],
   "source": [
    "mean=test.mean(axis=0)\n",
    "std=test.std(axis=0)\n",
    "\n",
    "test=(test-mean)/std"
   ]
  },
  {
   "cell_type": "code",
   "execution_count": 94,
   "metadata": {},
   "outputs": [],
   "source": [
    "test_predictions = model.predict(X1).flatten()"
   ]
  },
  {
   "cell_type": "code",
   "execution_count": 101,
   "metadata": {},
   "outputs": [],
   "source": [
    "df = pd.DataFrame()\n",
    "\n",
    "df['prediction']=test_predictions\n",
    "df.to_csv('prediction_march.csv')"
   ]
  },
  {
   "cell_type": "markdown",
   "metadata": {},
   "source": [
    "### Evaluating with Random Forest Regressor"
   ]
  },
  {
   "cell_type": "code",
   "execution_count": 19,
   "metadata": {},
   "outputs": [
    {
     "name": "stdout",
     "output_type": "stream",
     "text": [
      "(18270, 4)\n",
      "(18270,)\n"
     ]
    }
   ],
   "source": [
    "print(X_train.shape)\n",
    "print(y_train.shape)"
   ]
  },
  {
   "cell_type": "markdown",
   "metadata": {},
   "source": [
    "from sklearn.preprocessing import StandardScaler\n",
    "sc = StandardScaler()\n",
    "X = sc.fit_transform(X)"
   ]
  },
  {
   "cell_type": "markdown",
   "metadata": {},
   "source": [
    "Y = sc.fit_transform(Y)"
   ]
  },
  {
   "cell_type": "code",
   "execution_count": 12,
   "metadata": {},
   "outputs": [],
   "source": [
    "X1=X.drop(['visibility'],axis=1)"
   ]
  },
  {
   "cell_type": "code",
   "execution_count": 13,
   "metadata": {},
   "outputs": [],
   "source": [
    "#from sklearn.model_selection import train_test_split\n",
    "#X_train, X_test, y_train, y_test = train_test_split(X1, Y, test_size=0.3)"
   ]
  },
  {
   "cell_type": "code",
   "execution_count": 14,
   "metadata": {
    "scrolled": true
   },
   "outputs": [
    {
     "data": {
      "text/plain": [
       "RandomForestRegressor(bootstrap=True, criterion='mse', max_depth=None,\n",
       "           max_features='auto', max_leaf_nodes=None,\n",
       "           min_impurity_decrease=0.0, min_impurity_split=None,\n",
       "           min_samples_leaf=1, min_samples_split=2,\n",
       "           min_weight_fraction_leaf=0.0, n_estimators=10, n_jobs=1,\n",
       "           oob_score=False, random_state=None, verbose=0, warm_start=False)"
      ]
     },
     "execution_count": 14,
     "metadata": {},
     "output_type": "execute_result"
    }
   ],
   "source": [
    "from sklearn.ensemble import RandomForestRegressor\n",
    "from sklearn.model_selection import train_test_split\n",
    "\n",
    "X1_train, X1_test, y1_train, y1_test = train_test_split(X, Y, test_size=0.3,random_state=40)\n",
    "\n",
    "rf = RandomForestRegressor()\n",
    "rf.fit(X1_train, y1_train)"
   ]
  },
  {
   "cell_type": "code",
   "execution_count": 18,
   "metadata": {},
   "outputs": [
    {
     "data": {
      "text/html": [
       "<div>\n",
       "<style>\n",
       "    .dataframe thead tr:only-child th {\n",
       "        text-align: right;\n",
       "    }\n",
       "\n",
       "    .dataframe thead th {\n",
       "        text-align: left;\n",
       "    }\n",
       "\n",
       "    .dataframe tbody tr th {\n",
       "        vertical-align: top;\n",
       "    }\n",
       "</style>\n",
       "<table border=\"1\" class=\"dataframe\">\n",
       "  <thead>\n",
       "    <tr style=\"text-align: right;\">\n",
       "      <th></th>\n",
       "      <th>temperature</th>\n",
       "      <th>humidity</th>\n",
       "      <th>wind_speed</th>\n",
       "      <th>visibility</th>\n",
       "      <th>serial</th>\n",
       "    </tr>\n",
       "  </thead>\n",
       "  <tbody>\n",
       "    <tr>\n",
       "      <th>14761</th>\n",
       "      <td>17.0</td>\n",
       "      <td>20.00</td>\n",
       "      <td>11.10</td>\n",
       "      <td>5.0</td>\n",
       "      <td>117</td>\n",
       "    </tr>\n",
       "    <tr>\n",
       "      <th>15964</th>\n",
       "      <td>8.2</td>\n",
       "      <td>76.00</td>\n",
       "      <td>8.22</td>\n",
       "      <td>3.0</td>\n",
       "      <td>15</td>\n",
       "    </tr>\n",
       "    <tr>\n",
       "      <th>2787</th>\n",
       "      <td>26.6</td>\n",
       "      <td>24.64</td>\n",
       "      <td>6.12</td>\n",
       "      <td>4.3</td>\n",
       "      <td>33</td>\n",
       "    </tr>\n",
       "    <tr>\n",
       "      <th>1630</th>\n",
       "      <td>26.7</td>\n",
       "      <td>51.09</td>\n",
       "      <td>13.07</td>\n",
       "      <td>5.9</td>\n",
       "      <td>36</td>\n",
       "    </tr>\n",
       "    <tr>\n",
       "      <th>19751</th>\n",
       "      <td>16.7</td>\n",
       "      <td>49.27</td>\n",
       "      <td>0.00</td>\n",
       "      <td>2.1</td>\n",
       "      <td>32</td>\n",
       "    </tr>\n",
       "  </tbody>\n",
       "</table>\n",
       "</div>"
      ],
      "text/plain": [
       "       temperature  humidity  wind_speed  visibility  serial\n",
       "14761         17.0     20.00       11.10         5.0     117\n",
       "15964          8.2     76.00        8.22         3.0      15\n",
       "2787          26.6     24.64        6.12         4.3      33\n",
       "1630          26.7     51.09       13.07         5.9      36\n",
       "19751         16.7     49.27        0.00         2.1      32"
      ]
     },
     "execution_count": 18,
     "metadata": {},
     "output_type": "execute_result"
    }
   ],
   "source": [
    "# data_test = pd.read_csv('modified_test_interpolated.csv')\n",
    "#data_test=data_test.drop(['Date','Time'],axis=1)\n",
    "#X_test = data_test.iloc[:,1:]\n",
    "#Y = list(data.iloc[:,:1])\n",
    "#Y_test= np.asarray(data_test['solar_output'], dtype=\"float32\")\n"
   ]
  },
  {
   "cell_type": "code",
   "execution_count": 783,
   "metadata": {
    "collapsed": true
   },
   "outputs": [],
   "source": [
    "#test=pd.read_csv('test_interpolated.csv')\n",
    "#test=test.drop(['Date','Time','visibility','wind_speed'],axis=1)\n",
    "#X_TEST_NEW = test.iloc[:,1:]\n",
    "#Y_TEST_NEW= np.asarray(test['solar_output'], dtype=\"int\")"
   ]
  },
  {
   "cell_type": "code",
   "execution_count": 784,
   "metadata": {
    "collapsed": true
   },
   "outputs": [],
   "source": [
    "pred_NEW = rf.predict(X1_test)"
   ]
  },
  {
   "cell_type": "code",
   "execution_count": 785,
   "metadata": {},
   "outputs": [
    {
     "data": {
      "text/plain": [
       "0.93390808739603681"
      ]
     },
     "execution_count": 785,
     "metadata": {},
     "output_type": "execute_result"
    }
   ],
   "source": [
    "## Scores R2\n",
    "from sklearn.metrics import r2_score\n",
    "r2_score(y1_test, pred_NEW) ## With Reduced Feature Set"
   ]
  },
  {
   "cell_type": "code",
   "execution_count": 786,
   "metadata": {},
   "outputs": [
    {
     "name": "stdout",
     "output_type": "stream",
     "text": [
      "Method: Random Forest Regressor\n",
      "R2 on 10-fold CV: 0.9014\n"
     ]
    }
   ],
   "source": [
    "## Using K-FoldCross Validation\n",
    "from sklearn.cross_validation import KFold\n",
    "rf = RandomForestRegressor()\n",
    "X1=X1.values\n",
    "# Compute R2 using 10-fold x-validation\n",
    "kf = KFold(len(X), n_folds=10)\n",
    "xval_err = 0\n",
    "for train,test in kf:\n",
    "    rf.fit(X1[train],Y[train])\n",
    "    p = rf.predict(X1[test])\n",
    "    e = p-Y[test]\n",
    "    xval_err += r2_score(Y[test], p)\n",
    "rf_10cv = np.sqrt(xval_err/10)\n",
    "\n",
    "method_name = 'Random Forest Regressor'\n",
    "print('Method: %s' %method_name)\n",
    "\n",
    "print('R2 on 10-fold CV: %.4f' %rf_10cv)"
   ]
  },
  {
   "cell_type": "code",
   "execution_count": 791,
   "metadata": {
    "collapsed": true
   },
   "outputs": [],
   "source": [
    "data_test = pd.read_csv('modified_test_interpolated.csv')\n",
    "data_test=data_test.drop(['Date','Time','visibility'],axis=1)\n",
    "X_test = data_test.iloc[:,1:]\n",
    "Y = list(data.iloc[:,:1])\n",
    "Y_test= np.asarray(data_test['solar_output'], dtype=\"float32\")"
   ]
  },
  {
   "cell_type": "code",
   "execution_count": 792,
   "metadata": {
    "collapsed": true
   },
   "outputs": [],
   "source": [
    "pre=rf.predict(X_test)"
   ]
  },
  {
   "cell_type": "code",
   "execution_count": 795,
   "metadata": {
    "collapsed": true
   },
   "outputs": [],
   "source": [
    "ab=pd.DataFrame({'original':Y_test,'Prediction_withoutVisibility':pre})"
   ]
  },
  {
   "cell_type": "code",
   "execution_count": 796,
   "metadata": {
    "collapsed": true
   },
   "outputs": [],
   "source": [
    "ab.to_csv('abc.csv')"
   ]
  },
  {
   "cell_type": "code",
   "execution_count": null,
   "metadata": {},
   "outputs": [],
   "source": []
  },
  {
   "cell_type": "markdown",
   "metadata": {},
   "source": [
    "## R2 Scores using ALL FEATURE SET"
   ]
  },
  {
   "cell_type": "code",
   "execution_count": 753,
   "metadata": {},
   "outputs": [
    {
     "data": {
      "text/plain": [
       "0.94307881621930378"
      ]
     },
     "execution_count": 753,
     "metadata": {},
     "output_type": "execute_result"
    }
   ],
   "source": [
    "## Old R2 Score With all the Feature Set\n",
    "rf = RandomForestRegressor()\n",
    "X_train, X_test, y_train, y_test = train_test_split(X, Y, test_size=0.3,random_state=40)\n",
    "rf.fit(X_train, y_train)\n",
    "#test=pd.read_csv('test_interpolated.csv')\n",
    "#test=test.drop(['Date','Time'],axis=1)\n",
    "#X_TEST_OLD = test.iloc[:,1:]\n",
    "#Y = list(data.iloc[:,:1])\n",
    "#Y_TEST_OLD= np.asarray(test['solar_output'], dtype=\"int\")\n",
    "pred_OLD = rf.predict(X_test)\n",
    "r2_score(y_test, pred_OLD)"
   ]
  },
  {
   "cell_type": "code",
   "execution_count": 754,
   "metadata": {},
   "outputs": [
    {
     "name": "stdout",
     "output_type": "stream",
     "text": [
      "Method: Random Forest Regressor\n",
      "R2 on 10-fold CV: 0.9035\n"
     ]
    }
   ],
   "source": [
    "## Using K-FoldCross Validation\n",
    "from sklearn.cross_validation import KFold\n",
    "rf = RandomForestRegressor()\n",
    "X=X.values\n",
    "# Compute R2 using 10-fold x-validation\n",
    "kf = KFold(len(X), n_folds=10)\n",
    "xval_err = 0\n",
    "for train,test in kf:\n",
    "    rf.fit(X[train],Y[train])\n",
    "    p = rf.predict(X[test])\n",
    "    e = p-Y[test]\n",
    "    xval_err += r2_score(Y[test], p)\n",
    "rf_10cv = np.sqrt(xval_err/10)\n",
    "\n",
    "method_name = 'Random Forest Regressor'\n",
    "print('Method: %s' %method_name)\n",
    "\n",
    "print('R2 on 10-fold CV: %.4f' %rf_10cv)"
   ]
  },
  {
   "cell_type": "code",
   "execution_count": null,
   "metadata": {
    "collapsed": true
   },
   "outputs": [],
   "source": []
  },
  {
   "cell_type": "code",
   "execution_count": 337,
   "metadata": {
    "collapsed": true
   },
   "outputs": [],
   "source": [
    "df = pd.DataFrame({'original':y_test, 'prediction':pred_OLD}) "
   ]
  },
  {
   "cell_type": "code",
   "execution_count": 338,
   "metadata": {
    "collapsed": true
   },
   "outputs": [],
   "source": [
    "df.to_csv('new_result_1.csv')"
   ]
  },
  {
   "cell_type": "markdown",
   "metadata": {},
   "source": [
    "### Neural Network Regressor ( Before Feature Selection)"
   ]
  },
  {
   "cell_type": "code",
   "execution_count": 814,
   "metadata": {
    "collapsed": true
   },
   "outputs": [],
   "source": [
    "from sklearn.neural_network import MLPRegressor"
   ]
  },
  {
   "cell_type": "code",
   "execution_count": 833,
   "metadata": {
    "collapsed": true
   },
   "outputs": [],
   "source": [
    "data = pd.read_csv('train_data.csv')"
   ]
  },
  {
   "cell_type": "code",
   "execution_count": 834,
   "metadata": {},
   "outputs": [
    {
     "data": {
      "text/html": [
       "<div>\n",
       "<style>\n",
       "    .dataframe thead tr:only-child th {\n",
       "        text-align: right;\n",
       "    }\n",
       "\n",
       "    .dataframe thead th {\n",
       "        text-align: left;\n",
       "    }\n",
       "\n",
       "    .dataframe tbody tr th {\n",
       "        vertical-align: top;\n",
       "    }\n",
       "</style>\n",
       "<table border=\"1\" class=\"dataframe\">\n",
       "  <thead>\n",
       "    <tr style=\"text-align: right;\">\n",
       "      <th></th>\n",
       "      <th>temperature</th>\n",
       "      <th>humidity</th>\n",
       "      <th>serial</th>\n",
       "    </tr>\n",
       "  </thead>\n",
       "  <tbody>\n",
       "    <tr>\n",
       "      <th>0</th>\n",
       "      <td>27.0</td>\n",
       "      <td>74.0</td>\n",
       "      <td>1</td>\n",
       "    </tr>\n",
       "    <tr>\n",
       "      <th>1</th>\n",
       "      <td>27.0</td>\n",
       "      <td>74.0</td>\n",
       "      <td>2</td>\n",
       "    </tr>\n",
       "    <tr>\n",
       "      <th>2</th>\n",
       "      <td>27.0</td>\n",
       "      <td>74.0</td>\n",
       "      <td>3</td>\n",
       "    </tr>\n",
       "    <tr>\n",
       "      <th>3</th>\n",
       "      <td>27.0</td>\n",
       "      <td>74.0</td>\n",
       "      <td>4</td>\n",
       "    </tr>\n",
       "    <tr>\n",
       "      <th>4</th>\n",
       "      <td>27.0</td>\n",
       "      <td>74.0</td>\n",
       "      <td>5</td>\n",
       "    </tr>\n",
       "  </tbody>\n",
       "</table>\n",
       "</div>"
      ],
      "text/plain": [
       "   temperature  humidity  serial\n",
       "0         27.0      74.0       1\n",
       "1         27.0      74.0       2\n",
       "2         27.0      74.0       3\n",
       "3         27.0      74.0       4\n",
       "4         27.0      74.0       5"
      ]
     },
     "execution_count": 834,
     "metadata": {},
     "output_type": "execute_result"
    }
   ],
   "source": [
    "data=data.drop(['Date','Time','visibility','wind_speed'],axis=1)\n",
    "X = data.iloc[:,1:]\n",
    "\n",
    "Y= np.asarray(data['solar_output'], dtype=\"int\")\n",
    "X.head()"
   ]
  },
  {
   "cell_type": "code",
   "execution_count": 835,
   "metadata": {},
   "outputs": [
    {
     "data": {
      "text/plain": [
       "array([[ 0.52775547,  1.60259432, -1.72014654],\n",
       "       [ 0.52775547,  1.60259432, -1.69625561],\n",
       "       [ 0.52775547,  1.60259432, -1.67236469],\n",
       "       ..., \n",
       "       [ 0.51194463, -0.3678876 ,  1.67236469],\n",
       "       [ 0.14829538, -0.13913151,  1.69625561],\n",
       "       [-0.12048886,  0.04325509,  1.72014654]])"
      ]
     },
     "execution_count": 835,
     "metadata": {},
     "output_type": "execute_result"
    }
   ],
   "source": [
    "from sklearn.preprocessing import StandardScaler\n",
    "sc = StandardScaler()\n",
    "X = sc.fit_transform(X)\n",
    "#Y=sc.fit_transform(Y)\n",
    "X"
   ]
  },
  {
   "cell_type": "code",
   "execution_count": 836,
   "metadata": {
    "collapsed": true
   },
   "outputs": [],
   "source": [
    "from sklearn.model_selection import train_test_split\n",
    "X_train, X_test, y_train, y_test = train_test_split(X, Y, test_size=0.3)"
   ]
  },
  {
   "cell_type": "code",
   "execution_count": 837,
   "metadata": {
    "collapsed": true
   },
   "outputs": [],
   "source": [
    "nn = MLPRegressor(\n",
    "    hidden_layer_sizes=(10,),  activation='relu', solver='adam', alpha=0.5, batch_size='auto',\n",
    "    learning_rate='constant', learning_rate_init=0.01, power_t=0.5, max_iter=1000, shuffle=True,\n",
    "    random_state=9, tol=0.0001, verbose=False, warm_start=False, momentum=0.9, nesterovs_momentum=True,\n",
    "    early_stopping=False, validation_fraction=0.1, beta_1=0.9, beta_2=0.999, epsilon=1e-08)"
   ]
  },
  {
   "cell_type": "code",
   "execution_count": 838,
   "metadata": {
    "collapsed": true
   },
   "outputs": [],
   "source": [
    "n = nn.fit(X_train, y_train)"
   ]
  },
  {
   "cell_type": "code",
   "execution_count": 839,
   "metadata": {
    "collapsed": true
   },
   "outputs": [],
   "source": [
    "pred_neural_old = n.predict(X_test)"
   ]
  },
  {
   "cell_type": "code",
   "execution_count": 840,
   "metadata": {},
   "outputs": [
    {
     "name": "stdout",
     "output_type": "stream",
     "text": [
      "The R2 Score with all the Feature is 0.859044\n",
      "The Correlation between the Prediction and original Output Score Feature Selection is 0.926921\n"
     ]
    }
   ],
   "source": [
    "from sklearn.metrics import r2_score\n",
    "r2_score(y_test, pred_neural_old)\n",
    "print(\"The R2 Score with all the Feature is %f\"  %r2_score(y_test, pred_neural_old))\n",
    "\n",
    "\n",
    "df = pd.DataFrame({'original':y_test, 'prediction':pred_neural_old})\n",
    "print(\"The Correlation between the Prediction and original Output Score Feature Selection is %f\"  %df['original'].corr(df['prediction']))\n",
    "\n"
   ]
  },
  {
   "cell_type": "code",
   "execution_count": 841,
   "metadata": {},
   "outputs": [
    {
     "name": "stdout",
     "output_type": "stream",
     "text": [
      "Method: MLP Regressor\n",
      "R2 on 10-fold CV: 0.9163\n"
     ]
    }
   ],
   "source": [
    "## K-FoldCross Validation\n",
    "from sklearn.cross_validation import KFold\n",
    "nn = MLPRegressor(\n",
    "    hidden_layer_sizes=(10,),  activation='relu', solver='adam', alpha=0.5, batch_size='auto',\n",
    "    learning_rate='constant', learning_rate_init=0.01, power_t=0.5, max_iter=1000, shuffle=True,\n",
    "    random_state=9, tol=0.0001, verbose=False, warm_start=False, momentum=0.9, nesterovs_momentum=True,\n",
    "    early_stopping=False, validation_fraction=0.1, beta_1=0.9, beta_2=0.999, epsilon=1e-08)\n",
    "\n",
    "# Compute R2 using 10-fold x-validation\n",
    "kf = KFold(len(X), n_folds=10)\n",
    "xval_err = 0\n",
    "for train,test in kf:\n",
    "    nn.fit(X[train],Y[train])\n",
    "    p = nn.predict(X[test])\n",
    "    e = p-Y[test]\n",
    "    xval_err += r2_score(Y[test], p)\n",
    "rf_10cv = np.sqrt(xval_err/10)\n",
    "\n",
    "method_name = 'MLP Regressor'\n",
    "print('Method: %s' %method_name)\n",
    "\n",
    "print('R2 on 10-fold CV: %.4f' %rf_10cv)"
   ]
  },
  {
   "cell_type": "markdown",
   "metadata": {},
   "source": [
    "### Neural Network Regressor ( AfterFeature Selection)"
   ]
  },
  {
   "cell_type": "code",
   "execution_count": 605,
   "metadata": {
    "collapsed": true
   },
   "outputs": [],
   "source": [
    "from sklearn.neural_network import MLPRegressor"
   ]
  },
  {
   "cell_type": "code",
   "execution_count": 606,
   "metadata": {
    "collapsed": true
   },
   "outputs": [],
   "source": []
  },
  {
   "cell_type": "code",
   "execution_count": 711,
   "metadata": {},
   "outputs": [
    {
     "data": {
      "text/html": [
       "<div>\n",
       "<style>\n",
       "    .dataframe thead tr:only-child th {\n",
       "        text-align: right;\n",
       "    }\n",
       "\n",
       "    .dataframe thead th {\n",
       "        text-align: left;\n",
       "    }\n",
       "\n",
       "    .dataframe tbody tr th {\n",
       "        vertical-align: top;\n",
       "    }\n",
       "</style>\n",
       "<table border=\"1\" class=\"dataframe\">\n",
       "  <thead>\n",
       "    <tr style=\"text-align: right;\">\n",
       "      <th></th>\n",
       "      <th>temperature</th>\n",
       "      <th>humidity</th>\n",
       "      <th>visibility</th>\n",
       "      <th>serial</th>\n",
       "    </tr>\n",
       "  </thead>\n",
       "  <tbody>\n",
       "    <tr>\n",
       "      <th>0</th>\n",
       "      <td>27.0</td>\n",
       "      <td>74.0</td>\n",
       "      <td>4.0</td>\n",
       "      <td>1</td>\n",
       "    </tr>\n",
       "    <tr>\n",
       "      <th>1</th>\n",
       "      <td>27.0</td>\n",
       "      <td>74.0</td>\n",
       "      <td>4.0</td>\n",
       "      <td>2</td>\n",
       "    </tr>\n",
       "    <tr>\n",
       "      <th>2</th>\n",
       "      <td>27.0</td>\n",
       "      <td>74.0</td>\n",
       "      <td>4.0</td>\n",
       "      <td>3</td>\n",
       "    </tr>\n",
       "    <tr>\n",
       "      <th>3</th>\n",
       "      <td>27.0</td>\n",
       "      <td>74.0</td>\n",
       "      <td>4.0</td>\n",
       "      <td>4</td>\n",
       "    </tr>\n",
       "    <tr>\n",
       "      <th>4</th>\n",
       "      <td>27.0</td>\n",
       "      <td>74.0</td>\n",
       "      <td>4.0</td>\n",
       "      <td>5</td>\n",
       "    </tr>\n",
       "  </tbody>\n",
       "</table>\n",
       "</div>"
      ],
      "text/plain": [
       "   temperature  humidity  visibility  serial\n",
       "0         27.0      74.0         4.0       1\n",
       "1         27.0      74.0         4.0       2\n",
       "2         27.0      74.0         4.0       3\n",
       "3         27.0      74.0         4.0       4\n",
       "4         27.0      74.0         4.0       5"
      ]
     },
     "execution_count": 711,
     "metadata": {},
     "output_type": "execute_result"
    }
   ],
   "source": [
    "data = pd.read_csv('train_data.csv')\n",
    "data=data.drop(['Date','Time','wind_speed'],axis=1)\n",
    "X = data.iloc[:,1:]\n",
    "Y= np.asarray(data['solar_output'], dtype=\"int\")\n",
    "X.head()"
   ]
  },
  {
   "cell_type": "code",
   "execution_count": 608,
   "metadata": {},
   "outputs": [
    {
     "data": {
      "text/plain": [
       "array([[ 0.52775547,  1.60259432,  0.20749581, -1.72014654],\n",
       "       [ 0.52775547,  1.60259432,  0.20749581, -1.69625561],\n",
       "       [ 0.52775547,  1.60259432,  0.20749581, -1.67236469],\n",
       "       ..., \n",
       "       [ 0.51194463, -0.3678876 , -0.21670963,  1.67236469],\n",
       "       [ 0.14829538, -0.13913151, -0.35811144,  1.69625561],\n",
       "       [-0.12048886,  0.04325509, -0.42881235,  1.72014654]])"
      ]
     },
     "execution_count": 608,
     "metadata": {},
     "output_type": "execute_result"
    }
   ],
   "source": [
    "sc = StandardScaler()\n",
    "X = sc.fit_transform(X)\n",
    "X"
   ]
  },
  {
   "cell_type": "code",
   "execution_count": 609,
   "metadata": {
    "collapsed": true
   },
   "outputs": [],
   "source": [
    "from sklearn.model_selection import train_test_split\n",
    "X_train, X_test, y_train, y_test = train_test_split(X, Y, test_size=0.3)"
   ]
  },
  {
   "cell_type": "code",
   "execution_count": 610,
   "metadata": {
    "collapsed": true
   },
   "outputs": [],
   "source": [
    "nn = MLPRegressor(\n",
    "    hidden_layer_sizes=(12,),  activation='relu', solver='adam', alpha=0.01, batch_size='auto',\n",
    "    learning_rate='constant', learning_rate_init=0.001, power_t=0.5, max_iter=1000, shuffle=True,\n",
    "    random_state=9, tol=0.0001, verbose=False, warm_start=False, momentum=0.9, nesterovs_momentum=True,\n",
    "    early_stopping=False, validation_fraction=0.1, beta_1=0.9, beta_2=0.999, epsilon=1e-08)"
   ]
  },
  {
   "cell_type": "code",
   "execution_count": 611,
   "metadata": {
    "collapsed": true
   },
   "outputs": [],
   "source": [
    "n = nn.fit(X_train, y_train)"
   ]
  },
  {
   "cell_type": "code",
   "execution_count": 612,
   "metadata": {
    "collapsed": true
   },
   "outputs": [],
   "source": [
    "pred_neural_old = n.predict(X_test)"
   ]
  },
  {
   "cell_type": "code",
   "execution_count": 613,
   "metadata": {},
   "outputs": [
    {
     "name": "stdout",
     "output_type": "stream",
     "text": [
      "The R2 Score After Feature Selection is 0.864121\n",
      "The Correlation between the Prediction and original Output Score Feature Selection is 0.929681\n"
     ]
    }
   ],
   "source": [
    "from sklearn.metrics import r2_score\n",
    "print(\"The R2 Score After Feature Selection is %f\"  %r2_score(y_test, pred_neural_old))\n",
    "\n",
    "df = pd.DataFrame({'original':y_test, 'prediction':pred_neural_old})\n",
    "print(\"The Correlation between the Prediction and original Output Score Feature Selection is %f\"  %df['original'].corr(df['prediction']))\n",
    "\n",
    "\n",
    "\n"
   ]
  },
  {
   "cell_type": "code",
   "execution_count": 614,
   "metadata": {},
   "outputs": [
    {
     "data": {
      "text/plain": [
       "array([[ 0.52775547,  1.60259432,  0.20749581, -1.72014654],\n",
       "       [ 0.52775547,  1.60259432,  0.20749581, -1.69625561],\n",
       "       [ 0.52775547,  1.60259432,  0.20749581, -1.67236469],\n",
       "       ..., \n",
       "       [ 0.51194463, -0.3678876 , -0.21670963,  1.67236469],\n",
       "       [ 0.14829538, -0.13913151, -0.35811144,  1.69625561],\n",
       "       [-0.12048886,  0.04325509, -0.42881235,  1.72014654]])"
      ]
     },
     "execution_count": 614,
     "metadata": {},
     "output_type": "execute_result"
    }
   ],
   "source": [
    "X"
   ]
  },
  {
   "cell_type": "code",
   "execution_count": 615,
   "metadata": {},
   "outputs": [
    {
     "name": "stdout",
     "output_type": "stream",
     "text": [
      "Method: MLP Regressor\n",
      "R2 on 10-fold CV: 0.9267\n"
     ]
    }
   ],
   "source": [
    "## K-FoldCross Validation\n",
    "#X=X.values\n",
    "from sklearn.cross_validation import KFold\n",
    "nn = MLPRegressor(\n",
    "    hidden_layer_sizes=(10,),  activation='relu', solver='adam', alpha=0.5, batch_size='auto',\n",
    "    learning_rate='constant', learning_rate_init=0.01, power_t=0.5, max_iter=1000, shuffle=True,\n",
    "    random_state=9, tol=0.0001, verbose=False, warm_start=False, momentum=0.9, nesterovs_momentum=True,\n",
    "    early_stopping=False, validation_fraction=0.1, beta_1=0.9, beta_2=0.999, epsilon=1e-08)\n",
    "\n",
    "# Compute R2 using 10-fold x-validation\n",
    "kf = KFold(len(X), n_folds=10)\n",
    "xval_err = 0\n",
    "for train,test in kf:\n",
    "    nn.fit(X[train],Y[train])\n",
    "    p = nn.predict(X[test])\n",
    "    e = p-Y[test]\n",
    "    xval_err += r2_score(Y[test], p)\n",
    "rf_10cv = np.sqrt(xval_err/10)\n",
    "\n",
    "method_name = 'MLP Regressor'\n",
    "print('Method: %s' %method_name)\n",
    "\n",
    "print('R2 on 10-fold CV: %.4f' %rf_10cv)"
   ]
  },
  {
   "cell_type": "code",
   "execution_count": 619,
   "metadata": {
    "collapsed": true
   },
   "outputs": [],
   "source": [
    "test=pd.read_csv('test_interpolated.csv')\n",
    "test=test.drop(['Date','Time','wind_speed'],axis=1)\n",
    "X = test.iloc[:,1:]\n",
    "Y= np.asarray(test['solar_output'], dtype=\"int\")\n",
    "X.head()\n",
    "sc = StandardScaler()\n",
    "X = sc.fit_transform(X)\n",
    "\n",
    "pred=nn.predict(X)\n",
    "df=pd.DataFrame({'original':Y,'prediction':pred})"
   ]
  },
  {
   "cell_type": "code",
   "execution_count": 622,
   "metadata": {
    "collapsed": true
   },
   "outputs": [],
   "source": [
    "df = pd.DataFrame({'original':Y, 'prediction':pred})"
   ]
  },
  {
   "cell_type": "code",
   "execution_count": 623,
   "metadata": {
    "collapsed": true
   },
   "outputs": [],
   "source": [
    "df.to_csv('mlp_new.csv')"
   ]
  },
  {
   "cell_type": "markdown",
   "metadata": {},
   "source": [
    "### Bagging Regressor "
   ]
  },
  {
   "cell_type": "code",
   "execution_count": 715,
   "metadata": {
    "collapsed": true
   },
   "outputs": [],
   "source": [
    "from sklearn.ensemble import BaggingRegressor"
   ]
  },
  {
   "cell_type": "code",
   "execution_count": 716,
   "metadata": {
    "collapsed": true
   },
   "outputs": [],
   "source": [
    "data = pd.read_csv('train_data.csv')\n",
    "data=data.drop(['Date','Time','wind_speed'],axis=1)\n",
    "X = data.iloc[:,1:]\n",
    "Y= np.asarray(data['solar_output'], dtype=\"int\")\n"
   ]
  },
  {
   "cell_type": "code",
   "execution_count": 717,
   "metadata": {
    "collapsed": true
   },
   "outputs": [],
   "source": [
    "from sklearn.model_selection import train_test_split\n",
    "X_train, X_test, y_train, y_test = train_test_split(X, Y, test_size=0.3)"
   ]
  },
  {
   "cell_type": "code",
   "execution_count": 720,
   "metadata": {
    "collapsed": true
   },
   "outputs": [],
   "source": [
    "br=BaggingRegressor()\n",
    "br=br.fit(X_train,y_train)"
   ]
  },
  {
   "cell_type": "code",
   "execution_count": 723,
   "metadata": {},
   "outputs": [
    {
     "name": "stdout",
     "output_type": "stream",
     "text": [
      "The R2 Score After Feature Selection is 0.921388\n"
     ]
    }
   ],
   "source": [
    "pred=br.predict(X_test)\n",
    "from sklearn.metrics import r2_score\n",
    "print(\"The R2 Score After Feature Selection is %f\"  %r2_score(y_test, pred))"
   ]
  },
  {
   "cell_type": "code",
   "execution_count": null,
   "metadata": {
    "collapsed": true
   },
   "outputs": [],
   "source": []
  },
  {
   "cell_type": "code",
   "execution_count": null,
   "metadata": {
    "collapsed": true
   },
   "outputs": [],
   "source": []
  },
  {
   "cell_type": "code",
   "execution_count": null,
   "metadata": {
    "collapsed": true
   },
   "outputs": [],
   "source": []
  },
  {
   "cell_type": "markdown",
   "metadata": {},
   "source": [
    "df = pd.DataFrame({'original':Y_test, 'prediction':pred})\n",
    "df['diff']=(df['prediction']-df['original'])\n",
    "#df.columns=['difference']\n",
    "#df['difference']=df[['original', 'prediction']].diff(axis=1)\n",
    "df['diff']=(df['diff']/df['original'])\n",
    "df['diff']=df['diff'].abs()\n",
    "df.head(5)"
   ]
  },
  {
   "cell_type": "code",
   "execution_count": 21,
   "metadata": {},
   "outputs": [
    {
     "data": {
      "text/plain": [
       "2.7823233330475436"
      ]
     },
     "execution_count": 21,
     "metadata": {},
     "output_type": "execute_result"
    }
   ],
   "source": [
    "from sklearn import metrics\n",
    "from math import sqrt\n",
    "\n",
    "rms = sqrt(metrics.mean_squared_error(y_test, pred))\n",
    "rms"
   ]
  },
  {
   "cell_type": "code",
   "execution_count": 14,
   "metadata": {},
   "outputs": [
    {
     "name": "stderr",
     "output_type": "stream",
     "text": [
      "/Library/Python/2.7/site-packages/sklearn/cross_validation.py:41: DeprecationWarning: This module was deprecated in version 0.18 in favor of the model_selection module into which all the refactored classes and functions are moved. Also note that the interface of the new CV iterators are different from that of this module. This module will be removed in 0.20.\n",
      "  \"This module will be removed in 0.20.\", DeprecationWarning)\n"
     ]
    }
   ],
   "source": [
    "from sklearn.linear_model import LogisticRegression\n",
    "from sklearn.cross_validation import train_test_split\n",
    "from sklearn import metrics\n",
    "from sklearn.cross_validation import cross_val_score"
   ]
  },
  {
   "cell_type": "code",
   "execution_count": 15,
   "metadata": {
    "collapsed": true
   },
   "outputs": [],
   "source": [
    "model = LogisticRegression()\n",
    "model = model.fit(X_train, y_train)"
   ]
  },
  {
   "cell_type": "code",
   "execution_count": 16,
   "metadata": {
    "collapsed": true
   },
   "outputs": [],
   "source": [
    "pred = model.predict(X_test)"
   ]
  },
  {
   "cell_type": "code",
   "execution_count": 17,
   "metadata": {},
   "outputs": [
    {
     "data": {
      "text/plain": [
       "array([ 0, 22,  0, ...,  0,  0,  0])"
      ]
     },
     "execution_count": 17,
     "metadata": {},
     "output_type": "execute_result"
    }
   ],
   "source": [
    "pred"
   ]
  },
  {
   "cell_type": "code",
   "execution_count": 18,
   "metadata": {},
   "outputs": [
    {
     "name": "stdout",
     "output_type": "stream",
     "text": [
      "7.44655833003\n"
     ]
    }
   ],
   "source": [
    "print(metrics.mean_absolute_error(y_test, pred))"
   ]
  },
  {
   "cell_type": "code",
   "execution_count": 46,
   "metadata": {},
   "outputs": [
    {
     "name": "stdout",
     "output_type": "stream",
     "text": [
      "0.213106090633\n"
     ]
    }
   ],
   "source": [
    "print metrics.accuracy_score(y_test, pred)"
   ]
  },
  {
   "cell_type": "code",
   "execution_count": 120,
   "metadata": {},
   "outputs": [
    {
     "data": {
      "text/html": [
       "<div>\n",
       "<style>\n",
       "    .dataframe thead tr:only-child th {\n",
       "        text-align: right;\n",
       "    }\n",
       "\n",
       "    .dataframe thead th {\n",
       "        text-align: left;\n",
       "    }\n",
       "\n",
       "    .dataframe tbody tr th {\n",
       "        vertical-align: top;\n",
       "    }\n",
       "</style>\n",
       "<table border=\"1\" class=\"dataframe\">\n",
       "  <thead>\n",
       "    <tr style=\"text-align: right;\">\n",
       "      <th></th>\n",
       "      <th>temperature</th>\n",
       "      <th>humidity</th>\n",
       "      <th>wind_speed</th>\n",
       "      <th>visibility</th>\n",
       "      <th>serial</th>\n",
       "    </tr>\n",
       "  </thead>\n",
       "  <tbody>\n",
       "    <tr>\n",
       "      <th>0</th>\n",
       "      <td>27.0</td>\n",
       "      <td>74.00</td>\n",
       "      <td>0.00</td>\n",
       "      <td>4.0</td>\n",
       "      <td>1</td>\n",
       "    </tr>\n",
       "    <tr>\n",
       "      <th>1</th>\n",
       "      <td>27.0</td>\n",
       "      <td>74.00</td>\n",
       "      <td>0.56</td>\n",
       "      <td>4.0</td>\n",
       "      <td>2</td>\n",
       "    </tr>\n",
       "    <tr>\n",
       "      <th>2</th>\n",
       "      <td>27.0</td>\n",
       "      <td>74.00</td>\n",
       "      <td>1.00</td>\n",
       "      <td>4.0</td>\n",
       "      <td>3</td>\n",
       "    </tr>\n",
       "    <tr>\n",
       "      <th>3</th>\n",
       "      <td>27.0</td>\n",
       "      <td>74.00</td>\n",
       "      <td>1.33</td>\n",
       "      <td>4.0</td>\n",
       "      <td>4</td>\n",
       "    </tr>\n",
       "    <tr>\n",
       "      <th>4</th>\n",
       "      <td>27.0</td>\n",
       "      <td>74.00</td>\n",
       "      <td>1.57</td>\n",
       "      <td>4.0</td>\n",
       "      <td>5</td>\n",
       "    </tr>\n",
       "    <tr>\n",
       "      <th>5</th>\n",
       "      <td>27.0</td>\n",
       "      <td>74.00</td>\n",
       "      <td>1.75</td>\n",
       "      <td>4.0</td>\n",
       "      <td>6</td>\n",
       "    </tr>\n",
       "    <tr>\n",
       "      <th>6</th>\n",
       "      <td>27.0</td>\n",
       "      <td>74.00</td>\n",
       "      <td>1.90</td>\n",
       "      <td>4.0</td>\n",
       "      <td>7</td>\n",
       "    </tr>\n",
       "    <tr>\n",
       "      <th>7</th>\n",
       "      <td>27.0</td>\n",
       "      <td>74.00</td>\n",
       "      <td>1.81</td>\n",
       "      <td>4.0</td>\n",
       "      <td>8</td>\n",
       "    </tr>\n",
       "    <tr>\n",
       "      <th>8</th>\n",
       "      <td>27.0</td>\n",
       "      <td>74.00</td>\n",
       "      <td>1.38</td>\n",
       "      <td>4.0</td>\n",
       "      <td>9</td>\n",
       "    </tr>\n",
       "    <tr>\n",
       "      <th>9</th>\n",
       "      <td>27.0</td>\n",
       "      <td>74.00</td>\n",
       "      <td>0.81</td>\n",
       "      <td>4.0</td>\n",
       "      <td>10</td>\n",
       "    </tr>\n",
       "    <tr>\n",
       "      <th>10</th>\n",
       "      <td>27.0</td>\n",
       "      <td>74.00</td>\n",
       "      <td>0.27</td>\n",
       "      <td>4.0</td>\n",
       "      <td>11</td>\n",
       "    </tr>\n",
       "    <tr>\n",
       "      <th>11</th>\n",
       "      <td>27.0</td>\n",
       "      <td>74.00</td>\n",
       "      <td>0.06</td>\n",
       "      <td>4.0</td>\n",
       "      <td>12</td>\n",
       "    </tr>\n",
       "    <tr>\n",
       "      <th>12</th>\n",
       "      <td>27.0</td>\n",
       "      <td>74.00</td>\n",
       "      <td>0.00</td>\n",
       "      <td>4.0</td>\n",
       "      <td>13</td>\n",
       "    </tr>\n",
       "    <tr>\n",
       "      <th>13</th>\n",
       "      <td>27.1</td>\n",
       "      <td>73.76</td>\n",
       "      <td>0.72</td>\n",
       "      <td>4.0</td>\n",
       "      <td>14</td>\n",
       "    </tr>\n",
       "    <tr>\n",
       "      <th>14</th>\n",
       "      <td>27.2</td>\n",
       "      <td>73.14</td>\n",
       "      <td>2.05</td>\n",
       "      <td>4.0</td>\n",
       "      <td>15</td>\n",
       "    </tr>\n",
       "    <tr>\n",
       "      <th>15</th>\n",
       "      <td>27.4</td>\n",
       "      <td>72.30</td>\n",
       "      <td>3.69</td>\n",
       "      <td>4.0</td>\n",
       "      <td>16</td>\n",
       "    </tr>\n",
       "    <tr>\n",
       "      <th>16</th>\n",
       "      <td>27.7</td>\n",
       "      <td>71.39</td>\n",
       "      <td>5.33</td>\n",
       "      <td>4.0</td>\n",
       "      <td>17</td>\n",
       "    </tr>\n",
       "    <tr>\n",
       "      <th>17</th>\n",
       "      <td>27.9</td>\n",
       "      <td>70.57</td>\n",
       "      <td>6.67</td>\n",
       "      <td>4.0</td>\n",
       "      <td>18</td>\n",
       "    </tr>\n",
       "    <tr>\n",
       "      <th>18</th>\n",
       "      <td>28.0</td>\n",
       "      <td>70.00</td>\n",
       "      <td>7.40</td>\n",
       "      <td>4.0</td>\n",
       "      <td>19</td>\n",
       "    </tr>\n",
       "    <tr>\n",
       "      <th>19</th>\n",
       "      <td>28.0</td>\n",
       "      <td>69.77</td>\n",
       "      <td>7.72</td>\n",
       "      <td>4.0</td>\n",
       "      <td>20</td>\n",
       "    </tr>\n",
       "    <tr>\n",
       "      <th>20</th>\n",
       "      <td>28.0</td>\n",
       "      <td>69.79</td>\n",
       "      <td>8.05</td>\n",
       "      <td>4.0</td>\n",
       "      <td>21</td>\n",
       "    </tr>\n",
       "    <tr>\n",
       "      <th>21</th>\n",
       "      <td>27.9</td>\n",
       "      <td>69.95</td>\n",
       "      <td>8.36</td>\n",
       "      <td>4.0</td>\n",
       "      <td>22</td>\n",
       "    </tr>\n",
       "    <tr>\n",
       "      <th>22</th>\n",
       "      <td>27.9</td>\n",
       "      <td>70.12</td>\n",
       "      <td>8.68</td>\n",
       "      <td>4.0</td>\n",
       "      <td>23</td>\n",
       "    </tr>\n",
       "    <tr>\n",
       "      <th>23</th>\n",
       "      <td>27.9</td>\n",
       "      <td>70.18</td>\n",
       "      <td>8.99</td>\n",
       "      <td>4.0</td>\n",
       "      <td>24</td>\n",
       "    </tr>\n",
       "    <tr>\n",
       "      <th>24</th>\n",
       "      <td>28.0</td>\n",
       "      <td>70.00</td>\n",
       "      <td>9.30</td>\n",
       "      <td>4.0</td>\n",
       "      <td>25</td>\n",
       "    </tr>\n",
       "    <tr>\n",
       "      <th>25</th>\n",
       "      <td>28.2</td>\n",
       "      <td>69.40</td>\n",
       "      <td>9.61</td>\n",
       "      <td>4.0</td>\n",
       "      <td>26</td>\n",
       "    </tr>\n",
       "    <tr>\n",
       "      <th>26</th>\n",
       "      <td>28.3</td>\n",
       "      <td>68.41</td>\n",
       "      <td>9.91</td>\n",
       "      <td>4.0</td>\n",
       "      <td>27</td>\n",
       "    </tr>\n",
       "    <tr>\n",
       "      <th>27</th>\n",
       "      <td>28.5</td>\n",
       "      <td>67.18</td>\n",
       "      <td>10.22</td>\n",
       "      <td>4.0</td>\n",
       "      <td>28</td>\n",
       "    </tr>\n",
       "    <tr>\n",
       "      <th>28</th>\n",
       "      <td>28.7</td>\n",
       "      <td>65.92</td>\n",
       "      <td>10.52</td>\n",
       "      <td>4.0</td>\n",
       "      <td>29</td>\n",
       "    </tr>\n",
       "    <tr>\n",
       "      <th>29</th>\n",
       "      <td>28.8</td>\n",
       "      <td>64.80</td>\n",
       "      <td>10.81</td>\n",
       "      <td>4.0</td>\n",
       "      <td>30</td>\n",
       "    </tr>\n",
       "    <tr>\n",
       "      <th>...</th>\n",
       "      <td>...</td>\n",
       "      <td>...</td>\n",
       "      <td>...</td>\n",
       "      <td>...</td>\n",
       "      <td>...</td>\n",
       "    </tr>\n",
       "    <tr>\n",
       "      <th>25200</th>\n",
       "      <td>35.0</td>\n",
       "      <td>15.89</td>\n",
       "      <td>6.45</td>\n",
       "      <td>4.9</td>\n",
       "      <td>116</td>\n",
       "    </tr>\n",
       "    <tr>\n",
       "      <th>25201</th>\n",
       "      <td>35.0</td>\n",
       "      <td>15.69</td>\n",
       "      <td>7.93</td>\n",
       "      <td>4.7</td>\n",
       "      <td>117</td>\n",
       "    </tr>\n",
       "    <tr>\n",
       "      <th>25202</th>\n",
       "      <td>35.0</td>\n",
       "      <td>15.46</td>\n",
       "      <td>9.69</td>\n",
       "      <td>4.4</td>\n",
       "      <td>118</td>\n",
       "    </tr>\n",
       "    <tr>\n",
       "      <th>25203</th>\n",
       "      <td>35.0</td>\n",
       "      <td>15.23</td>\n",
       "      <td>11.37</td>\n",
       "      <td>4.2</td>\n",
       "      <td>119</td>\n",
       "    </tr>\n",
       "    <tr>\n",
       "      <th>25204</th>\n",
       "      <td>35.0</td>\n",
       "      <td>15.07</td>\n",
       "      <td>12.59</td>\n",
       "      <td>4.1</td>\n",
       "      <td>120</td>\n",
       "    </tr>\n",
       "    <tr>\n",
       "      <th>25205</th>\n",
       "      <td>35.0</td>\n",
       "      <td>15.00</td>\n",
       "      <td>13.00</td>\n",
       "      <td>4.0</td>\n",
       "      <td>121</td>\n",
       "    </tr>\n",
       "    <tr>\n",
       "      <th>25206</th>\n",
       "      <td>35.0</td>\n",
       "      <td>15.05</td>\n",
       "      <td>12.69</td>\n",
       "      <td>4.0</td>\n",
       "      <td>122</td>\n",
       "    </tr>\n",
       "    <tr>\n",
       "      <th>25207</th>\n",
       "      <td>35.0</td>\n",
       "      <td>15.20</td>\n",
       "      <td>12.08</td>\n",
       "      <td>4.0</td>\n",
       "      <td>123</td>\n",
       "    </tr>\n",
       "    <tr>\n",
       "      <th>25208</th>\n",
       "      <td>35.0</td>\n",
       "      <td>15.39</td>\n",
       "      <td>11.29</td>\n",
       "      <td>4.0</td>\n",
       "      <td>124</td>\n",
       "    </tr>\n",
       "    <tr>\n",
       "      <th>25209</th>\n",
       "      <td>35.0</td>\n",
       "      <td>15.62</td>\n",
       "      <td>10.48</td>\n",
       "      <td>4.0</td>\n",
       "      <td>125</td>\n",
       "    </tr>\n",
       "    <tr>\n",
       "      <th>25210</th>\n",
       "      <td>35.0</td>\n",
       "      <td>15.83</td>\n",
       "      <td>9.77</td>\n",
       "      <td>4.0</td>\n",
       "      <td>126</td>\n",
       "    </tr>\n",
       "    <tr>\n",
       "      <th>25211</th>\n",
       "      <td>35.0</td>\n",
       "      <td>16.00</td>\n",
       "      <td>9.30</td>\n",
       "      <td>4.0</td>\n",
       "      <td>127</td>\n",
       "    </tr>\n",
       "    <tr>\n",
       "      <th>25212</th>\n",
       "      <td>35.0</td>\n",
       "      <td>16.07</td>\n",
       "      <td>9.04</td>\n",
       "      <td>4.0</td>\n",
       "      <td>128</td>\n",
       "    </tr>\n",
       "    <tr>\n",
       "      <th>25213</th>\n",
       "      <td>35.0</td>\n",
       "      <td>16.01</td>\n",
       "      <td>8.85</td>\n",
       "      <td>4.0</td>\n",
       "      <td>129</td>\n",
       "    </tr>\n",
       "    <tr>\n",
       "      <th>25214</th>\n",
       "      <td>34.9</td>\n",
       "      <td>15.84</td>\n",
       "      <td>8.73</td>\n",
       "      <td>4.0</td>\n",
       "      <td>130</td>\n",
       "    </tr>\n",
       "    <tr>\n",
       "      <th>25215</th>\n",
       "      <td>34.9</td>\n",
       "      <td>15.60</td>\n",
       "      <td>8.64</td>\n",
       "      <td>4.0</td>\n",
       "      <td>131</td>\n",
       "    </tr>\n",
       "    <tr>\n",
       "      <th>25216</th>\n",
       "      <td>34.8</td>\n",
       "      <td>15.30</td>\n",
       "      <td>8.58</td>\n",
       "      <td>4.0</td>\n",
       "      <td>132</td>\n",
       "    </tr>\n",
       "    <tr>\n",
       "      <th>25217</th>\n",
       "      <td>34.7</td>\n",
       "      <td>14.98</td>\n",
       "      <td>8.53</td>\n",
       "      <td>4.0</td>\n",
       "      <td>133</td>\n",
       "    </tr>\n",
       "    <tr>\n",
       "      <th>25218</th>\n",
       "      <td>34.6</td>\n",
       "      <td>14.66</td>\n",
       "      <td>8.47</td>\n",
       "      <td>4.0</td>\n",
       "      <td>134</td>\n",
       "    </tr>\n",
       "    <tr>\n",
       "      <th>25219</th>\n",
       "      <td>34.5</td>\n",
       "      <td>14.37</td>\n",
       "      <td>8.38</td>\n",
       "      <td>4.0</td>\n",
       "      <td>135</td>\n",
       "    </tr>\n",
       "    <tr>\n",
       "      <th>25220</th>\n",
       "      <td>34.4</td>\n",
       "      <td>14.13</td>\n",
       "      <td>8.25</td>\n",
       "      <td>4.0</td>\n",
       "      <td>136</td>\n",
       "    </tr>\n",
       "    <tr>\n",
       "      <th>25221</th>\n",
       "      <td>34.3</td>\n",
       "      <td>13.97</td>\n",
       "      <td>8.05</td>\n",
       "      <td>4.0</td>\n",
       "      <td>137</td>\n",
       "    </tr>\n",
       "    <tr>\n",
       "      <th>25222</th>\n",
       "      <td>34.2</td>\n",
       "      <td>13.92</td>\n",
       "      <td>7.78</td>\n",
       "      <td>4.0</td>\n",
       "      <td>138</td>\n",
       "    </tr>\n",
       "    <tr>\n",
       "      <th>25223</th>\n",
       "      <td>34.0</td>\n",
       "      <td>14.00</td>\n",
       "      <td>7.40</td>\n",
       "      <td>4.0</td>\n",
       "      <td>139</td>\n",
       "    </tr>\n",
       "    <tr>\n",
       "      <th>25224</th>\n",
       "      <td>33.3</td>\n",
       "      <td>15.47</td>\n",
       "      <td>6.67</td>\n",
       "      <td>3.9</td>\n",
       "      <td>140</td>\n",
       "    </tr>\n",
       "    <tr>\n",
       "      <th>25225</th>\n",
       "      <td>31.6</td>\n",
       "      <td>19.05</td>\n",
       "      <td>5.49</td>\n",
       "      <td>3.8</td>\n",
       "      <td>141</td>\n",
       "    </tr>\n",
       "    <tr>\n",
       "      <th>25226</th>\n",
       "      <td>29.3</td>\n",
       "      <td>23.95</td>\n",
       "      <td>4.07</td>\n",
       "      <td>3.6</td>\n",
       "      <td>142</td>\n",
       "    </tr>\n",
       "    <tr>\n",
       "      <th>25227</th>\n",
       "      <td>26.9</td>\n",
       "      <td>29.38</td>\n",
       "      <td>2.60</td>\n",
       "      <td>3.4</td>\n",
       "      <td>143</td>\n",
       "    </tr>\n",
       "    <tr>\n",
       "      <th>25228</th>\n",
       "      <td>24.6</td>\n",
       "      <td>34.56</td>\n",
       "      <td>1.29</td>\n",
       "      <td>3.2</td>\n",
       "      <td>144</td>\n",
       "    </tr>\n",
       "    <tr>\n",
       "      <th>25229</th>\n",
       "      <td>22.9</td>\n",
       "      <td>38.69</td>\n",
       "      <td>0.36</td>\n",
       "      <td>3.1</td>\n",
       "      <td>145</td>\n",
       "    </tr>\n",
       "  </tbody>\n",
       "</table>\n",
       "<p>24835 rows Ã 5 columns</p>\n",
       "</div>"
      ],
      "text/plain": [
       "       temperature  humidity  wind_speed  visibility  serial\n",
       "0             27.0     74.00        0.00         4.0       1\n",
       "1             27.0     74.00        0.56         4.0       2\n",
       "2             27.0     74.00        1.00         4.0       3\n",
       "3             27.0     74.00        1.33         4.0       4\n",
       "4             27.0     74.00        1.57         4.0       5\n",
       "5             27.0     74.00        1.75         4.0       6\n",
       "6             27.0     74.00        1.90         4.0       7\n",
       "7             27.0     74.00        1.81         4.0       8\n",
       "8             27.0     74.00        1.38         4.0       9\n",
       "9             27.0     74.00        0.81         4.0      10\n",
       "10            27.0     74.00        0.27         4.0      11\n",
       "11            27.0     74.00        0.06         4.0      12\n",
       "12            27.0     74.00        0.00         4.0      13\n",
       "13            27.1     73.76        0.72         4.0      14\n",
       "14            27.2     73.14        2.05         4.0      15\n",
       "15            27.4     72.30        3.69         4.0      16\n",
       "16            27.7     71.39        5.33         4.0      17\n",
       "17            27.9     70.57        6.67         4.0      18\n",
       "18            28.0     70.00        7.40         4.0      19\n",
       "19            28.0     69.77        7.72         4.0      20\n",
       "20            28.0     69.79        8.05         4.0      21\n",
       "21            27.9     69.95        8.36         4.0      22\n",
       "22            27.9     70.12        8.68         4.0      23\n",
       "23            27.9     70.18        8.99         4.0      24\n",
       "24            28.0     70.00        9.30         4.0      25\n",
       "25            28.2     69.40        9.61         4.0      26\n",
       "26            28.3     68.41        9.91         4.0      27\n",
       "27            28.5     67.18       10.22         4.0      28\n",
       "28            28.7     65.92       10.52         4.0      29\n",
       "29            28.8     64.80       10.81         4.0      30\n",
       "...            ...       ...         ...         ...     ...\n",
       "25200         35.0     15.89        6.45         4.9     116\n",
       "25201         35.0     15.69        7.93         4.7     117\n",
       "25202         35.0     15.46        9.69         4.4     118\n",
       "25203         35.0     15.23       11.37         4.2     119\n",
       "25204         35.0     15.07       12.59         4.1     120\n",
       "25205         35.0     15.00       13.00         4.0     121\n",
       "25206         35.0     15.05       12.69         4.0     122\n",
       "25207         35.0     15.20       12.08         4.0     123\n",
       "25208         35.0     15.39       11.29         4.0     124\n",
       "25209         35.0     15.62       10.48         4.0     125\n",
       "25210         35.0     15.83        9.77         4.0     126\n",
       "25211         35.0     16.00        9.30         4.0     127\n",
       "25212         35.0     16.07        9.04         4.0     128\n",
       "25213         35.0     16.01        8.85         4.0     129\n",
       "25214         34.9     15.84        8.73         4.0     130\n",
       "25215         34.9     15.60        8.64         4.0     131\n",
       "25216         34.8     15.30        8.58         4.0     132\n",
       "25217         34.7     14.98        8.53         4.0     133\n",
       "25218         34.6     14.66        8.47         4.0     134\n",
       "25219         34.5     14.37        8.38         4.0     135\n",
       "25220         34.4     14.13        8.25         4.0     136\n",
       "25221         34.3     13.97        8.05         4.0     137\n",
       "25222         34.2     13.92        7.78         4.0     138\n",
       "25223         34.0     14.00        7.40         4.0     139\n",
       "25224         33.3     15.47        6.67         3.9     140\n",
       "25225         31.6     19.05        5.49         3.8     141\n",
       "25226         29.3     23.95        4.07         3.6     142\n",
       "25227         26.9     29.38        2.60         3.4     143\n",
       "25228         24.6     34.56        1.29         3.2     144\n",
       "25229         22.9     38.69        0.36         3.1     145\n",
       "\n",
       "[24835 rows x 5 columns]"
      ]
     },
     "execution_count": 120,
     "metadata": {},
     "output_type": "execute_result"
    }
   ],
   "source": [
    "selector=(X['temperature']>10)\n",
    "X.loc[selector]"
   ]
  },
  {
   "cell_type": "code",
   "execution_count": 23,
   "metadata": {
    "collapsed": true
   },
   "outputs": [],
   "source": [
    "X_test.to_csv('abc1.csv')"
   ]
  },
  {
   "cell_type": "code",
   "execution_count": 24,
   "metadata": {},
   "outputs": [
    {
     "ename": "NameError",
     "evalue": "name 'df' is not defined",
     "output_type": "error",
     "traceback": [
      "\u001b[0;31m---------------------------------------------------------------------------\u001b[0m",
      "\u001b[0;31mNameError\u001b[0m                                 Traceback (most recent call last)",
      "\u001b[0;32m<ipython-input-24-ae080dfe78ac>\u001b[0m in \u001b[0;36m<module>\u001b[0;34m()\u001b[0m\n\u001b[0;32m----> 1\u001b[0;31m \u001b[0mdf\u001b[0m\u001b[0;34m.\u001b[0m\u001b[0mto_csv\u001b[0m\u001b[0;34m(\u001b[0m\u001b[0;34m'abc_check.csv'\u001b[0m\u001b[0;34m)\u001b[0m\u001b[0;34m\u001b[0m\u001b[0m\n\u001b[0m",
      "\u001b[0;31mNameError\u001b[0m: name 'df' is not defined"
     ]
    }
   ],
   "source": [
    "df.to_csv('abc_check.csv')"
   ]
  },
  {
   "cell_type": "code",
   "execution_count": 100,
   "metadata": {},
   "outputs": [
    {
     "data": {
      "text/html": [
       "<div>\n",
       "<style>\n",
       "    .dataframe thead tr:only-child th {\n",
       "        text-align: right;\n",
       "    }\n",
       "\n",
       "    .dataframe thead th {\n",
       "        text-align: left;\n",
       "    }\n",
       "\n",
       "    .dataframe tbody tr th {\n",
       "        vertical-align: top;\n",
       "    }\n",
       "</style>\n",
       "<table border=\"1\" class=\"dataframe\">\n",
       "  <thead>\n",
       "    <tr style=\"text-align: right;\">\n",
       "      <th></th>\n",
       "      <th>original</th>\n",
       "      <th>prediction</th>\n",
       "      <th>diff</th>\n",
       "    </tr>\n",
       "  </thead>\n",
       "  <tbody>\n",
       "    <tr>\n",
       "      <th>4</th>\n",
       "      <td>0.007030</td>\n",
       "      <td>0.0</td>\n",
       "      <td>1.000000</td>\n",
       "    </tr>\n",
       "    <tr>\n",
       "      <th>5</th>\n",
       "      <td>0.090900</td>\n",
       "      <td>0.0</td>\n",
       "      <td>1.000000</td>\n",
       "    </tr>\n",
       "    <tr>\n",
       "      <th>6</th>\n",
       "      <td>0.198160</td>\n",
       "      <td>0.0</td>\n",
       "      <td>1.000000</td>\n",
       "    </tr>\n",
       "    <tr>\n",
       "      <th>7</th>\n",
       "      <td>0.332000</td>\n",
       "      <td>0.0</td>\n",
       "      <td>1.000000</td>\n",
       "    </tr>\n",
       "    <tr>\n",
       "      <th>8</th>\n",
       "      <td>0.487540</td>\n",
       "      <td>0.0</td>\n",
       "      <td>1.000000</td>\n",
       "    </tr>\n",
       "    <tr>\n",
       "      <th>9</th>\n",
       "      <td>0.668560</td>\n",
       "      <td>0.0</td>\n",
       "      <td>1.000000</td>\n",
       "    </tr>\n",
       "    <tr>\n",
       "      <th>10</th>\n",
       "      <td>0.865750</td>\n",
       "      <td>0.0</td>\n",
       "      <td>1.000000</td>\n",
       "    </tr>\n",
       "    <tr>\n",
       "      <th>11</th>\n",
       "      <td>1.081800</td>\n",
       "      <td>0.4</td>\n",
       "      <td>0.630246</td>\n",
       "    </tr>\n",
       "    <tr>\n",
       "      <th>12</th>\n",
       "      <td>1.332300</td>\n",
       "      <td>0.7</td>\n",
       "      <td>0.474593</td>\n",
       "    </tr>\n",
       "    <tr>\n",
       "      <th>128</th>\n",
       "      <td>8.146620</td>\n",
       "      <td>4.3</td>\n",
       "      <td>0.472174</td>\n",
       "    </tr>\n",
       "    <tr>\n",
       "      <th>129</th>\n",
       "      <td>7.620620</td>\n",
       "      <td>4.0</td>\n",
       "      <td>0.475108</td>\n",
       "    </tr>\n",
       "    <tr>\n",
       "      <th>130</th>\n",
       "      <td>7.060020</td>\n",
       "      <td>4.1</td>\n",
       "      <td>0.419265</td>\n",
       "    </tr>\n",
       "    <tr>\n",
       "      <th>131</th>\n",
       "      <td>6.473080</td>\n",
       "      <td>3.2</td>\n",
       "      <td>0.505645</td>\n",
       "    </tr>\n",
       "    <tr>\n",
       "      <th>132</th>\n",
       "      <td>5.889250</td>\n",
       "      <td>3.1</td>\n",
       "      <td>0.473617</td>\n",
       "    </tr>\n",
       "    <tr>\n",
       "      <th>133</th>\n",
       "      <td>5.449810</td>\n",
       "      <td>2.8</td>\n",
       "      <td>0.486221</td>\n",
       "    </tr>\n",
       "    <tr>\n",
       "      <th>138</th>\n",
       "      <td>3.196630</td>\n",
       "      <td>1.7</td>\n",
       "      <td>0.468190</td>\n",
       "    </tr>\n",
       "    <tr>\n",
       "      <th>140</th>\n",
       "      <td>2.400040</td>\n",
       "      <td>0.6</td>\n",
       "      <td>0.750004</td>\n",
       "    </tr>\n",
       "    <tr>\n",
       "      <th>141</th>\n",
       "      <td>2.050580</td>\n",
       "      <td>0.2</td>\n",
       "      <td>0.902467</td>\n",
       "    </tr>\n",
       "    <tr>\n",
       "      <th>142</th>\n",
       "      <td>1.717740</td>\n",
       "      <td>0.1</td>\n",
       "      <td>0.941784</td>\n",
       "    </tr>\n",
       "    <tr>\n",
       "      <th>143</th>\n",
       "      <td>1.413910</td>\n",
       "      <td>0.1</td>\n",
       "      <td>0.929274</td>\n",
       "    </tr>\n",
       "    <tr>\n",
       "      <th>144</th>\n",
       "      <td>1.148090</td>\n",
       "      <td>0.2</td>\n",
       "      <td>0.825798</td>\n",
       "    </tr>\n",
       "    <tr>\n",
       "      <th>149</th>\n",
       "      <td>0.009160</td>\n",
       "      <td>0.0</td>\n",
       "      <td>1.000000</td>\n",
       "    </tr>\n",
       "    <tr>\n",
       "      <th>150</th>\n",
       "      <td>0.101850</td>\n",
       "      <td>0.0</td>\n",
       "      <td>1.000000</td>\n",
       "    </tr>\n",
       "    <tr>\n",
       "      <th>151</th>\n",
       "      <td>0.214900</td>\n",
       "      <td>0.0</td>\n",
       "      <td>1.000000</td>\n",
       "    </tr>\n",
       "    <tr>\n",
       "      <th>152</th>\n",
       "      <td>0.354890</td>\n",
       "      <td>0.0</td>\n",
       "      <td>1.000000</td>\n",
       "    </tr>\n",
       "    <tr>\n",
       "      <th>153</th>\n",
       "      <td>0.514850</td>\n",
       "      <td>0.0</td>\n",
       "      <td>1.000000</td>\n",
       "    </tr>\n",
       "    <tr>\n",
       "      <th>154</th>\n",
       "      <td>0.698080</td>\n",
       "      <td>0.0</td>\n",
       "      <td>1.000000</td>\n",
       "    </tr>\n",
       "    <tr>\n",
       "      <th>155</th>\n",
       "      <td>0.898170</td>\n",
       "      <td>0.0</td>\n",
       "      <td>1.000000</td>\n",
       "    </tr>\n",
       "    <tr>\n",
       "      <th>156</th>\n",
       "      <td>1.122370</td>\n",
       "      <td>0.3</td>\n",
       "      <td>0.732708</td>\n",
       "    </tr>\n",
       "    <tr>\n",
       "      <th>157</th>\n",
       "      <td>1.373420</td>\n",
       "      <td>0.8</td>\n",
       "      <td>0.417512</td>\n",
       "    </tr>\n",
       "    <tr>\n",
       "      <th>...</th>\n",
       "      <td>...</td>\n",
       "      <td>...</td>\n",
       "      <td>...</td>\n",
       "    </tr>\n",
       "    <tr>\n",
       "      <th>728</th>\n",
       "      <td>0.012010</td>\n",
       "      <td>0.0</td>\n",
       "      <td>1.000000</td>\n",
       "    </tr>\n",
       "    <tr>\n",
       "      <th>729</th>\n",
       "      <td>0.108180</td>\n",
       "      <td>0.0</td>\n",
       "      <td>1.000000</td>\n",
       "    </tr>\n",
       "    <tr>\n",
       "      <th>730</th>\n",
       "      <td>0.227420</td>\n",
       "      <td>0.0</td>\n",
       "      <td>1.000000</td>\n",
       "    </tr>\n",
       "    <tr>\n",
       "      <th>731</th>\n",
       "      <td>0.375790</td>\n",
       "      <td>0.0</td>\n",
       "      <td>1.000000</td>\n",
       "    </tr>\n",
       "    <tr>\n",
       "      <th>732</th>\n",
       "      <td>0.563060</td>\n",
       "      <td>0.0</td>\n",
       "      <td>1.000000</td>\n",
       "    </tr>\n",
       "    <tr>\n",
       "      <th>733</th>\n",
       "      <td>0.754460</td>\n",
       "      <td>0.0</td>\n",
       "      <td>1.000000</td>\n",
       "    </tr>\n",
       "    <tr>\n",
       "      <th>734</th>\n",
       "      <td>0.964940</td>\n",
       "      <td>0.0</td>\n",
       "      <td>1.000000</td>\n",
       "    </tr>\n",
       "    <tr>\n",
       "      <th>735</th>\n",
       "      <td>1.182450</td>\n",
       "      <td>0.0</td>\n",
       "      <td>1.000000</td>\n",
       "    </tr>\n",
       "    <tr>\n",
       "      <th>736</th>\n",
       "      <td>1.465180</td>\n",
       "      <td>0.8</td>\n",
       "      <td>0.453992</td>\n",
       "    </tr>\n",
       "    <tr>\n",
       "      <th>737</th>\n",
       "      <td>1.746420</td>\n",
       "      <td>0.9</td>\n",
       "      <td>0.484660</td>\n",
       "    </tr>\n",
       "    <tr>\n",
       "      <th>738</th>\n",
       "      <td>1.989800</td>\n",
       "      <td>1.0</td>\n",
       "      <td>0.497437</td>\n",
       "    </tr>\n",
       "    <tr>\n",
       "      <th>739</th>\n",
       "      <td>2.311630</td>\n",
       "      <td>1.3</td>\n",
       "      <td>0.437626</td>\n",
       "    </tr>\n",
       "    <tr>\n",
       "      <th>769</th>\n",
       "      <td>6.428720</td>\n",
       "      <td>15.7</td>\n",
       "      <td>1.442166</td>\n",
       "    </tr>\n",
       "    <tr>\n",
       "      <th>827</th>\n",
       "      <td>20.096130</td>\n",
       "      <td>6.7</td>\n",
       "      <td>0.666602</td>\n",
       "    </tr>\n",
       "    <tr>\n",
       "      <th>828</th>\n",
       "      <td>19.829559</td>\n",
       "      <td>7.4</td>\n",
       "      <td>0.626820</td>\n",
       "    </tr>\n",
       "    <tr>\n",
       "      <th>829</th>\n",
       "      <td>19.726971</td>\n",
       "      <td>9.0</td>\n",
       "      <td>0.543772</td>\n",
       "    </tr>\n",
       "    <tr>\n",
       "      <th>832</th>\n",
       "      <td>18.661690</td>\n",
       "      <td>9.9</td>\n",
       "      <td>0.469501</td>\n",
       "    </tr>\n",
       "    <tr>\n",
       "      <th>833</th>\n",
       "      <td>18.312380</td>\n",
       "      <td>9.5</td>\n",
       "      <td>0.481225</td>\n",
       "    </tr>\n",
       "    <tr>\n",
       "      <th>834</th>\n",
       "      <td>18.036390</td>\n",
       "      <td>9.6</td>\n",
       "      <td>0.467743</td>\n",
       "    </tr>\n",
       "    <tr>\n",
       "      <th>837</th>\n",
       "      <td>17.262430</td>\n",
       "      <td>9.7</td>\n",
       "      <td>0.438086</td>\n",
       "    </tr>\n",
       "    <tr>\n",
       "      <th>838</th>\n",
       "      <td>16.665779</td>\n",
       "      <td>8.0</td>\n",
       "      <td>0.519974</td>\n",
       "    </tr>\n",
       "    <tr>\n",
       "      <th>839</th>\n",
       "      <td>16.019991</td>\n",
       "      <td>6.7</td>\n",
       "      <td>0.581773</td>\n",
       "    </tr>\n",
       "    <tr>\n",
       "      <th>840</th>\n",
       "      <td>15.420200</td>\n",
       "      <td>6.1</td>\n",
       "      <td>0.604415</td>\n",
       "    </tr>\n",
       "    <tr>\n",
       "      <th>841</th>\n",
       "      <td>15.322150</td>\n",
       "      <td>7.4</td>\n",
       "      <td>0.517039</td>\n",
       "    </tr>\n",
       "    <tr>\n",
       "      <th>842</th>\n",
       "      <td>14.991710</td>\n",
       "      <td>8.4</td>\n",
       "      <td>0.439690</td>\n",
       "    </tr>\n",
       "    <tr>\n",
       "      <th>863</th>\n",
       "      <td>4.161300</td>\n",
       "      <td>2.4</td>\n",
       "      <td>0.423257</td>\n",
       "    </tr>\n",
       "    <tr>\n",
       "      <th>864</th>\n",
       "      <td>3.622170</td>\n",
       "      <td>1.7</td>\n",
       "      <td>0.530668</td>\n",
       "    </tr>\n",
       "    <tr>\n",
       "      <th>865</th>\n",
       "      <td>3.191170</td>\n",
       "      <td>1.7</td>\n",
       "      <td>0.467280</td>\n",
       "    </tr>\n",
       "    <tr>\n",
       "      <th>866</th>\n",
       "      <td>2.755460</td>\n",
       "      <td>1.5</td>\n",
       "      <td>0.455626</td>\n",
       "    </tr>\n",
       "    <tr>\n",
       "      <th>867</th>\n",
       "      <td>2.353230</td>\n",
       "      <td>1.3</td>\n",
       "      <td>0.447568</td>\n",
       "    </tr>\n",
       "  </tbody>\n",
       "</table>\n",
       "<p>136 rows Ã 3 columns</p>\n",
       "</div>"
      ],
      "text/plain": [
       "      original  prediction      diff\n",
       "4     0.007030         0.0  1.000000\n",
       "5     0.090900         0.0  1.000000\n",
       "6     0.198160         0.0  1.000000\n",
       "7     0.332000         0.0  1.000000\n",
       "8     0.487540         0.0  1.000000\n",
       "9     0.668560         0.0  1.000000\n",
       "10    0.865750         0.0  1.000000\n",
       "11    1.081800         0.4  0.630246\n",
       "12    1.332300         0.7  0.474593\n",
       "128   8.146620         4.3  0.472174\n",
       "129   7.620620         4.0  0.475108\n",
       "130   7.060020         4.1  0.419265\n",
       "131   6.473080         3.2  0.505645\n",
       "132   5.889250         3.1  0.473617\n",
       "133   5.449810         2.8  0.486221\n",
       "138   3.196630         1.7  0.468190\n",
       "140   2.400040         0.6  0.750004\n",
       "141   2.050580         0.2  0.902467\n",
       "142   1.717740         0.1  0.941784\n",
       "143   1.413910         0.1  0.929274\n",
       "144   1.148090         0.2  0.825798\n",
       "149   0.009160         0.0  1.000000\n",
       "150   0.101850         0.0  1.000000\n",
       "151   0.214900         0.0  1.000000\n",
       "152   0.354890         0.0  1.000000\n",
       "153   0.514850         0.0  1.000000\n",
       "154   0.698080         0.0  1.000000\n",
       "155   0.898170         0.0  1.000000\n",
       "156   1.122370         0.3  0.732708\n",
       "157   1.373420         0.8  0.417512\n",
       "..         ...         ...       ...\n",
       "728   0.012010         0.0  1.000000\n",
       "729   0.108180         0.0  1.000000\n",
       "730   0.227420         0.0  1.000000\n",
       "731   0.375790         0.0  1.000000\n",
       "732   0.563060         0.0  1.000000\n",
       "733   0.754460         0.0  1.000000\n",
       "734   0.964940         0.0  1.000000\n",
       "735   1.182450         0.0  1.000000\n",
       "736   1.465180         0.8  0.453992\n",
       "737   1.746420         0.9  0.484660\n",
       "738   1.989800         1.0  0.497437\n",
       "739   2.311630         1.3  0.437626\n",
       "769   6.428720        15.7  1.442166\n",
       "827  20.096130         6.7  0.666602\n",
       "828  19.829559         7.4  0.626820\n",
       "829  19.726971         9.0  0.543772\n",
       "832  18.661690         9.9  0.469501\n",
       "833  18.312380         9.5  0.481225\n",
       "834  18.036390         9.6  0.467743\n",
       "837  17.262430         9.7  0.438086\n",
       "838  16.665779         8.0  0.519974\n",
       "839  16.019991         6.7  0.581773\n",
       "840  15.420200         6.1  0.604415\n",
       "841  15.322150         7.4  0.517039\n",
       "842  14.991710         8.4  0.439690\n",
       "863   4.161300         2.4  0.423257\n",
       "864   3.622170         1.7  0.530668\n",
       "865   3.191170         1.7  0.467280\n",
       "866   2.755460         1.5  0.455626\n",
       "867   2.353230         1.3  0.447568\n",
       "\n",
       "[136 rows x 3 columns]"
      ]
     },
     "execution_count": 100,
     "metadata": {},
     "output_type": "execute_result"
    }
   ],
   "source": [
    "df.loc[df['diff']>0.40,:]"
   ]
  },
  {
   "cell_type": "code",
   "execution_count": 23,
   "metadata": {},
   "outputs": [
    {
     "ename": "FileNotFoundError",
     "evalue": "File b'Result on Interpolated day of 5Days.csv' does not exist",
     "output_type": "error",
     "traceback": [
      "\u001b[1;31m---------------------------------------------------------------------------\u001b[0m",
      "\u001b[1;31mFileNotFoundError\u001b[0m                         Traceback (most recent call last)",
      "\u001b[1;32m<ipython-input-23-79f90076f44a>\u001b[0m in \u001b[0;36m<module>\u001b[1;34m()\u001b[0m\n\u001b[1;32m----> 1\u001b[1;33m \u001b[0manalysis\u001b[0m\u001b[1;33m=\u001b[0m\u001b[0mpd\u001b[0m\u001b[1;33m.\u001b[0m\u001b[0mread_csv\u001b[0m\u001b[1;33m(\u001b[0m\u001b[1;34m'Result on Interpolated day of 5Days.csv'\u001b[0m\u001b[1;33m)\u001b[0m\u001b[1;33m\u001b[0m\u001b[0m\n\u001b[0m",
      "\u001b[1;32mC:\\ProgramData\\Anaconda3\\lib\\site-packages\\pandas\\io\\parsers.py\u001b[0m in \u001b[0;36mparser_f\u001b[1;34m(filepath_or_buffer, sep, delimiter, header, names, index_col, usecols, squeeze, prefix, mangle_dupe_cols, dtype, engine, converters, true_values, false_values, skipinitialspace, skiprows, nrows, na_values, keep_default_na, na_filter, verbose, skip_blank_lines, parse_dates, infer_datetime_format, keep_date_col, date_parser, dayfirst, iterator, chunksize, compression, thousands, decimal, lineterminator, quotechar, quoting, escapechar, comment, encoding, dialect, tupleize_cols, error_bad_lines, warn_bad_lines, skipfooter, skip_footer, doublequote, delim_whitespace, as_recarray, compact_ints, use_unsigned, low_memory, buffer_lines, memory_map, float_precision)\u001b[0m\n\u001b[0;32m    653\u001b[0m                     skip_blank_lines=skip_blank_lines)\n\u001b[0;32m    654\u001b[0m \u001b[1;33m\u001b[0m\u001b[0m\n\u001b[1;32m--> 655\u001b[1;33m         \u001b[1;32mreturn\u001b[0m \u001b[0m_read\u001b[0m\u001b[1;33m(\u001b[0m\u001b[0mfilepath_or_buffer\u001b[0m\u001b[1;33m,\u001b[0m \u001b[0mkwds\u001b[0m\u001b[1;33m)\u001b[0m\u001b[1;33m\u001b[0m\u001b[0m\n\u001b[0m\u001b[0;32m    656\u001b[0m \u001b[1;33m\u001b[0m\u001b[0m\n\u001b[0;32m    657\u001b[0m     \u001b[0mparser_f\u001b[0m\u001b[1;33m.\u001b[0m\u001b[0m__name__\u001b[0m \u001b[1;33m=\u001b[0m \u001b[0mname\u001b[0m\u001b[1;33m\u001b[0m\u001b[0m\n",
      "\u001b[1;32mC:\\ProgramData\\Anaconda3\\lib\\site-packages\\pandas\\io\\parsers.py\u001b[0m in \u001b[0;36m_read\u001b[1;34m(filepath_or_buffer, kwds)\u001b[0m\n\u001b[0;32m    403\u001b[0m \u001b[1;33m\u001b[0m\u001b[0m\n\u001b[0;32m    404\u001b[0m     \u001b[1;31m# Create the parser.\u001b[0m\u001b[1;33m\u001b[0m\u001b[1;33m\u001b[0m\u001b[0m\n\u001b[1;32m--> 405\u001b[1;33m     \u001b[0mparser\u001b[0m \u001b[1;33m=\u001b[0m \u001b[0mTextFileReader\u001b[0m\u001b[1;33m(\u001b[0m\u001b[0mfilepath_or_buffer\u001b[0m\u001b[1;33m,\u001b[0m \u001b[1;33m**\u001b[0m\u001b[0mkwds\u001b[0m\u001b[1;33m)\u001b[0m\u001b[1;33m\u001b[0m\u001b[0m\n\u001b[0m\u001b[0;32m    406\u001b[0m \u001b[1;33m\u001b[0m\u001b[0m\n\u001b[0;32m    407\u001b[0m     \u001b[1;32mif\u001b[0m \u001b[0mchunksize\u001b[0m \u001b[1;32mor\u001b[0m \u001b[0miterator\u001b[0m\u001b[1;33m:\u001b[0m\u001b[1;33m\u001b[0m\u001b[0m\n",
      "\u001b[1;32mC:\\ProgramData\\Anaconda3\\lib\\site-packages\\pandas\\io\\parsers.py\u001b[0m in \u001b[0;36m__init__\u001b[1;34m(self, f, engine, **kwds)\u001b[0m\n\u001b[0;32m    760\u001b[0m             \u001b[0mself\u001b[0m\u001b[1;33m.\u001b[0m\u001b[0moptions\u001b[0m\u001b[1;33m[\u001b[0m\u001b[1;34m'has_index_names'\u001b[0m\u001b[1;33m]\u001b[0m \u001b[1;33m=\u001b[0m \u001b[0mkwds\u001b[0m\u001b[1;33m[\u001b[0m\u001b[1;34m'has_index_names'\u001b[0m\u001b[1;33m]\u001b[0m\u001b[1;33m\u001b[0m\u001b[0m\n\u001b[0;32m    761\u001b[0m \u001b[1;33m\u001b[0m\u001b[0m\n\u001b[1;32m--> 762\u001b[1;33m         \u001b[0mself\u001b[0m\u001b[1;33m.\u001b[0m\u001b[0m_make_engine\u001b[0m\u001b[1;33m(\u001b[0m\u001b[0mself\u001b[0m\u001b[1;33m.\u001b[0m\u001b[0mengine\u001b[0m\u001b[1;33m)\u001b[0m\u001b[1;33m\u001b[0m\u001b[0m\n\u001b[0m\u001b[0;32m    763\u001b[0m \u001b[1;33m\u001b[0m\u001b[0m\n\u001b[0;32m    764\u001b[0m     \u001b[1;32mdef\u001b[0m \u001b[0mclose\u001b[0m\u001b[1;33m(\u001b[0m\u001b[0mself\u001b[0m\u001b[1;33m)\u001b[0m\u001b[1;33m:\u001b[0m\u001b[1;33m\u001b[0m\u001b[0m\n",
      "\u001b[1;32mC:\\ProgramData\\Anaconda3\\lib\\site-packages\\pandas\\io\\parsers.py\u001b[0m in \u001b[0;36m_make_engine\u001b[1;34m(self, engine)\u001b[0m\n\u001b[0;32m    964\u001b[0m     \u001b[1;32mdef\u001b[0m \u001b[0m_make_engine\u001b[0m\u001b[1;33m(\u001b[0m\u001b[0mself\u001b[0m\u001b[1;33m,\u001b[0m \u001b[0mengine\u001b[0m\u001b[1;33m=\u001b[0m\u001b[1;34m'c'\u001b[0m\u001b[1;33m)\u001b[0m\u001b[1;33m:\u001b[0m\u001b[1;33m\u001b[0m\u001b[0m\n\u001b[0;32m    965\u001b[0m         \u001b[1;32mif\u001b[0m \u001b[0mengine\u001b[0m \u001b[1;33m==\u001b[0m \u001b[1;34m'c'\u001b[0m\u001b[1;33m:\u001b[0m\u001b[1;33m\u001b[0m\u001b[0m\n\u001b[1;32m--> 966\u001b[1;33m             \u001b[0mself\u001b[0m\u001b[1;33m.\u001b[0m\u001b[0m_engine\u001b[0m \u001b[1;33m=\u001b[0m \u001b[0mCParserWrapper\u001b[0m\u001b[1;33m(\u001b[0m\u001b[0mself\u001b[0m\u001b[1;33m.\u001b[0m\u001b[0mf\u001b[0m\u001b[1;33m,\u001b[0m \u001b[1;33m**\u001b[0m\u001b[0mself\u001b[0m\u001b[1;33m.\u001b[0m\u001b[0moptions\u001b[0m\u001b[1;33m)\u001b[0m\u001b[1;33m\u001b[0m\u001b[0m\n\u001b[0m\u001b[0;32m    967\u001b[0m         \u001b[1;32melse\u001b[0m\u001b[1;33m:\u001b[0m\u001b[1;33m\u001b[0m\u001b[0m\n\u001b[0;32m    968\u001b[0m             \u001b[1;32mif\u001b[0m \u001b[0mengine\u001b[0m \u001b[1;33m==\u001b[0m \u001b[1;34m'python'\u001b[0m\u001b[1;33m:\u001b[0m\u001b[1;33m\u001b[0m\u001b[0m\n",
      "\u001b[1;32mC:\\ProgramData\\Anaconda3\\lib\\site-packages\\pandas\\io\\parsers.py\u001b[0m in \u001b[0;36m__init__\u001b[1;34m(self, src, **kwds)\u001b[0m\n\u001b[0;32m   1580\u001b[0m         \u001b[0mkwds\u001b[0m\u001b[1;33m[\u001b[0m\u001b[1;34m'allow_leading_cols'\u001b[0m\u001b[1;33m]\u001b[0m \u001b[1;33m=\u001b[0m \u001b[0mself\u001b[0m\u001b[1;33m.\u001b[0m\u001b[0mindex_col\u001b[0m \u001b[1;32mis\u001b[0m \u001b[1;32mnot\u001b[0m \u001b[1;32mFalse\u001b[0m\u001b[1;33m\u001b[0m\u001b[0m\n\u001b[0;32m   1581\u001b[0m \u001b[1;33m\u001b[0m\u001b[0m\n\u001b[1;32m-> 1582\u001b[1;33m         \u001b[0mself\u001b[0m\u001b[1;33m.\u001b[0m\u001b[0m_reader\u001b[0m \u001b[1;33m=\u001b[0m \u001b[0mparsers\u001b[0m\u001b[1;33m.\u001b[0m\u001b[0mTextReader\u001b[0m\u001b[1;33m(\u001b[0m\u001b[0msrc\u001b[0m\u001b[1;33m,\u001b[0m \u001b[1;33m**\u001b[0m\u001b[0mkwds\u001b[0m\u001b[1;33m)\u001b[0m\u001b[1;33m\u001b[0m\u001b[0m\n\u001b[0m\u001b[0;32m   1583\u001b[0m \u001b[1;33m\u001b[0m\u001b[0m\n\u001b[0;32m   1584\u001b[0m         \u001b[1;31m# XXX\u001b[0m\u001b[1;33m\u001b[0m\u001b[1;33m\u001b[0m\u001b[0m\n",
      "\u001b[1;32mpandas\\_libs\\parsers.pyx\u001b[0m in \u001b[0;36mpandas._libs.parsers.TextReader.__cinit__ (pandas\\_libs\\parsers.c:4209)\u001b[1;34m()\u001b[0m\n",
      "\u001b[1;32mpandas\\_libs\\parsers.pyx\u001b[0m in \u001b[0;36mpandas._libs.parsers.TextReader._setup_parser_source (pandas\\_libs\\parsers.c:8873)\u001b[1;34m()\u001b[0m\n",
      "\u001b[1;31mFileNotFoundError\u001b[0m: File b'Result on Interpolated day of 5Days.csv' does not exist"
     ]
    }
   ],
   "source": [
    "analysis=pd.read_csv('Result on Interpolated day of 5Days.csv')"
   ]
  },
  {
   "cell_type": "code",
   "execution_count": 24,
   "metadata": {},
   "outputs": [
    {
     "ename": "NameError",
     "evalue": "name 'analysis' is not defined",
     "output_type": "error",
     "traceback": [
      "\u001b[1;31m---------------------------------------------------------------------------\u001b[0m",
      "\u001b[1;31mNameError\u001b[0m                                 Traceback (most recent call last)",
      "\u001b[1;32m<ipython-input-24-c349f4e4b414>\u001b[0m in \u001b[0;36m<module>\u001b[1;34m()\u001b[0m\n\u001b[1;32m----> 1\u001b[1;33m \u001b[0manalysis\u001b[0m\u001b[1;33m.\u001b[0m\u001b[0mhead\u001b[0m\u001b[1;33m(\u001b[0m\u001b[1;33m)\u001b[0m\u001b[1;33m\u001b[0m\u001b[0m\n\u001b[0m",
      "\u001b[1;31mNameError\u001b[0m: name 'analysis' is not defined"
     ]
    }
   ],
   "source": [
    "analysis.head()"
   ]
  },
  {
   "cell_type": "code",
   "execution_count": 393,
   "metadata": {
    "collapsed": true
   },
   "outputs": [],
   "source": [
    "analysis=analysis.drop(['Unnamed: 7','Unnamed: 12','Unnamed: 13','Unnamed: 14'],axis=1)"
   ]
  },
  {
   "cell_type": "code",
   "execution_count": 394,
   "metadata": {},
   "outputs": [
    {
     "data": {
      "text/html": [
       "<div>\n",
       "<style>\n",
       "    .dataframe thead tr:only-child th {\n",
       "        text-align: right;\n",
       "    }\n",
       "\n",
       "    .dataframe thead th {\n",
       "        text-align: left;\n",
       "    }\n",
       "\n",
       "    .dataframe tbody tr th {\n",
       "        vertical-align: top;\n",
       "    }\n",
       "</style>\n",
       "<table border=\"1\" class=\"dataframe\">\n",
       "  <thead>\n",
       "    <tr style=\"text-align: right;\">\n",
       "      <th></th>\n",
       "      <th>Date</th>\n",
       "      <th>Time</th>\n",
       "      <th>temperature</th>\n",
       "      <th>humidity</th>\n",
       "      <th>wind_speed</th>\n",
       "      <th>visibility</th>\n",
       "      <th>serial</th>\n",
       "      <th>S.No</th>\n",
       "      <th>original</th>\n",
       "      <th>prediction</th>\n",
       "      <th>ErrorRatio</th>\n",
       "    </tr>\n",
       "  </thead>\n",
       "  <tbody>\n",
       "    <tr>\n",
       "      <th>0</th>\n",
       "      <td>25-03-17</td>\n",
       "      <td>6:00</td>\n",
       "      <td>22.0</td>\n",
       "      <td>41.00</td>\n",
       "      <td>0.0</td>\n",
       "      <td>3.0</td>\n",
       "      <td>1</td>\n",
       "      <td>0</td>\n",
       "      <td>0.00000</td>\n",
       "      <td>0.0</td>\n",
       "      <td>0.0</td>\n",
       "    </tr>\n",
       "    <tr>\n",
       "      <th>1</th>\n",
       "      <td>25-03-17</td>\n",
       "      <td>6:05</td>\n",
       "      <td>21.8</td>\n",
       "      <td>41.92</td>\n",
       "      <td>0.0</td>\n",
       "      <td>3.0</td>\n",
       "      <td>2</td>\n",
       "      <td>1</td>\n",
       "      <td>0.00000</td>\n",
       "      <td>0.0</td>\n",
       "      <td>0.0</td>\n",
       "    </tr>\n",
       "    <tr>\n",
       "      <th>2</th>\n",
       "      <td>25-03-17</td>\n",
       "      <td>6:10</td>\n",
       "      <td>21.6</td>\n",
       "      <td>42.45</td>\n",
       "      <td>0.0</td>\n",
       "      <td>3.0</td>\n",
       "      <td>3</td>\n",
       "      <td>2</td>\n",
       "      <td>0.00000</td>\n",
       "      <td>0.0</td>\n",
       "      <td>0.0</td>\n",
       "    </tr>\n",
       "    <tr>\n",
       "      <th>3</th>\n",
       "      <td>25-03-17</td>\n",
       "      <td>6:15</td>\n",
       "      <td>21.6</td>\n",
       "      <td>42.61</td>\n",
       "      <td>0.0</td>\n",
       "      <td>3.0</td>\n",
       "      <td>4</td>\n",
       "      <td>3</td>\n",
       "      <td>0.00000</td>\n",
       "      <td>0.0</td>\n",
       "      <td>0.0</td>\n",
       "    </tr>\n",
       "    <tr>\n",
       "      <th>4</th>\n",
       "      <td>25-03-17</td>\n",
       "      <td>6:20</td>\n",
       "      <td>21.6</td>\n",
       "      <td>42.40</td>\n",
       "      <td>0.0</td>\n",
       "      <td>3.0</td>\n",
       "      <td>5</td>\n",
       "      <td>4</td>\n",
       "      <td>0.00703</td>\n",
       "      <td>0.0</td>\n",
       "      <td>1.0</td>\n",
       "    </tr>\n",
       "  </tbody>\n",
       "</table>\n",
       "</div>"
      ],
      "text/plain": [
       "       Date  Time  temperature  humidity  wind_speed  visibility  serial  \\\n",
       "0  25-03-17  6:00         22.0     41.00         0.0         3.0       1   \n",
       "1  25-03-17  6:05         21.8     41.92         0.0         3.0       2   \n",
       "2  25-03-17  6:10         21.6     42.45         0.0         3.0       3   \n",
       "3  25-03-17  6:15         21.6     42.61         0.0         3.0       4   \n",
       "4  25-03-17  6:20         21.6     42.40         0.0         3.0       5   \n",
       "\n",
       "   S.No  original  prediction  ErrorRatio  \n",
       "0     0   0.00000         0.0         0.0  \n",
       "1     1   0.00000         0.0         0.0  \n",
       "2     2   0.00000         0.0         0.0  \n",
       "3     3   0.00000         0.0         0.0  \n",
       "4     4   0.00703         0.0         1.0  "
      ]
     },
     "execution_count": 394,
     "metadata": {},
     "output_type": "execute_result"
    }
   ],
   "source": [
    "analysis.head()"
   ]
  },
  {
   "cell_type": "code",
   "execution_count": 401,
   "metadata": {
    "collapsed": true
   },
   "outputs": [],
   "source": [
    "a1=analysis.loc[analysis.ErrorRatio>.30,:]"
   ]
  },
  {
   "cell_type": "code",
   "execution_count": 53,
   "metadata": {},
   "outputs": [
    {
     "ename": "NameError",
     "evalue": "name 'a1' is not defined",
     "output_type": "error",
     "traceback": [
      "\u001b[0;31m---------------------------------------------------------------------------\u001b[0m",
      "\u001b[0;31mNameError\u001b[0m                                 Traceback (most recent call last)",
      "\u001b[0;32m<ipython-input-53-dca3df960c4f>\u001b[0m in \u001b[0;36m<module>\u001b[0;34m()\u001b[0m\n\u001b[0;32m----> 1\u001b[0;31m \u001b[0ma1\u001b[0m\u001b[0;34m.\u001b[0m\u001b[0mhead\u001b[0m\u001b[0;34m(\u001b[0m\u001b[0;36m3\u001b[0m\u001b[0;34m)\u001b[0m\u001b[0;34m\u001b[0m\u001b[0m\n\u001b[0m",
      "\u001b[0;31mNameError\u001b[0m: name 'a1' is not defined"
     ]
    }
   ],
   "source": [
    "a1.head(3)"
   ]
  },
  {
   "cell_type": "code",
   "execution_count": 409,
   "metadata": {},
   "outputs": [
    {
     "data": {
      "text/plain": [
       "Date           245\n",
       "Time           245\n",
       "temperature    245\n",
       "humidity       245\n",
       "wind_speed     245\n",
       "visibility     245\n",
       "serial         245\n",
       "S.No           245\n",
       "original       245\n",
       "prediction     245\n",
       "ErrorRatio     245\n",
       "dtype: int64"
      ]
     },
     "execution_count": 409,
     "metadata": {},
     "output_type": "execute_result"
    }
   ],
   "source": [
    "a1.count()"
   ]
  },
  {
   "cell_type": "code",
   "execution_count": 413,
   "metadata": {},
   "outputs": [
    {
     "data": {
      "text/html": [
       "<div>\n",
       "<style>\n",
       "    .dataframe thead tr:only-child th {\n",
       "        text-align: right;\n",
       "    }\n",
       "\n",
       "    .dataframe thead th {\n",
       "        text-align: left;\n",
       "    }\n",
       "\n",
       "    .dataframe tbody tr th {\n",
       "        vertical-align: top;\n",
       "    }\n",
       "</style>\n",
       "<table border=\"1\" class=\"dataframe\">\n",
       "  <thead>\n",
       "    <tr style=\"text-align: right;\">\n",
       "      <th></th>\n",
       "      <th>Date</th>\n",
       "      <th>Time</th>\n",
       "      <th>temperature</th>\n",
       "      <th>humidity</th>\n",
       "      <th>wind_speed</th>\n",
       "      <th>visibility</th>\n",
       "      <th>serial</th>\n",
       "      <th>S.No</th>\n",
       "      <th>original</th>\n",
       "      <th>prediction</th>\n",
       "      <th>ErrorRatio</th>\n",
       "    </tr>\n",
       "  </thead>\n",
       "  <tbody>\n",
       "    <tr>\n",
       "      <th>49</th>\n",
       "      <td>25-03-17</td>\n",
       "      <td>10:05</td>\n",
       "      <td>30.2</td>\n",
       "      <td>22.49</td>\n",
       "      <td>7.23</td>\n",
       "      <td>3.1</td>\n",
       "      <td>50</td>\n",
       "      <td>49</td>\n",
       "      <td>17.949680</td>\n",
       "      <td>18.5</td>\n",
       "      <td>0.030659</td>\n",
       "    </tr>\n",
       "    <tr>\n",
       "      <th>194</th>\n",
       "      <td>26-03-17</td>\n",
       "      <td>10:05</td>\n",
       "      <td>31.2</td>\n",
       "      <td>23.67</td>\n",
       "      <td>1.69</td>\n",
       "      <td>3.0</td>\n",
       "      <td>50</td>\n",
       "      <td>194</td>\n",
       "      <td>17.386761</td>\n",
       "      <td>13.9</td>\n",
       "      <td>0.200541</td>\n",
       "    </tr>\n",
       "    <tr>\n",
       "      <th>339</th>\n",
       "      <td>27-03-17</td>\n",
       "      <td>10:05</td>\n",
       "      <td>33.2</td>\n",
       "      <td>22.62</td>\n",
       "      <td>0.00</td>\n",
       "      <td>3.0</td>\n",
       "      <td>50</td>\n",
       "      <td>339</td>\n",
       "      <td>17.517879</td>\n",
       "      <td>12.9</td>\n",
       "      <td>0.263610</td>\n",
       "    </tr>\n",
       "    <tr>\n",
       "      <th>484</th>\n",
       "      <td>28-03-17</td>\n",
       "      <td>10:05</td>\n",
       "      <td>34.2</td>\n",
       "      <td>19.57</td>\n",
       "      <td>6.07</td>\n",
       "      <td>4.0</td>\n",
       "      <td>50</td>\n",
       "      <td>484</td>\n",
       "      <td>17.499420</td>\n",
       "      <td>16.0</td>\n",
       "      <td>0.085684</td>\n",
       "    </tr>\n",
       "    <tr>\n",
       "      <th>629</th>\n",
       "      <td>29-03-17</td>\n",
       "      <td>10:05</td>\n",
       "      <td>34.8</td>\n",
       "      <td>17.82</td>\n",
       "      <td>14.75</td>\n",
       "      <td>4.0</td>\n",
       "      <td>50</td>\n",
       "      <td>629</td>\n",
       "      <td>12.130120</td>\n",
       "      <td>17.7</td>\n",
       "      <td>0.459178</td>\n",
       "    </tr>\n",
       "    <tr>\n",
       "      <th>774</th>\n",
       "      <td>30-03-17</td>\n",
       "      <td>10:05</td>\n",
       "      <td>34.9</td>\n",
       "      <td>15.95</td>\n",
       "      <td>9.34</td>\n",
       "      <td>4.5</td>\n",
       "      <td>50</td>\n",
       "      <td>774</td>\n",
       "      <td>18.960979</td>\n",
       "      <td>17.6</td>\n",
       "      <td>0.071778</td>\n",
       "    </tr>\n",
       "  </tbody>\n",
       "</table>\n",
       "</div>"
      ],
      "text/plain": [
       "         Date   Time  temperature  humidity  wind_speed  visibility  serial  \\\n",
       "49   25-03-17  10:05         30.2     22.49        7.23         3.1      50   \n",
       "194  26-03-17  10:05         31.2     23.67        1.69         3.0      50   \n",
       "339  27-03-17  10:05         33.2     22.62        0.00         3.0      50   \n",
       "484  28-03-17  10:05         34.2     19.57        6.07         4.0      50   \n",
       "629  29-03-17  10:05         34.8     17.82       14.75         4.0      50   \n",
       "774  30-03-17  10:05         34.9     15.95        9.34         4.5      50   \n",
       "\n",
       "     S.No   original  prediction  ErrorRatio  \n",
       "49     49  17.949680        18.5    0.030659  \n",
       "194   194  17.386761        13.9    0.200541  \n",
       "339   339  17.517879        12.9    0.263610  \n",
       "484   484  17.499420        16.0    0.085684  \n",
       "629   629  12.130120        17.7    0.459178  \n",
       "774   774  18.960979        17.6    0.071778  "
      ]
     },
     "execution_count": 413,
     "metadata": {},
     "output_type": "execute_result"
    }
   ],
   "source": [
    "analysis.loc[analysis.serial==50,:]"
   ]
  },
  {
   "cell_type": "code",
   "execution_count": 27,
   "metadata": {},
   "outputs": [
    {
     "data": {
      "text/html": [
       "<div>\n",
       "<style>\n",
       "    .dataframe thead tr:only-child th {\n",
       "        text-align: right;\n",
       "    }\n",
       "\n",
       "    .dataframe thead th {\n",
       "        text-align: left;\n",
       "    }\n",
       "\n",
       "    .dataframe tbody tr th {\n",
       "        vertical-align: top;\n",
       "    }\n",
       "</style>\n",
       "<table border=\"1\" class=\"dataframe\">\n",
       "  <thead>\n",
       "    <tr style=\"text-align: right;\">\n",
       "      <th></th>\n",
       "      <th>temperature</th>\n",
       "      <th>humidity</th>\n",
       "      <th>wind_speed</th>\n",
       "      <th>visibility</th>\n",
       "      <th>serial</th>\n",
       "    </tr>\n",
       "  </thead>\n",
       "  <tbody>\n",
       "    <tr>\n",
       "      <th>0</th>\n",
       "      <td>22.0</td>\n",
       "      <td>41.00</td>\n",
       "      <td>0.4</td>\n",
       "      <td>3.0</td>\n",
       "      <td>1</td>\n",
       "    </tr>\n",
       "    <tr>\n",
       "      <th>1</th>\n",
       "      <td>21.8</td>\n",
       "      <td>41.92</td>\n",
       "      <td>0.4</td>\n",
       "      <td>3.0</td>\n",
       "      <td>2</td>\n",
       "    </tr>\n",
       "    <tr>\n",
       "      <th>2</th>\n",
       "      <td>21.6</td>\n",
       "      <td>42.45</td>\n",
       "      <td>0.4</td>\n",
       "      <td>3.0</td>\n",
       "      <td>3</td>\n",
       "    </tr>\n",
       "    <tr>\n",
       "      <th>3</th>\n",
       "      <td>21.6</td>\n",
       "      <td>42.61</td>\n",
       "      <td>0.4</td>\n",
       "      <td>3.0</td>\n",
       "      <td>4</td>\n",
       "    </tr>\n",
       "    <tr>\n",
       "      <th>4</th>\n",
       "      <td>21.6</td>\n",
       "      <td>42.40</td>\n",
       "      <td>0.4</td>\n",
       "      <td>3.0</td>\n",
       "      <td>5</td>\n",
       "    </tr>\n",
       "  </tbody>\n",
       "</table>\n",
       "</div>"
      ],
      "text/plain": [
       "   temperature  humidity  wind_speed  visibility  serial\n",
       "0         22.0     41.00         0.4         3.0       1\n",
       "1         21.8     41.92         0.4         3.0       2\n",
       "2         21.6     42.45         0.4         3.0       3\n",
       "3         21.6     42.61         0.4         3.0       4\n",
       "4         21.6     42.40         0.4         3.0       5"
      ]
     },
     "execution_count": 27,
     "metadata": {},
     "output_type": "execute_result"
    }
   ],
   "source": [
    "X_test.head()"
   ]
  },
  {
   "cell_type": "code",
   "execution_count": 18,
   "metadata": {},
   "outputs": [
    {
     "data": {
      "text/plain": [
       "-0.55077801804016391"
      ]
     },
     "execution_count": 18,
     "metadata": {},
     "output_type": "execute_result"
    }
   ],
   "source": [
    "X['humidity'].corr(X['visibility'])"
   ]
  },
  {
   "cell_type": "code",
   "execution_count": 19,
   "metadata": {},
   "outputs": [
    {
     "data": {
      "text/plain": [
       "0.34502025627017363"
      ]
     },
     "execution_count": 19,
     "metadata": {},
     "output_type": "execute_result"
    }
   ],
   "source": [
    "X['wind_speed'].corr(X['visibility'])"
   ]
  },
  {
   "cell_type": "code",
   "execution_count": 20,
   "metadata": {},
   "outputs": [
    {
     "data": {
      "text/plain": [
       "0.59358314396419587"
      ]
     },
     "execution_count": 20,
     "metadata": {},
     "output_type": "execute_result"
    }
   ],
   "source": [
    "X['temperature'].corr(X['visibility'])"
   ]
  },
  {
   "cell_type": "code",
   "execution_count": 654,
   "metadata": {},
   "outputs": [
    {
     "data": {
      "text/plain": [
       "0.45774914475989709"
      ]
     },
     "execution_count": 654,
     "metadata": {},
     "output_type": "execute_result"
    }
   ],
   "source": [
    "X['serial'].corr(X['visibility'])"
   ]
  },
  {
   "cell_type": "code",
   "execution_count": 656,
   "metadata": {},
   "outputs": [
    {
     "data": {
      "text/plain": [
       "0.13797609199101929"
      ]
     },
     "execution_count": 656,
     "metadata": {},
     "output_type": "execute_result"
    }
   ],
   "source": [
    "\n",
    "\n",
    "Y.corr(X['serial'])"
   ]
  },
  {
   "cell_type": "code",
   "execution_count": null,
   "metadata": {
    "collapsed": true
   },
   "outputs": [],
   "source": []
  }
 ],
 "metadata": {
  "kernelspec": {
   "display_name": "Python 3",
   "language": "python",
   "name": "python3"
  },
  "language_info": {
   "codemirror_mode": {
    "name": "ipython",
    "version": 3
   },
   "file_extension": ".py",
   "mimetype": "text/x-python",
   "name": "python",
   "nbconvert_exporter": "python",
   "pygments_lexer": "ipython3",
   "version": "3.5.4"
  }
 },
 "nbformat": 4,
 "nbformat_minor": 2
}
