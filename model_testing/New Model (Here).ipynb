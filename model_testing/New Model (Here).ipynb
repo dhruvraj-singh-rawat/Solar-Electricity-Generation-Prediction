{
 "cells": [
  {
   "cell_type": "code",
   "execution_count": 1,
   "metadata": {},
   "outputs": [],
   "source": [
    "import numpy as np\n",
    "import pandas as pd"
   ]
  },
  {
   "cell_type": "markdown",
   "metadata": {},
   "source": [
    "### Feature Evaluation"
   ]
  },
  {
   "cell_type": "code",
   "execution_count": 2,
   "metadata": {},
   "outputs": [],
   "source": [
    "data = pd.read_csv('../Data/solar_original.csv')"
   ]
  },
  {
   "cell_type": "code",
   "execution_count": 3,
   "metadata": {},
   "outputs": [
    {
     "data": {
      "text/html": [
       "<div>\n",
       "<style scoped>\n",
       "    .dataframe tbody tr th:only-of-type {\n",
       "        vertical-align: middle;\n",
       "    }\n",
       "\n",
       "    .dataframe tbody tr th {\n",
       "        vertical-align: top;\n",
       "    }\n",
       "\n",
       "    .dataframe thead th {\n",
       "        text-align: right;\n",
       "    }\n",
       "</style>\n",
       "<table border=\"1\" class=\"dataframe\">\n",
       "  <thead>\n",
       "    <tr style=\"text-align: right;\">\n",
       "      <th></th>\n",
       "      <th>Date</th>\n",
       "      <th>Time</th>\n",
       "      <th>solar_output</th>\n",
       "      <th>temperature</th>\n",
       "      <th>humidity</th>\n",
       "      <th>wind_speed</th>\n",
       "      <th>visibility</th>\n",
       "      <th>serial</th>\n",
       "    </tr>\n",
       "  </thead>\n",
       "  <tbody>\n",
       "    <tr>\n",
       "      <th>4495</th>\n",
       "      <td>30-03-17</td>\n",
       "      <td>16:00</td>\n",
       "      <td>13.87895</td>\n",
       "      <td>40.0</td>\n",
       "      <td>6.0</td>\n",
       "      <td>13.00</td>\n",
       "      <td>6.0</td>\n",
       "      <td>21</td>\n",
       "    </tr>\n",
       "    <tr>\n",
       "      <th>4496</th>\n",
       "      <td>30-03-17</td>\n",
       "      <td>16:30</td>\n",
       "      <td>11.04429</td>\n",
       "      <td>40.0</td>\n",
       "      <td>6.0</td>\n",
       "      <td>11.79</td>\n",
       "      <td>6.0</td>\n",
       "      <td>22</td>\n",
       "    </tr>\n",
       "    <tr>\n",
       "      <th>4497</th>\n",
       "      <td>30-03-17</td>\n",
       "      <td>17:00</td>\n",
       "      <td>7.60269</td>\n",
       "      <td>40.0</td>\n",
       "      <td>6.0</td>\n",
       "      <td>11.10</td>\n",
       "      <td>6.0</td>\n",
       "      <td>23</td>\n",
       "    </tr>\n",
       "    <tr>\n",
       "      <th>4498</th>\n",
       "      <td>30-03-17</td>\n",
       "      <td>17:30</td>\n",
       "      <td>4.16130</td>\n",
       "      <td>39.0</td>\n",
       "      <td>4.0</td>\n",
       "      <td>11.10</td>\n",
       "      <td>4.0</td>\n",
       "      <td>24</td>\n",
       "    </tr>\n",
       "    <tr>\n",
       "      <th>4499</th>\n",
       "      <td>30-03-17</td>\n",
       "      <td>18:00</td>\n",
       "      <td>1.59809</td>\n",
       "      <td>39.0</td>\n",
       "      <td>6.0</td>\n",
       "      <td>9.30</td>\n",
       "      <td>6.0</td>\n",
       "      <td>25</td>\n",
       "    </tr>\n",
       "  </tbody>\n",
       "</table>\n",
       "</div>"
      ],
      "text/plain": [
       "          Date   Time  solar_output  temperature  humidity  wind_speed  \\\n",
       "4495  30-03-17  16:00      13.87895         40.0       6.0       13.00   \n",
       "4496  30-03-17  16:30      11.04429         40.0       6.0       11.79   \n",
       "4497  30-03-17  17:00       7.60269         40.0       6.0       11.10   \n",
       "4498  30-03-17  17:30       4.16130         39.0       4.0       11.10   \n",
       "4499  30-03-17  18:00       1.59809         39.0       6.0        9.30   \n",
       "\n",
       "      visibility  serial  \n",
       "4495         6.0      21  \n",
       "4496         6.0      22  \n",
       "4497         6.0      23  \n",
       "4498         4.0      24  \n",
       "4499         6.0      25  "
      ]
     },
     "execution_count": 3,
     "metadata": {},
     "output_type": "execute_result"
    }
   ],
   "source": [
    "data.tail()\n"
   ]
  },
  {
   "cell_type": "code",
   "execution_count": 4,
   "metadata": {},
   "outputs": [
    {
     "data": {
      "text/plain": [
       "Date             object\n",
       "Time             object\n",
       "solar_output    float64\n",
       "temperature     float64\n",
       "humidity        float64\n",
       "wind_speed      float64\n",
       "visibility      float64\n",
       "serial            int64\n",
       "dtype: object"
      ]
     },
     "execution_count": 4,
     "metadata": {},
     "output_type": "execute_result"
    }
   ],
   "source": [
    "data.dtypes"
   ]
  },
  {
   "cell_type": "code",
   "execution_count": 5,
   "metadata": {},
   "outputs": [],
   "source": [
    "data['TimeStamp']=pd.to_datetime(data.Date+' '+data.Time,infer_datetime_format=True)"
   ]
  },
  {
   "cell_type": "code",
   "execution_count": 6,
   "metadata": {},
   "outputs": [],
   "source": [
    "#data['month']=data.Date.str.slice(-5,-3).astype(int).head() #String Slicing\n",
    "#data['month']=pd.to_datetime(data.Date,dayfirst=True).dt.month\n",
    "#data['Day']=pd.to_datetime(data.Date,dayfirst=True).dt.day\n",
    "data['DayOfYear']=pd.to_datetime(data.Date,dayfirst=True).dt.dayofyear"
   ]
  },
  {
   "cell_type": "code",
   "execution_count": 7,
   "metadata": {},
   "outputs": [
    {
     "data": {
      "text/html": [
       "<div>\n",
       "<style scoped>\n",
       "    .dataframe tbody tr th:only-of-type {\n",
       "        vertical-align: middle;\n",
       "    }\n",
       "\n",
       "    .dataframe tbody tr th {\n",
       "        vertical-align: top;\n",
       "    }\n",
       "\n",
       "    .dataframe thead th {\n",
       "        text-align: right;\n",
       "    }\n",
       "</style>\n",
       "<table border=\"1\" class=\"dataframe\">\n",
       "  <thead>\n",
       "    <tr style=\"text-align: right;\">\n",
       "      <th></th>\n",
       "      <th>Date</th>\n",
       "      <th>Time</th>\n",
       "      <th>solar_output</th>\n",
       "      <th>temperature</th>\n",
       "      <th>humidity</th>\n",
       "      <th>wind_speed</th>\n",
       "      <th>visibility</th>\n",
       "      <th>serial</th>\n",
       "      <th>TimeStamp</th>\n",
       "      <th>DayOfYear</th>\n",
       "    </tr>\n",
       "  </thead>\n",
       "  <tbody>\n",
       "    <tr>\n",
       "      <th>0</th>\n",
       "      <td>01-10-16</td>\n",
       "      <td>6:00</td>\n",
       "      <td>0.00000</td>\n",
       "      <td>27.0</td>\n",
       "      <td>74.0</td>\n",
       "      <td>0.0</td>\n",
       "      <td>4.0</td>\n",
       "      <td>1</td>\n",
       "      <td>2016-01-10 06:00:00</td>\n",
       "      <td>275</td>\n",
       "    </tr>\n",
       "    <tr>\n",
       "      <th>1</th>\n",
       "      <td>01-10-16</td>\n",
       "      <td>6:30</td>\n",
       "      <td>0.14216</td>\n",
       "      <td>27.0</td>\n",
       "      <td>74.0</td>\n",
       "      <td>1.9</td>\n",
       "      <td>4.0</td>\n",
       "      <td>2</td>\n",
       "      <td>2016-01-10 06:30:00</td>\n",
       "      <td>275</td>\n",
       "    </tr>\n",
       "    <tr>\n",
       "      <th>2</th>\n",
       "      <td>01-10-16</td>\n",
       "      <td>7:00</td>\n",
       "      <td>1.34680</td>\n",
       "      <td>27.0</td>\n",
       "      <td>74.0</td>\n",
       "      <td>0.0</td>\n",
       "      <td>4.0</td>\n",
       "      <td>3</td>\n",
       "      <td>2016-01-10 07:00:00</td>\n",
       "      <td>275</td>\n",
       "    </tr>\n",
       "    <tr>\n",
       "      <th>3</th>\n",
       "      <td>01-10-16</td>\n",
       "      <td>7:30</td>\n",
       "      <td>3.37716</td>\n",
       "      <td>28.0</td>\n",
       "      <td>70.0</td>\n",
       "      <td>7.4</td>\n",
       "      <td>4.0</td>\n",
       "      <td>4</td>\n",
       "      <td>2016-01-10 07:30:00</td>\n",
       "      <td>275</td>\n",
       "    </tr>\n",
       "    <tr>\n",
       "      <th>4</th>\n",
       "      <td>01-10-16</td>\n",
       "      <td>8:00</td>\n",
       "      <td>5.67044</td>\n",
       "      <td>28.0</td>\n",
       "      <td>70.0</td>\n",
       "      <td>9.3</td>\n",
       "      <td>4.0</td>\n",
       "      <td>5</td>\n",
       "      <td>2016-01-10 08:00:00</td>\n",
       "      <td>275</td>\n",
       "    </tr>\n",
       "  </tbody>\n",
       "</table>\n",
       "</div>"
      ],
      "text/plain": [
       "       Date  Time  solar_output  temperature  humidity  wind_speed  \\\n",
       "0  01-10-16  6:00       0.00000         27.0      74.0         0.0   \n",
       "1  01-10-16  6:30       0.14216         27.0      74.0         1.9   \n",
       "2  01-10-16  7:00       1.34680         27.0      74.0         0.0   \n",
       "3  01-10-16  7:30       3.37716         28.0      70.0         7.4   \n",
       "4  01-10-16  8:00       5.67044         28.0      70.0         9.3   \n",
       "\n",
       "   visibility  serial           TimeStamp  DayOfYear  \n",
       "0         4.0       1 2016-01-10 06:00:00        275  \n",
       "1         4.0       2 2016-01-10 06:30:00        275  \n",
       "2         4.0       3 2016-01-10 07:00:00        275  \n",
       "3         4.0       4 2016-01-10 07:30:00        275  \n",
       "4         4.0       5 2016-01-10 08:00:00        275  "
      ]
     },
     "execution_count": 7,
     "metadata": {},
     "output_type": "execute_result"
    }
   ],
   "source": [
    "data.head()\n",
    "#data.to_csv('data_seperated.csv',ind)"
   ]
  },
  {
   "cell_type": "code",
   "execution_count": 8,
   "metadata": {},
   "outputs": [],
   "source": [
    "shift_hrs = 1\n",
    "shift_steps = shift_hrs*2\n",
    "\n",
    "data=data.drop(['Date','Time','TimeStamp'],axis=1)\n",
    "\n",
    "#================================================\n",
    "X = data.iloc[:,1:]\n",
    "#Y = list(data.iloc[:,:1])\n",
    "Y=data['solar_output']\n",
    "#Y= np.asarray(data['solar_output'], dtype=\"int\")\n",
    "\n",
    "#================================================\n",
    "\n",
    "Y=data['solar_output'].shift(-shift_steps)\n",
    "X=data.drop(['solar_output'],axis=1)\n",
    "\n",
    "x_data = X.values[0:-shift_steps]\n",
    "y_data = Y.values[0:-shift_steps]"
   ]
  },
  {
   "cell_type": "code",
   "execution_count": 9,
   "metadata": {},
   "outputs": [
    {
     "data": {
      "text/plain": [
       "(4498,)"
      ]
     },
     "execution_count": 9,
     "metadata": {},
     "output_type": "execute_result"
    }
   ],
   "source": [
    "#X=X.values\n",
    "y_data.shape"
   ]
  },
  {
   "cell_type": "code",
   "execution_count": 10,
   "metadata": {},
   "outputs": [],
   "source": [
    "## Feature Selection \n",
    "\n",
    "from sklearn.feature_selection import RFE\n",
    "from sklearn.ensemble import RandomForestRegressor\n",
    "rf = RandomForestRegressor()\n",
    "\n",
    "#X, y = make_friedman1(n_samples=50, n_features=10, random_state=0)\n",
    "#estimator = SVR(kernel=\"linear\")\n",
    "selector = RFE(rf, step=1)\n",
    "selector = selector.fit(X, Y)\n",
    "\n"
   ]
  },
  {
   "cell_type": "code",
   "execution_count": 11,
   "metadata": {},
   "outputs": [
    {
     "data": {
      "text/plain": [
       "array([2, 1, 3, 4, 1, 1])"
      ]
     },
     "execution_count": 11,
     "metadata": {},
     "output_type": "execute_result"
    }
   ],
   "source": [
    "selector.ranking_"
   ]
  },
  {
   "cell_type": "code",
   "execution_count": 12,
   "metadata": {},
   "outputs": [
    {
     "data": {
      "text/html": [
       "<div>\n",
       "<style scoped>\n",
       "    .dataframe tbody tr th:only-of-type {\n",
       "        vertical-align: middle;\n",
       "    }\n",
       "\n",
       "    .dataframe tbody tr th {\n",
       "        vertical-align: top;\n",
       "    }\n",
       "\n",
       "    .dataframe thead th {\n",
       "        text-align: right;\n",
       "    }\n",
       "</style>\n",
       "<table border=\"1\" class=\"dataframe\">\n",
       "  <thead>\n",
       "    <tr style=\"text-align: right;\">\n",
       "      <th></th>\n",
       "      <th>temperature</th>\n",
       "      <th>humidity</th>\n",
       "      <th>wind_speed</th>\n",
       "      <th>visibility</th>\n",
       "      <th>serial</th>\n",
       "      <th>DayOfYear</th>\n",
       "    </tr>\n",
       "  </thead>\n",
       "  <tbody>\n",
       "    <tr>\n",
       "      <th>0</th>\n",
       "      <td>27.0</td>\n",
       "      <td>74.0</td>\n",
       "      <td>0.0</td>\n",
       "      <td>4.0</td>\n",
       "      <td>1</td>\n",
       "      <td>275</td>\n",
       "    </tr>\n",
       "    <tr>\n",
       "      <th>1</th>\n",
       "      <td>27.0</td>\n",
       "      <td>74.0</td>\n",
       "      <td>1.9</td>\n",
       "      <td>4.0</td>\n",
       "      <td>2</td>\n",
       "      <td>275</td>\n",
       "    </tr>\n",
       "    <tr>\n",
       "      <th>2</th>\n",
       "      <td>27.0</td>\n",
       "      <td>74.0</td>\n",
       "      <td>0.0</td>\n",
       "      <td>4.0</td>\n",
       "      <td>3</td>\n",
       "      <td>275</td>\n",
       "    </tr>\n",
       "    <tr>\n",
       "      <th>3</th>\n",
       "      <td>28.0</td>\n",
       "      <td>70.0</td>\n",
       "      <td>7.4</td>\n",
       "      <td>4.0</td>\n",
       "      <td>4</td>\n",
       "      <td>275</td>\n",
       "    </tr>\n",
       "    <tr>\n",
       "      <th>4</th>\n",
       "      <td>28.0</td>\n",
       "      <td>70.0</td>\n",
       "      <td>9.3</td>\n",
       "      <td>4.0</td>\n",
       "      <td>5</td>\n",
       "      <td>275</td>\n",
       "    </tr>\n",
       "  </tbody>\n",
       "</table>\n",
       "</div>"
      ],
      "text/plain": [
       "   temperature  humidity  wind_speed  visibility  serial  DayOfYear\n",
       "0         27.0      74.0         0.0         4.0       1        275\n",
       "1         27.0      74.0         1.9         4.0       2        275\n",
       "2         27.0      74.0         0.0         4.0       3        275\n",
       "3         28.0      70.0         7.4         4.0       4        275\n",
       "4         28.0      70.0         9.3         4.0       5        275"
      ]
     },
     "execution_count": 12,
     "metadata": {},
     "output_type": "execute_result"
    }
   ],
   "source": [
    "X.head()"
   ]
  },
  {
   "cell_type": "markdown",
   "metadata": {},
   "source": [
    "## Keras Model"
   ]
  },
  {
   "cell_type": "code",
   "execution_count": 10,
   "metadata": {},
   "outputs": [
    {
     "name": "stdout",
     "output_type": "stream",
     "text": [
      "1.9.0\n"
     ]
    }
   ],
   "source": [
    "import tensorflow as tf\n",
    "from tensorflow import keras\n",
    "from sklearn.metrics import r2_score\n",
    "\n",
    "print(tf.__version__)"
   ]
  },
  {
   "cell_type": "code",
   "execution_count": 11,
   "metadata": {},
   "outputs": [],
   "source": [
    "from sklearn.preprocessing import MinMaxScaler\n",
    "\n",
    "x_scaler = MinMaxScaler()\n",
    "x_data_scaled=x_scaler.fit_transform(x_data)\n",
    "#Y=(Y-mean)/std"
   ]
  },
  {
   "cell_type": "code",
   "execution_count": 12,
   "metadata": {},
   "outputs": [
    {
     "data": {
      "text/plain": [
       "array([[0.63888889, 0.72916667, 0.0823922 , 0.48192771, 0.        ,\n",
       "        0.75068493],\n",
       "       [0.63888889, 0.72916667, 0.13116016, 0.48192771, 0.04166667,\n",
       "        0.75068493],\n",
       "       [0.63888889, 0.72916667, 0.0823922 , 0.48192771, 0.08333333,\n",
       "        0.75068493],\n",
       "       ...,\n",
       "       [1.        , 0.02083333, 0.41606776, 0.72289157, 0.83333333,\n",
       "        0.24109589],\n",
       "       [1.        , 0.02083333, 0.38501027, 0.72289157, 0.875     ,\n",
       "        0.24109589],\n",
       "       [1.        , 0.02083333, 0.36729979, 0.72289157, 0.91666667,\n",
       "        0.24109589]])"
      ]
     },
     "execution_count": 12,
     "metadata": {},
     "output_type": "execute_result"
    }
   ],
   "source": [
    "x_data_scaled"
   ]
  },
  {
   "cell_type": "code",
   "execution_count": 23,
   "metadata": {},
   "outputs": [],
   "source": [
    "from sklearn.model_selection import train_test_split\n",
    "\n",
    "X_train, X_test, y_train, y_test = train_test_split(x_data_scaled, y_data, test_size=0.3,random_state=42)"
   ]
  },
  {
   "cell_type": "code",
   "execution_count": 14,
   "metadata": {},
   "outputs": [
    {
     "data": {
      "text/plain": [
       "6"
      ]
     },
     "execution_count": 14,
     "metadata": {},
     "output_type": "execute_result"
    }
   ],
   "source": [
    "X.shape[1]"
   ]
  },
  {
   "cell_type": "code",
   "execution_count": 27,
   "metadata": {},
   "outputs": [
    {
     "name": "stdout",
     "output_type": "stream",
     "text": [
      "_________________________________________________________________\n",
      "Layer (type)                 Output Shape              Param #   \n",
      "=================================================================\n",
      "dense_16 (Dense)             (None, 128)               896       \n",
      "_________________________________________________________________\n",
      "dense_17 (Dense)             (None, 128)               16512     \n",
      "_________________________________________________________________\n",
      "dense_18 (Dense)             (None, 128)               16512     \n",
      "_________________________________________________________________\n",
      "dense_19 (Dense)             (None, 1)                 129       \n",
      "=================================================================\n",
      "Total params: 34,049\n",
      "Trainable params: 34,049\n",
      "Non-trainable params: 0\n",
      "_________________________________________________________________\n"
     ]
    }
   ],
   "source": [
    "def build_model():\n",
    "  model = keras.Sequential([\n",
    "    keras.layers.Dense(128, activation=tf.nn.relu,\n",
    "                       input_shape=(X.shape[1],)),\n",
    "    keras.layers.Dense(128, activation=tf.nn.relu),\n",
    "    \n",
    "    \n",
    "    keras.layers.Dense(128, activation=tf.nn.relu),\n",
    "    keras.layers.Dense(1)\n",
    "  ])\n",
    "\n",
    "  optimizer = tf.train.RMSPropOptimizer(0.001)\n",
    "\n",
    "  model.compile(loss='mse',\n",
    "                optimizer=optimizer,\n",
    "                metrics=['mae'])\n",
    "  return model\n",
    "\n",
    "model = build_model()\n",
    "model.summary()"
   ]
  },
  {
   "cell_type": "code",
   "execution_count": 28,
   "metadata": {},
   "outputs": [
    {
     "name": "stdout",
     "output_type": "stream",
     "text": [
      "Train on 2518 samples, validate on 630 samples\n",
      "Epoch 1/500\n",
      "2518/2518 [==============================] - 1s 384us/step - loss: 119.2022 - mean_absolute_error: 9.0907 - val_loss: 74.9899 - val_mean_absolute_error: 7.7070\n",
      "Epoch 2/500\n",
      "2518/2518 [==============================] - 0s 98us/step - loss: 62.8802 - mean_absolute_error: 7.0723 - val_loss: 47.9555 - val_mean_absolute_error: 5.9481\n",
      "Epoch 3/500\n",
      "2518/2518 [==============================] - 0s 100us/step - loss: 35.4337 - mean_absolute_error: 4.8627 - val_loss: 32.3721 - val_mean_absolute_error: 4.2856\n",
      "Epoch 4/500\n",
      "2518/2518 [==============================] - 0s 104us/step - loss: 21.4995 - mean_absolute_error: 3.5256 - val_loss: 19.1188 - val_mean_absolute_error: 3.1313\n",
      "Epoch 5/500\n",
      "2518/2518 [==============================] - 0s 96us/step - loss: 16.8669 - mean_absolute_error: 2.9711 - val_loss: 17.7261 - val_mean_absolute_error: 2.9057\n",
      "Epoch 6/500\n",
      "2518/2518 [==============================] - 0s 95us/step - loss: 13.9838 - mean_absolute_error: 2.6740 - val_loss: 13.1659 - val_mean_absolute_error: 2.4950\n",
      "Epoch 7/500\n",
      "2518/2518 [==============================] - 0s 99us/step - loss: 13.1987 - mean_absolute_error: 2.5362 - val_loss: 12.4815 - val_mean_absolute_error: 2.2841\n",
      "Epoch 8/500\n",
      "2518/2518 [==============================] - 0s 97us/step - loss: 11.7774 - mean_absolute_error: 2.3288 - val_loss: 11.6642 - val_mean_absolute_error: 2.2466\n",
      "Epoch 9/500\n",
      "2518/2518 [==============================] - 0s 98us/step - loss: 11.6069 - mean_absolute_error: 2.3204 - val_loss: 11.7548 - val_mean_absolute_error: 2.1826\n",
      "Epoch 10/500\n",
      "2518/2518 [==============================] - 0s 97us/step - loss: 11.3509 - mean_absolute_error: 2.2421 - val_loss: 16.0085 - val_mean_absolute_error: 3.0442\n",
      "Epoch 11/500\n",
      "2518/2518 [==============================] - 0s 100us/step - loss: 10.9840 - mean_absolute_error: 2.1669 - val_loss: 10.5963 - val_mean_absolute_error: 2.0200\n",
      "Epoch 12/500\n",
      "2518/2518 [==============================] - 0s 100us/step - loss: 10.6556 - mean_absolute_error: 2.1155 - val_loss: 10.5198 - val_mean_absolute_error: 2.1854\n",
      "Epoch 13/500\n",
      "2518/2518 [==============================] - 0s 95us/step - loss: 10.2055 - mean_absolute_error: 2.0791 - val_loss: 11.6429 - val_mean_absolute_error: 2.1645\n",
      "Epoch 14/500\n",
      "2518/2518 [==============================] - 0s 100us/step - loss: 10.3802 - mean_absolute_error: 2.0701 - val_loss: 12.4908 - val_mean_absolute_error: 2.4585\n",
      "Epoch 15/500\n",
      "2518/2518 [==============================] - 0s 99us/step - loss: 10.3048 - mean_absolute_error: 2.0389 - val_loss: 10.4869 - val_mean_absolute_error: 2.2299\n",
      "Epoch 16/500\n",
      "2518/2518 [==============================] - 0s 99us/step - loss: 9.9769 - mean_absolute_error: 2.0138 - val_loss: 10.4748 - val_mean_absolute_error: 2.0942\n",
      "Epoch 17/500\n",
      "2518/2518 [==============================] - 0s 105us/step - loss: 9.6421 - mean_absolute_error: 1.9711 - val_loss: 12.7840 - val_mean_absolute_error: 2.3461\n",
      "Epoch 18/500\n",
      "2518/2518 [==============================] - 0s 129us/step - loss: 9.5744 - mean_absolute_error: 1.9313 - val_loss: 9.7573 - val_mean_absolute_error: 2.0518\n",
      "Epoch 19/500\n",
      "2518/2518 [==============================] - 0s 180us/step - loss: 9.5792 - mean_absolute_error: 1.9302 - val_loss: 12.7033 - val_mean_absolute_error: 2.1790\n",
      "Epoch 20/500\n",
      "2518/2518 [==============================] - 0s 139us/step - loss: 9.5948 - mean_absolute_error: 1.9344 - val_loss: 10.0051 - val_mean_absolute_error: 1.9103\n",
      "Epoch 21/500\n",
      "2518/2518 [==============================] - 0s 101us/step - loss: 9.3254 - mean_absolute_error: 1.8987 - val_loss: 10.5745 - val_mean_absolute_error: 2.0154\n",
      "Epoch 22/500\n",
      "2518/2518 [==============================] - 0s 99us/step - loss: 9.0122 - mean_absolute_error: 1.8542 - val_loss: 8.9008 - val_mean_absolute_error: 1.7337\n",
      "Epoch 23/500\n",
      "2518/2518 [==============================] - 0s 104us/step - loss: 9.2776 - mean_absolute_error: 1.8755 - val_loss: 9.0265 - val_mean_absolute_error: 1.8593\n",
      "Epoch 24/500\n",
      "2518/2518 [==============================] - 0s 106us/step - loss: 9.0872 - mean_absolute_error: 1.8690 - val_loss: 9.6116 - val_mean_absolute_error: 1.7607\n",
      "Epoch 25/500\n",
      "2518/2518 [==============================] - 0s 108us/step - loss: 8.9894 - mean_absolute_error: 1.8367 - val_loss: 9.6837 - val_mean_absolute_error: 1.7864\n",
      "Epoch 26/500\n",
      "2518/2518 [==============================] - 0s 107us/step - loss: 9.1872 - mean_absolute_error: 1.8766 - val_loss: 10.7740 - val_mean_absolute_error: 1.8847\n",
      "Epoch 27/500\n",
      "2518/2518 [==============================] - 0s 109us/step - loss: 8.8327 - mean_absolute_error: 1.8394 - val_loss: 11.8275 - val_mean_absolute_error: 2.0965\n",
      "Epoch 28/500\n",
      "2518/2518 [==============================] - 0s 105us/step - loss: 8.9214 - mean_absolute_error: 1.8242 - val_loss: 10.0948 - val_mean_absolute_error: 2.0615\n",
      "Epoch 29/500\n",
      "2518/2518 [==============================] - 0s 108us/step - loss: 8.9237 - mean_absolute_error: 1.8292 - val_loss: 9.5634 - val_mean_absolute_error: 1.7659\n",
      "Epoch 30/500\n",
      "2518/2518 [==============================] - 0s 97us/step - loss: 8.8483 - mean_absolute_error: 1.7860 - val_loss: 9.0009 - val_mean_absolute_error: 1.7264\n",
      "Epoch 31/500\n",
      "2518/2518 [==============================] - 0s 108us/step - loss: 8.6124 - mean_absolute_error: 1.7478 - val_loss: 13.5353 - val_mean_absolute_error: 2.7415\n",
      "Epoch 32/500\n",
      "2518/2518 [==============================] - 0s 99us/step - loss: 8.9040 - mean_absolute_error: 1.8154 - val_loss: 8.8346 - val_mean_absolute_error: 1.8326\n",
      "Epoch 33/500\n",
      "2518/2518 [==============================] - 0s 107us/step - loss: 8.6191 - mean_absolute_error: 1.7909 - val_loss: 8.7044 - val_mean_absolute_error: 1.6702\n",
      "Epoch 34/500\n",
      "2518/2518 [==============================] - 0s 105us/step - loss: 8.6987 - mean_absolute_error: 1.8103 - val_loss: 8.6597 - val_mean_absolute_error: 1.7184\n",
      "Epoch 35/500\n",
      "2518/2518 [==============================] - 0s 106us/step - loss: 8.3813 - mean_absolute_error: 1.7453 - val_loss: 8.8385 - val_mean_absolute_error: 1.8501\n",
      "Epoch 36/500\n",
      "2518/2518 [==============================] - 0s 98us/step - loss: 8.6772 - mean_absolute_error: 1.7615 - val_loss: 9.9925 - val_mean_absolute_error: 1.9115\n",
      "Epoch 37/500\n",
      "2518/2518 [==============================] - 0s 104us/step - loss: 8.3584 - mean_absolute_error: 1.7221 - val_loss: 8.5452 - val_mean_absolute_error: 1.6298\n",
      "Epoch 38/500\n",
      "2518/2518 [==============================] - 0s 102us/step - loss: 8.5476 - mean_absolute_error: 1.7433 - val_loss: 11.5784 - val_mean_absolute_error: 1.9877\n",
      "Epoch 39/500\n",
      "2518/2518 [==============================] - 0s 101us/step - loss: 8.4450 - mean_absolute_error: 1.7634 - val_loss: 8.4705 - val_mean_absolute_error: 1.7208\n",
      "Epoch 40/500\n",
      "2518/2518 [==============================] - 0s 102us/step - loss: 8.3609 - mean_absolute_error: 1.7186 - val_loss: 8.5876 - val_mean_absolute_error: 1.7374\n",
      "Epoch 41/500\n",
      "2518/2518 [==============================] - 0s 100us/step - loss: 8.3852 - mean_absolute_error: 1.7316 - val_loss: 9.5610 - val_mean_absolute_error: 1.8177\n",
      "Epoch 42/500\n",
      "2518/2518 [==============================] - 0s 97us/step - loss: 8.2658 - mean_absolute_error: 1.7288 - val_loss: 11.7770 - val_mean_absolute_error: 2.1424\n",
      "Epoch 43/500\n",
      "2518/2518 [==============================] - 0s 101us/step - loss: 8.1345 - mean_absolute_error: 1.7102 - val_loss: 8.4651 - val_mean_absolute_error: 1.7094\n",
      "Epoch 44/500\n",
      "2518/2518 [==============================] - 0s 97us/step - loss: 8.2279 - mean_absolute_error: 1.7241 - val_loss: 9.2201 - val_mean_absolute_error: 1.9731\n",
      "Epoch 45/500\n",
      "2518/2518 [==============================] - 0s 103us/step - loss: 8.2149 - mean_absolute_error: 1.7119 - val_loss: 10.1374 - val_mean_absolute_error: 2.0396\n",
      "Epoch 46/500\n",
      "2518/2518 [==============================] - 0s 106us/step - loss: 8.2444 - mean_absolute_error: 1.7350 - val_loss: 8.4936 - val_mean_absolute_error: 1.6945\n",
      "Epoch 47/500\n",
      "2518/2518 [==============================] - 0s 101us/step - loss: 8.2333 - mean_absolute_error: 1.7099 - val_loss: 9.6923 - val_mean_absolute_error: 1.8588\n",
      "Epoch 48/500\n",
      "2518/2518 [==============================] - 0s 104us/step - loss: 8.0574 - mean_absolute_error: 1.6911 - val_loss: 10.6864 - val_mean_absolute_error: 2.2903\n"
     ]
    },
    {
     "name": "stdout",
     "output_type": "stream",
     "text": [
      "Epoch 49/500\n",
      "2518/2518 [==============================] - 0s 101us/step - loss: 8.1531 - mean_absolute_error: 1.6960 - val_loss: 9.8458 - val_mean_absolute_error: 1.8598\n",
      "Epoch 50/500\n",
      "2518/2518 [==============================] - 0s 105us/step - loss: 8.1330 - mean_absolute_error: 1.7083 - val_loss: 8.3456 - val_mean_absolute_error: 1.7061\n",
      "Epoch 51/500\n",
      "2518/2518 [==============================] - 0s 102us/step - loss: 8.0266 - mean_absolute_error: 1.7213 - val_loss: 8.8041 - val_mean_absolute_error: 1.8683\n",
      "Epoch 52/500\n",
      "2518/2518 [==============================] - 0s 105us/step - loss: 7.9302 - mean_absolute_error: 1.6795 - val_loss: 9.3145 - val_mean_absolute_error: 1.7818\n",
      "Epoch 53/500\n",
      "2518/2518 [==============================] - 0s 100us/step - loss: 7.9734 - mean_absolute_error: 1.6667 - val_loss: 9.5392 - val_mean_absolute_error: 1.7685\n",
      "Epoch 54/500\n",
      "2518/2518 [==============================] - 0s 98us/step - loss: 7.8834 - mean_absolute_error: 1.6774 - val_loss: 10.0090 - val_mean_absolute_error: 1.8920\n",
      "Epoch 55/500\n",
      "2518/2518 [==============================] - 0s 96us/step - loss: 7.9542 - mean_absolute_error: 1.6715 - val_loss: 10.3898 - val_mean_absolute_error: 2.0274\n",
      "Epoch 56/500\n",
      "2518/2518 [==============================] - 0s 98us/step - loss: 7.8159 - mean_absolute_error: 1.6581 - val_loss: 9.0515 - val_mean_absolute_error: 1.7489\n",
      "Epoch 57/500\n",
      "2518/2518 [==============================] - 0s 94us/step - loss: 7.9529 - mean_absolute_error: 1.6719 - val_loss: 11.4242 - val_mean_absolute_error: 2.2592\n",
      "Epoch 58/500\n",
      "2518/2518 [==============================] - 0s 102us/step - loss: 7.6825 - mean_absolute_error: 1.6415 - val_loss: 8.8539 - val_mean_absolute_error: 1.6451\n",
      "Epoch 59/500\n",
      "2518/2518 [==============================] - 0s 103us/step - loss: 7.5156 - mean_absolute_error: 1.6247 - val_loss: 9.4593 - val_mean_absolute_error: 1.9118\n",
      "Epoch 60/500\n",
      "2518/2518 [==============================] - 0s 99us/step - loss: 7.9218 - mean_absolute_error: 1.6803 - val_loss: 8.8383 - val_mean_absolute_error: 1.7067\n",
      "Epoch 61/500\n",
      "2518/2518 [==============================] - 0s 96us/step - loss: 7.7261 - mean_absolute_error: 1.6141 - val_loss: 8.3637 - val_mean_absolute_error: 1.6366\n",
      "Epoch 62/500\n",
      "2518/2518 [==============================] - 0s 100us/step - loss: 7.7163 - mean_absolute_error: 1.6362 - val_loss: 8.3952 - val_mean_absolute_error: 1.7630\n",
      "Epoch 63/500\n",
      "2518/2518 [==============================] - 0s 98us/step - loss: 7.5056 - mean_absolute_error: 1.6043 - val_loss: 10.0377 - val_mean_absolute_error: 1.9338\n",
      "Epoch 64/500\n",
      "2518/2518 [==============================] - 0s 99us/step - loss: 7.6713 - mean_absolute_error: 1.6309 - val_loss: 8.3332 - val_mean_absolute_error: 1.6749\n",
      "Epoch 65/500\n",
      "2518/2518 [==============================] - 0s 96us/step - loss: 7.6996 - mean_absolute_error: 1.6460 - val_loss: 8.9898 - val_mean_absolute_error: 1.8892\n",
      "Epoch 66/500\n",
      "2518/2518 [==============================] - 0s 101us/step - loss: 7.6318 - mean_absolute_error: 1.6238 - val_loss: 8.5477 - val_mean_absolute_error: 1.7974\n",
      "Epoch 67/500\n",
      "2518/2518 [==============================] - 0s 97us/step - loss: 7.6261 - mean_absolute_error: 1.6241 - val_loss: 10.2351 - val_mean_absolute_error: 2.1245\n",
      "Epoch 68/500\n",
      "2518/2518 [==============================] - 0s 101us/step - loss: 7.5416 - mean_absolute_error: 1.6132 - val_loss: 8.2213 - val_mean_absolute_error: 1.7089\n",
      "Epoch 69/500\n",
      "2518/2518 [==============================] - 0s 98us/step - loss: 7.6370 - mean_absolute_error: 1.6402 - val_loss: 8.5138 - val_mean_absolute_error: 1.6642\n",
      "Epoch 70/500\n",
      "2518/2518 [==============================] - 0s 100us/step - loss: 7.4631 - mean_absolute_error: 1.6135 - val_loss: 9.7947 - val_mean_absolute_error: 1.8983\n",
      "Epoch 71/500\n",
      "2518/2518 [==============================] - 0s 99us/step - loss: 7.3936 - mean_absolute_error: 1.6173 - val_loss: 9.1696 - val_mean_absolute_error: 1.8045\n",
      "Epoch 72/500\n",
      "2518/2518 [==============================] - 0s 100us/step - loss: 7.6342 - mean_absolute_error: 1.6369 - val_loss: 8.7541 - val_mean_absolute_error: 1.6810\n",
      "Epoch 73/500\n",
      "2518/2518 [==============================] - 0s 97us/step - loss: 7.4977 - mean_absolute_error: 1.5965 - val_loss: 9.4829 - val_mean_absolute_error: 1.9001\n",
      "Epoch 74/500\n",
      "2518/2518 [==============================] - 0s 102us/step - loss: 7.4495 - mean_absolute_error: 1.6076 - val_loss: 9.0662 - val_mean_absolute_error: 1.8117\n",
      "Epoch 75/500\n",
      "2518/2518 [==============================] - 0s 96us/step - loss: 7.3427 - mean_absolute_error: 1.5937 - val_loss: 8.5536 - val_mean_absolute_error: 1.6662\n",
      "Epoch 76/500\n",
      "2518/2518 [==============================] - 0s 103us/step - loss: 7.4615 - mean_absolute_error: 1.5903 - val_loss: 7.9652 - val_mean_absolute_error: 1.5803\n",
      "Epoch 77/500\n",
      "2518/2518 [==============================] - 0s 100us/step - loss: 7.4914 - mean_absolute_error: 1.6265 - val_loss: 8.2225 - val_mean_absolute_error: 1.6336\n",
      "Epoch 78/500\n",
      "2518/2518 [==============================] - 0s 99us/step - loss: 7.3109 - mean_absolute_error: 1.5903 - val_loss: 8.0289 - val_mean_absolute_error: 1.6580\n",
      "Epoch 79/500\n",
      "2518/2518 [==============================] - 0s 98us/step - loss: 7.3424 - mean_absolute_error: 1.6081 - val_loss: 8.1005 - val_mean_absolute_error: 1.6886\n",
      "Epoch 80/500\n",
      "2518/2518 [==============================] - 0s 101us/step - loss: 7.2947 - mean_absolute_error: 1.6000 - val_loss: 8.6413 - val_mean_absolute_error: 1.8324\n",
      "Epoch 81/500\n",
      "2518/2518 [==============================] - 0s 98us/step - loss: 7.2625 - mean_absolute_error: 1.5871 - val_loss: 8.8620 - val_mean_absolute_error: 1.6926\n",
      "Epoch 82/500\n",
      "2518/2518 [==============================] - 0s 97us/step - loss: 7.3582 - mean_absolute_error: 1.5874 - val_loss: 9.1224 - val_mean_absolute_error: 1.7943\n",
      "Epoch 83/500\n",
      "2518/2518 [==============================] - 0s 95us/step - loss: 7.3829 - mean_absolute_error: 1.6024 - val_loss: 7.9029 - val_mean_absolute_error: 1.5985\n",
      "Epoch 84/500\n",
      "2518/2518 [==============================] - 0s 105us/step - loss: 7.2430 - mean_absolute_error: 1.5747 - val_loss: 9.0521 - val_mean_absolute_error: 1.7435\n",
      "Epoch 85/500\n",
      "2518/2518 [==============================] - 0s 98us/step - loss: 7.1807 - mean_absolute_error: 1.6083 - val_loss: 8.9395 - val_mean_absolute_error: 1.7842\n",
      "Epoch 86/500\n",
      "2518/2518 [==============================] - 0s 99us/step - loss: 7.3377 - mean_absolute_error: 1.5995 - val_loss: 8.5175 - val_mean_absolute_error: 1.8248\n",
      "Epoch 87/500\n",
      "2518/2518 [==============================] - 0s 96us/step - loss: 7.2714 - mean_absolute_error: 1.5909 - val_loss: 7.9824 - val_mean_absolute_error: 1.7009\n",
      "Epoch 88/500\n",
      "2518/2518 [==============================] - 0s 108us/step - loss: 7.0243 - mean_absolute_error: 1.5483 - val_loss: 8.3770 - val_mean_absolute_error: 1.6849\n",
      "Epoch 89/500\n",
      "2518/2518 [==============================] - 0s 98us/step - loss: 7.2922 - mean_absolute_error: 1.5931 - val_loss: 8.1681 - val_mean_absolute_error: 1.7183\n",
      "Epoch 90/500\n",
      "2518/2518 [==============================] - 0s 111us/step - loss: 7.2536 - mean_absolute_error: 1.5790 - val_loss: 9.4486 - val_mean_absolute_error: 1.9805\n",
      "Epoch 91/500\n",
      "2518/2518 [==============================] - 0s 102us/step - loss: 7.1505 - mean_absolute_error: 1.5670 - val_loss: 7.6807 - val_mean_absolute_error: 1.6294\n",
      "Epoch 92/500\n",
      "2518/2518 [==============================] - 0s 105us/step - loss: 7.1235 - mean_absolute_error: 1.5576 - val_loss: 9.9498 - val_mean_absolute_error: 2.0490\n",
      "Epoch 93/500\n",
      "2518/2518 [==============================] - 0s 98us/step - loss: 7.0055 - mean_absolute_error: 1.5564 - val_loss: 8.2347 - val_mean_absolute_error: 1.7152\n",
      "Epoch 94/500\n",
      "2518/2518 [==============================] - 0s 132us/step - loss: 7.0565 - mean_absolute_error: 1.5575 - val_loss: 8.4306 - val_mean_absolute_error: 1.6719\n",
      "Epoch 95/500\n",
      "2518/2518 [==============================] - 0s 125us/step - loss: 7.1070 - mean_absolute_error: 1.5800 - val_loss: 8.6062 - val_mean_absolute_error: 1.7175\n",
      "Epoch 96/500\n",
      "2518/2518 [==============================] - 0s 123us/step - loss: 6.9856 - mean_absolute_error: 1.5570 - val_loss: 10.0109 - val_mean_absolute_error: 1.9483\n",
      "Epoch 97/500\n"
     ]
    },
    {
     "name": "stdout",
     "output_type": "stream",
     "text": [
      "2518/2518 [==============================] - 0s 105us/step - loss: 6.9686 - mean_absolute_error: 1.5466 - val_loss: 8.3400 - val_mean_absolute_error: 1.7479\n",
      "Epoch 98/500\n",
      "2518/2518 [==============================] - 0s 96us/step - loss: 7.0018 - mean_absolute_error: 1.5474 - val_loss: 9.9519 - val_mean_absolute_error: 2.1594\n",
      "Epoch 99/500\n",
      "2518/2518 [==============================] - 0s 107us/step - loss: 7.0886 - mean_absolute_error: 1.5680 - val_loss: 7.8830 - val_mean_absolute_error: 1.6131\n",
      "Epoch 100/500\n",
      "2518/2518 [==============================] - 0s 97us/step - loss: 6.9474 - mean_absolute_error: 1.5543 - val_loss: 8.2159 - val_mean_absolute_error: 1.7732\n",
      "Epoch 101/500\n",
      "2518/2518 [==============================] - 0s 108us/step - loss: 6.8425 - mean_absolute_error: 1.5388 - val_loss: 7.6066 - val_mean_absolute_error: 1.6100\n",
      "Epoch 102/500\n",
      "2518/2518 [==============================] - 0s 126us/step - loss: 6.9814 - mean_absolute_error: 1.5517 - val_loss: 8.2053 - val_mean_absolute_error: 1.7098\n",
      "Epoch 103/500\n",
      "2518/2518 [==============================] - 0s 124us/step - loss: 6.9542 - mean_absolute_error: 1.5487 - val_loss: 9.4988 - val_mean_absolute_error: 2.0691\n",
      "Epoch 104/500\n",
      "2518/2518 [==============================] - 0s 138us/step - loss: 6.8189 - mean_absolute_error: 1.5367 - val_loss: 8.4773 - val_mean_absolute_error: 1.7126\n",
      "Epoch 105/500\n",
      "2518/2518 [==============================] - 0s 134us/step - loss: 6.8928 - mean_absolute_error: 1.5136 - val_loss: 8.7272 - val_mean_absolute_error: 1.8446\n",
      "Epoch 106/500\n",
      "2518/2518 [==============================] - 0s 125us/step - loss: 7.0651 - mean_absolute_error: 1.5673 - val_loss: 8.1409 - val_mean_absolute_error: 1.7628\n",
      "Epoch 107/500\n",
      "2518/2518 [==============================] - 0s 117us/step - loss: 6.9454 - mean_absolute_error: 1.5590 - val_loss: 10.7717 - val_mean_absolute_error: 2.0350\n",
      "Epoch 108/500\n",
      "2518/2518 [==============================] - 0s 110us/step - loss: 6.8550 - mean_absolute_error: 1.5421 - val_loss: 9.7144 - val_mean_absolute_error: 1.9330\n",
      "Epoch 109/500\n",
      "2518/2518 [==============================] - 0s 120us/step - loss: 6.7456 - mean_absolute_error: 1.5232 - val_loss: 7.6946 - val_mean_absolute_error: 1.5645\n",
      "Epoch 110/500\n",
      "2518/2518 [==============================] - 0s 120us/step - loss: 6.7941 - mean_absolute_error: 1.5238 - val_loss: 8.1199 - val_mean_absolute_error: 1.6252\n",
      "Epoch 111/500\n",
      "2518/2518 [==============================] - 0s 116us/step - loss: 6.9477 - mean_absolute_error: 1.5530 - val_loss: 7.9494 - val_mean_absolute_error: 1.5993\n",
      "Epoch 112/500\n",
      "2518/2518 [==============================] - 0s 120us/step - loss: 6.7329 - mean_absolute_error: 1.5242 - val_loss: 7.8970 - val_mean_absolute_error: 1.6166\n",
      "Epoch 113/500\n",
      "2518/2518 [==============================] - 0s 113us/step - loss: 6.8676 - mean_absolute_error: 1.5337 - val_loss: 8.2468 - val_mean_absolute_error: 1.6754\n",
      "Epoch 114/500\n",
      "2518/2518 [==============================] - 0s 115us/step - loss: 6.7296 - mean_absolute_error: 1.5195 - val_loss: 7.6516 - val_mean_absolute_error: 1.6538\n",
      "Epoch 115/500\n",
      "2518/2518 [==============================] - 0s 111us/step - loss: 6.8144 - mean_absolute_error: 1.5320 - val_loss: 8.1188 - val_mean_absolute_error: 1.6641\n",
      "Epoch 116/500\n",
      "2518/2518 [==============================] - 0s 117us/step - loss: 6.7106 - mean_absolute_error: 1.5222 - val_loss: 8.4970 - val_mean_absolute_error: 1.7692\n",
      "Epoch 117/500\n",
      "2518/2518 [==============================] - 0s 121us/step - loss: 6.6899 - mean_absolute_error: 1.5232 - val_loss: 7.7867 - val_mean_absolute_error: 1.5950\n",
      "Epoch 118/500\n",
      "2518/2518 [==============================] - 0s 117us/step - loss: 6.7417 - mean_absolute_error: 1.5180 - val_loss: 9.0023 - val_mean_absolute_error: 1.7770\n",
      "Epoch 119/500\n",
      "2518/2518 [==============================] - 0s 113us/step - loss: 6.8204 - mean_absolute_error: 1.5235 - val_loss: 10.0439 - val_mean_absolute_error: 1.9742\n",
      "Epoch 120/500\n",
      "2518/2518 [==============================] - 0s 109us/step - loss: 6.6154 - mean_absolute_error: 1.4930 - val_loss: 9.1075 - val_mean_absolute_error: 1.9600\n",
      "Epoch 121/500\n",
      "2518/2518 [==============================] - 0s 114us/step - loss: 6.6774 - mean_absolute_error: 1.5275 - val_loss: 8.9802 - val_mean_absolute_error: 1.8885\n"
     ]
    }
   ],
   "source": [
    "# Display training progress by printing a single dot for each completed epoch\n",
    "class PrintDot(keras.callbacks.Callback):\n",
    "  def on_epoch_end(self, epoch, logs):\n",
    "    if epoch % 100 == 0: print('')\n",
    "    print('.', end='')\n",
    "\n",
    "EPOCHS = 500\n",
    "early_stop = keras.callbacks.EarlyStopping(monitor='val_loss', patience=20)\n",
    "# Store training stats\n",
    "history = model.fit(X_train, y_train, epochs=EPOCHS,\n",
    "                    validation_split=0.2, verbose=1,\n",
    "                    callbacks=[early_stop]\n",
    "                    )"
   ]
  },
  {
   "cell_type": "code",
   "execution_count": null,
   "metadata": {},
   "outputs": [],
   "source": [
    "%matplotlib inline\n",
    "import matplotlib.pyplot as plt\n",
    "\n",
    "\n",
    "def plot_history(history):\n",
    "  plt.figure()\n",
    "  plt.xlabel('Epoch')\n",
    "  plt.ylabel('Mean Abs Error ')\n",
    "  plt.plot(history.epoch, np.array(history.history['mean_absolute_error']),\n",
    "           label='Train Loss')\n",
    "  plt.plot(history.epoch, np.array(history.history['val_mean_absolute_error']),\n",
    "           label = 'Val loss')\n",
    "  plt.legend()\n",
    "  plt.ylim([0, 10])\n",
    "\n",
    "#plot_history(history)"
   ]
  },
  {
   "cell_type": "code",
   "execution_count": 17,
   "metadata": {},
   "outputs": [
    {
     "name": "stdout",
     "output_type": "stream",
     "text": [
      "Train on 2518 samples, validate on 630 samples\n",
      "Epoch 1/500\n"
     ]
    },
    {
     "ename": "InternalError",
     "evalue": "GPU sync failed",
     "output_type": "error",
     "traceback": [
      "\u001b[1;31m---------------------------------------------------------------------------\u001b[0m",
      "\u001b[1;31mInternalError\u001b[0m                             Traceback (most recent call last)",
      "\u001b[1;32mc:\\users\\dhruv rawat\\appdata\\local\\programs\\python\\python35\\lib\\site-packages\\tensorflow\\python\\client\\session.py\u001b[0m in \u001b[0;36m_do_call\u001b[1;34m(self, fn, *args)\u001b[0m\n\u001b[0;32m   1321\u001b[0m     \u001b[1;32mtry\u001b[0m\u001b[1;33m:\u001b[0m\u001b[1;33m\u001b[0m\u001b[0m\n\u001b[1;32m-> 1322\u001b[1;33m       \u001b[1;32mreturn\u001b[0m \u001b[0mfn\u001b[0m\u001b[1;33m(\u001b[0m\u001b[1;33m*\u001b[0m\u001b[0margs\u001b[0m\u001b[1;33m)\u001b[0m\u001b[1;33m\u001b[0m\u001b[0m\n\u001b[0m\u001b[0;32m   1323\u001b[0m     \u001b[1;32mexcept\u001b[0m \u001b[0merrors\u001b[0m\u001b[1;33m.\u001b[0m\u001b[0mOpError\u001b[0m \u001b[1;32mas\u001b[0m \u001b[0me\u001b[0m\u001b[1;33m:\u001b[0m\u001b[1;33m\u001b[0m\u001b[0m\n",
      "\u001b[1;32mc:\\users\\dhruv rawat\\appdata\\local\\programs\\python\\python35\\lib\\site-packages\\tensorflow\\python\\client\\session.py\u001b[0m in \u001b[0;36m_run_fn\u001b[1;34m(feed_dict, fetch_list, target_list, options, run_metadata)\u001b[0m\n\u001b[0;32m   1306\u001b[0m       return self._call_tf_sessionrun(\n\u001b[1;32m-> 1307\u001b[1;33m           options, feed_dict, fetch_list, target_list, run_metadata)\n\u001b[0m\u001b[0;32m   1308\u001b[0m \u001b[1;33m\u001b[0m\u001b[0m\n",
      "\u001b[1;32mc:\\users\\dhruv rawat\\appdata\\local\\programs\\python\\python35\\lib\\site-packages\\tensorflow\\python\\client\\session.py\u001b[0m in \u001b[0;36m_call_tf_sessionrun\u001b[1;34m(self, options, feed_dict, fetch_list, target_list, run_metadata)\u001b[0m\n\u001b[0;32m   1408\u001b[0m           \u001b[0mself\u001b[0m\u001b[1;33m.\u001b[0m\u001b[0m_session\u001b[0m\u001b[1;33m,\u001b[0m \u001b[0moptions\u001b[0m\u001b[1;33m,\u001b[0m \u001b[0mfeed_dict\u001b[0m\u001b[1;33m,\u001b[0m \u001b[0mfetch_list\u001b[0m\u001b[1;33m,\u001b[0m \u001b[0mtarget_list\u001b[0m\u001b[1;33m,\u001b[0m\u001b[1;33m\u001b[0m\u001b[0m\n\u001b[1;32m-> 1409\u001b[1;33m           run_metadata)\n\u001b[0m\u001b[0;32m   1410\u001b[0m     \u001b[1;32melse\u001b[0m\u001b[1;33m:\u001b[0m\u001b[1;33m\u001b[0m\u001b[0m\n",
      "\u001b[1;31mInternalError\u001b[0m: GPU sync failed",
      "\nDuring handling of the above exception, another exception occurred:\n",
      "\u001b[1;31mInternalError\u001b[0m                             Traceback (most recent call last)",
      "\u001b[1;32m<ipython-input-17-d2ec4a9f8e17>\u001b[0m in \u001b[0;36m<module>\u001b[1;34m()\u001b[0m\n\u001b[0;32m      6\u001b[0m history = model.fit(X_train, y_train, epochs=EPOCHS,\n\u001b[0;32m      7\u001b[0m                     \u001b[0mvalidation_split\u001b[0m\u001b[1;33m=\u001b[0m\u001b[1;36m0.2\u001b[0m\u001b[1;33m,\u001b[0m \u001b[0mverbose\u001b[0m\u001b[1;33m=\u001b[0m\u001b[1;36m1\u001b[0m\u001b[1;33m,\u001b[0m\u001b[1;33m\u001b[0m\u001b[0m\n\u001b[1;32m----> 8\u001b[1;33m                     callbacks=[early_stop])\n\u001b[0m\u001b[0;32m      9\u001b[0m \u001b[1;33m\u001b[0m\u001b[0m\n\u001b[0;32m     10\u001b[0m \u001b[0mplot_history\u001b[0m\u001b[1;33m(\u001b[0m\u001b[0mhistory\u001b[0m\u001b[1;33m)\u001b[0m\u001b[1;33m\u001b[0m\u001b[0m\n",
      "\u001b[1;32mc:\\users\\dhruv rawat\\appdata\\local\\programs\\python\\python35\\lib\\site-packages\\tensorflow\\python\\keras\\engine\\training.py\u001b[0m in \u001b[0;36mfit\u001b[1;34m(self, x, y, batch_size, epochs, verbose, callbacks, validation_split, validation_data, shuffle, class_weight, sample_weight, initial_epoch, steps_per_epoch, validation_steps, **kwargs)\u001b[0m\n\u001b[0;32m   1346\u001b[0m           \u001b[0minitial_epoch\u001b[0m\u001b[1;33m=\u001b[0m\u001b[0minitial_epoch\u001b[0m\u001b[1;33m,\u001b[0m\u001b[1;33m\u001b[0m\u001b[0m\n\u001b[0;32m   1347\u001b[0m           \u001b[0msteps_per_epoch\u001b[0m\u001b[1;33m=\u001b[0m\u001b[0msteps_per_epoch\u001b[0m\u001b[1;33m,\u001b[0m\u001b[1;33m\u001b[0m\u001b[0m\n\u001b[1;32m-> 1348\u001b[1;33m           validation_steps=validation_steps)\n\u001b[0m\u001b[0;32m   1349\u001b[0m \u001b[1;33m\u001b[0m\u001b[0m\n\u001b[0;32m   1350\u001b[0m   def evaluate(self,\n",
      "\u001b[1;32mc:\\users\\dhruv rawat\\appdata\\local\\programs\\python\\python35\\lib\\site-packages\\tensorflow\\python\\keras\\engine\\training_arrays.py\u001b[0m in \u001b[0;36mfit_loop\u001b[1;34m(model, inputs, targets, sample_weights, batch_size, epochs, verbose, callbacks, val_inputs, val_targets, val_sample_weights, shuffle, callback_metrics, initial_epoch, steps_per_epoch, validation_steps)\u001b[0m\n\u001b[0;32m    251\u001b[0m           \u001b[0mins_batch\u001b[0m\u001b[1;33m[\u001b[0m\u001b[0mi\u001b[0m\u001b[1;33m]\u001b[0m \u001b[1;33m=\u001b[0m \u001b[0mins_batch\u001b[0m\u001b[1;33m[\u001b[0m\u001b[0mi\u001b[0m\u001b[1;33m]\u001b[0m\u001b[1;33m.\u001b[0m\u001b[0mtoarray\u001b[0m\u001b[1;33m(\u001b[0m\u001b[1;33m)\u001b[0m\u001b[1;33m\u001b[0m\u001b[0m\n\u001b[0;32m    252\u001b[0m \u001b[1;33m\u001b[0m\u001b[0m\n\u001b[1;32m--> 253\u001b[1;33m         \u001b[0mouts\u001b[0m \u001b[1;33m=\u001b[0m \u001b[0mf\u001b[0m\u001b[1;33m(\u001b[0m\u001b[0mins_batch\u001b[0m\u001b[1;33m)\u001b[0m\u001b[1;33m\u001b[0m\u001b[0m\n\u001b[0m\u001b[0;32m    254\u001b[0m         \u001b[1;32mif\u001b[0m \u001b[1;32mnot\u001b[0m \u001b[0misinstance\u001b[0m\u001b[1;33m(\u001b[0m\u001b[0mouts\u001b[0m\u001b[1;33m,\u001b[0m \u001b[0mlist\u001b[0m\u001b[1;33m)\u001b[0m\u001b[1;33m:\u001b[0m\u001b[1;33m\u001b[0m\u001b[0m\n\u001b[0;32m    255\u001b[0m           \u001b[0mouts\u001b[0m \u001b[1;33m=\u001b[0m \u001b[1;33m[\u001b[0m\u001b[0mouts\u001b[0m\u001b[1;33m]\u001b[0m\u001b[1;33m\u001b[0m\u001b[0m\n",
      "\u001b[1;32mc:\\users\\dhruv rawat\\appdata\\local\\programs\\python\\python35\\lib\\site-packages\\tensorflow\\python\\keras\\backend.py\u001b[0m in \u001b[0;36m__call__\u001b[1;34m(self, inputs)\u001b[0m\n\u001b[0;32m   2859\u001b[0m       \u001b[1;32mraise\u001b[0m \u001b[0mTypeError\u001b[0m\u001b[1;33m(\u001b[0m\u001b[1;34m'`inputs` should be a list or tuple.'\u001b[0m\u001b[1;33m)\u001b[0m\u001b[1;33m\u001b[0m\u001b[0m\n\u001b[0;32m   2860\u001b[0m \u001b[1;33m\u001b[0m\u001b[0m\n\u001b[1;32m-> 2861\u001b[1;33m     \u001b[0msession\u001b[0m \u001b[1;33m=\u001b[0m \u001b[0mget_session\u001b[0m\u001b[1;33m(\u001b[0m\u001b[1;33m)\u001b[0m\u001b[1;33m\u001b[0m\u001b[0m\n\u001b[0m\u001b[0;32m   2862\u001b[0m     \u001b[0mfeed_arrays\u001b[0m \u001b[1;33m=\u001b[0m \u001b[1;33m[\u001b[0m\u001b[1;33m]\u001b[0m\u001b[1;33m\u001b[0m\u001b[0m\n\u001b[0;32m   2863\u001b[0m     \u001b[0marray_vals\u001b[0m \u001b[1;33m=\u001b[0m \u001b[1;33m[\u001b[0m\u001b[1;33m]\u001b[0m\u001b[1;33m\u001b[0m\u001b[0m\n",
      "\u001b[1;32mc:\\users\\dhruv rawat\\appdata\\local\\programs\\python\\python35\\lib\\site-packages\\tensorflow\\python\\keras\\backend.py\u001b[0m in \u001b[0;36mget_session\u001b[1;34m()\u001b[0m\n\u001b[0;32m    441\u001b[0m   \u001b[1;32mif\u001b[0m \u001b[1;32mnot\u001b[0m \u001b[0m_MANUAL_VAR_INIT\u001b[0m\u001b[1;33m:\u001b[0m\u001b[1;33m\u001b[0m\u001b[0m\n\u001b[0;32m    442\u001b[0m     \u001b[1;32mwith\u001b[0m \u001b[0msession\u001b[0m\u001b[1;33m.\u001b[0m\u001b[0mgraph\u001b[0m\u001b[1;33m.\u001b[0m\u001b[0mas_default\u001b[0m\u001b[1;33m(\u001b[0m\u001b[1;33m)\u001b[0m\u001b[1;33m:\u001b[0m\u001b[1;33m\u001b[0m\u001b[0m\n\u001b[1;32m--> 443\u001b[1;33m       \u001b[0m_initialize_variables\u001b[0m\u001b[1;33m(\u001b[0m\u001b[0msession\u001b[0m\u001b[1;33m)\u001b[0m\u001b[1;33m\u001b[0m\u001b[0m\n\u001b[0m\u001b[0;32m    444\u001b[0m   \u001b[1;32mreturn\u001b[0m \u001b[0msession\u001b[0m\u001b[1;33m\u001b[0m\u001b[0m\n\u001b[0;32m    445\u001b[0m \u001b[1;33m\u001b[0m\u001b[0m\n",
      "\u001b[1;32mc:\\users\\dhruv rawat\\appdata\\local\\programs\\python\\python35\\lib\\site-packages\\tensorflow\\python\\keras\\backend.py\u001b[0m in \u001b[0;36m_initialize_variables\u001b[1;34m(session)\u001b[0m\n\u001b[0;32m    665\u001b[0m     \u001b[1;31m# marked as initialized.\u001b[0m\u001b[1;33m\u001b[0m\u001b[1;33m\u001b[0m\u001b[0m\n\u001b[0;32m    666\u001b[0m     is_initialized = session.run(\n\u001b[1;32m--> 667\u001b[1;33m         [variables_module.is_variable_initialized(v) for v in candidate_vars])\n\u001b[0m\u001b[0;32m    668\u001b[0m     \u001b[0muninitialized_vars\u001b[0m \u001b[1;33m=\u001b[0m \u001b[1;33m[\u001b[0m\u001b[1;33m]\u001b[0m\u001b[1;33m\u001b[0m\u001b[0m\n\u001b[0;32m    669\u001b[0m     \u001b[1;32mfor\u001b[0m \u001b[0mflag\u001b[0m\u001b[1;33m,\u001b[0m \u001b[0mv\u001b[0m \u001b[1;32min\u001b[0m \u001b[0mzip\u001b[0m\u001b[1;33m(\u001b[0m\u001b[0mis_initialized\u001b[0m\u001b[1;33m,\u001b[0m \u001b[0mcandidate_vars\u001b[0m\u001b[1;33m)\u001b[0m\u001b[1;33m:\u001b[0m\u001b[1;33m\u001b[0m\u001b[0m\n",
      "\u001b[1;32mc:\\users\\dhruv rawat\\appdata\\local\\programs\\python\\python35\\lib\\site-packages\\tensorflow\\python\\client\\session.py\u001b[0m in \u001b[0;36mrun\u001b[1;34m(self, fetches, feed_dict, options, run_metadata)\u001b[0m\n\u001b[0;32m    898\u001b[0m     \u001b[1;32mtry\u001b[0m\u001b[1;33m:\u001b[0m\u001b[1;33m\u001b[0m\u001b[0m\n\u001b[0;32m    899\u001b[0m       result = self._run(None, fetches, feed_dict, options_ptr,\n\u001b[1;32m--> 900\u001b[1;33m                          run_metadata_ptr)\n\u001b[0m\u001b[0;32m    901\u001b[0m       \u001b[1;32mif\u001b[0m \u001b[0mrun_metadata\u001b[0m\u001b[1;33m:\u001b[0m\u001b[1;33m\u001b[0m\u001b[0m\n\u001b[0;32m    902\u001b[0m         \u001b[0mproto_data\u001b[0m \u001b[1;33m=\u001b[0m \u001b[0mtf_session\u001b[0m\u001b[1;33m.\u001b[0m\u001b[0mTF_GetBuffer\u001b[0m\u001b[1;33m(\u001b[0m\u001b[0mrun_metadata_ptr\u001b[0m\u001b[1;33m)\u001b[0m\u001b[1;33m\u001b[0m\u001b[0m\n",
      "\u001b[1;32mc:\\users\\dhruv rawat\\appdata\\local\\programs\\python\\python35\\lib\\site-packages\\tensorflow\\python\\client\\session.py\u001b[0m in \u001b[0;36m_run\u001b[1;34m(self, handle, fetches, feed_dict, options, run_metadata)\u001b[0m\n\u001b[0;32m   1133\u001b[0m     \u001b[1;32mif\u001b[0m \u001b[0mfinal_fetches\u001b[0m \u001b[1;32mor\u001b[0m \u001b[0mfinal_targets\u001b[0m \u001b[1;32mor\u001b[0m \u001b[1;33m(\u001b[0m\u001b[0mhandle\u001b[0m \u001b[1;32mand\u001b[0m \u001b[0mfeed_dict_tensor\u001b[0m\u001b[1;33m)\u001b[0m\u001b[1;33m:\u001b[0m\u001b[1;33m\u001b[0m\u001b[0m\n\u001b[0;32m   1134\u001b[0m       results = self._do_run(handle, final_targets, final_fetches,\n\u001b[1;32m-> 1135\u001b[1;33m                              feed_dict_tensor, options, run_metadata)\n\u001b[0m\u001b[0;32m   1136\u001b[0m     \u001b[1;32melse\u001b[0m\u001b[1;33m:\u001b[0m\u001b[1;33m\u001b[0m\u001b[0m\n\u001b[0;32m   1137\u001b[0m       \u001b[0mresults\u001b[0m \u001b[1;33m=\u001b[0m \u001b[1;33m[\u001b[0m\u001b[1;33m]\u001b[0m\u001b[1;33m\u001b[0m\u001b[0m\n",
      "\u001b[1;32mc:\\users\\dhruv rawat\\appdata\\local\\programs\\python\\python35\\lib\\site-packages\\tensorflow\\python\\client\\session.py\u001b[0m in \u001b[0;36m_do_run\u001b[1;34m(self, handle, target_list, fetch_list, feed_dict, options, run_metadata)\u001b[0m\n\u001b[0;32m   1314\u001b[0m     \u001b[1;32mif\u001b[0m \u001b[0mhandle\u001b[0m \u001b[1;32mis\u001b[0m \u001b[1;32mNone\u001b[0m\u001b[1;33m:\u001b[0m\u001b[1;33m\u001b[0m\u001b[0m\n\u001b[0;32m   1315\u001b[0m       return self._do_call(_run_fn, feeds, fetches, targets, options,\n\u001b[1;32m-> 1316\u001b[1;33m                            run_metadata)\n\u001b[0m\u001b[0;32m   1317\u001b[0m     \u001b[1;32melse\u001b[0m\u001b[1;33m:\u001b[0m\u001b[1;33m\u001b[0m\u001b[0m\n\u001b[0;32m   1318\u001b[0m       \u001b[1;32mreturn\u001b[0m \u001b[0mself\u001b[0m\u001b[1;33m.\u001b[0m\u001b[0m_do_call\u001b[0m\u001b[1;33m(\u001b[0m\u001b[0m_prun_fn\u001b[0m\u001b[1;33m,\u001b[0m \u001b[0mhandle\u001b[0m\u001b[1;33m,\u001b[0m \u001b[0mfeeds\u001b[0m\u001b[1;33m,\u001b[0m \u001b[0mfetches\u001b[0m\u001b[1;33m)\u001b[0m\u001b[1;33m\u001b[0m\u001b[0m\n",
      "\u001b[1;32mc:\\users\\dhruv rawat\\appdata\\local\\programs\\python\\python35\\lib\\site-packages\\tensorflow\\python\\client\\session.py\u001b[0m in \u001b[0;36m_do_call\u001b[1;34m(self, fn, *args)\u001b[0m\n\u001b[0;32m   1333\u001b[0m         \u001b[1;32mexcept\u001b[0m \u001b[0mKeyError\u001b[0m\u001b[1;33m:\u001b[0m\u001b[1;33m\u001b[0m\u001b[0m\n\u001b[0;32m   1334\u001b[0m           \u001b[1;32mpass\u001b[0m\u001b[1;33m\u001b[0m\u001b[0m\n\u001b[1;32m-> 1335\u001b[1;33m       \u001b[1;32mraise\u001b[0m \u001b[0mtype\u001b[0m\u001b[1;33m(\u001b[0m\u001b[0me\u001b[0m\u001b[1;33m)\u001b[0m\u001b[1;33m(\u001b[0m\u001b[0mnode_def\u001b[0m\u001b[1;33m,\u001b[0m \u001b[0mop\u001b[0m\u001b[1;33m,\u001b[0m \u001b[0mmessage\u001b[0m\u001b[1;33m)\u001b[0m\u001b[1;33m\u001b[0m\u001b[0m\n\u001b[0m\u001b[0;32m   1336\u001b[0m \u001b[1;33m\u001b[0m\u001b[0m\n\u001b[0;32m   1337\u001b[0m   \u001b[1;32mdef\u001b[0m \u001b[0m_extend_graph\u001b[0m\u001b[1;33m(\u001b[0m\u001b[0mself\u001b[0m\u001b[1;33m)\u001b[0m\u001b[1;33m:\u001b[0m\u001b[1;33m\u001b[0m\u001b[0m\n",
      "\u001b[1;31mInternalError\u001b[0m: GPU sync failed"
     ]
    }
   ],
   "source": [
    "model = build_model()\n",
    "\n",
    "# The patience parameter is the amount of epochs to check for improvement\n",
    "\n",
    "EPOCHS=500\n",
    "history = model.fit(X_train, y_train, epochs=EPOCHS,\n",
    "                    validation_split=0.2, verbose=1,\n",
    "                    callbacks=[early_stop])\n",
    "\n",
    "plot_history(history)"
   ]
  },
  {
   "cell_type": "code",
   "execution_count": 29,
   "metadata": {},
   "outputs": [
    {
     "name": "stdout",
     "output_type": "stream",
     "text": [
      "Testing set Mean Abs Error: $   1.86\n"
     ]
    }
   ],
   "source": [
    "[loss, mae] = model.evaluate(X_test, y_test, verbose=0)\n",
    "\n",
    "print(\"Testing set Mean Abs Error: ${:7.2f}\".format(mae)) #1.47"
   ]
  },
  {
   "cell_type": "code",
   "execution_count": 18,
   "metadata": {},
   "outputs": [
    {
     "ename": "NameError",
     "evalue": "name 'plt' is not defined",
     "output_type": "error",
     "traceback": [
      "\u001b[1;31m---------------------------------------------------------------------------\u001b[0m",
      "\u001b[1;31mNameError\u001b[0m                                 Traceback (most recent call last)",
      "\u001b[1;32m<ipython-input-18-9bc9a3ff5286>\u001b[0m in \u001b[0;36m<module>\u001b[1;34m()\u001b[0m\n\u001b[0;32m      1\u001b[0m \u001b[0mtest_predictions\u001b[0m \u001b[1;33m=\u001b[0m \u001b[0mmodel\u001b[0m\u001b[1;33m.\u001b[0m\u001b[0mpredict\u001b[0m\u001b[1;33m(\u001b[0m\u001b[0mX_test\u001b[0m\u001b[1;33m)\u001b[0m\u001b[1;33m.\u001b[0m\u001b[0mflatten\u001b[0m\u001b[1;33m(\u001b[0m\u001b[1;33m)\u001b[0m\u001b[1;33m\u001b[0m\u001b[0m\n\u001b[0;32m      2\u001b[0m \u001b[1;33m\u001b[0m\u001b[0m\n\u001b[1;32m----> 3\u001b[1;33m \u001b[0mplt\u001b[0m\u001b[1;33m.\u001b[0m\u001b[0mscatter\u001b[0m\u001b[1;33m(\u001b[0m\u001b[0my_test\u001b[0m\u001b[1;33m[\u001b[0m\u001b[1;36m400\u001b[0m\u001b[1;33m:\u001b[0m\u001b[1;36m600\u001b[0m\u001b[1;33m]\u001b[0m\u001b[1;33m,\u001b[0m\u001b[0mtest_predictions\u001b[0m\u001b[1;33m[\u001b[0m\u001b[1;36m400\u001b[0m\u001b[1;33m:\u001b[0m\u001b[1;36m600\u001b[0m\u001b[1;33m]\u001b[0m\u001b[1;33m)\u001b[0m\u001b[1;33m\u001b[0m\u001b[0m\n\u001b[0m\u001b[0;32m      4\u001b[0m \u001b[0mplt\u001b[0m\u001b[1;33m.\u001b[0m\u001b[0mxlabel\u001b[0m\u001b[1;33m(\u001b[0m\u001b[1;34m'True Values'\u001b[0m\u001b[1;33m)\u001b[0m\u001b[1;33m\u001b[0m\u001b[0m\n\u001b[0;32m      5\u001b[0m \u001b[0mplt\u001b[0m\u001b[1;33m.\u001b[0m\u001b[0mylabel\u001b[0m\u001b[1;33m(\u001b[0m\u001b[1;34m'Predictions'\u001b[0m\u001b[1;33m)\u001b[0m\u001b[1;33m\u001b[0m\u001b[0m\n",
      "\u001b[1;31mNameError\u001b[0m: name 'plt' is not defined"
     ]
    }
   ],
   "source": [
    "test_predictions = model.predict(X_test).flatten()\n",
    "\n",
    "plt.scatter(y_test[400:600],test_predictions[400:600])\n",
    "plt.xlabel('True Values')\n",
    "plt.ylabel('Predictions')\n",
    "plt.axis('equal')\n",
    "plt.xlim(plt.xlim())\n",
    "plt.ylim(plt.ylim())\n",
    "_ = plt.plot([-100, 100], [-100, 100])"
   ]
  },
  {
   "cell_type": "code",
   "execution_count": 19,
   "metadata": {},
   "outputs": [
    {
     "data": {
      "text/plain": [
       "500"
      ]
     },
     "execution_count": 19,
     "metadata": {},
     "output_type": "execute_result"
    }
   ],
   "source": [
    "len(history.history['val_mean_absolute_error'])"
   ]
  },
  {
   "cell_type": "code",
   "execution_count": null,
   "metadata": {},
   "outputs": [],
   "source": [
    "test=pd.read_csv('../data/test.csv')\n",
    "test['month']=pd.to_datetime(test.Date,dayfirst=True).dt.month\n",
    "#test['Day']=pd.to_datetime(test.Date,dayfirst=True).dt.day\n",
    "test=test.drop(['Date','Time'],axis=1)\n",
    "test1=test['solar_output']\n",
    "test=test.drop('solar_output',axis=1)\n",
    "test.head()\n"
   ]
  },
  {
   "cell_type": "code",
   "execution_count": 87,
   "metadata": {},
   "outputs": [],
   "source": [
    "mean=test.mean(axis=0)\n",
    "std=test.std(axis=0)\n",
    "\n",
    "test=(test-mean)/std"
   ]
  },
  {
   "cell_type": "code",
   "execution_count": 94,
   "metadata": {},
   "outputs": [],
   "source": [
    "test_predictions = model.predict(X1).flatten()"
   ]
  },
  {
   "cell_type": "code",
   "execution_count": 101,
   "metadata": {},
   "outputs": [],
   "source": [
    "df = pd.DataFrame()\n",
    "\n",
    "df['prediction']=test_predictions\n",
    "df.to_csv('prediction_march.csv')"
   ]
  },
  {
   "cell_type": "markdown",
   "metadata": {},
   "source": [
    "### Evaluating with Random Forest Regressor"
   ]
  },
  {
   "cell_type": "code",
   "execution_count": 19,
   "metadata": {},
   "outputs": [
    {
     "name": "stdout",
     "output_type": "stream",
     "text": [
      "(18270, 4)\n",
      "(18270,)\n"
     ]
    }
   ],
   "source": [
    "print(X_train.shape)\n",
    "print(y_train.shape)"
   ]
  },
  {
   "cell_type": "markdown",
   "metadata": {},
   "source": [
    "from sklearn.preprocessing import StandardScaler\n",
    "sc = StandardScaler()\n",
    "X = sc.fit_transform(X)"
   ]
  },
  {
   "cell_type": "markdown",
   "metadata": {},
   "source": [
    "Y = sc.fit_transform(Y)"
   ]
  },
  {
   "cell_type": "code",
   "execution_count": 12,
   "metadata": {},
   "outputs": [],
   "source": [
    "X1=X.drop(['visibility'],axis=1)"
   ]
  },
  {
   "cell_type": "code",
   "execution_count": 13,
   "metadata": {},
   "outputs": [],
   "source": [
    "#from sklearn.model_selection import train_test_split\n",
    "#X_train, X_test, y_train, y_test = train_test_split(X1, Y, test_size=0.3)"
   ]
  },
  {
   "cell_type": "code",
   "execution_count": 14,
   "metadata": {
    "scrolled": true
   },
   "outputs": [
    {
     "data": {
      "text/plain": [
       "RandomForestRegressor(bootstrap=True, criterion='mse', max_depth=None,\n",
       "           max_features='auto', max_leaf_nodes=None,\n",
       "           min_impurity_decrease=0.0, min_impurity_split=None,\n",
       "           min_samples_leaf=1, min_samples_split=2,\n",
       "           min_weight_fraction_leaf=0.0, n_estimators=10, n_jobs=1,\n",
       "           oob_score=False, random_state=None, verbose=0, warm_start=False)"
      ]
     },
     "execution_count": 14,
     "metadata": {},
     "output_type": "execute_result"
    }
   ],
   "source": [
    "from sklearn.ensemble import RandomForestRegressor\n",
    "from sklearn.model_selection import train_test_split\n",
    "\n",
    "X1_train, X1_test, y1_train, y1_test = train_test_split(X, Y, test_size=0.3,random_state=40)\n",
    "\n",
    "rf = RandomForestRegressor()\n",
    "rf.fit(X1_train, y1_train)"
   ]
  },
  {
   "cell_type": "code",
   "execution_count": 18,
   "metadata": {},
   "outputs": [
    {
     "data": {
      "text/html": [
       "<div>\n",
       "<style>\n",
       "    .dataframe thead tr:only-child th {\n",
       "        text-align: right;\n",
       "    }\n",
       "\n",
       "    .dataframe thead th {\n",
       "        text-align: left;\n",
       "    }\n",
       "\n",
       "    .dataframe tbody tr th {\n",
       "        vertical-align: top;\n",
       "    }\n",
       "</style>\n",
       "<table border=\"1\" class=\"dataframe\">\n",
       "  <thead>\n",
       "    <tr style=\"text-align: right;\">\n",
       "      <th></th>\n",
       "      <th>temperature</th>\n",
       "      <th>humidity</th>\n",
       "      <th>wind_speed</th>\n",
       "      <th>visibility</th>\n",
       "      <th>serial</th>\n",
       "    </tr>\n",
       "  </thead>\n",
       "  <tbody>\n",
       "    <tr>\n",
       "      <th>14761</th>\n",
       "      <td>17.0</td>\n",
       "      <td>20.00</td>\n",
       "      <td>11.10</td>\n",
       "      <td>5.0</td>\n",
       "      <td>117</td>\n",
       "    </tr>\n",
       "    <tr>\n",
       "      <th>15964</th>\n",
       "      <td>8.2</td>\n",
       "      <td>76.00</td>\n",
       "      <td>8.22</td>\n",
       "      <td>3.0</td>\n",
       "      <td>15</td>\n",
       "    </tr>\n",
       "    <tr>\n",
       "      <th>2787</th>\n",
       "      <td>26.6</td>\n",
       "      <td>24.64</td>\n",
       "      <td>6.12</td>\n",
       "      <td>4.3</td>\n",
       "      <td>33</td>\n",
       "    </tr>\n",
       "    <tr>\n",
       "      <th>1630</th>\n",
       "      <td>26.7</td>\n",
       "      <td>51.09</td>\n",
       "      <td>13.07</td>\n",
       "      <td>5.9</td>\n",
       "      <td>36</td>\n",
       "    </tr>\n",
       "    <tr>\n",
       "      <th>19751</th>\n",
       "      <td>16.7</td>\n",
       "      <td>49.27</td>\n",
       "      <td>0.00</td>\n",
       "      <td>2.1</td>\n",
       "      <td>32</td>\n",
       "    </tr>\n",
       "  </tbody>\n",
       "</table>\n",
       "</div>"
      ],
      "text/plain": [
       "       temperature  humidity  wind_speed  visibility  serial\n",
       "14761         17.0     20.00       11.10         5.0     117\n",
       "15964          8.2     76.00        8.22         3.0      15\n",
       "2787          26.6     24.64        6.12         4.3      33\n",
       "1630          26.7     51.09       13.07         5.9      36\n",
       "19751         16.7     49.27        0.00         2.1      32"
      ]
     },
     "execution_count": 18,
     "metadata": {},
     "output_type": "execute_result"
    }
   ],
   "source": [
    "# data_test = pd.read_csv('modified_test_interpolated.csv')\n",
    "#data_test=data_test.drop(['Date','Time'],axis=1)\n",
    "#X_test = data_test.iloc[:,1:]\n",
    "#Y = list(data.iloc[:,:1])\n",
    "#Y_test= np.asarray(data_test['solar_output'], dtype=\"float32\")\n"
   ]
  },
  {
   "cell_type": "code",
   "execution_count": 783,
   "metadata": {
    "collapsed": true
   },
   "outputs": [],
   "source": [
    "#test=pd.read_csv('test_interpolated.csv')\n",
    "#test=test.drop(['Date','Time','visibility','wind_speed'],axis=1)\n",
    "#X_TEST_NEW = test.iloc[:,1:]\n",
    "#Y_TEST_NEW= np.asarray(test['solar_output'], dtype=\"int\")"
   ]
  },
  {
   "cell_type": "code",
   "execution_count": 784,
   "metadata": {
    "collapsed": true
   },
   "outputs": [],
   "source": [
    "pred_NEW = rf.predict(X1_test)"
   ]
  },
  {
   "cell_type": "code",
   "execution_count": 785,
   "metadata": {},
   "outputs": [
    {
     "data": {
      "text/plain": [
       "0.93390808739603681"
      ]
     },
     "execution_count": 785,
     "metadata": {},
     "output_type": "execute_result"
    }
   ],
   "source": [
    "## Scores R2\n",
    "from sklearn.metrics import r2_score\n",
    "r2_score(y1_test, pred_NEW) ## With Reduced Feature Set"
   ]
  },
  {
   "cell_type": "code",
   "execution_count": 786,
   "metadata": {},
   "outputs": [
    {
     "name": "stdout",
     "output_type": "stream",
     "text": [
      "Method: Random Forest Regressor\n",
      "R2 on 10-fold CV: 0.9014\n"
     ]
    }
   ],
   "source": [
    "## Using K-FoldCross Validation\n",
    "from sklearn.cross_validation import KFold\n",
    "rf = RandomForestRegressor()\n",
    "X1=X1.values\n",
    "# Compute R2 using 10-fold x-validation\n",
    "kf = KFold(len(X), n_folds=10)\n",
    "xval_err = 0\n",
    "for train,test in kf:\n",
    "    rf.fit(X1[train],Y[train])\n",
    "    p = rf.predict(X1[test])\n",
    "    e = p-Y[test]\n",
    "    xval_err += r2_score(Y[test], p)\n",
    "rf_10cv = np.sqrt(xval_err/10)\n",
    "\n",
    "method_name = 'Random Forest Regressor'\n",
    "print('Method: %s' %method_name)\n",
    "\n",
    "print('R2 on 10-fold CV: %.4f' %rf_10cv)"
   ]
  },
  {
   "cell_type": "code",
   "execution_count": 791,
   "metadata": {
    "collapsed": true
   },
   "outputs": [],
   "source": [
    "data_test = pd.read_csv('modified_test_interpolated.csv')\n",
    "data_test=data_test.drop(['Date','Time','visibility'],axis=1)\n",
    "X_test = data_test.iloc[:,1:]\n",
    "Y = list(data.iloc[:,:1])\n",
    "Y_test= np.asarray(data_test['solar_output'], dtype=\"float32\")"
   ]
  },
  {
   "cell_type": "code",
   "execution_count": 792,
   "metadata": {
    "collapsed": true
   },
   "outputs": [],
   "source": [
    "pre=rf.predict(X_test)"
   ]
  },
  {
   "cell_type": "code",
   "execution_count": 795,
   "metadata": {
    "collapsed": true
   },
   "outputs": [],
   "source": [
    "ab=pd.DataFrame({'original':Y_test,'Prediction_withoutVisibility':pre})"
   ]
  },
  {
   "cell_type": "code",
   "execution_count": 796,
   "metadata": {
    "collapsed": true
   },
   "outputs": [],
   "source": [
    "ab.to_csv('abc.csv')"
   ]
  },
  {
   "cell_type": "code",
   "execution_count": null,
   "metadata": {
    "collapsed": true
   },
   "outputs": [],
   "source": []
  },
  {
   "cell_type": "markdown",
   "metadata": {},
   "source": [
    "## R2 Scores using ALL FEATURE SET"
   ]
  },
  {
   "cell_type": "code",
   "execution_count": 753,
   "metadata": {},
   "outputs": [
    {
     "data": {
      "text/plain": [
       "0.94307881621930378"
      ]
     },
     "execution_count": 753,
     "metadata": {},
     "output_type": "execute_result"
    }
   ],
   "source": [
    "## Old R2 Score With all the Feature Set\n",
    "rf = RandomForestRegressor()\n",
    "X_train, X_test, y_train, y_test = train_test_split(X, Y, test_size=0.3,random_state=40)\n",
    "rf.fit(X_train, y_train)\n",
    "#test=pd.read_csv('test_interpolated.csv')\n",
    "#test=test.drop(['Date','Time'],axis=1)\n",
    "#X_TEST_OLD = test.iloc[:,1:]\n",
    "#Y = list(data.iloc[:,:1])\n",
    "#Y_TEST_OLD= np.asarray(test['solar_output'], dtype=\"int\")\n",
    "pred_OLD = rf.predict(X_test)\n",
    "r2_score(y_test, pred_OLD)"
   ]
  },
  {
   "cell_type": "code",
   "execution_count": 754,
   "metadata": {},
   "outputs": [
    {
     "name": "stdout",
     "output_type": "stream",
     "text": [
      "Method: Random Forest Regressor\n",
      "R2 on 10-fold CV: 0.9035\n"
     ]
    }
   ],
   "source": [
    "## Using K-FoldCross Validation\n",
    "from sklearn.cross_validation import KFold\n",
    "rf = RandomForestRegressor()\n",
    "X=X.values\n",
    "# Compute R2 using 10-fold x-validation\n",
    "kf = KFold(len(X), n_folds=10)\n",
    "xval_err = 0\n",
    "for train,test in kf:\n",
    "    rf.fit(X[train],Y[train])\n",
    "    p = rf.predict(X[test])\n",
    "    e = p-Y[test]\n",
    "    xval_err += r2_score(Y[test], p)\n",
    "rf_10cv = np.sqrt(xval_err/10)\n",
    "\n",
    "method_name = 'Random Forest Regressor'\n",
    "print('Method: %s' %method_name)\n",
    "\n",
    "print('R2 on 10-fold CV: %.4f' %rf_10cv)"
   ]
  },
  {
   "cell_type": "code",
   "execution_count": null,
   "metadata": {
    "collapsed": true
   },
   "outputs": [],
   "source": []
  },
  {
   "cell_type": "code",
   "execution_count": 337,
   "metadata": {
    "collapsed": true
   },
   "outputs": [],
   "source": [
    "df = pd.DataFrame({'original':y_test, 'prediction':pred_OLD}) "
   ]
  },
  {
   "cell_type": "code",
   "execution_count": 338,
   "metadata": {
    "collapsed": true
   },
   "outputs": [],
   "source": [
    "df.to_csv('new_result_1.csv')"
   ]
  },
  {
   "cell_type": "markdown",
   "metadata": {},
   "source": [
    "### Neural Network Regressor ( Before Feature Selection)"
   ]
  },
  {
   "cell_type": "code",
   "execution_count": 814,
   "metadata": {
    "collapsed": true
   },
   "outputs": [],
   "source": [
    "from sklearn.neural_network import MLPRegressor"
   ]
  },
  {
   "cell_type": "code",
   "execution_count": 833,
   "metadata": {
    "collapsed": true
   },
   "outputs": [],
   "source": [
    "data = pd.read_csv('train_data.csv')"
   ]
  },
  {
   "cell_type": "code",
   "execution_count": 834,
   "metadata": {},
   "outputs": [
    {
     "data": {
      "text/html": [
       "<div>\n",
       "<style>\n",
       "    .dataframe thead tr:only-child th {\n",
       "        text-align: right;\n",
       "    }\n",
       "\n",
       "    .dataframe thead th {\n",
       "        text-align: left;\n",
       "    }\n",
       "\n",
       "    .dataframe tbody tr th {\n",
       "        vertical-align: top;\n",
       "    }\n",
       "</style>\n",
       "<table border=\"1\" class=\"dataframe\">\n",
       "  <thead>\n",
       "    <tr style=\"text-align: right;\">\n",
       "      <th></th>\n",
       "      <th>temperature</th>\n",
       "      <th>humidity</th>\n",
       "      <th>serial</th>\n",
       "    </tr>\n",
       "  </thead>\n",
       "  <tbody>\n",
       "    <tr>\n",
       "      <th>0</th>\n",
       "      <td>27.0</td>\n",
       "      <td>74.0</td>\n",
       "      <td>1</td>\n",
       "    </tr>\n",
       "    <tr>\n",
       "      <th>1</th>\n",
       "      <td>27.0</td>\n",
       "      <td>74.0</td>\n",
       "      <td>2</td>\n",
       "    </tr>\n",
       "    <tr>\n",
       "      <th>2</th>\n",
       "      <td>27.0</td>\n",
       "      <td>74.0</td>\n",
       "      <td>3</td>\n",
       "    </tr>\n",
       "    <tr>\n",
       "      <th>3</th>\n",
       "      <td>27.0</td>\n",
       "      <td>74.0</td>\n",
       "      <td>4</td>\n",
       "    </tr>\n",
       "    <tr>\n",
       "      <th>4</th>\n",
       "      <td>27.0</td>\n",
       "      <td>74.0</td>\n",
       "      <td>5</td>\n",
       "    </tr>\n",
       "  </tbody>\n",
       "</table>\n",
       "</div>"
      ],
      "text/plain": [
       "   temperature  humidity  serial\n",
       "0         27.0      74.0       1\n",
       "1         27.0      74.0       2\n",
       "2         27.0      74.0       3\n",
       "3         27.0      74.0       4\n",
       "4         27.0      74.0       5"
      ]
     },
     "execution_count": 834,
     "metadata": {},
     "output_type": "execute_result"
    }
   ],
   "source": [
    "data=data.drop(['Date','Time','visibility','wind_speed'],axis=1)\n",
    "X = data.iloc[:,1:]\n",
    "\n",
    "Y= np.asarray(data['solar_output'], dtype=\"int\")\n",
    "X.head()"
   ]
  },
  {
   "cell_type": "code",
   "execution_count": 835,
   "metadata": {},
   "outputs": [
    {
     "data": {
      "text/plain": [
       "array([[ 0.52775547,  1.60259432, -1.72014654],\n",
       "       [ 0.52775547,  1.60259432, -1.69625561],\n",
       "       [ 0.52775547,  1.60259432, -1.67236469],\n",
       "       ..., \n",
       "       [ 0.51194463, -0.3678876 ,  1.67236469],\n",
       "       [ 0.14829538, -0.13913151,  1.69625561],\n",
       "       [-0.12048886,  0.04325509,  1.72014654]])"
      ]
     },
     "execution_count": 835,
     "metadata": {},
     "output_type": "execute_result"
    }
   ],
   "source": [
    "from sklearn.preprocessing import StandardScaler\n",
    "sc = StandardScaler()\n",
    "X = sc.fit_transform(X)\n",
    "#Y=sc.fit_transform(Y)\n",
    "X"
   ]
  },
  {
   "cell_type": "code",
   "execution_count": 836,
   "metadata": {
    "collapsed": true
   },
   "outputs": [],
   "source": [
    "from sklearn.model_selection import train_test_split\n",
    "X_train, X_test, y_train, y_test = train_test_split(X, Y, test_size=0.3)"
   ]
  },
  {
   "cell_type": "code",
   "execution_count": 837,
   "metadata": {
    "collapsed": true
   },
   "outputs": [],
   "source": [
    "nn = MLPRegressor(\n",
    "    hidden_layer_sizes=(10,),  activation='relu', solver='adam', alpha=0.5, batch_size='auto',\n",
    "    learning_rate='constant', learning_rate_init=0.01, power_t=0.5, max_iter=1000, shuffle=True,\n",
    "    random_state=9, tol=0.0001, verbose=False, warm_start=False, momentum=0.9, nesterovs_momentum=True,\n",
    "    early_stopping=False, validation_fraction=0.1, beta_1=0.9, beta_2=0.999, epsilon=1e-08)"
   ]
  },
  {
   "cell_type": "code",
   "execution_count": 838,
   "metadata": {
    "collapsed": true
   },
   "outputs": [],
   "source": [
    "n = nn.fit(X_train, y_train)"
   ]
  },
  {
   "cell_type": "code",
   "execution_count": 839,
   "metadata": {
    "collapsed": true
   },
   "outputs": [],
   "source": [
    "pred_neural_old = n.predict(X_test)"
   ]
  },
  {
   "cell_type": "code",
   "execution_count": 840,
   "metadata": {},
   "outputs": [
    {
     "name": "stdout",
     "output_type": "stream",
     "text": [
      "The R2 Score with all the Feature is 0.859044\n",
      "The Correlation between the Prediction and original Output Score Feature Selection is 0.926921\n"
     ]
    }
   ],
   "source": [
    "from sklearn.metrics import r2_score\n",
    "r2_score(y_test, pred_neural_old)\n",
    "print(\"The R2 Score with all the Feature is %f\"  %r2_score(y_test, pred_neural_old))\n",
    "\n",
    "\n",
    "df = pd.DataFrame({'original':y_test, 'prediction':pred_neural_old})\n",
    "print(\"The Correlation between the Prediction and original Output Score Feature Selection is %f\"  %df['original'].corr(df['prediction']))\n",
    "\n"
   ]
  },
  {
   "cell_type": "code",
   "execution_count": 841,
   "metadata": {},
   "outputs": [
    {
     "name": "stdout",
     "output_type": "stream",
     "text": [
      "Method: MLP Regressor\n",
      "R2 on 10-fold CV: 0.9163\n"
     ]
    }
   ],
   "source": [
    "## K-FoldCross Validation\n",
    "from sklearn.cross_validation import KFold\n",
    "nn = MLPRegressor(\n",
    "    hidden_layer_sizes=(10,),  activation='relu', solver='adam', alpha=0.5, batch_size='auto',\n",
    "    learning_rate='constant', learning_rate_init=0.01, power_t=0.5, max_iter=1000, shuffle=True,\n",
    "    random_state=9, tol=0.0001, verbose=False, warm_start=False, momentum=0.9, nesterovs_momentum=True,\n",
    "    early_stopping=False, validation_fraction=0.1, beta_1=0.9, beta_2=0.999, epsilon=1e-08)\n",
    "\n",
    "# Compute R2 using 10-fold x-validation\n",
    "kf = KFold(len(X), n_folds=10)\n",
    "xval_err = 0\n",
    "for train,test in kf:\n",
    "    nn.fit(X[train],Y[train])\n",
    "    p = nn.predict(X[test])\n",
    "    e = p-Y[test]\n",
    "    xval_err += r2_score(Y[test], p)\n",
    "rf_10cv = np.sqrt(xval_err/10)\n",
    "\n",
    "method_name = 'MLP Regressor'\n",
    "print('Method: %s' %method_name)\n",
    "\n",
    "print('R2 on 10-fold CV: %.4f' %rf_10cv)"
   ]
  },
  {
   "cell_type": "markdown",
   "metadata": {},
   "source": [
    "### Neural Network Regressor ( AfterFeature Selection)"
   ]
  },
  {
   "cell_type": "code",
   "execution_count": 605,
   "metadata": {
    "collapsed": true
   },
   "outputs": [],
   "source": [
    "from sklearn.neural_network import MLPRegressor"
   ]
  },
  {
   "cell_type": "code",
   "execution_count": 606,
   "metadata": {
    "collapsed": true
   },
   "outputs": [],
   "source": []
  },
  {
   "cell_type": "code",
   "execution_count": 711,
   "metadata": {},
   "outputs": [
    {
     "data": {
      "text/html": [
       "<div>\n",
       "<style>\n",
       "    .dataframe thead tr:only-child th {\n",
       "        text-align: right;\n",
       "    }\n",
       "\n",
       "    .dataframe thead th {\n",
       "        text-align: left;\n",
       "    }\n",
       "\n",
       "    .dataframe tbody tr th {\n",
       "        vertical-align: top;\n",
       "    }\n",
       "</style>\n",
       "<table border=\"1\" class=\"dataframe\">\n",
       "  <thead>\n",
       "    <tr style=\"text-align: right;\">\n",
       "      <th></th>\n",
       "      <th>temperature</th>\n",
       "      <th>humidity</th>\n",
       "      <th>visibility</th>\n",
       "      <th>serial</th>\n",
       "    </tr>\n",
       "  </thead>\n",
       "  <tbody>\n",
       "    <tr>\n",
       "      <th>0</th>\n",
       "      <td>27.0</td>\n",
       "      <td>74.0</td>\n",
       "      <td>4.0</td>\n",
       "      <td>1</td>\n",
       "    </tr>\n",
       "    <tr>\n",
       "      <th>1</th>\n",
       "      <td>27.0</td>\n",
       "      <td>74.0</td>\n",
       "      <td>4.0</td>\n",
       "      <td>2</td>\n",
       "    </tr>\n",
       "    <tr>\n",
       "      <th>2</th>\n",
       "      <td>27.0</td>\n",
       "      <td>74.0</td>\n",
       "      <td>4.0</td>\n",
       "      <td>3</td>\n",
       "    </tr>\n",
       "    <tr>\n",
       "      <th>3</th>\n",
       "      <td>27.0</td>\n",
       "      <td>74.0</td>\n",
       "      <td>4.0</td>\n",
       "      <td>4</td>\n",
       "    </tr>\n",
       "    <tr>\n",
       "      <th>4</th>\n",
       "      <td>27.0</td>\n",
       "      <td>74.0</td>\n",
       "      <td>4.0</td>\n",
       "      <td>5</td>\n",
       "    </tr>\n",
       "  </tbody>\n",
       "</table>\n",
       "</div>"
      ],
      "text/plain": [
       "   temperature  humidity  visibility  serial\n",
       "0         27.0      74.0         4.0       1\n",
       "1         27.0      74.0         4.0       2\n",
       "2         27.0      74.0         4.0       3\n",
       "3         27.0      74.0         4.0       4\n",
       "4         27.0      74.0         4.0       5"
      ]
     },
     "execution_count": 711,
     "metadata": {},
     "output_type": "execute_result"
    }
   ],
   "source": [
    "data = pd.read_csv('train_data.csv')\n",
    "data=data.drop(['Date','Time','wind_speed'],axis=1)\n",
    "X = data.iloc[:,1:]\n",
    "Y= np.asarray(data['solar_output'], dtype=\"int\")\n",
    "X.head()"
   ]
  },
  {
   "cell_type": "code",
   "execution_count": 608,
   "metadata": {},
   "outputs": [
    {
     "data": {
      "text/plain": [
       "array([[ 0.52775547,  1.60259432,  0.20749581, -1.72014654],\n",
       "       [ 0.52775547,  1.60259432,  0.20749581, -1.69625561],\n",
       "       [ 0.52775547,  1.60259432,  0.20749581, -1.67236469],\n",
       "       ..., \n",
       "       [ 0.51194463, -0.3678876 , -0.21670963,  1.67236469],\n",
       "       [ 0.14829538, -0.13913151, -0.35811144,  1.69625561],\n",
       "       [-0.12048886,  0.04325509, -0.42881235,  1.72014654]])"
      ]
     },
     "execution_count": 608,
     "metadata": {},
     "output_type": "execute_result"
    }
   ],
   "source": [
    "sc = StandardScaler()\n",
    "X = sc.fit_transform(X)\n",
    "X"
   ]
  },
  {
   "cell_type": "code",
   "execution_count": 609,
   "metadata": {
    "collapsed": true
   },
   "outputs": [],
   "source": [
    "from sklearn.model_selection import train_test_split\n",
    "X_train, X_test, y_train, y_test = train_test_split(X, Y, test_size=0.3)"
   ]
  },
  {
   "cell_type": "code",
   "execution_count": 610,
   "metadata": {
    "collapsed": true
   },
   "outputs": [],
   "source": [
    "nn = MLPRegressor(\n",
    "    hidden_layer_sizes=(12,),  activation='relu', solver='adam', alpha=0.01, batch_size='auto',\n",
    "    learning_rate='constant', learning_rate_init=0.001, power_t=0.5, max_iter=1000, shuffle=True,\n",
    "    random_state=9, tol=0.0001, verbose=False, warm_start=False, momentum=0.9, nesterovs_momentum=True,\n",
    "    early_stopping=False, validation_fraction=0.1, beta_1=0.9, beta_2=0.999, epsilon=1e-08)"
   ]
  },
  {
   "cell_type": "code",
   "execution_count": 611,
   "metadata": {
    "collapsed": true
   },
   "outputs": [],
   "source": [
    "n = nn.fit(X_train, y_train)"
   ]
  },
  {
   "cell_type": "code",
   "execution_count": 612,
   "metadata": {
    "collapsed": true
   },
   "outputs": [],
   "source": [
    "pred_neural_old = n.predict(X_test)"
   ]
  },
  {
   "cell_type": "code",
   "execution_count": 613,
   "metadata": {},
   "outputs": [
    {
     "name": "stdout",
     "output_type": "stream",
     "text": [
      "The R2 Score After Feature Selection is 0.864121\n",
      "The Correlation between the Prediction and original Output Score Feature Selection is 0.929681\n"
     ]
    }
   ],
   "source": [
    "from sklearn.metrics import r2_score\n",
    "print(\"The R2 Score After Feature Selection is %f\"  %r2_score(y_test, pred_neural_old))\n",
    "\n",
    "df = pd.DataFrame({'original':y_test, 'prediction':pred_neural_old})\n",
    "print(\"The Correlation between the Prediction and original Output Score Feature Selection is %f\"  %df['original'].corr(df['prediction']))\n",
    "\n",
    "\n",
    "\n"
   ]
  },
  {
   "cell_type": "code",
   "execution_count": 614,
   "metadata": {},
   "outputs": [
    {
     "data": {
      "text/plain": [
       "array([[ 0.52775547,  1.60259432,  0.20749581, -1.72014654],\n",
       "       [ 0.52775547,  1.60259432,  0.20749581, -1.69625561],\n",
       "       [ 0.52775547,  1.60259432,  0.20749581, -1.67236469],\n",
       "       ..., \n",
       "       [ 0.51194463, -0.3678876 , -0.21670963,  1.67236469],\n",
       "       [ 0.14829538, -0.13913151, -0.35811144,  1.69625561],\n",
       "       [-0.12048886,  0.04325509, -0.42881235,  1.72014654]])"
      ]
     },
     "execution_count": 614,
     "metadata": {},
     "output_type": "execute_result"
    }
   ],
   "source": [
    "X"
   ]
  },
  {
   "cell_type": "code",
   "execution_count": 615,
   "metadata": {},
   "outputs": [
    {
     "name": "stdout",
     "output_type": "stream",
     "text": [
      "Method: MLP Regressor\n",
      "R2 on 10-fold CV: 0.9267\n"
     ]
    }
   ],
   "source": [
    "## K-FoldCross Validation\n",
    "#X=X.values\n",
    "from sklearn.cross_validation import KFold\n",
    "nn = MLPRegressor(\n",
    "    hidden_layer_sizes=(10,),  activation='relu', solver='adam', alpha=0.5, batch_size='auto',\n",
    "    learning_rate='constant', learning_rate_init=0.01, power_t=0.5, max_iter=1000, shuffle=True,\n",
    "    random_state=9, tol=0.0001, verbose=False, warm_start=False, momentum=0.9, nesterovs_momentum=True,\n",
    "    early_stopping=False, validation_fraction=0.1, beta_1=0.9, beta_2=0.999, epsilon=1e-08)\n",
    "\n",
    "# Compute R2 using 10-fold x-validation\n",
    "kf = KFold(len(X), n_folds=10)\n",
    "xval_err = 0\n",
    "for train,test in kf:\n",
    "    nn.fit(X[train],Y[train])\n",
    "    p = nn.predict(X[test])\n",
    "    e = p-Y[test]\n",
    "    xval_err += r2_score(Y[test], p)\n",
    "rf_10cv = np.sqrt(xval_err/10)\n",
    "\n",
    "method_name = 'MLP Regressor'\n",
    "print('Method: %s' %method_name)\n",
    "\n",
    "print('R2 on 10-fold CV: %.4f' %rf_10cv)"
   ]
  },
  {
   "cell_type": "code",
   "execution_count": 619,
   "metadata": {
    "collapsed": true
   },
   "outputs": [],
   "source": [
    "test=pd.read_csv('test_interpolated.csv')\n",
    "test=test.drop(['Date','Time','wind_speed'],axis=1)\n",
    "X = test.iloc[:,1:]\n",
    "Y= np.asarray(test['solar_output'], dtype=\"int\")\n",
    "X.head()\n",
    "sc = StandardScaler()\n",
    "X = sc.fit_transform(X)\n",
    "\n",
    "pred=nn.predict(X)\n",
    "df=pd.DataFrame({'original':Y,'prediction':pred})"
   ]
  },
  {
   "cell_type": "code",
   "execution_count": 622,
   "metadata": {
    "collapsed": true
   },
   "outputs": [],
   "source": [
    "df = pd.DataFrame({'original':Y, 'prediction':pred})"
   ]
  },
  {
   "cell_type": "code",
   "execution_count": 623,
   "metadata": {
    "collapsed": true
   },
   "outputs": [],
   "source": [
    "df.to_csv('mlp_new.csv')"
   ]
  },
  {
   "cell_type": "markdown",
   "metadata": {},
   "source": [
    "### Bagging Regressor "
   ]
  },
  {
   "cell_type": "code",
   "execution_count": 715,
   "metadata": {
    "collapsed": true
   },
   "outputs": [],
   "source": [
    "from sklearn.ensemble import BaggingRegressor"
   ]
  },
  {
   "cell_type": "code",
   "execution_count": 716,
   "metadata": {
    "collapsed": true
   },
   "outputs": [],
   "source": [
    "data = pd.read_csv('train_data.csv')\n",
    "data=data.drop(['Date','Time','wind_speed'],axis=1)\n",
    "X = data.iloc[:,1:]\n",
    "Y= np.asarray(data['solar_output'], dtype=\"int\")\n"
   ]
  },
  {
   "cell_type": "code",
   "execution_count": 717,
   "metadata": {
    "collapsed": true
   },
   "outputs": [],
   "source": [
    "from sklearn.model_selection import train_test_split\n",
    "X_train, X_test, y_train, y_test = train_test_split(X, Y, test_size=0.3)"
   ]
  },
  {
   "cell_type": "code",
   "execution_count": 720,
   "metadata": {
    "collapsed": true
   },
   "outputs": [],
   "source": [
    "br=BaggingRegressor()\n",
    "br=br.fit(X_train,y_train)"
   ]
  },
  {
   "cell_type": "code",
   "execution_count": 723,
   "metadata": {},
   "outputs": [
    {
     "name": "stdout",
     "output_type": "stream",
     "text": [
      "The R2 Score After Feature Selection is 0.921388\n"
     ]
    }
   ],
   "source": [
    "pred=br.predict(X_test)\n",
    "from sklearn.metrics import r2_score\n",
    "print(\"The R2 Score After Feature Selection is %f\"  %r2_score(y_test, pred))"
   ]
  },
  {
   "cell_type": "code",
   "execution_count": null,
   "metadata": {
    "collapsed": true
   },
   "outputs": [],
   "source": []
  },
  {
   "cell_type": "code",
   "execution_count": null,
   "metadata": {
    "collapsed": true
   },
   "outputs": [],
   "source": []
  },
  {
   "cell_type": "code",
   "execution_count": null,
   "metadata": {
    "collapsed": true
   },
   "outputs": [],
   "source": []
  },
  {
   "cell_type": "markdown",
   "metadata": {},
   "source": [
    "df = pd.DataFrame({'original':Y_test, 'prediction':pred})\n",
    "df['diff']=(df['prediction']-df['original'])\n",
    "#df.columns=['difference']\n",
    "#df['difference']=df[['original', 'prediction']].diff(axis=1)\n",
    "df['diff']=(df['diff']/df['original'])\n",
    "df['diff']=df['diff'].abs()\n",
    "df.head(5)"
   ]
  },
  {
   "cell_type": "code",
   "execution_count": 21,
   "metadata": {},
   "outputs": [
    {
     "data": {
      "text/plain": [
       "2.7823233330475436"
      ]
     },
     "execution_count": 21,
     "metadata": {},
     "output_type": "execute_result"
    }
   ],
   "source": [
    "from sklearn import metrics\n",
    "from math import sqrt\n",
    "\n",
    "rms = sqrt(metrics.mean_squared_error(y_test, pred))\n",
    "rms"
   ]
  },
  {
   "cell_type": "code",
   "execution_count": 14,
   "metadata": {},
   "outputs": [
    {
     "name": "stderr",
     "output_type": "stream",
     "text": [
      "/Library/Python/2.7/site-packages/sklearn/cross_validation.py:41: DeprecationWarning: This module was deprecated in version 0.18 in favor of the model_selection module into which all the refactored classes and functions are moved. Also note that the interface of the new CV iterators are different from that of this module. This module will be removed in 0.20.\n",
      "  \"This module will be removed in 0.20.\", DeprecationWarning)\n"
     ]
    }
   ],
   "source": [
    "from sklearn.linear_model import LogisticRegression\n",
    "from sklearn.cross_validation import train_test_split\n",
    "from sklearn import metrics\n",
    "from sklearn.cross_validation import cross_val_score"
   ]
  },
  {
   "cell_type": "code",
   "execution_count": 15,
   "metadata": {
    "collapsed": true
   },
   "outputs": [],
   "source": [
    "model = LogisticRegression()\n",
    "model = model.fit(X_train, y_train)"
   ]
  },
  {
   "cell_type": "code",
   "execution_count": 16,
   "metadata": {
    "collapsed": true
   },
   "outputs": [],
   "source": [
    "pred = model.predict(X_test)"
   ]
  },
  {
   "cell_type": "code",
   "execution_count": 17,
   "metadata": {},
   "outputs": [
    {
     "data": {
      "text/plain": [
       "array([ 0, 22,  0, ...,  0,  0,  0])"
      ]
     },
     "execution_count": 17,
     "metadata": {},
     "output_type": "execute_result"
    }
   ],
   "source": [
    "pred"
   ]
  },
  {
   "cell_type": "code",
   "execution_count": 18,
   "metadata": {},
   "outputs": [
    {
     "name": "stdout",
     "output_type": "stream",
     "text": [
      "7.44655833003\n"
     ]
    }
   ],
   "source": [
    "print(metrics.mean_absolute_error(y_test, pred))"
   ]
  },
  {
   "cell_type": "code",
   "execution_count": 46,
   "metadata": {},
   "outputs": [
    {
     "name": "stdout",
     "output_type": "stream",
     "text": [
      "0.213106090633\n"
     ]
    }
   ],
   "source": [
    "print metrics.accuracy_score(y_test, pred)"
   ]
  },
  {
   "cell_type": "code",
   "execution_count": 120,
   "metadata": {},
   "outputs": [
    {
     "data": {
      "text/html": [
       "<div>\n",
       "<style>\n",
       "    .dataframe thead tr:only-child th {\n",
       "        text-align: right;\n",
       "    }\n",
       "\n",
       "    .dataframe thead th {\n",
       "        text-align: left;\n",
       "    }\n",
       "\n",
       "    .dataframe tbody tr th {\n",
       "        vertical-align: top;\n",
       "    }\n",
       "</style>\n",
       "<table border=\"1\" class=\"dataframe\">\n",
       "  <thead>\n",
       "    <tr style=\"text-align: right;\">\n",
       "      <th></th>\n",
       "      <th>temperature</th>\n",
       "      <th>humidity</th>\n",
       "      <th>wind_speed</th>\n",
       "      <th>visibility</th>\n",
       "      <th>serial</th>\n",
       "    </tr>\n",
       "  </thead>\n",
       "  <tbody>\n",
       "    <tr>\n",
       "      <th>0</th>\n",
       "      <td>27.0</td>\n",
       "      <td>74.00</td>\n",
       "      <td>0.00</td>\n",
       "      <td>4.0</td>\n",
       "      <td>1</td>\n",
       "    </tr>\n",
       "    <tr>\n",
       "      <th>1</th>\n",
       "      <td>27.0</td>\n",
       "      <td>74.00</td>\n",
       "      <td>0.56</td>\n",
       "      <td>4.0</td>\n",
       "      <td>2</td>\n",
       "    </tr>\n",
       "    <tr>\n",
       "      <th>2</th>\n",
       "      <td>27.0</td>\n",
       "      <td>74.00</td>\n",
       "      <td>1.00</td>\n",
       "      <td>4.0</td>\n",
       "      <td>3</td>\n",
       "    </tr>\n",
       "    <tr>\n",
       "      <th>3</th>\n",
       "      <td>27.0</td>\n",
       "      <td>74.00</td>\n",
       "      <td>1.33</td>\n",
       "      <td>4.0</td>\n",
       "      <td>4</td>\n",
       "    </tr>\n",
       "    <tr>\n",
       "      <th>4</th>\n",
       "      <td>27.0</td>\n",
       "      <td>74.00</td>\n",
       "      <td>1.57</td>\n",
       "      <td>4.0</td>\n",
       "      <td>5</td>\n",
       "    </tr>\n",
       "    <tr>\n",
       "      <th>5</th>\n",
       "      <td>27.0</td>\n",
       "      <td>74.00</td>\n",
       "      <td>1.75</td>\n",
       "      <td>4.0</td>\n",
       "      <td>6</td>\n",
       "    </tr>\n",
       "    <tr>\n",
       "      <th>6</th>\n",
       "      <td>27.0</td>\n",
       "      <td>74.00</td>\n",
       "      <td>1.90</td>\n",
       "      <td>4.0</td>\n",
       "      <td>7</td>\n",
       "    </tr>\n",
       "    <tr>\n",
       "      <th>7</th>\n",
       "      <td>27.0</td>\n",
       "      <td>74.00</td>\n",
       "      <td>1.81</td>\n",
       "      <td>4.0</td>\n",
       "      <td>8</td>\n",
       "    </tr>\n",
       "    <tr>\n",
       "      <th>8</th>\n",
       "      <td>27.0</td>\n",
       "      <td>74.00</td>\n",
       "      <td>1.38</td>\n",
       "      <td>4.0</td>\n",
       "      <td>9</td>\n",
       "    </tr>\n",
       "    <tr>\n",
       "      <th>9</th>\n",
       "      <td>27.0</td>\n",
       "      <td>74.00</td>\n",
       "      <td>0.81</td>\n",
       "      <td>4.0</td>\n",
       "      <td>10</td>\n",
       "    </tr>\n",
       "    <tr>\n",
       "      <th>10</th>\n",
       "      <td>27.0</td>\n",
       "      <td>74.00</td>\n",
       "      <td>0.27</td>\n",
       "      <td>4.0</td>\n",
       "      <td>11</td>\n",
       "    </tr>\n",
       "    <tr>\n",
       "      <th>11</th>\n",
       "      <td>27.0</td>\n",
       "      <td>74.00</td>\n",
       "      <td>0.06</td>\n",
       "      <td>4.0</td>\n",
       "      <td>12</td>\n",
       "    </tr>\n",
       "    <tr>\n",
       "      <th>12</th>\n",
       "      <td>27.0</td>\n",
       "      <td>74.00</td>\n",
       "      <td>0.00</td>\n",
       "      <td>4.0</td>\n",
       "      <td>13</td>\n",
       "    </tr>\n",
       "    <tr>\n",
       "      <th>13</th>\n",
       "      <td>27.1</td>\n",
       "      <td>73.76</td>\n",
       "      <td>0.72</td>\n",
       "      <td>4.0</td>\n",
       "      <td>14</td>\n",
       "    </tr>\n",
       "    <tr>\n",
       "      <th>14</th>\n",
       "      <td>27.2</td>\n",
       "      <td>73.14</td>\n",
       "      <td>2.05</td>\n",
       "      <td>4.0</td>\n",
       "      <td>15</td>\n",
       "    </tr>\n",
       "    <tr>\n",
       "      <th>15</th>\n",
       "      <td>27.4</td>\n",
       "      <td>72.30</td>\n",
       "      <td>3.69</td>\n",
       "      <td>4.0</td>\n",
       "      <td>16</td>\n",
       "    </tr>\n",
       "    <tr>\n",
       "      <th>16</th>\n",
       "      <td>27.7</td>\n",
       "      <td>71.39</td>\n",
       "      <td>5.33</td>\n",
       "      <td>4.0</td>\n",
       "      <td>17</td>\n",
       "    </tr>\n",
       "    <tr>\n",
       "      <th>17</th>\n",
       "      <td>27.9</td>\n",
       "      <td>70.57</td>\n",
       "      <td>6.67</td>\n",
       "      <td>4.0</td>\n",
       "      <td>18</td>\n",
       "    </tr>\n",
       "    <tr>\n",
       "      <th>18</th>\n",
       "      <td>28.0</td>\n",
       "      <td>70.00</td>\n",
       "      <td>7.40</td>\n",
       "      <td>4.0</td>\n",
       "      <td>19</td>\n",
       "    </tr>\n",
       "    <tr>\n",
       "      <th>19</th>\n",
       "      <td>28.0</td>\n",
       "      <td>69.77</td>\n",
       "      <td>7.72</td>\n",
       "      <td>4.0</td>\n",
       "      <td>20</td>\n",
       "    </tr>\n",
       "    <tr>\n",
       "      <th>20</th>\n",
       "      <td>28.0</td>\n",
       "      <td>69.79</td>\n",
       "      <td>8.05</td>\n",
       "      <td>4.0</td>\n",
       "      <td>21</td>\n",
       "    </tr>\n",
       "    <tr>\n",
       "      <th>21</th>\n",
       "      <td>27.9</td>\n",
       "      <td>69.95</td>\n",
       "      <td>8.36</td>\n",
       "      <td>4.0</td>\n",
       "      <td>22</td>\n",
       "    </tr>\n",
       "    <tr>\n",
       "      <th>22</th>\n",
       "      <td>27.9</td>\n",
       "      <td>70.12</td>\n",
       "      <td>8.68</td>\n",
       "      <td>4.0</td>\n",
       "      <td>23</td>\n",
       "    </tr>\n",
       "    <tr>\n",
       "      <th>23</th>\n",
       "      <td>27.9</td>\n",
       "      <td>70.18</td>\n",
       "      <td>8.99</td>\n",
       "      <td>4.0</td>\n",
       "      <td>24</td>\n",
       "    </tr>\n",
       "    <tr>\n",
       "      <th>24</th>\n",
       "      <td>28.0</td>\n",
       "      <td>70.00</td>\n",
       "      <td>9.30</td>\n",
       "      <td>4.0</td>\n",
       "      <td>25</td>\n",
       "    </tr>\n",
       "    <tr>\n",
       "      <th>25</th>\n",
       "      <td>28.2</td>\n",
       "      <td>69.40</td>\n",
       "      <td>9.61</td>\n",
       "      <td>4.0</td>\n",
       "      <td>26</td>\n",
       "    </tr>\n",
       "    <tr>\n",
       "      <th>26</th>\n",
       "      <td>28.3</td>\n",
       "      <td>68.41</td>\n",
       "      <td>9.91</td>\n",
       "      <td>4.0</td>\n",
       "      <td>27</td>\n",
       "    </tr>\n",
       "    <tr>\n",
       "      <th>27</th>\n",
       "      <td>28.5</td>\n",
       "      <td>67.18</td>\n",
       "      <td>10.22</td>\n",
       "      <td>4.0</td>\n",
       "      <td>28</td>\n",
       "    </tr>\n",
       "    <tr>\n",
       "      <th>28</th>\n",
       "      <td>28.7</td>\n",
       "      <td>65.92</td>\n",
       "      <td>10.52</td>\n",
       "      <td>4.0</td>\n",
       "      <td>29</td>\n",
       "    </tr>\n",
       "    <tr>\n",
       "      <th>29</th>\n",
       "      <td>28.8</td>\n",
       "      <td>64.80</td>\n",
       "      <td>10.81</td>\n",
       "      <td>4.0</td>\n",
       "      <td>30</td>\n",
       "    </tr>\n",
       "    <tr>\n",
       "      <th>...</th>\n",
       "      <td>...</td>\n",
       "      <td>...</td>\n",
       "      <td>...</td>\n",
       "      <td>...</td>\n",
       "      <td>...</td>\n",
       "    </tr>\n",
       "    <tr>\n",
       "      <th>25200</th>\n",
       "      <td>35.0</td>\n",
       "      <td>15.89</td>\n",
       "      <td>6.45</td>\n",
       "      <td>4.9</td>\n",
       "      <td>116</td>\n",
       "    </tr>\n",
       "    <tr>\n",
       "      <th>25201</th>\n",
       "      <td>35.0</td>\n",
       "      <td>15.69</td>\n",
       "      <td>7.93</td>\n",
       "      <td>4.7</td>\n",
       "      <td>117</td>\n",
       "    </tr>\n",
       "    <tr>\n",
       "      <th>25202</th>\n",
       "      <td>35.0</td>\n",
       "      <td>15.46</td>\n",
       "      <td>9.69</td>\n",
       "      <td>4.4</td>\n",
       "      <td>118</td>\n",
       "    </tr>\n",
       "    <tr>\n",
       "      <th>25203</th>\n",
       "      <td>35.0</td>\n",
       "      <td>15.23</td>\n",
       "      <td>11.37</td>\n",
       "      <td>4.2</td>\n",
       "      <td>119</td>\n",
       "    </tr>\n",
       "    <tr>\n",
       "      <th>25204</th>\n",
       "      <td>35.0</td>\n",
       "      <td>15.07</td>\n",
       "      <td>12.59</td>\n",
       "      <td>4.1</td>\n",
       "      <td>120</td>\n",
       "    </tr>\n",
       "    <tr>\n",
       "      <th>25205</th>\n",
       "      <td>35.0</td>\n",
       "      <td>15.00</td>\n",
       "      <td>13.00</td>\n",
       "      <td>4.0</td>\n",
       "      <td>121</td>\n",
       "    </tr>\n",
       "    <tr>\n",
       "      <th>25206</th>\n",
       "      <td>35.0</td>\n",
       "      <td>15.05</td>\n",
       "      <td>12.69</td>\n",
       "      <td>4.0</td>\n",
       "      <td>122</td>\n",
       "    </tr>\n",
       "    <tr>\n",
       "      <th>25207</th>\n",
       "      <td>35.0</td>\n",
       "      <td>15.20</td>\n",
       "      <td>12.08</td>\n",
       "      <td>4.0</td>\n",
       "      <td>123</td>\n",
       "    </tr>\n",
       "    <tr>\n",
       "      <th>25208</th>\n",
       "      <td>35.0</td>\n",
       "      <td>15.39</td>\n",
       "      <td>11.29</td>\n",
       "      <td>4.0</td>\n",
       "      <td>124</td>\n",
       "    </tr>\n",
       "    <tr>\n",
       "      <th>25209</th>\n",
       "      <td>35.0</td>\n",
       "      <td>15.62</td>\n",
       "      <td>10.48</td>\n",
       "      <td>4.0</td>\n",
       "      <td>125</td>\n",
       "    </tr>\n",
       "    <tr>\n",
       "      <th>25210</th>\n",
       "      <td>35.0</td>\n",
       "      <td>15.83</td>\n",
       "      <td>9.77</td>\n",
       "      <td>4.0</td>\n",
       "      <td>126</td>\n",
       "    </tr>\n",
       "    <tr>\n",
       "      <th>25211</th>\n",
       "      <td>35.0</td>\n",
       "      <td>16.00</td>\n",
       "      <td>9.30</td>\n",
       "      <td>4.0</td>\n",
       "      <td>127</td>\n",
       "    </tr>\n",
       "    <tr>\n",
       "      <th>25212</th>\n",
       "      <td>35.0</td>\n",
       "      <td>16.07</td>\n",
       "      <td>9.04</td>\n",
       "      <td>4.0</td>\n",
       "      <td>128</td>\n",
       "    </tr>\n",
       "    <tr>\n",
       "      <th>25213</th>\n",
       "      <td>35.0</td>\n",
       "      <td>16.01</td>\n",
       "      <td>8.85</td>\n",
       "      <td>4.0</td>\n",
       "      <td>129</td>\n",
       "    </tr>\n",
       "    <tr>\n",
       "      <th>25214</th>\n",
       "      <td>34.9</td>\n",
       "      <td>15.84</td>\n",
       "      <td>8.73</td>\n",
       "      <td>4.0</td>\n",
       "      <td>130</td>\n",
       "    </tr>\n",
       "    <tr>\n",
       "      <th>25215</th>\n",
       "      <td>34.9</td>\n",
       "      <td>15.60</td>\n",
       "      <td>8.64</td>\n",
       "      <td>4.0</td>\n",
       "      <td>131</td>\n",
       "    </tr>\n",
       "    <tr>\n",
       "      <th>25216</th>\n",
       "      <td>34.8</td>\n",
       "      <td>15.30</td>\n",
       "      <td>8.58</td>\n",
       "      <td>4.0</td>\n",
       "      <td>132</td>\n",
       "    </tr>\n",
       "    <tr>\n",
       "      <th>25217</th>\n",
       "      <td>34.7</td>\n",
       "      <td>14.98</td>\n",
       "      <td>8.53</td>\n",
       "      <td>4.0</td>\n",
       "      <td>133</td>\n",
       "    </tr>\n",
       "    <tr>\n",
       "      <th>25218</th>\n",
       "      <td>34.6</td>\n",
       "      <td>14.66</td>\n",
       "      <td>8.47</td>\n",
       "      <td>4.0</td>\n",
       "      <td>134</td>\n",
       "    </tr>\n",
       "    <tr>\n",
       "      <th>25219</th>\n",
       "      <td>34.5</td>\n",
       "      <td>14.37</td>\n",
       "      <td>8.38</td>\n",
       "      <td>4.0</td>\n",
       "      <td>135</td>\n",
       "    </tr>\n",
       "    <tr>\n",
       "      <th>25220</th>\n",
       "      <td>34.4</td>\n",
       "      <td>14.13</td>\n",
       "      <td>8.25</td>\n",
       "      <td>4.0</td>\n",
       "      <td>136</td>\n",
       "    </tr>\n",
       "    <tr>\n",
       "      <th>25221</th>\n",
       "      <td>34.3</td>\n",
       "      <td>13.97</td>\n",
       "      <td>8.05</td>\n",
       "      <td>4.0</td>\n",
       "      <td>137</td>\n",
       "    </tr>\n",
       "    <tr>\n",
       "      <th>25222</th>\n",
       "      <td>34.2</td>\n",
       "      <td>13.92</td>\n",
       "      <td>7.78</td>\n",
       "      <td>4.0</td>\n",
       "      <td>138</td>\n",
       "    </tr>\n",
       "    <tr>\n",
       "      <th>25223</th>\n",
       "      <td>34.0</td>\n",
       "      <td>14.00</td>\n",
       "      <td>7.40</td>\n",
       "      <td>4.0</td>\n",
       "      <td>139</td>\n",
       "    </tr>\n",
       "    <tr>\n",
       "      <th>25224</th>\n",
       "      <td>33.3</td>\n",
       "      <td>15.47</td>\n",
       "      <td>6.67</td>\n",
       "      <td>3.9</td>\n",
       "      <td>140</td>\n",
       "    </tr>\n",
       "    <tr>\n",
       "      <th>25225</th>\n",
       "      <td>31.6</td>\n",
       "      <td>19.05</td>\n",
       "      <td>5.49</td>\n",
       "      <td>3.8</td>\n",
       "      <td>141</td>\n",
       "    </tr>\n",
       "    <tr>\n",
       "      <th>25226</th>\n",
       "      <td>29.3</td>\n",
       "      <td>23.95</td>\n",
       "      <td>4.07</td>\n",
       "      <td>3.6</td>\n",
       "      <td>142</td>\n",
       "    </tr>\n",
       "    <tr>\n",
       "      <th>25227</th>\n",
       "      <td>26.9</td>\n",
       "      <td>29.38</td>\n",
       "      <td>2.60</td>\n",
       "      <td>3.4</td>\n",
       "      <td>143</td>\n",
       "    </tr>\n",
       "    <tr>\n",
       "      <th>25228</th>\n",
       "      <td>24.6</td>\n",
       "      <td>34.56</td>\n",
       "      <td>1.29</td>\n",
       "      <td>3.2</td>\n",
       "      <td>144</td>\n",
       "    </tr>\n",
       "    <tr>\n",
       "      <th>25229</th>\n",
       "      <td>22.9</td>\n",
       "      <td>38.69</td>\n",
       "      <td>0.36</td>\n",
       "      <td>3.1</td>\n",
       "      <td>145</td>\n",
       "    </tr>\n",
       "  </tbody>\n",
       "</table>\n",
       "<p>24835 rows Ã 5 columns</p>\n",
       "</div>"
      ],
      "text/plain": [
       "       temperature  humidity  wind_speed  visibility  serial\n",
       "0             27.0     74.00        0.00         4.0       1\n",
       "1             27.0     74.00        0.56         4.0       2\n",
       "2             27.0     74.00        1.00         4.0       3\n",
       "3             27.0     74.00        1.33         4.0       4\n",
       "4             27.0     74.00        1.57         4.0       5\n",
       "5             27.0     74.00        1.75         4.0       6\n",
       "6             27.0     74.00        1.90         4.0       7\n",
       "7             27.0     74.00        1.81         4.0       8\n",
       "8             27.0     74.00        1.38         4.0       9\n",
       "9             27.0     74.00        0.81         4.0      10\n",
       "10            27.0     74.00        0.27         4.0      11\n",
       "11            27.0     74.00        0.06         4.0      12\n",
       "12            27.0     74.00        0.00         4.0      13\n",
       "13            27.1     73.76        0.72         4.0      14\n",
       "14            27.2     73.14        2.05         4.0      15\n",
       "15            27.4     72.30        3.69         4.0      16\n",
       "16            27.7     71.39        5.33         4.0      17\n",
       "17            27.9     70.57        6.67         4.0      18\n",
       "18            28.0     70.00        7.40         4.0      19\n",
       "19            28.0     69.77        7.72         4.0      20\n",
       "20            28.0     69.79        8.05         4.0      21\n",
       "21            27.9     69.95        8.36         4.0      22\n",
       "22            27.9     70.12        8.68         4.0      23\n",
       "23            27.9     70.18        8.99         4.0      24\n",
       "24            28.0     70.00        9.30         4.0      25\n",
       "25            28.2     69.40        9.61         4.0      26\n",
       "26            28.3     68.41        9.91         4.0      27\n",
       "27            28.5     67.18       10.22         4.0      28\n",
       "28            28.7     65.92       10.52         4.0      29\n",
       "29            28.8     64.80       10.81         4.0      30\n",
       "...            ...       ...         ...         ...     ...\n",
       "25200         35.0     15.89        6.45         4.9     116\n",
       "25201         35.0     15.69        7.93         4.7     117\n",
       "25202         35.0     15.46        9.69         4.4     118\n",
       "25203         35.0     15.23       11.37         4.2     119\n",
       "25204         35.0     15.07       12.59         4.1     120\n",
       "25205         35.0     15.00       13.00         4.0     121\n",
       "25206         35.0     15.05       12.69         4.0     122\n",
       "25207         35.0     15.20       12.08         4.0     123\n",
       "25208         35.0     15.39       11.29         4.0     124\n",
       "25209         35.0     15.62       10.48         4.0     125\n",
       "25210         35.0     15.83        9.77         4.0     126\n",
       "25211         35.0     16.00        9.30         4.0     127\n",
       "25212         35.0     16.07        9.04         4.0     128\n",
       "25213         35.0     16.01        8.85         4.0     129\n",
       "25214         34.9     15.84        8.73         4.0     130\n",
       "25215         34.9     15.60        8.64         4.0     131\n",
       "25216         34.8     15.30        8.58         4.0     132\n",
       "25217         34.7     14.98        8.53         4.0     133\n",
       "25218         34.6     14.66        8.47         4.0     134\n",
       "25219         34.5     14.37        8.38         4.0     135\n",
       "25220         34.4     14.13        8.25         4.0     136\n",
       "25221         34.3     13.97        8.05         4.0     137\n",
       "25222         34.2     13.92        7.78         4.0     138\n",
       "25223         34.0     14.00        7.40         4.0     139\n",
       "25224         33.3     15.47        6.67         3.9     140\n",
       "25225         31.6     19.05        5.49         3.8     141\n",
       "25226         29.3     23.95        4.07         3.6     142\n",
       "25227         26.9     29.38        2.60         3.4     143\n",
       "25228         24.6     34.56        1.29         3.2     144\n",
       "25229         22.9     38.69        0.36         3.1     145\n",
       "\n",
       "[24835 rows x 5 columns]"
      ]
     },
     "execution_count": 120,
     "metadata": {},
     "output_type": "execute_result"
    }
   ],
   "source": [
    "selector=(X['temperature']>10)\n",
    "X.loc[selector]"
   ]
  },
  {
   "cell_type": "code",
   "execution_count": 23,
   "metadata": {
    "collapsed": true
   },
   "outputs": [],
   "source": [
    "X_test.to_csv('abc1.csv')"
   ]
  },
  {
   "cell_type": "code",
   "execution_count": 24,
   "metadata": {},
   "outputs": [
    {
     "ename": "NameError",
     "evalue": "name 'df' is not defined",
     "output_type": "error",
     "traceback": [
      "\u001b[0;31m---------------------------------------------------------------------------\u001b[0m",
      "\u001b[0;31mNameError\u001b[0m                                 Traceback (most recent call last)",
      "\u001b[0;32m<ipython-input-24-ae080dfe78ac>\u001b[0m in \u001b[0;36m<module>\u001b[0;34m()\u001b[0m\n\u001b[0;32m----> 1\u001b[0;31m \u001b[0mdf\u001b[0m\u001b[0;34m.\u001b[0m\u001b[0mto_csv\u001b[0m\u001b[0;34m(\u001b[0m\u001b[0;34m'abc_check.csv'\u001b[0m\u001b[0;34m)\u001b[0m\u001b[0;34m\u001b[0m\u001b[0m\n\u001b[0m",
      "\u001b[0;31mNameError\u001b[0m: name 'df' is not defined"
     ]
    }
   ],
   "source": [
    "df.to_csv('abc_check.csv')"
   ]
  },
  {
   "cell_type": "code",
   "execution_count": 100,
   "metadata": {},
   "outputs": [
    {
     "data": {
      "text/html": [
       "<div>\n",
       "<style>\n",
       "    .dataframe thead tr:only-child th {\n",
       "        text-align: right;\n",
       "    }\n",
       "\n",
       "    .dataframe thead th {\n",
       "        text-align: left;\n",
       "    }\n",
       "\n",
       "    .dataframe tbody tr th {\n",
       "        vertical-align: top;\n",
       "    }\n",
       "</style>\n",
       "<table border=\"1\" class=\"dataframe\">\n",
       "  <thead>\n",
       "    <tr style=\"text-align: right;\">\n",
       "      <th></th>\n",
       "      <th>original</th>\n",
       "      <th>prediction</th>\n",
       "      <th>diff</th>\n",
       "    </tr>\n",
       "  </thead>\n",
       "  <tbody>\n",
       "    <tr>\n",
       "      <th>4</th>\n",
       "      <td>0.007030</td>\n",
       "      <td>0.0</td>\n",
       "      <td>1.000000</td>\n",
       "    </tr>\n",
       "    <tr>\n",
       "      <th>5</th>\n",
       "      <td>0.090900</td>\n",
       "      <td>0.0</td>\n",
       "      <td>1.000000</td>\n",
       "    </tr>\n",
       "    <tr>\n",
       "      <th>6</th>\n",
       "      <td>0.198160</td>\n",
       "      <td>0.0</td>\n",
       "      <td>1.000000</td>\n",
       "    </tr>\n",
       "    <tr>\n",
       "      <th>7</th>\n",
       "      <td>0.332000</td>\n",
       "      <td>0.0</td>\n",
       "      <td>1.000000</td>\n",
       "    </tr>\n",
       "    <tr>\n",
       "      <th>8</th>\n",
       "      <td>0.487540</td>\n",
       "      <td>0.0</td>\n",
       "      <td>1.000000</td>\n",
       "    </tr>\n",
       "    <tr>\n",
       "      <th>9</th>\n",
       "      <td>0.668560</td>\n",
       "      <td>0.0</td>\n",
       "      <td>1.000000</td>\n",
       "    </tr>\n",
       "    <tr>\n",
       "      <th>10</th>\n",
       "      <td>0.865750</td>\n",
       "      <td>0.0</td>\n",
       "      <td>1.000000</td>\n",
       "    </tr>\n",
       "    <tr>\n",
       "      <th>11</th>\n",
       "      <td>1.081800</td>\n",
       "      <td>0.4</td>\n",
       "      <td>0.630246</td>\n",
       "    </tr>\n",
       "    <tr>\n",
       "      <th>12</th>\n",
       "      <td>1.332300</td>\n",
       "      <td>0.7</td>\n",
       "      <td>0.474593</td>\n",
       "    </tr>\n",
       "    <tr>\n",
       "      <th>128</th>\n",
       "      <td>8.146620</td>\n",
       "      <td>4.3</td>\n",
       "      <td>0.472174</td>\n",
       "    </tr>\n",
       "    <tr>\n",
       "      <th>129</th>\n",
       "      <td>7.620620</td>\n",
       "      <td>4.0</td>\n",
       "      <td>0.475108</td>\n",
       "    </tr>\n",
       "    <tr>\n",
       "      <th>130</th>\n",
       "      <td>7.060020</td>\n",
       "      <td>4.1</td>\n",
       "      <td>0.419265</td>\n",
       "    </tr>\n",
       "    <tr>\n",
       "      <th>131</th>\n",
       "      <td>6.473080</td>\n",
       "      <td>3.2</td>\n",
       "      <td>0.505645</td>\n",
       "    </tr>\n",
       "    <tr>\n",
       "      <th>132</th>\n",
       "      <td>5.889250</td>\n",
       "      <td>3.1</td>\n",
       "      <td>0.473617</td>\n",
       "    </tr>\n",
       "    <tr>\n",
       "      <th>133</th>\n",
       "      <td>5.449810</td>\n",
       "      <td>2.8</td>\n",
       "      <td>0.486221</td>\n",
       "    </tr>\n",
       "    <tr>\n",
       "      <th>138</th>\n",
       "      <td>3.196630</td>\n",
       "      <td>1.7</td>\n",
       "      <td>0.468190</td>\n",
       "    </tr>\n",
       "    <tr>\n",
       "      <th>140</th>\n",
       "      <td>2.400040</td>\n",
       "      <td>0.6</td>\n",
       "      <td>0.750004</td>\n",
       "    </tr>\n",
       "    <tr>\n",
       "      <th>141</th>\n",
       "      <td>2.050580</td>\n",
       "      <td>0.2</td>\n",
       "      <td>0.902467</td>\n",
       "    </tr>\n",
       "    <tr>\n",
       "      <th>142</th>\n",
       "      <td>1.717740</td>\n",
       "      <td>0.1</td>\n",
       "      <td>0.941784</td>\n",
       "    </tr>\n",
       "    <tr>\n",
       "      <th>143</th>\n",
       "      <td>1.413910</td>\n",
       "      <td>0.1</td>\n",
       "      <td>0.929274</td>\n",
       "    </tr>\n",
       "    <tr>\n",
       "      <th>144</th>\n",
       "      <td>1.148090</td>\n",
       "      <td>0.2</td>\n",
       "      <td>0.825798</td>\n",
       "    </tr>\n",
       "    <tr>\n",
       "      <th>149</th>\n",
       "      <td>0.009160</td>\n",
       "      <td>0.0</td>\n",
       "      <td>1.000000</td>\n",
       "    </tr>\n",
       "    <tr>\n",
       "      <th>150</th>\n",
       "      <td>0.101850</td>\n",
       "      <td>0.0</td>\n",
       "      <td>1.000000</td>\n",
       "    </tr>\n",
       "    <tr>\n",
       "      <th>151</th>\n",
       "      <td>0.214900</td>\n",
       "      <td>0.0</td>\n",
       "      <td>1.000000</td>\n",
       "    </tr>\n",
       "    <tr>\n",
       "      <th>152</th>\n",
       "      <td>0.354890</td>\n",
       "      <td>0.0</td>\n",
       "      <td>1.000000</td>\n",
       "    </tr>\n",
       "    <tr>\n",
       "      <th>153</th>\n",
       "      <td>0.514850</td>\n",
       "      <td>0.0</td>\n",
       "      <td>1.000000</td>\n",
       "    </tr>\n",
       "    <tr>\n",
       "      <th>154</th>\n",
       "      <td>0.698080</td>\n",
       "      <td>0.0</td>\n",
       "      <td>1.000000</td>\n",
       "    </tr>\n",
       "    <tr>\n",
       "      <th>155</th>\n",
       "      <td>0.898170</td>\n",
       "      <td>0.0</td>\n",
       "      <td>1.000000</td>\n",
       "    </tr>\n",
       "    <tr>\n",
       "      <th>156</th>\n",
       "      <td>1.122370</td>\n",
       "      <td>0.3</td>\n",
       "      <td>0.732708</td>\n",
       "    </tr>\n",
       "    <tr>\n",
       "      <th>157</th>\n",
       "      <td>1.373420</td>\n",
       "      <td>0.8</td>\n",
       "      <td>0.417512</td>\n",
       "    </tr>\n",
       "    <tr>\n",
       "      <th>...</th>\n",
       "      <td>...</td>\n",
       "      <td>...</td>\n",
       "      <td>...</td>\n",
       "    </tr>\n",
       "    <tr>\n",
       "      <th>728</th>\n",
       "      <td>0.012010</td>\n",
       "      <td>0.0</td>\n",
       "      <td>1.000000</td>\n",
       "    </tr>\n",
       "    <tr>\n",
       "      <th>729</th>\n",
       "      <td>0.108180</td>\n",
       "      <td>0.0</td>\n",
       "      <td>1.000000</td>\n",
       "    </tr>\n",
       "    <tr>\n",
       "      <th>730</th>\n",
       "      <td>0.227420</td>\n",
       "      <td>0.0</td>\n",
       "      <td>1.000000</td>\n",
       "    </tr>\n",
       "    <tr>\n",
       "      <th>731</th>\n",
       "      <td>0.375790</td>\n",
       "      <td>0.0</td>\n",
       "      <td>1.000000</td>\n",
       "    </tr>\n",
       "    <tr>\n",
       "      <th>732</th>\n",
       "      <td>0.563060</td>\n",
       "      <td>0.0</td>\n",
       "      <td>1.000000</td>\n",
       "    </tr>\n",
       "    <tr>\n",
       "      <th>733</th>\n",
       "      <td>0.754460</td>\n",
       "      <td>0.0</td>\n",
       "      <td>1.000000</td>\n",
       "    </tr>\n",
       "    <tr>\n",
       "      <th>734</th>\n",
       "      <td>0.964940</td>\n",
       "      <td>0.0</td>\n",
       "      <td>1.000000</td>\n",
       "    </tr>\n",
       "    <tr>\n",
       "      <th>735</th>\n",
       "      <td>1.182450</td>\n",
       "      <td>0.0</td>\n",
       "      <td>1.000000</td>\n",
       "    </tr>\n",
       "    <tr>\n",
       "      <th>736</th>\n",
       "      <td>1.465180</td>\n",
       "      <td>0.8</td>\n",
       "      <td>0.453992</td>\n",
       "    </tr>\n",
       "    <tr>\n",
       "      <th>737</th>\n",
       "      <td>1.746420</td>\n",
       "      <td>0.9</td>\n",
       "      <td>0.484660</td>\n",
       "    </tr>\n",
       "    <tr>\n",
       "      <th>738</th>\n",
       "      <td>1.989800</td>\n",
       "      <td>1.0</td>\n",
       "      <td>0.497437</td>\n",
       "    </tr>\n",
       "    <tr>\n",
       "      <th>739</th>\n",
       "      <td>2.311630</td>\n",
       "      <td>1.3</td>\n",
       "      <td>0.437626</td>\n",
       "    </tr>\n",
       "    <tr>\n",
       "      <th>769</th>\n",
       "      <td>6.428720</td>\n",
       "      <td>15.7</td>\n",
       "      <td>1.442166</td>\n",
       "    </tr>\n",
       "    <tr>\n",
       "      <th>827</th>\n",
       "      <td>20.096130</td>\n",
       "      <td>6.7</td>\n",
       "      <td>0.666602</td>\n",
       "    </tr>\n",
       "    <tr>\n",
       "      <th>828</th>\n",
       "      <td>19.829559</td>\n",
       "      <td>7.4</td>\n",
       "      <td>0.626820</td>\n",
       "    </tr>\n",
       "    <tr>\n",
       "      <th>829</th>\n",
       "      <td>19.726971</td>\n",
       "      <td>9.0</td>\n",
       "      <td>0.543772</td>\n",
       "    </tr>\n",
       "    <tr>\n",
       "      <th>832</th>\n",
       "      <td>18.661690</td>\n",
       "      <td>9.9</td>\n",
       "      <td>0.469501</td>\n",
       "    </tr>\n",
       "    <tr>\n",
       "      <th>833</th>\n",
       "      <td>18.312380</td>\n",
       "      <td>9.5</td>\n",
       "      <td>0.481225</td>\n",
       "    </tr>\n",
       "    <tr>\n",
       "      <th>834</th>\n",
       "      <td>18.036390</td>\n",
       "      <td>9.6</td>\n",
       "      <td>0.467743</td>\n",
       "    </tr>\n",
       "    <tr>\n",
       "      <th>837</th>\n",
       "      <td>17.262430</td>\n",
       "      <td>9.7</td>\n",
       "      <td>0.438086</td>\n",
       "    </tr>\n",
       "    <tr>\n",
       "      <th>838</th>\n",
       "      <td>16.665779</td>\n",
       "      <td>8.0</td>\n",
       "      <td>0.519974</td>\n",
       "    </tr>\n",
       "    <tr>\n",
       "      <th>839</th>\n",
       "      <td>16.019991</td>\n",
       "      <td>6.7</td>\n",
       "      <td>0.581773</td>\n",
       "    </tr>\n",
       "    <tr>\n",
       "      <th>840</th>\n",
       "      <td>15.420200</td>\n",
       "      <td>6.1</td>\n",
       "      <td>0.604415</td>\n",
       "    </tr>\n",
       "    <tr>\n",
       "      <th>841</th>\n",
       "      <td>15.322150</td>\n",
       "      <td>7.4</td>\n",
       "      <td>0.517039</td>\n",
       "    </tr>\n",
       "    <tr>\n",
       "      <th>842</th>\n",
       "      <td>14.991710</td>\n",
       "      <td>8.4</td>\n",
       "      <td>0.439690</td>\n",
       "    </tr>\n",
       "    <tr>\n",
       "      <th>863</th>\n",
       "      <td>4.161300</td>\n",
       "      <td>2.4</td>\n",
       "      <td>0.423257</td>\n",
       "    </tr>\n",
       "    <tr>\n",
       "      <th>864</th>\n",
       "      <td>3.622170</td>\n",
       "      <td>1.7</td>\n",
       "      <td>0.530668</td>\n",
       "    </tr>\n",
       "    <tr>\n",
       "      <th>865</th>\n",
       "      <td>3.191170</td>\n",
       "      <td>1.7</td>\n",
       "      <td>0.467280</td>\n",
       "    </tr>\n",
       "    <tr>\n",
       "      <th>866</th>\n",
       "      <td>2.755460</td>\n",
       "      <td>1.5</td>\n",
       "      <td>0.455626</td>\n",
       "    </tr>\n",
       "    <tr>\n",
       "      <th>867</th>\n",
       "      <td>2.353230</td>\n",
       "      <td>1.3</td>\n",
       "      <td>0.447568</td>\n",
       "    </tr>\n",
       "  </tbody>\n",
       "</table>\n",
       "<p>136 rows Ã 3 columns</p>\n",
       "</div>"
      ],
      "text/plain": [
       "      original  prediction      diff\n",
       "4     0.007030         0.0  1.000000\n",
       "5     0.090900         0.0  1.000000\n",
       "6     0.198160         0.0  1.000000\n",
       "7     0.332000         0.0  1.000000\n",
       "8     0.487540         0.0  1.000000\n",
       "9     0.668560         0.0  1.000000\n",
       "10    0.865750         0.0  1.000000\n",
       "11    1.081800         0.4  0.630246\n",
       "12    1.332300         0.7  0.474593\n",
       "128   8.146620         4.3  0.472174\n",
       "129   7.620620         4.0  0.475108\n",
       "130   7.060020         4.1  0.419265\n",
       "131   6.473080         3.2  0.505645\n",
       "132   5.889250         3.1  0.473617\n",
       "133   5.449810         2.8  0.486221\n",
       "138   3.196630         1.7  0.468190\n",
       "140   2.400040         0.6  0.750004\n",
       "141   2.050580         0.2  0.902467\n",
       "142   1.717740         0.1  0.941784\n",
       "143   1.413910         0.1  0.929274\n",
       "144   1.148090         0.2  0.825798\n",
       "149   0.009160         0.0  1.000000\n",
       "150   0.101850         0.0  1.000000\n",
       "151   0.214900         0.0  1.000000\n",
       "152   0.354890         0.0  1.000000\n",
       "153   0.514850         0.0  1.000000\n",
       "154   0.698080         0.0  1.000000\n",
       "155   0.898170         0.0  1.000000\n",
       "156   1.122370         0.3  0.732708\n",
       "157   1.373420         0.8  0.417512\n",
       "..         ...         ...       ...\n",
       "728   0.012010         0.0  1.000000\n",
       "729   0.108180         0.0  1.000000\n",
       "730   0.227420         0.0  1.000000\n",
       "731   0.375790         0.0  1.000000\n",
       "732   0.563060         0.0  1.000000\n",
       "733   0.754460         0.0  1.000000\n",
       "734   0.964940         0.0  1.000000\n",
       "735   1.182450         0.0  1.000000\n",
       "736   1.465180         0.8  0.453992\n",
       "737   1.746420         0.9  0.484660\n",
       "738   1.989800         1.0  0.497437\n",
       "739   2.311630         1.3  0.437626\n",
       "769   6.428720        15.7  1.442166\n",
       "827  20.096130         6.7  0.666602\n",
       "828  19.829559         7.4  0.626820\n",
       "829  19.726971         9.0  0.543772\n",
       "832  18.661690         9.9  0.469501\n",
       "833  18.312380         9.5  0.481225\n",
       "834  18.036390         9.6  0.467743\n",
       "837  17.262430         9.7  0.438086\n",
       "838  16.665779         8.0  0.519974\n",
       "839  16.019991         6.7  0.581773\n",
       "840  15.420200         6.1  0.604415\n",
       "841  15.322150         7.4  0.517039\n",
       "842  14.991710         8.4  0.439690\n",
       "863   4.161300         2.4  0.423257\n",
       "864   3.622170         1.7  0.530668\n",
       "865   3.191170         1.7  0.467280\n",
       "866   2.755460         1.5  0.455626\n",
       "867   2.353230         1.3  0.447568\n",
       "\n",
       "[136 rows x 3 columns]"
      ]
     },
     "execution_count": 100,
     "metadata": {},
     "output_type": "execute_result"
    }
   ],
   "source": [
    "df.loc[df['diff']>0.40,:]"
   ]
  },
  {
   "cell_type": "code",
   "execution_count": 23,
   "metadata": {},
   "outputs": [
    {
     "ename": "FileNotFoundError",
     "evalue": "File b'Result on Interpolated day of 5Days.csv' does not exist",
     "output_type": "error",
     "traceback": [
      "\u001b[1;31m---------------------------------------------------------------------------\u001b[0m",
      "\u001b[1;31mFileNotFoundError\u001b[0m                         Traceback (most recent call last)",
      "\u001b[1;32m<ipython-input-23-79f90076f44a>\u001b[0m in \u001b[0;36m<module>\u001b[1;34m()\u001b[0m\n\u001b[1;32m----> 1\u001b[1;33m \u001b[0manalysis\u001b[0m\u001b[1;33m=\u001b[0m\u001b[0mpd\u001b[0m\u001b[1;33m.\u001b[0m\u001b[0mread_csv\u001b[0m\u001b[1;33m(\u001b[0m\u001b[1;34m'Result on Interpolated day of 5Days.csv'\u001b[0m\u001b[1;33m)\u001b[0m\u001b[1;33m\u001b[0m\u001b[0m\n\u001b[0m",
      "\u001b[1;32mC:\\ProgramData\\Anaconda3\\lib\\site-packages\\pandas\\io\\parsers.py\u001b[0m in \u001b[0;36mparser_f\u001b[1;34m(filepath_or_buffer, sep, delimiter, header, names, index_col, usecols, squeeze, prefix, mangle_dupe_cols, dtype, engine, converters, true_values, false_values, skipinitialspace, skiprows, nrows, na_values, keep_default_na, na_filter, verbose, skip_blank_lines, parse_dates, infer_datetime_format, keep_date_col, date_parser, dayfirst, iterator, chunksize, compression, thousands, decimal, lineterminator, quotechar, quoting, escapechar, comment, encoding, dialect, tupleize_cols, error_bad_lines, warn_bad_lines, skipfooter, skip_footer, doublequote, delim_whitespace, as_recarray, compact_ints, use_unsigned, low_memory, buffer_lines, memory_map, float_precision)\u001b[0m\n\u001b[0;32m    653\u001b[0m                     skip_blank_lines=skip_blank_lines)\n\u001b[0;32m    654\u001b[0m \u001b[1;33m\u001b[0m\u001b[0m\n\u001b[1;32m--> 655\u001b[1;33m         \u001b[1;32mreturn\u001b[0m \u001b[0m_read\u001b[0m\u001b[1;33m(\u001b[0m\u001b[0mfilepath_or_buffer\u001b[0m\u001b[1;33m,\u001b[0m \u001b[0mkwds\u001b[0m\u001b[1;33m)\u001b[0m\u001b[1;33m\u001b[0m\u001b[0m\n\u001b[0m\u001b[0;32m    656\u001b[0m \u001b[1;33m\u001b[0m\u001b[0m\n\u001b[0;32m    657\u001b[0m     \u001b[0mparser_f\u001b[0m\u001b[1;33m.\u001b[0m\u001b[0m__name__\u001b[0m \u001b[1;33m=\u001b[0m \u001b[0mname\u001b[0m\u001b[1;33m\u001b[0m\u001b[0m\n",
      "\u001b[1;32mC:\\ProgramData\\Anaconda3\\lib\\site-packages\\pandas\\io\\parsers.py\u001b[0m in \u001b[0;36m_read\u001b[1;34m(filepath_or_buffer, kwds)\u001b[0m\n\u001b[0;32m    403\u001b[0m \u001b[1;33m\u001b[0m\u001b[0m\n\u001b[0;32m    404\u001b[0m     \u001b[1;31m# Create the parser.\u001b[0m\u001b[1;33m\u001b[0m\u001b[1;33m\u001b[0m\u001b[0m\n\u001b[1;32m--> 405\u001b[1;33m     \u001b[0mparser\u001b[0m \u001b[1;33m=\u001b[0m \u001b[0mTextFileReader\u001b[0m\u001b[1;33m(\u001b[0m\u001b[0mfilepath_or_buffer\u001b[0m\u001b[1;33m,\u001b[0m \u001b[1;33m**\u001b[0m\u001b[0mkwds\u001b[0m\u001b[1;33m)\u001b[0m\u001b[1;33m\u001b[0m\u001b[0m\n\u001b[0m\u001b[0;32m    406\u001b[0m \u001b[1;33m\u001b[0m\u001b[0m\n\u001b[0;32m    407\u001b[0m     \u001b[1;32mif\u001b[0m \u001b[0mchunksize\u001b[0m \u001b[1;32mor\u001b[0m \u001b[0miterator\u001b[0m\u001b[1;33m:\u001b[0m\u001b[1;33m\u001b[0m\u001b[0m\n",
      "\u001b[1;32mC:\\ProgramData\\Anaconda3\\lib\\site-packages\\pandas\\io\\parsers.py\u001b[0m in \u001b[0;36m__init__\u001b[1;34m(self, f, engine, **kwds)\u001b[0m\n\u001b[0;32m    760\u001b[0m             \u001b[0mself\u001b[0m\u001b[1;33m.\u001b[0m\u001b[0moptions\u001b[0m\u001b[1;33m[\u001b[0m\u001b[1;34m'has_index_names'\u001b[0m\u001b[1;33m]\u001b[0m \u001b[1;33m=\u001b[0m \u001b[0mkwds\u001b[0m\u001b[1;33m[\u001b[0m\u001b[1;34m'has_index_names'\u001b[0m\u001b[1;33m]\u001b[0m\u001b[1;33m\u001b[0m\u001b[0m\n\u001b[0;32m    761\u001b[0m \u001b[1;33m\u001b[0m\u001b[0m\n\u001b[1;32m--> 762\u001b[1;33m         \u001b[0mself\u001b[0m\u001b[1;33m.\u001b[0m\u001b[0m_make_engine\u001b[0m\u001b[1;33m(\u001b[0m\u001b[0mself\u001b[0m\u001b[1;33m.\u001b[0m\u001b[0mengine\u001b[0m\u001b[1;33m)\u001b[0m\u001b[1;33m\u001b[0m\u001b[0m\n\u001b[0m\u001b[0;32m    763\u001b[0m \u001b[1;33m\u001b[0m\u001b[0m\n\u001b[0;32m    764\u001b[0m     \u001b[1;32mdef\u001b[0m \u001b[0mclose\u001b[0m\u001b[1;33m(\u001b[0m\u001b[0mself\u001b[0m\u001b[1;33m)\u001b[0m\u001b[1;33m:\u001b[0m\u001b[1;33m\u001b[0m\u001b[0m\n",
      "\u001b[1;32mC:\\ProgramData\\Anaconda3\\lib\\site-packages\\pandas\\io\\parsers.py\u001b[0m in \u001b[0;36m_make_engine\u001b[1;34m(self, engine)\u001b[0m\n\u001b[0;32m    964\u001b[0m     \u001b[1;32mdef\u001b[0m \u001b[0m_make_engine\u001b[0m\u001b[1;33m(\u001b[0m\u001b[0mself\u001b[0m\u001b[1;33m,\u001b[0m \u001b[0mengine\u001b[0m\u001b[1;33m=\u001b[0m\u001b[1;34m'c'\u001b[0m\u001b[1;33m)\u001b[0m\u001b[1;33m:\u001b[0m\u001b[1;33m\u001b[0m\u001b[0m\n\u001b[0;32m    965\u001b[0m         \u001b[1;32mif\u001b[0m \u001b[0mengine\u001b[0m \u001b[1;33m==\u001b[0m \u001b[1;34m'c'\u001b[0m\u001b[1;33m:\u001b[0m\u001b[1;33m\u001b[0m\u001b[0m\n\u001b[1;32m--> 966\u001b[1;33m             \u001b[0mself\u001b[0m\u001b[1;33m.\u001b[0m\u001b[0m_engine\u001b[0m \u001b[1;33m=\u001b[0m \u001b[0mCParserWrapper\u001b[0m\u001b[1;33m(\u001b[0m\u001b[0mself\u001b[0m\u001b[1;33m.\u001b[0m\u001b[0mf\u001b[0m\u001b[1;33m,\u001b[0m \u001b[1;33m**\u001b[0m\u001b[0mself\u001b[0m\u001b[1;33m.\u001b[0m\u001b[0moptions\u001b[0m\u001b[1;33m)\u001b[0m\u001b[1;33m\u001b[0m\u001b[0m\n\u001b[0m\u001b[0;32m    967\u001b[0m         \u001b[1;32melse\u001b[0m\u001b[1;33m:\u001b[0m\u001b[1;33m\u001b[0m\u001b[0m\n\u001b[0;32m    968\u001b[0m             \u001b[1;32mif\u001b[0m \u001b[0mengine\u001b[0m \u001b[1;33m==\u001b[0m \u001b[1;34m'python'\u001b[0m\u001b[1;33m:\u001b[0m\u001b[1;33m\u001b[0m\u001b[0m\n",
      "\u001b[1;32mC:\\ProgramData\\Anaconda3\\lib\\site-packages\\pandas\\io\\parsers.py\u001b[0m in \u001b[0;36m__init__\u001b[1;34m(self, src, **kwds)\u001b[0m\n\u001b[0;32m   1580\u001b[0m         \u001b[0mkwds\u001b[0m\u001b[1;33m[\u001b[0m\u001b[1;34m'allow_leading_cols'\u001b[0m\u001b[1;33m]\u001b[0m \u001b[1;33m=\u001b[0m \u001b[0mself\u001b[0m\u001b[1;33m.\u001b[0m\u001b[0mindex_col\u001b[0m \u001b[1;32mis\u001b[0m \u001b[1;32mnot\u001b[0m \u001b[1;32mFalse\u001b[0m\u001b[1;33m\u001b[0m\u001b[0m\n\u001b[0;32m   1581\u001b[0m \u001b[1;33m\u001b[0m\u001b[0m\n\u001b[1;32m-> 1582\u001b[1;33m         \u001b[0mself\u001b[0m\u001b[1;33m.\u001b[0m\u001b[0m_reader\u001b[0m \u001b[1;33m=\u001b[0m \u001b[0mparsers\u001b[0m\u001b[1;33m.\u001b[0m\u001b[0mTextReader\u001b[0m\u001b[1;33m(\u001b[0m\u001b[0msrc\u001b[0m\u001b[1;33m,\u001b[0m \u001b[1;33m**\u001b[0m\u001b[0mkwds\u001b[0m\u001b[1;33m)\u001b[0m\u001b[1;33m\u001b[0m\u001b[0m\n\u001b[0m\u001b[0;32m   1583\u001b[0m \u001b[1;33m\u001b[0m\u001b[0m\n\u001b[0;32m   1584\u001b[0m         \u001b[1;31m# XXX\u001b[0m\u001b[1;33m\u001b[0m\u001b[1;33m\u001b[0m\u001b[0m\n",
      "\u001b[1;32mpandas\\_libs\\parsers.pyx\u001b[0m in \u001b[0;36mpandas._libs.parsers.TextReader.__cinit__ (pandas\\_libs\\parsers.c:4209)\u001b[1;34m()\u001b[0m\n",
      "\u001b[1;32mpandas\\_libs\\parsers.pyx\u001b[0m in \u001b[0;36mpandas._libs.parsers.TextReader._setup_parser_source (pandas\\_libs\\parsers.c:8873)\u001b[1;34m()\u001b[0m\n",
      "\u001b[1;31mFileNotFoundError\u001b[0m: File b'Result on Interpolated day of 5Days.csv' does not exist"
     ]
    }
   ],
   "source": [
    "analysis=pd.read_csv('Result on Interpolated day of 5Days.csv')"
   ]
  },
  {
   "cell_type": "code",
   "execution_count": 24,
   "metadata": {},
   "outputs": [
    {
     "ename": "NameError",
     "evalue": "name 'analysis' is not defined",
     "output_type": "error",
     "traceback": [
      "\u001b[1;31m---------------------------------------------------------------------------\u001b[0m",
      "\u001b[1;31mNameError\u001b[0m                                 Traceback (most recent call last)",
      "\u001b[1;32m<ipython-input-24-c349f4e4b414>\u001b[0m in \u001b[0;36m<module>\u001b[1;34m()\u001b[0m\n\u001b[1;32m----> 1\u001b[1;33m \u001b[0manalysis\u001b[0m\u001b[1;33m.\u001b[0m\u001b[0mhead\u001b[0m\u001b[1;33m(\u001b[0m\u001b[1;33m)\u001b[0m\u001b[1;33m\u001b[0m\u001b[0m\n\u001b[0m",
      "\u001b[1;31mNameError\u001b[0m: name 'analysis' is not defined"
     ]
    }
   ],
   "source": [
    "analysis.head()"
   ]
  },
  {
   "cell_type": "code",
   "execution_count": 393,
   "metadata": {
    "collapsed": true
   },
   "outputs": [],
   "source": [
    "analysis=analysis.drop(['Unnamed: 7','Unnamed: 12','Unnamed: 13','Unnamed: 14'],axis=1)"
   ]
  },
  {
   "cell_type": "code",
   "execution_count": 394,
   "metadata": {},
   "outputs": [
    {
     "data": {
      "text/html": [
       "<div>\n",
       "<style>\n",
       "    .dataframe thead tr:only-child th {\n",
       "        text-align: right;\n",
       "    }\n",
       "\n",
       "    .dataframe thead th {\n",
       "        text-align: left;\n",
       "    }\n",
       "\n",
       "    .dataframe tbody tr th {\n",
       "        vertical-align: top;\n",
       "    }\n",
       "</style>\n",
       "<table border=\"1\" class=\"dataframe\">\n",
       "  <thead>\n",
       "    <tr style=\"text-align: right;\">\n",
       "      <th></th>\n",
       "      <th>Date</th>\n",
       "      <th>Time</th>\n",
       "      <th>temperature</th>\n",
       "      <th>humidity</th>\n",
       "      <th>wind_speed</th>\n",
       "      <th>visibility</th>\n",
       "      <th>serial</th>\n",
       "      <th>S.No</th>\n",
       "      <th>original</th>\n",
       "      <th>prediction</th>\n",
       "      <th>ErrorRatio</th>\n",
       "    </tr>\n",
       "  </thead>\n",
       "  <tbody>\n",
       "    <tr>\n",
       "      <th>0</th>\n",
       "      <td>25-03-17</td>\n",
       "      <td>6:00</td>\n",
       "      <td>22.0</td>\n",
       "      <td>41.00</td>\n",
       "      <td>0.0</td>\n",
       "      <td>3.0</td>\n",
       "      <td>1</td>\n",
       "      <td>0</td>\n",
       "      <td>0.00000</td>\n",
       "      <td>0.0</td>\n",
       "      <td>0.0</td>\n",
       "    </tr>\n",
       "    <tr>\n",
       "      <th>1</th>\n",
       "      <td>25-03-17</td>\n",
       "      <td>6:05</td>\n",
       "      <td>21.8</td>\n",
       "      <td>41.92</td>\n",
       "      <td>0.0</td>\n",
       "      <td>3.0</td>\n",
       "      <td>2</td>\n",
       "      <td>1</td>\n",
       "      <td>0.00000</td>\n",
       "      <td>0.0</td>\n",
       "      <td>0.0</td>\n",
       "    </tr>\n",
       "    <tr>\n",
       "      <th>2</th>\n",
       "      <td>25-03-17</td>\n",
       "      <td>6:10</td>\n",
       "      <td>21.6</td>\n",
       "      <td>42.45</td>\n",
       "      <td>0.0</td>\n",
       "      <td>3.0</td>\n",
       "      <td>3</td>\n",
       "      <td>2</td>\n",
       "      <td>0.00000</td>\n",
       "      <td>0.0</td>\n",
       "      <td>0.0</td>\n",
       "    </tr>\n",
       "    <tr>\n",
       "      <th>3</th>\n",
       "      <td>25-03-17</td>\n",
       "      <td>6:15</td>\n",
       "      <td>21.6</td>\n",
       "      <td>42.61</td>\n",
       "      <td>0.0</td>\n",
       "      <td>3.0</td>\n",
       "      <td>4</td>\n",
       "      <td>3</td>\n",
       "      <td>0.00000</td>\n",
       "      <td>0.0</td>\n",
       "      <td>0.0</td>\n",
       "    </tr>\n",
       "    <tr>\n",
       "      <th>4</th>\n",
       "      <td>25-03-17</td>\n",
       "      <td>6:20</td>\n",
       "      <td>21.6</td>\n",
       "      <td>42.40</td>\n",
       "      <td>0.0</td>\n",
       "      <td>3.0</td>\n",
       "      <td>5</td>\n",
       "      <td>4</td>\n",
       "      <td>0.00703</td>\n",
       "      <td>0.0</td>\n",
       "      <td>1.0</td>\n",
       "    </tr>\n",
       "  </tbody>\n",
       "</table>\n",
       "</div>"
      ],
      "text/plain": [
       "       Date  Time  temperature  humidity  wind_speed  visibility  serial  \\\n",
       "0  25-03-17  6:00         22.0     41.00         0.0         3.0       1   \n",
       "1  25-03-17  6:05         21.8     41.92         0.0         3.0       2   \n",
       "2  25-03-17  6:10         21.6     42.45         0.0         3.0       3   \n",
       "3  25-03-17  6:15         21.6     42.61         0.0         3.0       4   \n",
       "4  25-03-17  6:20         21.6     42.40         0.0         3.0       5   \n",
       "\n",
       "   S.No  original  prediction  ErrorRatio  \n",
       "0     0   0.00000         0.0         0.0  \n",
       "1     1   0.00000         0.0         0.0  \n",
       "2     2   0.00000         0.0         0.0  \n",
       "3     3   0.00000         0.0         0.0  \n",
       "4     4   0.00703         0.0         1.0  "
      ]
     },
     "execution_count": 394,
     "metadata": {},
     "output_type": "execute_result"
    }
   ],
   "source": [
    "analysis.head()"
   ]
  },
  {
   "cell_type": "code",
   "execution_count": 401,
   "metadata": {
    "collapsed": true
   },
   "outputs": [],
   "source": [
    "a1=analysis.loc[analysis.ErrorRatio>.30,:]"
   ]
  },
  {
   "cell_type": "code",
   "execution_count": 53,
   "metadata": {},
   "outputs": [
    {
     "ename": "NameError",
     "evalue": "name 'a1' is not defined",
     "output_type": "error",
     "traceback": [
      "\u001b[0;31m---------------------------------------------------------------------------\u001b[0m",
      "\u001b[0;31mNameError\u001b[0m                                 Traceback (most recent call last)",
      "\u001b[0;32m<ipython-input-53-dca3df960c4f>\u001b[0m in \u001b[0;36m<module>\u001b[0;34m()\u001b[0m\n\u001b[0;32m----> 1\u001b[0;31m \u001b[0ma1\u001b[0m\u001b[0;34m.\u001b[0m\u001b[0mhead\u001b[0m\u001b[0;34m(\u001b[0m\u001b[0;36m3\u001b[0m\u001b[0;34m)\u001b[0m\u001b[0;34m\u001b[0m\u001b[0m\n\u001b[0m",
      "\u001b[0;31mNameError\u001b[0m: name 'a1' is not defined"
     ]
    }
   ],
   "source": [
    "a1.head(3)"
   ]
  },
  {
   "cell_type": "code",
   "execution_count": 409,
   "metadata": {},
   "outputs": [
    {
     "data": {
      "text/plain": [
       "Date           245\n",
       "Time           245\n",
       "temperature    245\n",
       "humidity       245\n",
       "wind_speed     245\n",
       "visibility     245\n",
       "serial         245\n",
       "S.No           245\n",
       "original       245\n",
       "prediction     245\n",
       "ErrorRatio     245\n",
       "dtype: int64"
      ]
     },
     "execution_count": 409,
     "metadata": {},
     "output_type": "execute_result"
    }
   ],
   "source": [
    "a1.count()"
   ]
  },
  {
   "cell_type": "code",
   "execution_count": 413,
   "metadata": {},
   "outputs": [
    {
     "data": {
      "text/html": [
       "<div>\n",
       "<style>\n",
       "    .dataframe thead tr:only-child th {\n",
       "        text-align: right;\n",
       "    }\n",
       "\n",
       "    .dataframe thead th {\n",
       "        text-align: left;\n",
       "    }\n",
       "\n",
       "    .dataframe tbody tr th {\n",
       "        vertical-align: top;\n",
       "    }\n",
       "</style>\n",
       "<table border=\"1\" class=\"dataframe\">\n",
       "  <thead>\n",
       "    <tr style=\"text-align: right;\">\n",
       "      <th></th>\n",
       "      <th>Date</th>\n",
       "      <th>Time</th>\n",
       "      <th>temperature</th>\n",
       "      <th>humidity</th>\n",
       "      <th>wind_speed</th>\n",
       "      <th>visibility</th>\n",
       "      <th>serial</th>\n",
       "      <th>S.No</th>\n",
       "      <th>original</th>\n",
       "      <th>prediction</th>\n",
       "      <th>ErrorRatio</th>\n",
       "    </tr>\n",
       "  </thead>\n",
       "  <tbody>\n",
       "    <tr>\n",
       "      <th>49</th>\n",
       "      <td>25-03-17</td>\n",
       "      <td>10:05</td>\n",
       "      <td>30.2</td>\n",
       "      <td>22.49</td>\n",
       "      <td>7.23</td>\n",
       "      <td>3.1</td>\n",
       "      <td>50</td>\n",
       "      <td>49</td>\n",
       "      <td>17.949680</td>\n",
       "      <td>18.5</td>\n",
       "      <td>0.030659</td>\n",
       "    </tr>\n",
       "    <tr>\n",
       "      <th>194</th>\n",
       "      <td>26-03-17</td>\n",
       "      <td>10:05</td>\n",
       "      <td>31.2</td>\n",
       "      <td>23.67</td>\n",
       "      <td>1.69</td>\n",
       "      <td>3.0</td>\n",
       "      <td>50</td>\n",
       "      <td>194</td>\n",
       "      <td>17.386761</td>\n",
       "      <td>13.9</td>\n",
       "      <td>0.200541</td>\n",
       "    </tr>\n",
       "    <tr>\n",
       "      <th>339</th>\n",
       "      <td>27-03-17</td>\n",
       "      <td>10:05</td>\n",
       "      <td>33.2</td>\n",
       "      <td>22.62</td>\n",
       "      <td>0.00</td>\n",
       "      <td>3.0</td>\n",
       "      <td>50</td>\n",
       "      <td>339</td>\n",
       "      <td>17.517879</td>\n",
       "      <td>12.9</td>\n",
       "      <td>0.263610</td>\n",
       "    </tr>\n",
       "    <tr>\n",
       "      <th>484</th>\n",
       "      <td>28-03-17</td>\n",
       "      <td>10:05</td>\n",
       "      <td>34.2</td>\n",
       "      <td>19.57</td>\n",
       "      <td>6.07</td>\n",
       "      <td>4.0</td>\n",
       "      <td>50</td>\n",
       "      <td>484</td>\n",
       "      <td>17.499420</td>\n",
       "      <td>16.0</td>\n",
       "      <td>0.085684</td>\n",
       "    </tr>\n",
       "    <tr>\n",
       "      <th>629</th>\n",
       "      <td>29-03-17</td>\n",
       "      <td>10:05</td>\n",
       "      <td>34.8</td>\n",
       "      <td>17.82</td>\n",
       "      <td>14.75</td>\n",
       "      <td>4.0</td>\n",
       "      <td>50</td>\n",
       "      <td>629</td>\n",
       "      <td>12.130120</td>\n",
       "      <td>17.7</td>\n",
       "      <td>0.459178</td>\n",
       "    </tr>\n",
       "    <tr>\n",
       "      <th>774</th>\n",
       "      <td>30-03-17</td>\n",
       "      <td>10:05</td>\n",
       "      <td>34.9</td>\n",
       "      <td>15.95</td>\n",
       "      <td>9.34</td>\n",
       "      <td>4.5</td>\n",
       "      <td>50</td>\n",
       "      <td>774</td>\n",
       "      <td>18.960979</td>\n",
       "      <td>17.6</td>\n",
       "      <td>0.071778</td>\n",
       "    </tr>\n",
       "  </tbody>\n",
       "</table>\n",
       "</div>"
      ],
      "text/plain": [
       "         Date   Time  temperature  humidity  wind_speed  visibility  serial  \\\n",
       "49   25-03-17  10:05         30.2     22.49        7.23         3.1      50   \n",
       "194  26-03-17  10:05         31.2     23.67        1.69         3.0      50   \n",
       "339  27-03-17  10:05         33.2     22.62        0.00         3.0      50   \n",
       "484  28-03-17  10:05         34.2     19.57        6.07         4.0      50   \n",
       "629  29-03-17  10:05         34.8     17.82       14.75         4.0      50   \n",
       "774  30-03-17  10:05         34.9     15.95        9.34         4.5      50   \n",
       "\n",
       "     S.No   original  prediction  ErrorRatio  \n",
       "49     49  17.949680        18.5    0.030659  \n",
       "194   194  17.386761        13.9    0.200541  \n",
       "339   339  17.517879        12.9    0.263610  \n",
       "484   484  17.499420        16.0    0.085684  \n",
       "629   629  12.130120        17.7    0.459178  \n",
       "774   774  18.960979        17.6    0.071778  "
      ]
     },
     "execution_count": 413,
     "metadata": {},
     "output_type": "execute_result"
    }
   ],
   "source": [
    "analysis.loc[analysis.serial==50,:]"
   ]
  },
  {
   "cell_type": "code",
   "execution_count": 27,
   "metadata": {},
   "outputs": [
    {
     "data": {
      "text/html": [
       "<div>\n",
       "<style>\n",
       "    .dataframe thead tr:only-child th {\n",
       "        text-align: right;\n",
       "    }\n",
       "\n",
       "    .dataframe thead th {\n",
       "        text-align: left;\n",
       "    }\n",
       "\n",
       "    .dataframe tbody tr th {\n",
       "        vertical-align: top;\n",
       "    }\n",
       "</style>\n",
       "<table border=\"1\" class=\"dataframe\">\n",
       "  <thead>\n",
       "    <tr style=\"text-align: right;\">\n",
       "      <th></th>\n",
       "      <th>temperature</th>\n",
       "      <th>humidity</th>\n",
       "      <th>wind_speed</th>\n",
       "      <th>visibility</th>\n",
       "      <th>serial</th>\n",
       "    </tr>\n",
       "  </thead>\n",
       "  <tbody>\n",
       "    <tr>\n",
       "      <th>0</th>\n",
       "      <td>22.0</td>\n",
       "      <td>41.00</td>\n",
       "      <td>0.4</td>\n",
       "      <td>3.0</td>\n",
       "      <td>1</td>\n",
       "    </tr>\n",
       "    <tr>\n",
       "      <th>1</th>\n",
       "      <td>21.8</td>\n",
       "      <td>41.92</td>\n",
       "      <td>0.4</td>\n",
       "      <td>3.0</td>\n",
       "      <td>2</td>\n",
       "    </tr>\n",
       "    <tr>\n",
       "      <th>2</th>\n",
       "      <td>21.6</td>\n",
       "      <td>42.45</td>\n",
       "      <td>0.4</td>\n",
       "      <td>3.0</td>\n",
       "      <td>3</td>\n",
       "    </tr>\n",
       "    <tr>\n",
       "      <th>3</th>\n",
       "      <td>21.6</td>\n",
       "      <td>42.61</td>\n",
       "      <td>0.4</td>\n",
       "      <td>3.0</td>\n",
       "      <td>4</td>\n",
       "    </tr>\n",
       "    <tr>\n",
       "      <th>4</th>\n",
       "      <td>21.6</td>\n",
       "      <td>42.40</td>\n",
       "      <td>0.4</td>\n",
       "      <td>3.0</td>\n",
       "      <td>5</td>\n",
       "    </tr>\n",
       "  </tbody>\n",
       "</table>\n",
       "</div>"
      ],
      "text/plain": [
       "   temperature  humidity  wind_speed  visibility  serial\n",
       "0         22.0     41.00         0.4         3.0       1\n",
       "1         21.8     41.92         0.4         3.0       2\n",
       "2         21.6     42.45         0.4         3.0       3\n",
       "3         21.6     42.61         0.4         3.0       4\n",
       "4         21.6     42.40         0.4         3.0       5"
      ]
     },
     "execution_count": 27,
     "metadata": {},
     "output_type": "execute_result"
    }
   ],
   "source": [
    "X_test.head()"
   ]
  },
  {
   "cell_type": "code",
   "execution_count": 18,
   "metadata": {},
   "outputs": [
    {
     "data": {
      "text/plain": [
       "-0.55077801804016391"
      ]
     },
     "execution_count": 18,
     "metadata": {},
     "output_type": "execute_result"
    }
   ],
   "source": [
    "X['humidity'].corr(X['visibility'])"
   ]
  },
  {
   "cell_type": "code",
   "execution_count": 19,
   "metadata": {},
   "outputs": [
    {
     "data": {
      "text/plain": [
       "0.34502025627017363"
      ]
     },
     "execution_count": 19,
     "metadata": {},
     "output_type": "execute_result"
    }
   ],
   "source": [
    "X['wind_speed'].corr(X['visibility'])"
   ]
  },
  {
   "cell_type": "code",
   "execution_count": 20,
   "metadata": {},
   "outputs": [
    {
     "data": {
      "text/plain": [
       "0.59358314396419587"
      ]
     },
     "execution_count": 20,
     "metadata": {},
     "output_type": "execute_result"
    }
   ],
   "source": [
    "X['temperature'].corr(X['visibility'])"
   ]
  },
  {
   "cell_type": "code",
   "execution_count": 654,
   "metadata": {},
   "outputs": [
    {
     "data": {
      "text/plain": [
       "0.45774914475989709"
      ]
     },
     "execution_count": 654,
     "metadata": {},
     "output_type": "execute_result"
    }
   ],
   "source": [
    "X['serial'].corr(X['visibility'])"
   ]
  },
  {
   "cell_type": "code",
   "execution_count": 656,
   "metadata": {},
   "outputs": [
    {
     "data": {
      "text/plain": [
       "0.13797609199101929"
      ]
     },
     "execution_count": 656,
     "metadata": {},
     "output_type": "execute_result"
    }
   ],
   "source": [
    "\n",
    "\n",
    "Y.corr(X['serial'])"
   ]
  },
  {
   "cell_type": "code",
   "execution_count": null,
   "metadata": {
    "collapsed": true
   },
   "outputs": [],
   "source": []
  }
 ],
 "metadata": {
  "kernelspec": {
   "display_name": "Python 3",
   "language": "python",
   "name": "python3"
  },
  "language_info": {
   "codemirror_mode": {
    "name": "ipython",
    "version": 3
   },
   "file_extension": ".py",
   "mimetype": "text/x-python",
   "name": "python",
   "nbconvert_exporter": "python",
   "pygments_lexer": "ipython3",
   "version": "3.5.4"
  }
 },
 "nbformat": 4,
 "nbformat_minor": 2
}
